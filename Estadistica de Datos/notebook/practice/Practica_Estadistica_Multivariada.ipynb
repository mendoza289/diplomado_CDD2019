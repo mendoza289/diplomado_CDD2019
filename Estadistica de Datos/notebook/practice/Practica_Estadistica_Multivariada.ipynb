{
 "cells": [
  {
   "cell_type": "markdown",
   "metadata": {},
   "source": [
    "[![Open In Colab](https://colab.research.google.com/assets/colab-badge.svg)](https://colab.research.google.com/github/jhermosillo/diplomado_CDD2019/blob/master/Estadistica%20de%20Datos/notebook/practice/Practica_Estadistica_Multivariada.ipynb)"
   ]
  },
  {
   "cell_type": "markdown",
   "metadata": {},
   "source": [
    "# Practica de Estadística - Multivariada\n",
    "---\n"
   ]
  },
  {
   "cell_type": "markdown",
   "metadata": {},
   "source": [
    "### Ciclo de vida de la ciencia de datos:\n",
    "\n",
    "Como hemos visto a lo largo de este diplomado, todo iniciado en ciencias de datos seguimos ciertos pasos base para un mejor entendimiento de lo que se hace.\n",
    "\n",
    "Entre estos pasos tenemos los siguientes:\n",
    "\n",
    "   * 1.- Definición de la hipótesis\n",
    "   * 2.- Adquisición de datos\n",
    "   * 3.- Análisis exploratorio de datos\n",
    "   * 4.- Construcción de modelo\n",
    "   * 5.- Reporte de resultados\n",
    "   * 6.- Producto final\n",
    "   \n",
    "![alt text](https://miro.medium.com/max/1400/0*7M9FK6orsn4RdUFb.png)\n",
    "  \n",
    "  \n",
    "---\n",
    "\n",
    "En las primeras etapas, nos enfocamos en el análisis exploratorio de datos **Univariados** (proporciona un panorama del conjunto de datos crudos para una variable), **Bivariados** (para encontrar relaciones entre cada variable en el conjunto de datos y la variable 'objetivo' de interes o simplemente encontrar la relación entre 2 variables) y **Multivariados** (principalmente para entender interacciones entre diferentes 'campos' del conjunto de datos o encontrar relaciones entre más de 2 variables).\n",
    "\n"
   ]
  },
  {
   "cell_type": "markdown",
   "metadata": {},
   "source": [
    "Empecemos por detalles para la práctica...\n",
    "\n",
    "Implementar el Análisis Estadístico (Exploratorio) de Datos (**EDA**, por sus siglas en inglés) usando python es muy fácil porque python tiene una miríada de paquetes de análisis estadístico (por ejemplo, numpy, pandas, matplotlib, etc.). \n",
    "\n",
    "Realizaremos en esta práctica los análisis exploratorios para cada uno de los tipos de análisis paso a paso usando python y sacaremos algunas conclusiones."
   ]
  },
  {
   "cell_type": "code",
   "execution_count": null,
   "metadata": {},
   "outputs": [],
   "source": [
    "#importamos las librerias de siempre...\n",
    "import pandas as pd\n",
    "import matplotlib.pyplot as plt\n",
    "import numpy as np"
   ]
  },
  {
   "cell_type": "markdown",
   "metadata": {},
   "source": [
    "Importamos el conjunto de datos:"
   ]
  },
  {
   "cell_type": "code",
   "execution_count": null,
   "metadata": {},
   "outputs": [],
   "source": [
    "# Fetch the dataset using the raw GitHub URL.\n",
    "!curl --remote-name \\\n",
    "     -H 'Accept: application/vnd.github.v3.raw' \\\n",
    "     --location https://raw.githubusercontent.com/jhermosillo/diplomado_CDD2019/master/Estadistica%20de%20Datos/data/Employee.csv"
   ]
  },
  {
   "cell_type": "code",
   "execution_count": null,
   "metadata": {},
   "outputs": [],
   "source": [
    "#Cargamos los datos\n",
    "df = #<Completar> \n",
    "\n",
    "#Imprimir el cabezal de los datos\n",
    "#<Completar> "
   ]
  },
  {
   "cell_type": "markdown",
   "metadata": {},
   "source": [
    "## Análisis Univariado\n",
    "\n",
    "### Podemos realizar un análisis general de los datos\n",
    "\n",
    "Una vez que cargamos los datos, estamos listos para el primer tipo de EDA llamado análisis univariado. Básicamente nos dice cómo se distribuyen los datos en cada característica y también nos informa sobre tendencias centrales como la media, la mediana y la moda.\n",
    "\n",
    "Por lo que parte de este ejercicio será realizar un análisis descriptivo de los datos\n",
    "\n",
    "### Estadística Descriptiva\n",
    "\n",
    "Primero lo primero, verifique las medidas de las tendencias centrales de media, mediana y modo, verifique los valores mínimos y máximos y los cuantiles de cada característica."
   ]
  },
  {
   "cell_type": "code",
   "execution_count": null,
   "metadata": {},
   "outputs": [],
   "source": [
    "#<Completar>"
   ]
  },
  {
   "cell_type": "markdown",
   "metadata": {},
   "source": [
    "De la tabla anterior, podemos ver que el nivel de satisfacción promedio entre los empleados es de solo 61.12%, donde se desvía en un 24%, lo que significa que hay mucha variación entre la satisfacción de los empleados que afecta directamente la productividad. \n",
    "\n",
    "\n",
    "En esta sección utilizaremos la mediana, dado que no se ve afectada por la presencia de valores atípicos, mientras que la media si se ve afectada fácilmente.\n",
    "\n",
    "### Variables categóricas\n",
    "\n",
    "Hemos visto que en la presencia de este tipo de variables, se utilizan las tablas de frencuencias para realizar análisis. ¿Cómo obtendríamos dicho análisis para la variable de salario?"
   ]
  },
  {
   "cell_type": "code",
   "execution_count": null,
   "metadata": {},
   "outputs": [],
   "source": [
    "#Revisando el tipo de dato: categorico o continuo\n",
    "df.salary.#<Completar>"
   ]
  },
  {
   "cell_type": "markdown",
   "metadata": {},
   "source": [
    "¿Y para la variable de departamentos?"
   ]
  },
  {
   "cell_type": "code",
   "execution_count": null,
   "metadata": {},
   "outputs": [],
   "source": [
    "#<Completar>"
   ]
  },
  {
   "cell_type": "markdown",
   "metadata": {},
   "source": [
    "De lo anterior, podemos decir que casi el 48% de los empleados tienen un salario bajo y solo el 8% de los empleados tiene un salario alto."
   ]
  },
  {
   "cell_type": "markdown",
   "metadata": {},
   "source": [
    "### Visualización\n",
    "\n",
    "   * Histograma\n",
    "En el análisis univariado, usamos histogramas para analizar y visualizar la distribución de frecuencias. Trazar histogramas en pandas es muy fácil y directo. ¿Cómo podríamos hacer un histograma considerando las horas promedio de los trabajadores?"
   ]
  },
  {
   "cell_type": "code",
   "execution_count": null,
   "metadata": {},
   "outputs": [],
   "source": [
    "#<Completar>"
   ]
  },
  {
   "cell_type": "markdown",
   "metadata": {},
   "source": [
    "De la imagen de arriba vemos que los datos no se distribuyen normalmente, por lo que no podemos realizar muchas operaciones estadísticas con estos datos.\n",
    "\n",
    "\n",
    "## Desafío Adicional (No calificado)\n",
    "\n",
    "En la práctica de estadística, realizaste un pequeño análisis de datos discordantes (atípicos) a un conjunto de datos simulados, donde además aplicaste la prueba de shapiro - wilks para comprobar la normalidad de los datos. creaste un modelo para identificar imágenes de dígitos escritos a mano.\n",
    "\n",
    "Para este nuevo conjunto de datos, ¿podrías usar dicha metodología para encontrar si es posible aplicar algún tipo de estadística?\n",
    "\n",
    "Siguiendo los siguientes pasos:\n",
    "\n",
    " * Aplicar Shapiro Wilks con un alpha = 0.05\n",
    " * Aplicar el módulo de detección de outliers de Dixon Q test a este conjunto de datos de 'horas promedio' y verificar si existe o existen outliers.\n",
    " * En caso positivo, remover los datos detectados como outliers y volver a aplicar Shapiro con el nuevo tamaño de muestra\n",
    " * Nota: al aplicar pruebas de discordancia, el valor que ha pasado la hipótesis alterna (H1) es detectado como valor discordante y por ende, se debe retirar de la muestra y volver a aplicar la prueba de discordancia, pero ahora para el conjunto de datos con n-1 valores. Así, hasta obtener H0 (est <= cv)\n",
    " \n",
    " Las siguientes líneas se dejan libres para código.\n"
   ]
  },
  {
   "cell_type": "code",
   "execution_count": null,
   "metadata": {},
   "outputs": [],
   "source": []
  },
  {
   "cell_type": "code",
   "execution_count": null,
   "metadata": {},
   "outputs": [],
   "source": []
  },
  {
   "cell_type": "code",
   "execution_count": null,
   "metadata": {},
   "outputs": [],
   "source": []
  },
  {
   "cell_type": "code",
   "execution_count": null,
   "metadata": {},
   "outputs": [],
   "source": []
  },
  {
   "cell_type": "code",
   "execution_count": null,
   "metadata": {},
   "outputs": [],
   "source": []
  },
  {
   "cell_type": "code",
   "execution_count": null,
   "metadata": {},
   "outputs": [],
   "source": []
  },
  {
   "cell_type": "code",
   "execution_count": null,
   "metadata": {},
   "outputs": [],
   "source": []
  },
  {
   "cell_type": "code",
   "execution_count": null,
   "metadata": {},
   "outputs": [],
   "source": []
  },
  {
   "cell_type": "markdown",
   "metadata": {},
   "source": [
    "## Análisis Bivariado / Multivariado\n",
    "\n",
    "Los datos sin relaciones entre variables son el equivalente en ciencia de datos a un lienzo en blanco. \n",
    "\n",
    "Para pintar la imagen, necesitamos entender cómo las variables interactúan entre sí. ¿Un aumento en una variable se correlaciona con un aumento en otra? ¿Se relaciona con una disminución en otro lugar? La mejor manera de pintar la imagen es mediante el uso de gráficos que permiten estas posibilidades."
   ]
  },
  {
   "cell_type": "code",
   "execution_count": null,
   "metadata": {},
   "outputs": [],
   "source": [
    "import pandas as pd\n",
    "reviews = pd.read_csv(\"https://raw.githubusercontent.com/davestroud/Wine/master/winemag-data_first150k.csv\", index_col=0)\n",
    "reviews.head()"
   ]
  },
  {
   "cell_type": "code",
   "execution_count": null,
   "metadata": {},
   "outputs": [],
   "source": [
    "#Imprime la cantidad de filas y columnas de este conjunto de datos\n",
    "#<Completar>"
   ]
  },
  {
   "cell_type": "markdown",
   "metadata": {},
   "source": [
    "A partir de aquí surgen diversas cuestiones extrañas...\n",
    "\n",
    "\"Para hacernos una imagen de los datos, lo primero que tenemos que hacer es agruparlos\". \n",
    "\n",
    "Primero acotaremos el conjunto de datos, dado que por el momento analizar más de 150k de registros es bastante.\n",
    "Generaremos una muestra aleatoria del 1% de los datos utilizando el método de 'sample' de pandas."
   ]
  },
  {
   "cell_type": "code",
   "execution_count": null,
   "metadata": {},
   "outputs": [],
   "source": [
    "test = reviews.sample(frac=0.01, replace=True, random_state=1)\n",
    "test.head()"
   ]
  },
  {
   "cell_type": "markdown",
   "metadata": {},
   "source": [
    "En la siguiente sección ustedes realizaran un análisis categórico, parecido al ejercicio realizado con el conjunto de datos del titanic.\n",
    "\n",
    "Consideraremos los 1509 renglones de las variables: país, variedad y precio.\n",
    "\n",
    "Primero realizaremos la tabla de frecuencias de las variedades de los vinos. En las siguientes líneas ustedes deberán presentar lo que se pide."
   ]
  },
  {
   "cell_type": "code",
   "execution_count": null,
   "metadata": {},
   "outputs": [],
   "source": [
    "#Tabla de frecuencias\n",
    "#<Completar>"
   ]
  },
  {
   "cell_type": "code",
   "execution_count": null,
   "metadata": {},
   "outputs": [],
   "source": [
    "#Gráfico de barras para la variedad\n",
    "#<Completar>"
   ]
  },
  {
   "cell_type": "code",
   "execution_count": null,
   "metadata": {},
   "outputs": [],
   "source": [
    "#Gráfico de pastel para la variedad\n",
    "#<Completar>"
   ]
  },
  {
   "cell_type": "markdown",
   "metadata": {},
   "source": [
    "Probablemente la variedad de Cabernet Sauvignon sea aquella que predomine en este tipo de vinos.\n",
    "\n",
    "Ahora, sería obtener la relación en la tabla de contigencia entre la variedad y los países."
   ]
  },
  {
   "cell_type": "code",
   "execution_count": null,
   "metadata": {},
   "outputs": [],
   "source": [
    "# Tabla de contingencia variedad / país\n",
    "#<Completar>"
   ]
  },
  {
   "cell_type": "markdown",
   "metadata": {},
   "source": [
    "\n",
    "Al igual de como habíamos visto con las tablas de frecuencia, también nos podría ser útil representar a las tablas de contingencia con porcentajes relativos; esto lo podríamos realizar utilizando el método apply.\n"
   ]
  },
  {
   "cell_type": "code",
   "execution_count": null,
   "metadata": {},
   "outputs": [],
   "source": [
    "# Tabla de contingencia en porcentajes relativos total\n",
    "#<Completar>"
   ]
  },
  {
   "cell_type": "markdown",
   "metadata": {},
   "source": [
    "\n",
    "\n",
    "¿Qué otras variables o mezcla de variables sería interesante visualizar?\n",
    "\n",
    "\n",
    "\n",
    "\n",
    "## Desafío Adicional (No calificado)\n",
    "\n",
    "¿Será posible obtener de qué país y que tipo de variedad es aquella que presenta un precio (price) aceptable con respecto a la calidad de la clasificación del vino (points) y estos resultados plasmarlos en una tabla?\n",
    "\n",
    "¿Habrá forma de obtener de que país se encuentran los mejores vinos considerando el mayor puntaje y la relación que existe con la variedad del mismo?\n",
    "\n",
    "El análisis de discordancia (univariado) pudiera aplicarse a cualquier conjunto de datos presentados en esta notebook, ¿será posible realizarlo para los precios y/o puntos de los vinos?\n",
    "\n",
    "El mismo análisis será bivariado de los vinos, ¿podrá ser aplicado al de empleados para visualizar cuales son las áreas de trabajo con menor salario?"
   ]
  },
  {
   "cell_type": "code",
   "execution_count": null,
   "metadata": {},
   "outputs": [],
   "source": []
  },
  {
   "cell_type": "code",
   "execution_count": null,
   "metadata": {},
   "outputs": [],
   "source": []
  },
  {
   "cell_type": "code",
   "execution_count": null,
   "metadata": {},
   "outputs": [],
   "source": []
  },
  {
   "cell_type": "code",
   "execution_count": null,
   "metadata": {},
   "outputs": [],
   "source": []
  },
  {
   "cell_type": "code",
   "execution_count": null,
   "metadata": {},
   "outputs": [],
   "source": []
  },
  {
   "cell_type": "code",
   "execution_count": null,
   "metadata": {},
   "outputs": [],
   "source": []
  },
  {
   "cell_type": "code",
   "execution_count": null,
   "metadata": {},
   "outputs": [],
   "source": []
  },
  {
   "cell_type": "code",
   "execution_count": null,
   "metadata": {},
   "outputs": [],
   "source": []
  },
  {
   "cell_type": "code",
   "execution_count": null,
   "metadata": {},
   "outputs": [],
   "source": []
  }
 ],
 "metadata": {
  "kernelspec": {
   "display_name": "Python 3",
   "language": "python",
   "name": "python3"
  },
  "language_info": {
   "codemirror_mode": {
    "name": "ipython",
    "version": 3
   },
   "file_extension": ".py",
   "mimetype": "text/x-python",
   "name": "python",
   "nbconvert_exporter": "python",
   "pygments_lexer": "ipython3",
   "version": "3.7.6"
  }
 },
 "nbformat": 4,
 "nbformat_minor": 4
}
