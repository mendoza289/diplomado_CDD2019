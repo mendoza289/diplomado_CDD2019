{
 "cells": [
  {
   "cell_type": "markdown",
   "metadata": {},
   "source": [
    "[![Open In Colab](https://colab.research.google.com/assets/colab-badge.svg)](https://colab.research.google.com/github/jhermosillo/diplomado_CDD2019/blob/master/Estadistica%20de%20Datos/notebook/Simulacion_Monte_Carlo.ipynb)"
   ]
  },
  {
   "attachments": {},
   "cell_type": "markdown",
   "metadata": {},
   "source": [
    "# 3. Introducción a los métodos de Monte-Carlo con Python\n",
    "---\n",
    "\n",
    "![alt text](https://steemitimages.com/p/2bP4pJr4wVimqCWjYimXJe2cnCgn5DUA6MvX91E58ut?format=match&mode=fit&width=640)\n",
    "\n",
    "\n",
    "Los Métodos de Monte-Carlo son técnicas para analizar fenómenos por medio de algoritmos computacionales, que utilizan y dependen fundamentalmente de la generación de números aleatorios.\n",
    "\n",
    "---\n",
    "\n",
    "El término Monte-Carlo, hace referencia al casino de Montecarlo, una de las capitales de los juegos de azar; y se utilizó como denominación para estás técnicas por la aleatoriedad inherente que poseen. \n",
    "\n",
    "\n",
    "El estudio de los Métodos de Monte-Carlo requiere un conocimiento detallado en una amplia gama de campos; por ejemplo, la probabilidad para describir los experimentos y procesos aleatorios, la estadística para analizar los datos, las ciencias de la computación para implementar eficientemente los algoritmos y la programación matemática para formular y resolver problemas de optimización.\n",
    "\n",
    "---\n",
    "\n",
    "Como los Métodos de Monte-Carlo dependen en gran medida de la posibilidad de producir, con una computadora, un flujo infinito de variables aleatorias para todo tipo de distribuciones; no podemos hablar de los Métodos de Monte-Carlo, sin antes explicar los números aleatorios y como podemos generarlos con la ayuda de una computadora.\n"
   ]
  },
  {
   "cell_type": "markdown",
   "metadata": {},
   "source": [
    "## Números aleatorios en Python\n",
    "---\n",
    "En Python el módulo random nos proporciona un rápido generador de números pseudoaleatorios basado en el **algoritmo Mersenne Twister**; el cual genera números con una distribución casi uniforme y un período grande, haciéndolo adecuado para una amplia gama de aplicaciones. Veamos un pequeño ejemplo."
   ]
  },
  {
   "cell_type": "code",
   "execution_count": null,
   "metadata": {},
   "outputs": [],
   "source": [
    "# Utilizando random para genera números aleatorios.\n",
    "import random\n",
    "\n",
    "random.seed(1984) # semilla para replicar la aleatoriedad\n",
    "random.random() # primer llamado a random"
   ]
  },
  {
   "cell_type": "markdown",
   "metadata": {},
   "source": [
    "# Monte-Carlo en acción\n",
    "---\n",
    "Los Métodos de Monte-Carlo se basan en la analogía entre probabilidad y volumen. Las matemáticas de las medidas formalizan la noción intuitiva de probabilidad, asociando un evento con un conjunto de resultados y definiendo que la probabilidad del evento será el volumen o medida relativa del universo de posibles resultados.  \n",
    "\n",
    "---\n",
    "En esencia podemos decir que el Método de Monte-Carlo consiste en calcular o aproximar ciertas expresiones a través de adivinarlas con la ayuda de dibujar una cantidad normalmente grande de números aleatorios. Veamos como funciona con un ejemplo, calculemos el área de un círculo de radio 1; lo que es lo mismo a decir que aproximemos el valor de $π$."
   ]
  },
  {
   "cell_type": "code",
   "execution_count": null,
   "metadata": {},
   "outputs": [],
   "source": [
    "# importando modulos necesarios\n",
    "import matplotlib.pyplot as plt \n",
    "import numpy as np # importando numpy\n",
    "import pandas as pd # importando pandas\n",
    "from scipy import stats\n",
    "\n",
    "np.random.seed(1984) # para poder replicar el random\n",
    "\n",
    "%matplotlib inline"
   ]
  },
  {
   "cell_type": "code",
   "execution_count": null,
   "metadata": {},
   "outputs": [],
   "source": [
    "\n",
    "\n",
    "# Ejemplo: Aproximando el valor de pi - área de un círculo de\n",
    "# radio = 1.\n",
    "\n",
    "def mc_pi_aprox(N=10000):\n",
    "    plt.figure(figsize=(8,8))  # tamaño de la figura\n",
    "    x, y = np.random.uniform(-1, 1, size=(2, N))\n",
    "    interior = (x**2 + y**2) <= 1\n",
    "    pi = interior.sum() * 4 / N\n",
    "    error = abs((pi - np.pi) / pi) * 100\n",
    "    exterior = np.invert(interior)\n",
    "    plt.plot(x[interior], y[interior], 'b.')\n",
    "    plt.plot(x[exterior], y[exterior], 'r.')\n",
    "    plt.plot(0, 0, label='$\\hat \\pi$ = {:4.4f}\\nerror = {:4.4f}%'\n",
    "             .format(pi,error), alpha=0)\n",
    "    plt.axis('square')\n",
    "    plt.legend(frameon=True, framealpha=0.9, fontsize=16)\n",
    "\n",
    "mc_pi_aprox()"
   ]
  },
  {
   "cell_type": "code",
   "execution_count": null,
   "metadata": {},
   "outputs": [],
   "source": [
    "# con 1000000 experimentos\n",
    "mc_pi_aprox(N=100000)"
   ]
  },
  {
   "cell_type": "markdown",
   "metadata": {},
   "source": [
    "# El algoritmo Metropolis-Hastings\n",
    "---\n",
    "Uno de los métodos MCMC más populares es el algoritmo Metropolis-Hastings; de hecho la mayoría de los algoritmos de MCMC pueden ser interpretados como casos especiales de este algoritmo. \n",
    "\n",
    "El algoritmo Metropolis-Hastings esta catalogado como uno de los 10 algoritmos más importantes y más utilizados en ciencia e ingeniería en los últimos veinte años.Se encuentra en el corazón de la mayoría de los métodos de muestreo MCMC. "
   ]
  },
  {
   "cell_type": "code",
   "execution_count": null,
   "metadata": {},
   "outputs": [],
   "source": [
    "# Ejemplo algoritmo metropolis\n",
    "def metropolis(func, steps=10000):\n",
    "    \"\"\"A very simple Metropolis implementation\"\"\"\n",
    "    muestras = np.zeros(steps)\n",
    "    old_x = func.mean()\n",
    "    old_prob = func.pdf(old_x)\n",
    "    \n",
    "    for i in range(steps):\n",
    "        new_x = old_x + np.random.normal(0, 0.5)\n",
    "        new_prob = func.pdf(new_x)\n",
    "        aceptacion = new_prob / old_prob\n",
    "        if aceptacion >= np.random.random():\n",
    "            muestras[i] = new_x\n",
    "            old_x = new_x\n",
    "            old_prob = new_prob\n",
    "        else:\n",
    "            muestras[i] = old_x\n",
    "    \n",
    "    return muestras"
   ]
  },
  {
   "cell_type": "code",
   "execution_count": null,
   "metadata": {},
   "outputs": [],
   "source": [
    "# distribución beta\n",
    "func = stats.beta(0.4, 2)\n",
    "samples = metropolis(func=func, steps=100000)\n",
    "x = np.linspace(0.01, .99, 100)\n",
    "y = func.pdf(x)\n",
    "plt.figure(figsize=(8,8))\n",
    "plt.xlim(0, 1)\n",
    "plt.plot(x, y, 'r-', lw=3, label='Distribución verdadera')\n",
    "plt.hist(samples, bins=30, density=True, label='Distribución estimada con MCMC')\n",
    "plt.xlabel('$x$', fontsize=14)\n",
    "plt.ylabel('$pdf(x)$', fontsize=14)\n",
    "plt.legend(fontsize=14)\n",
    "plt.show()"
   ]
  },
  {
   "cell_type": "code",
   "execution_count": null,
   "metadata": {},
   "outputs": [],
   "source": [
    "# distribución normal\n",
    "func = stats.norm(0.4, 2)\n",
    "samples = metropolis(func=func)\n",
    "x = np.linspace(-6, 10, 100)\n",
    "y = func.pdf(x)\n",
    "plt.figure(figsize=(8,8))\n",
    "plt.xlim(-6, 6)\n",
    "plt.plot(x, y, 'r-', lw=3, label='Distribución verdadera')\n",
    "plt.hist(samples, bins=30, density=True, label='Distribución estimada con MCMC')\n",
    "plt.xlabel('$x$', fontsize=14)\n",
    "plt.ylabel('$pdf(x)$', fontsize=14)\n",
    "plt.legend(fontsize=14)\n",
    "plt.show()"
   ]
  },
  {
   "cell_type": "markdown",
   "metadata": {},
   "source": [
    "como vemos, las distribuciones estimadas utilizando MCMC se acercan bastante a las distribuciones reales."
   ]
  },
  {
   "cell_type": "markdown",
   "metadata": {},
   "source": [
    "# Casos de Coronavirus en México\n",
    "---"
   ]
  },
  {
   "cell_type": "code",
   "execution_count": null,
   "metadata": {},
   "outputs": [],
   "source": [
    "import pandas as pd\n",
    "import plotly.express as px\n",
    "\n",
    "# Read the data\n",
    "df = pd.read_csv(\"https://github.com/CSSEGISandData/COVID-19/blob/master/csse_covid_19_data/csse_covid_19_time_series/time_series_covid19_confirmed_global.csv")\n",
    "df.rename(columns={'Country/Region':'Country'}, inplace=True)\n",
    "df = df.drop([\"Lat\",\"Long\", \"Province/State\"],axis=\"columns\")"
   ]
  },
  {
   "cell_type": "code",
   "execution_count": null,
   "metadata": {},
   "outputs": [],
   "source": [
    "# Data prep\n",
    "df = df.set_index('Country')\n",
    "df = df.stack()\n",
    "df.index = df.index.rename('Date', level=1)\n",
    "df.name = 'Cases'\n",
    "df = df.reset_index()"
   ]
  },
  {
   "cell_type": "code",
   "execution_count": null,
   "metadata": {},
   "outputs": [],
   "source": [
    "# Choose mexico\n",
    "df_mexico = df.query('Country==\"Mexico\"')\n",
    "df_mexico"
   ]
  },
  {
   "cell_type": "code",
   "execution_count": null,
   "metadata": {},
   "outputs": [],
   "source": [
    "# Plot\n",
    "fig = px.line(df_mexico, x=\"Date\", y=\"Cases\", text=\"Cases\")\n",
    "fig.show()"
   ]
  },
  {
   "cell_type": "code",
   "execution_count": null,
   "metadata": {},
   "outputs": [],
   "source": [
    "# Compare mexico with others\n",
    "df_others = df[df.Country.isin([\"Mexico\",\"Argentina\",\"Chile\",\"Venezuela\",\"Colombia\"])]"
   ]
  },
  {
   "cell_type": "code",
   "execution_count": null,
   "metadata": {},
   "outputs": [],
   "source": [
    "# Plot\n",
    "fig = px.line(df_others, x=\"Date\", y=\"Cases\", text=\"Cases\", color=\"Country\")\n",
    "fig.show()"
   ]
  }
 ],
 "metadata": {
  "kernelspec": {
   "display_name": "Python 3",
   "language": "python",
   "name": "python3"
  },
  "language_info": {
   "codemirror_mode": {
    "name": "ipython",
    "version": 3
   },
   "file_extension": ".py",
   "mimetype": "text/x-python",
   "name": "python",
   "nbconvert_exporter": "python",
   "pygments_lexer": "ipython3",
   "version": "3.7.6"
  }
 },
 "nbformat": 4,
 "nbformat_minor": 4
}
