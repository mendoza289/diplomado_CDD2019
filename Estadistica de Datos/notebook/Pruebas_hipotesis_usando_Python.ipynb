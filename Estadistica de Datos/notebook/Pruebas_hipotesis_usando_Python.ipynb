{
 "cells": [
  {
   "cell_type": "markdown",
   "metadata": {},
   "source": [
    "[![Open In Colab](https://colab.research.google.com/assets/colab-badge.svg)](https://colab.research.google.com/github/jhermosillo/diplomado_CDD2019/blob/master/Estadistica%20de%20Datos/notebook/Pruebas_hipotesis_usando_Python.ipynb)"
   ]
  },
  {
   "cell_type": "markdown",
   "metadata": {},
   "source": [
    "# 2.9. Pruebas de hipótesis usando Python\n",
    "---\n",
    "![alt text](https://www.monografias.com/trabajos91/prueba-hipotesis-medias-excel-y-winstats/image002.png)"
   ]
  },
  {
   "cell_type": "markdown",
   "metadata": {},
   "source": [
    "Bueno, probablemente todos los que somos principiantes o en nivel intermedi en ciencia de datos o los estudiantes de estadística escucharon sobre estas palabras de moda en estas áreas y esto es las prueba de hipótesis.\n",
    "\n",
    "En esta sección se dará una breve introducción sobre este tema que puede causar muchos dolores de cabeza al estar aprendiendo acerca del manejo de datos.\n",
    "\n",
    "Se abordan todos esos conceptos y con ejemplos usando Python.\n",
    "\n",
    "* # ¿Qué es una prueba de hipótesis? \n",
    "* ## ¿Porqué debemos usarlas? \n",
    "* ## ¿Cuáles son las bases de las hipótesis?\n",
    "* ## ¿Cuáles son los parámetros importantes de dichas pruebas?\n",
    "\n",
    "\n",
    "![alt text](https://luminousmen.com/media/demystifying-hypothesis-testing.jpg)"
   ]
  },
  {
   "cell_type": "markdown",
   "metadata": {},
   "source": [
    "Empecemos por la primera pregunta...\n",
    "\n",
    "* ## ¿Qué es una prueba de hipótesis?\n",
    "\n",
    "Las pruebas de hipótesis son métodos estadísticos que son utilizados para la toma de decisiones **estadísticas**, utilizando datos experimentales. En palabras burdas, es el pan de cada día de las estadísticas inferenciales y una habilidad crítica en el repertorio de un científico de datos. Demostramos el concepto con scripts Python muy simples.\n"
   ]
  },
  {
   "cell_type": "markdown",
   "metadata": {},
   "source": [
    "* ## ¿Porqué usamos las pruebas de hipótesis?\n",
    "\n",
    "La prueba de hipótesis es un procedimiento esencial en estadística. Una prueba de hipótesis evalúa dos afirmaciones mutuamente excluyentes sobre una **población** para determinar qué afirmación es mejor respaldada por los datos de la *muestra*. Cuando decimos que un hallazgo es estadísticamente significativo, es gracias a una prueba de hipótesis.\n",
    "\n",
    "### La prueba de hipótesis es una herramienta crítica en estadística inferencial, para determinar cuál podría ser el valor de un parámetro de **población**. A menudo sacamos esta conclusión basada en un análisis de datos de muestra...."
   ]
  },
  {
   "cell_type": "markdown",
   "metadata": {},
   "source": [
    "Con la cuestión de la toma de decisiones basada en datos:\n",
    "\n",
    "   * empresariales, científicos, tecnológicos, sociales y políticos, etc... \n",
    "    \n",
    "El concepto de prueba de hipótesis se ha convertido en algo sumamente importante para comprender y aplicar en el contexto adecuado.\n",
    "\n",
    "#### Hay una gran cantidad de pruebas utilizadas en el análisis estadístico para este propósito. Puede ser confuso. Consulte este excelente [artículo](https://towardsdatascience.com/statistical-tests-when-to-use-which-704557554740) para obtener una descripción completa de qué prueba usar en qué situación."
   ]
  },
  {
   "cell_type": "markdown",
   "metadata": {},
   "source": [
    "* ## ¿Cuales son las bases de las hipótesis? \n",
    "\n",
    "   * Hipótesis Nula\n",
    "   * Hipótesis Alterna\n",
    "   \n",
    "La hipótesis nula es, en general, lo **aburrido** (esperado), es decir, supone que nada interesante sucede / sucedió.\n",
    "\n",
    "La hipótesis alterna es donde la acción es, es decir, alguna observación / fenómeno es real (es decir, no es una casualidad)...\n",
    "\n",
    "---\n",
    "\n",
    "Hipótesis nula (H0): - En la estadística inferencial, la hipótesis nula es una declaración general o posición predeterminada de que no hay relación entre dos fenómenos medidos, o no hay asociación entre grupos\n",
    "\n",
    "En otras palabras, es una suposición básica o basada en el dominio o el conocimiento del problema.\n",
    "\n",
    "Ejemplo: la producción de una empresa es = 50 unidades / por día, etc.\n",
    "\n",
    "---\n",
    "\n",
    "Hipótesis alterna (H1): - Es la hipótesis que es contraria a la hipótesis nula. Por lo general, se considera que las observaciones son el resultado de un efecto real (con cierta cantidad de \n",
    "variación de probabilidad superpuesta).\n",
    "\n",
    "---\n",
    "## Por lo tanto, el proceso de prueba de hipótesis consiste en formular preguntas sobre los datos en función de la información recopilada y probarlas utilizando métodos estadísticos.\n",
    "\n",
    "---\n",
    "### A continuación mostramos un pequeño ejemplo utilizando la prueba estadística Shapiro - Wilks\n",
    "Esta prueba comprueba si una muestra presenta una distribución normal(H0) o no (H1). Mayor información de la librería pueden consultar el siguiente [artículo](https://docs.scipy.org/doc/scipy/reference/generated/scipy.stats.shapiro.html) y el [artículo](https://en.wikipedia.org/wiki/Shapiro%E2%80%93Wilk_test) siguiente para la prueba estadística. "
   ]
  },
  {
   "cell_type": "code",
   "execution_count": 1,
   "metadata": {},
   "outputs": [
    {
     "name": "stdout",
     "output_type": "stream",
     "text": [
      "stat=0.895, p=0.193\n",
      "Probably Gaussian\n"
     ]
    },
    {
     "data": {
      "text/plain": [
       "<matplotlib.axes._subplots.AxesSubplot at 0x1c0d3320448>"
      ]
     },
     "execution_count": 1,
     "metadata": {},
     "output_type": "execute_result"
    },
    {
     "data": {
      "image/png": "[encoded data removed]",
      "text/plain": [
       "<Figure size 432x288 with 1 Axes>"
      ]
     },
     "metadata": {
      "needs_background": "light"
     },
     "output_type": "display_data"
    }
   ],
   "source": [
    "\t\n",
    "# Example of the Shapiro-Wilk Normality Test\n",
    "from scipy.stats import shapiro\n",
    "import seaborn as sns\n",
    "data = [0.873, 2.817, 0.121, -0.945, -0.055, -1.436, 0.360, -1.478, -1.637, -1.869]\n",
    "stat, p = shapiro(data)\n",
    "print('stat=%.3f, p=%.3f' % (stat, p))\n",
    "if p > 0.05:\n",
    "\tprint('Probably Gaussian')\n",
    "else:\n",
    "\tprint('Probably not Gaussian')\n",
    "    \n",
    "sns.distplot(data)"
   ]
  },
  {
   "cell_type": "markdown",
   "metadata": {},
   "source": [
    "A partir de aquí surgen diversas cuestiones extras...\n",
    "\n",
    "### ¿Qué son las pruebas estadísticas?\n",
    "* ### ¿Qué es el valor de la prueba (estadística)? \n",
    "\n",
    "    * $\\alpha$ (nivel de significancia) \n",
    "    * $(p - value)$ \n",
    "    \n",
    "    \n",
    "![alt text](https://iamluminousmen-media.s3.amazonaws.com/media/demystifying-hypothesis-testing/demystifying-hypothesis-testing-3.jpg)\n"
   ]
  },
  {
   "cell_type": "markdown",
   "metadata": {},
   "source": [
    "# ¿Cuál es el proceso?\n",
    "\n",
    "Normalmente empezamos con un punto de vista simple y empezamos con al hipótesis nula y calculamos (computamos) algunos estadísticos con respecto a nuestras muestras, que se puediera sintetizar de la siguiente manera:\n",
    "\n",
    "## $\\displaystyle\\frac{Mejor estimación − Estimación Hipotética}{Error estandar Estimación}$\n",
    "\n",
    "Donde, la **mejor estimación** proviene de la muestra.. p.ej., la media o algun valor de tendencia central de algún subconjunto de datos de la muestra.\n",
    "\n",
    "El **error estandar** representa la variabilidad en la estimación y depende de la varianza y del tamaño de la muestra.\n",
    "\n",
    "A lo que nos lleva a la siguiente pregunta...\n",
    "\n",
    "### *\"¿Cuál es la posibilidad de observar el estadístico de prueba, este extremo, para esta muestra (considerando su tamaño y una dinámica probabilística adecuada que la gobierna), puramente aleatoriamente conocida si la hipótesis nula fuera cierta? \"*"
   ]
  }
 ],
 "metadata": {
  "kernelspec": {
   "display_name": "Python 3",
   "language": "python",
   "name": "python3"
  },
  "language_info": {
   "codemirror_mode": {
    "name": "ipython",
    "version": 3
   },
   "file_extension": ".py",
   "mimetype": "text/x-python",
   "name": "python",
   "nbconvert_exporter": "python",
   "pygments_lexer": "ipython3",
   "version": "3.7.6"
  }
 },
 "nbformat": 4,
 "nbformat_minor": 4
}
