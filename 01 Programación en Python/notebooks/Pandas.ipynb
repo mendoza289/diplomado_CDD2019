{
  "nbformat": 4,
  "nbformat_minor": 0,
  "metadata": {
    "colab": {
      "name": "Pandas.ipynb",
      "provenance": [],
      "collapsed_sections": [],
      "include_colab_link": true
    },
    "kernelspec": {
      "name": "python3",
      "display_name": "Python 3"
    }
  },
  "cells": [
    {
      "cell_type": "markdown",
      "metadata": {
        "id": "view-in-github",
        "colab_type": "text"
      },
      "source": [
        "<a href=\"https://colab.research.google.com/github/jhermosillo/diplomado_CDD2019/blob/master/Programaci%C3%B3n%20en%20Python/notebooks/Pandas.ipynb\" target=\"_parent\"><img src=\"https://colab.research.google.com/assets/colab-badge.svg\" alt=\"Open In Colab\"/></a>"
      ]
    },
    {
      "cell_type": "markdown",
      "metadata": {
        "id": "CcO06esNJc49",
        "colab_type": "text"
      },
      "source": [
        "# Pandas\n",
        "\n",
        "Pandas es un paquete de Python que provee dos estructuras de datos para el análisis de datos \"relacionales\" de manera rápida, flexible y expresiva. Pandas está construido sobre Numpy, por lo que muchas de las ventajas de utilizar Numpy se trasladan a Pandas.\n",
        "\n",
        "Pandas puede ser utilizado para trabajar con diferentes tipos de datos:\n",
        "\n",
        "* Tabulares, con datos en columnas que comparten un mismo tipo (por ejemplo, tablas de una base de datos y hojas de Excel).\n",
        "* Series de tiempo.\n",
        "* Matrices con columnas y filas etiquetadas.\n",
        "* Datos de experimentos estadísticos en general.\n"
      ]
    },
    {
      "cell_type": "code",
      "metadata": {
        "id": "3PmEICGYLh4Q",
        "colab_type": "code",
        "colab": {}
      },
      "source": [
        "#pd es el alias comun de pandas\n",
        "import pandas as pd\n",
        "import numpy as np"
      ],
      "execution_count": 0,
      "outputs": []
    },
    {
      "cell_type": "markdown",
      "metadata": {
        "id": "OTXIJU1jJoJx",
        "colab_type": "text"
      },
      "source": [
        "# Estructuras"
      ]
    },
    {
      "cell_type": "markdown",
      "metadata": {
        "id": "95kIZu4KJf14",
        "colab_type": "text"
      },
      "source": [
        "## Series\n",
        "\n",
        "La primera estructura de datos de Pandas son las Series. Una Serie es utilizada para arreglos 1D etiquetados con un mismo tipo de dato en todos sus elementos. Una serie es un arreglo 1D donde cada elemento tiene asignado un índice:\n",
        "\n",
        "\n",
        "| index   || |\n",
        "|---||----|\n",
        "| a || s1 |\n",
        "| b || s2 |\n",
        "| c || s3 |\n",
        "| ... || ... |"
      ]
    },
    {
      "cell_type": "code",
      "metadata": {
        "id": "_lshPHLAJf_f",
        "colab_type": "code",
        "colab": {}
      },
      "source": [
        "#un objeto series desde una lista\n",
        "s1 = pd.Series(data=[1, 1, 2, 3, 5], index=[\"a\", \"b\", \"c\", \"d\", \"e\"])\n",
        "s1"
      ],
      "execution_count": 0,
      "outputs": []
    },
    {
      "cell_type": "markdown",
      "metadata": {
        "id": "EIblWSe0JgIb",
        "colab_type": "text"
      },
      "source": [
        "## Dataframe\n",
        "\n",
        "Los Dataframes son la segunda estructura en Pandas, éstos son utilizados para datos 2D etiquetados (columnas con nombres generalmente). Las columnas de un Dataframe pueden tener tipos de dato diferentes. Puedes pensar en un Dataframe  como un contenedor de Series, donde cada columna es una Serie (arreglo 1D con etiquetas). Un Dataframe puede representarse como una tabla donde cada fila tiene asignado un índice y cada columna un nombre:\n",
        "\n",
        "| index\\columns  || A  | B  | C  | D  |\n",
        "|---||----|----|----|----|\n",
        "| 1 || a1 | b1 | c1 | d1 |\n",
        "| 2 || a2 | b2 | c2 | d2 |\n",
        "| 3 || a3 | b3 | c3 | d3 |"
      ]
    },
    {
      "cell_type": "code",
      "metadata": {
        "id": "6BdTW6AVJgPx",
        "colab_type": "code",
        "colab": {}
      },
      "source": [
        "#un dataframe aleatorio con numpy random\n",
        "df = pd.DataFrame(np.random.randn(6, 4), columns=[\"A\", \"B\", \"C\", \"D\"])\n",
        "df"
      ],
      "execution_count": 0,
      "outputs": []
    },
    {
      "cell_type": "markdown",
      "metadata": {
        "id": "YACVLPqmEIgV",
        "colab_type": "text"
      },
      "source": [
        "### Axes\n",
        "\n",
        "Recuerda que los axes de un Dataframe (una tabla 2D), son los siguientes:\n",
        "\n",
        "![Numpy/Pandas axes](https://raw.githubusercontent.com/jhermosillo/diplomado_CDD2019/master/Programaci%C3%B3n%20en%20Python/images/axes.png)"
      ]
    },
    {
      "cell_type": "markdown",
      "metadata": {
        "id": "amSx3Uy5Jgs_",
        "colab_type": "text"
      },
      "source": [
        "# Creación y almacenamiento"
      ]
    },
    {
      "cell_type": "markdown",
      "metadata": {
        "id": "Efe8EN4EUNr6",
        "colab_type": "text"
      },
      "source": [
        "## Creación desde diccionarios de listas"
      ]
    },
    {
      "cell_type": "code",
      "metadata": {
        "id": "W3sLNcoIKZ5t",
        "colab_type": "code",
        "colab": {}
      },
      "source": [
        "#Un diccionario de python\n",
        "dict1 = {'pais': ['Mexico',\n",
        "'EUA', \"Francia\"], 'continente': [\"America\", \"America\", \"Europa\"], 'poblacion': [129, 325, 67]}\n",
        "\n",
        "paises = pd.DataFrame(dict1)\n",
        "paises"
      ],
      "execution_count": 0,
      "outputs": []
    },
    {
      "cell_type": "markdown",
      "metadata": {
        "id": "t0IUUYdWKaQ7",
        "colab_type": "text"
      },
      "source": [
        "## Creación desde diccionario anidado"
      ]
    },
    {
      "cell_type": "code",
      "metadata": {
        "id": "oPN4K2gSMH8U",
        "colab_type": "code",
        "colab": {}
      },
      "source": [
        "#Un diccionario anidado de python\n",
        "#las claves anidadas especifican el indice de las filas\n",
        "dict2 = {'pais': {\"p1\": 'Mexico',\n",
        "\"p2\": 'EUA', \"p3\": \"Francia\"}, 'continente': {\"p1\": \"America\", \"p2\": \"America\", \"p3\": \"Europa\"}, 'poblacion': {\"p1\": 129, \"p2\": 325, \"p3\": 67}}\n",
        "\n",
        "paises = pd.DataFrame(dict2)\n",
        "paises"
      ],
      "execution_count": 0,
      "outputs": []
    },
    {
      "cell_type": "markdown",
      "metadata": {
        "id": "vEl2HU6hUKBk",
        "colab_type": "text"
      },
      "source": [
        "## Creación desde archivos csv"
      ]
    },
    {
      "cell_type": "code",
      "metadata": {
        "id": "zYIeBGnrNupt",
        "colab_type": "code",
        "colab": {}
      },
      "source": [
        "!ls sample_data/"
      ],
      "execution_count": 0,
      "outputs": []
    },
    {
      "cell_type": "code",
      "metadata": {
        "id": "SW7PjbOONhIn",
        "colab_type": "code",
        "colab": {}
      },
      "source": [
        "#leamos un archivo csv almacenado por colab\n",
        "cali_housing = pd.read_csv(\"sample_data/california_housing_test.csv\", nrows=10)\n",
        "cali_housing"
      ],
      "execution_count": 0,
      "outputs": []
    },
    {
      "cell_type": "markdown",
      "metadata": {
        "id": "2elveR7cNUJW",
        "colab_type": "text"
      },
      "source": [
        "## Creación desde archivos excel"
      ]
    },
    {
      "cell_type": "code",
      "metadata": {
        "id": "UswNxhhtruT6",
        "colab_type": "code",
        "colab": {}
      },
      "source": [
        "# Cargar un archivo de excel a colab desde github\n",
        "!curl --remote-name \\\n",
        "     -H 'Accept: application/vnd.github.v3.raw' \\\n",
        "     --location https://github.com/jhermosillo/diplomado_CDD2019/raw/master/Programaci%C3%B3n%20en%20Python/data/california_housing_test.xlsx"
      ],
      "execution_count": 0,
      "outputs": []
    },
    {
      "cell_type": "code",
      "metadata": {
        "id": "-13jjqLENhe1",
        "colab_type": "code",
        "colab": {}
      },
      "source": [
        "#cargar el archivo en formato xls a un pandas dataframe\n",
        "cali_housing = pd.read_excel(\"california_housing_test.xlsx\", index_col=0, header_col=0)\n",
        "cali_housing"
      ],
      "execution_count": 0,
      "outputs": []
    },
    {
      "cell_type": "markdown",
      "metadata": {
        "id": "PDkNmW3rUKFD",
        "colab_type": "text"
      },
      "source": [
        "## Persistencia a disco"
      ]
    },
    {
      "cell_type": "code",
      "metadata": {
        "id": "Tiz6wLPAJgx3",
        "colab_type": "code",
        "colab": {}
      },
      "source": [
        "cali_housing.to_csv(\"cali_housing.csv\")\n",
        "#o en formato de excel:\n",
        "cali_housing.to_excel(\"cali_housing.xlsx\")"
      ],
      "execution_count": 0,
      "outputs": []
    },
    {
      "cell_type": "markdown",
      "metadata": {
        "id": "J9cBi012RwX2",
        "colab_type": "text"
      },
      "source": [
        "Ahora se crearon dos archivos en colab"
      ]
    },
    {
      "cell_type": "code",
      "metadata": {
        "id": "vA-S4UqPRtaB",
        "colab_type": "code",
        "colab": {}
      },
      "source": [
        "!ls"
      ],
      "execution_count": 0,
      "outputs": []
    },
    {
      "cell_type": "markdown",
      "metadata": {
        "id": "2Aa7Hoa69D2P",
        "colab_type": "text"
      },
      "source": [
        "## Otros formatos\n",
        "\n",
        "Además de los ya mencionados, Pandas permite leer y escribir en formatos comúnes como:\n",
        "\n",
        "* JSON\n",
        "* HTML\n",
        "* Parquet\n",
        "* SQL\n",
        "* BigQuery\n",
        "\n",
        "Puedes ver la lista completa en la [documentación de Pandas](https://pandas.pydata.org/docs/user_guide/io.html#io-tools-text-csv-hdf5)."
      ]
    },
    {
      "cell_type": "markdown",
      "metadata": {
        "id": "BIZpbhUppe62",
        "colab_type": "text"
      },
      "source": [
        "# Accediendo a los datos"
      ]
    },
    {
      "cell_type": "markdown",
      "metadata": {
        "id": "YYvyNYxymZcV",
        "colab_type": "text"
      },
      "source": [
        "## info()\n",
        "\n",
        "El método info() puede usarse para , mostrar la información general del objeto de Pandas, como el índice y los tipos de datos usados."
      ]
    },
    {
      "cell_type": "code",
      "metadata": {
        "id": "W2IlfVfaQdb4",
        "colab_type": "code",
        "colab": {}
      },
      "source": [
        "cali_housing.info()"
      ],
      "execution_count": 0,
      "outputs": []
    },
    {
      "cell_type": "markdown",
      "metadata": {
        "id": "wboMyaQ4ltYo",
        "colab_type": "text"
      },
      "source": [
        "## head() y tail()\n",
        "\n",
        "Los métodos head() y tail() devuelven una pequeña muestra de los primeros o últimos elementos de un objeto Series o Dataframe. Ambas pueden recibir como parámetro el número de elementos que se desean visualizar, por defecto es igual a 5."
      ]
    },
    {
      "cell_type": "code",
      "metadata": {
        "id": "8w1nVek4ltdb",
        "colab_type": "code",
        "colab": {}
      },
      "source": [
        "cali_housing.head()"
      ],
      "execution_count": 0,
      "outputs": []
    },
    {
      "cell_type": "code",
      "metadata": {
        "id": "jXLeXz3SmL2g",
        "colab_type": "code",
        "colab": {}
      },
      "source": [
        "cali_housing.tail(3)"
      ],
      "execution_count": 0,
      "outputs": []
    },
    {
      "cell_type": "markdown",
      "metadata": {
        "id": "0noSgAwmbj6S",
        "colab_type": "text"
      },
      "source": [
        "## df.sample()\n",
        "\n",
        "Para obtener una muestra aleatoria del objeto."
      ]
    },
    {
      "cell_type": "code",
      "metadata": {
        "id": "Zs2159iMbkAL",
        "colab_type": "code",
        "colab": {}
      },
      "source": [
        "cali_housing.sample(n=3)"
      ],
      "execution_count": 0,
      "outputs": []
    },
    {
      "cell_type": "markdown",
      "metadata": {
        "id": "9rFDtUgonaCT",
        "colab_type": "text"
      },
      "source": [
        "## df.index\n",
        "\n",
        "El atributo index regresa el índice del objeto de Pandas."
      ]
    },
    {
      "cell_type": "code",
      "metadata": {
        "id": "Apbkp5B-naHD",
        "colab_type": "code",
        "colab": {}
      },
      "source": [
        "cali_housing.index"
      ],
      "execution_count": 0,
      "outputs": []
    },
    {
      "cell_type": "markdown",
      "metadata": {
        "id": "HDC-5YyqnaOV",
        "colab_type": "text"
      },
      "source": [
        "## df.columns\n",
        "\n",
        "El atributo columns de un DataFrame devuelve las columnas del mismo."
      ]
    },
    {
      "cell_type": "code",
      "metadata": {
        "id": "sNVXAfLQnaSS",
        "colab_type": "code",
        "colab": {}
      },
      "source": [
        "cali_housing.columns"
      ],
      "execution_count": 0,
      "outputs": []
    },
    {
      "cell_type": "markdown",
      "metadata": {
        "id": "9WdqAWo7oDwj",
        "colab_type": "text"
      },
      "source": [
        "## describe()\n",
        "\n",
        "El método describe() regresa un resúmen estadístico del objeto."
      ]
    },
    {
      "cell_type": "code",
      "metadata": {
        "id": "qwaMTDgKoD1D",
        "colab_type": "code",
        "colab": {}
      },
      "source": [
        "cali_housing.describe()"
      ],
      "execution_count": 0,
      "outputs": []
    },
    {
      "cell_type": "markdown",
      "metadata": {
        "id": "AqJUI2dwQdL-",
        "colab_type": "text"
      },
      "source": [
        "# Selección - asignación"
      ]
    },
    {
      "cell_type": "markdown",
      "metadata": {
        "id": "aStR2xhVs5oo",
        "colab_type": "text"
      },
      "source": [
        "## Seleccionando columnas\n",
        "\n",
        "Puedes usar dos notaciones para seleccionar una columna de un DataFrame, cualquiera de éstas devolverá un objeto Series.\n",
        "\n",
        "\n",
        "\n",
        "```\n",
        "df.[\"A\"]\n",
        "```\n",
        "\n",
        "o\n",
        "\n",
        "\n",
        "\n",
        "```\n",
        "df.A\n",
        "```\n",
        "\n",
        "\n",
        "\n"
      ]
    },
    {
      "cell_type": "code",
      "metadata": {
        "id": "AoTIBTUas5sm",
        "colab_type": "code",
        "colab": {}
      },
      "source": [
        "#seleccionar la columna devuelve un objeto Series\n",
        "cali_housing[\"latitude\"]"
      ],
      "execution_count": 0,
      "outputs": []
    },
    {
      "cell_type": "code",
      "metadata": {
        "id": "R5__s0jktINE",
        "colab_type": "code",
        "colab": {}
      },
      "source": [
        "#usa segunda opcion para seleccionar columnas\n",
        "cali_housing.latitude"
      ],
      "execution_count": 0,
      "outputs": []
    },
    {
      "cell_type": "code",
      "metadata": {
        "id": "aL5laUlqKL6F",
        "colab_type": "code",
        "colab": {}
      },
      "source": [
        "#seleccionando una columna como un dataframe\n",
        "cali_housing[[\"latitude\"]]"
      ],
      "execution_count": 0,
      "outputs": []
    },
    {
      "cell_type": "markdown",
      "metadata": {
        "id": "CjqwQ2SFvO8-",
        "colab_type": "text"
      },
      "source": [
        "Seleccionando múltiples columnas\n",
        "\n",
        "\n",
        "\n",
        "```\n",
        "df[[\"A\", ...]]\n",
        "```\n",
        "\n"
      ]
    },
    {
      "cell_type": "code",
      "metadata": {
        "id": "VvnPz531vPDZ",
        "colab_type": "code",
        "colab": {}
      },
      "source": [
        "cali_housing[[\"longitude\", \"latitude\"]]"
      ],
      "execution_count": 0,
      "outputs": []
    },
    {
      "cell_type": "markdown",
      "metadata": {
        "id": "CxB5qTZys52B",
        "colab_type": "text"
      },
      "source": [
        "## Seleccionando filas con slicing"
      ]
    },
    {
      "cell_type": "code",
      "metadata": {
        "id": "t10uKI8Ss56d",
        "colab_type": "code",
        "colab": {}
      },
      "source": [
        "cali_housing[0:3]"
      ],
      "execution_count": 0,
      "outputs": []
    },
    {
      "cell_type": "markdown",
      "metadata": {
        "id": "jsZdWJbmu55Y",
        "colab_type": "text"
      },
      "source": [
        "## Selección con etiquetas loc"
      ]
    },
    {
      "cell_type": "code",
      "metadata": {
        "id": "cAFiM2puu5-4",
        "colab_type": "code",
        "colab": {}
      },
      "source": [
        "cali_housing.loc[:, \"total_rooms\":\"households\"]"
      ],
      "execution_count": 0,
      "outputs": []
    },
    {
      "cell_type": "markdown",
      "metadata": {
        "id": "oCHwl3yuvCch",
        "colab_type": "text"
      },
      "source": [
        "## Selección con enteros iloc"
      ]
    },
    {
      "cell_type": "code",
      "metadata": {
        "id": "zYt4MKkUvCi2",
        "colab_type": "code",
        "colab": {}
      },
      "source": [
        "cali_housing.iloc[:, 6:]"
      ],
      "execution_count": 0,
      "outputs": []
    },
    {
      "cell_type": "markdown",
      "metadata": {
        "id": "dj7r1S5_o7Mw",
        "colab_type": "text"
      },
      "source": [
        "## Asignación por rango"
      ]
    },
    {
      "cell_type": "code",
      "metadata": {
        "id": "MRN2Ykxzo_Rv",
        "colab_type": "code",
        "colab": {}
      },
      "source": [
        "#primero agregamos una columna random inicializada a 0\n",
        "cali_housing[\"random\"] = 0.0\n",
        "#reasignamos usando np.random\n",
        "cali_housing.loc[:, \"random\"] = np.random.randn(cali_housing.shape[0])\n",
        "cali_housing"
      ],
      "execution_count": 0,
      "outputs": []
    },
    {
      "cell_type": "markdown",
      "metadata": {
        "id": "CHV9n0JBAUr_",
        "colab_type": "text"
      },
      "source": [
        "## Selección con indexación booleana"
      ]
    },
    {
      "cell_type": "code",
      "metadata": {
        "id": "jT8B09O6AUwh",
        "colab_type": "code",
        "colab": {}
      },
      "source": [
        "cali_housing[cali_housing[\"population\"] > 1000]"
      ],
      "execution_count": 0,
      "outputs": []
    },
    {
      "cell_type": "markdown",
      "metadata": {
        "id": "PDy5UYHRDQQ9",
        "colab_type": "text"
      },
      "source": [
        "## Selección de celdas con at y iat"
      ]
    },
    {
      "cell_type": "markdown",
      "metadata": {
        "id": "TXG-TXOBKiWz",
        "colab_type": "text"
      },
      "source": [
        "**at** utiliza etiquetas para seleccionar elementos:"
      ]
    },
    {
      "cell_type": "code",
      "metadata": {
        "id": "is4bKkN9DQYE",
        "colab_type": "code",
        "colab": {}
      },
      "source": [
        "cali_housing.at[0, \"housing_median_age\"]"
      ],
      "execution_count": 0,
      "outputs": []
    },
    {
      "cell_type": "markdown",
      "metadata": {
        "id": "QvT-XktzKjHr",
        "colab_type": "text"
      },
      "source": [
        "**iat** utiliza enteros para seleccionar elementos:"
      ]
    },
    {
      "cell_type": "code",
      "metadata": {
        "id": "LdKMvBAHKrtI",
        "colab_type": "code",
        "colab": {}
      },
      "source": [
        "cali_housing.iat[1, 4]"
      ],
      "execution_count": 0,
      "outputs": []
    },
    {
      "cell_type": "markdown",
      "metadata": {
        "id": "-KhyFcrLo102",
        "colab_type": "text"
      },
      "source": [
        "## Asignación elemento"
      ]
    },
    {
      "cell_type": "markdown",
      "metadata": {
        "id": "mbKBHIY1Pvc2",
        "colab_type": "text"
      },
      "source": [
        "También puedes cambir el contenido de las celdas directamente mediante asignación:"
      ]
    },
    {
      "cell_type": "code",
      "metadata": {
        "id": "B-pJidvUP5BL",
        "colab_type": "code",
        "colab": {}
      },
      "source": [
        "cali_housing.iat[1, 4] = 200.0\n",
        "cali_housing"
      ],
      "execution_count": 0,
      "outputs": []
    },
    {
      "cell_type": "markdown",
      "metadata": {
        "id": "I9ok7Tv_9_Fo",
        "colab_type": "text"
      },
      "source": [
        "## Otros\n",
        "Otros métodos que podrían ser útiles:\n",
        "\n",
        "* idxmax()\n",
        "* idxmin()\n",
        "* filter()\n",
        "* take()\n",
        "* truncate()\n",
        "\n",
        "Puedes ver la lista completa de métodos para la selección, re-indexado y manipulación de etiquetas en la [documentación de Pandas](https://pandas.pydata.org/docs/reference/frame.html#reindexing-selection-label-manipulation)."
      ]
    },
    {
      "cell_type": "markdown",
      "metadata": {
        "id": "XS-y991zSHto",
        "colab_type": "text"
      },
      "source": [
        "# Atributos\n",
        "\n",
        "* df.T\n",
        "* df.axes\n",
        "* df.dtypes\n",
        "* df.shape\n",
        "* df.size\n",
        "* df.values"
      ]
    },
    {
      "cell_type": "markdown",
      "metadata": {
        "id": "Od7ystmNLEZ2",
        "colab_type": "text"
      },
      "source": [
        "## df.T\n",
        "\n",
        "La transpuesta de df (filas y columnas intercambiadas):"
      ]
    },
    {
      "cell_type": "code",
      "metadata": {
        "id": "T-geuTelA-kY",
        "colab_type": "code",
        "colab": {}
      },
      "source": [
        "#Los indices pasan a ser los nombres de las columnas, las columnas a indices\n",
        "cali_housing.T"
      ],
      "execution_count": 0,
      "outputs": []
    },
    {
      "cell_type": "markdown",
      "metadata": {
        "id": "7jTK7OIILPGv",
        "colab_type": "text"
      },
      "source": [
        "## df.axes\n",
        "\n",
        "Retorna información sobre los axes que componen al objeto:\n"
      ]
    },
    {
      "cell_type": "code",
      "metadata": {
        "id": "DFBm4zEvLezZ",
        "colab_type": "code",
        "colab": {}
      },
      "source": [
        "cali_housing.axes"
      ],
      "execution_count": 0,
      "outputs": []
    },
    {
      "cell_type": "markdown",
      "metadata": {
        "id": "yWLJ_QrBLPNg",
        "colab_type": "text"
      },
      "source": [
        "## df.dtypes\n",
        "\n",
        "Retorna los tipos de datos utilizados por el objeto:"
      ]
    },
    {
      "cell_type": "code",
      "metadata": {
        "id": "VmixPgzyLw2s",
        "colab_type": "code",
        "colab": {}
      },
      "source": [
        "cali_housing.dtypes"
      ],
      "execution_count": 0,
      "outputs": []
    },
    {
      "cell_type": "markdown",
      "metadata": {
        "id": "UM0jUGlRLUIi",
        "colab_type": "text"
      },
      "source": [
        "## df.shape\n",
        "\n",
        "La forma del objeto (número de filas y columnas en un DataFrame):"
      ]
    },
    {
      "cell_type": "code",
      "metadata": {
        "id": "W8GN4lewL48N",
        "colab_type": "code",
        "colab": {}
      },
      "source": [
        "cali_housing.shape"
      ],
      "execution_count": 0,
      "outputs": []
    },
    {
      "cell_type": "markdown",
      "metadata": {
        "id": "FfWUXPnoLUM0",
        "colab_type": "text"
      },
      "source": [
        "## df.size\n",
        "\n",
        "El número de elementos en el objeto (número de celdas en un DataFrame):"
      ]
    },
    {
      "cell_type": "code",
      "metadata": {
        "id": "g094BaXSL73J",
        "colab_type": "code",
        "colab": {}
      },
      "source": [
        "cali_housing.size"
      ],
      "execution_count": 0,
      "outputs": []
    },
    {
      "cell_type": "markdown",
      "metadata": {
        "id": "W3JaXU6jLcnB",
        "colab_type": "text"
      },
      "source": [
        "## df.values\n",
        "\n",
        "Retorna el objeto de Pandas como un arreglo de Numpy:"
      ]
    },
    {
      "cell_type": "code",
      "metadata": {
        "id": "zkLZjQPnL-Vo",
        "colab_type": "code",
        "colab": {}
      },
      "source": [
        "df.values"
      ],
      "execution_count": 0,
      "outputs": []
    },
    {
      "cell_type": "markdown",
      "metadata": {
        "id": "xhUkS2LaQgJb",
        "colab_type": "text"
      },
      "source": [
        "# Eliminación\n"
      ]
    },
    {
      "cell_type": "markdown",
      "metadata": {
        "id": "RQqR-sPNRM-t",
        "colab_type": "text"
      },
      "source": [
        "## Remover filas o columnas con df.drop()\n",
        "\n",
        "El método drop() permite eliminar filas o columnas al especificar el axis correspondiente, puedes eliminar más de una usando una lista como parámetro:"
      ]
    },
    {
      "cell_type": "code",
      "metadata": {
        "id": "9P80knKTRNLQ",
        "colab_type": "code",
        "colab": {}
      },
      "source": [
        "#primero agregamos dos nuevas columnas\n",
        "cali_housing[\"temp\"] = \"temp\"\n",
        "cali_housing[\"temp2\"] = cali_housing[\"temp\"] + \"2\"\n",
        "cali_housing"
      ],
      "execution_count": 0,
      "outputs": []
    },
    {
      "cell_type": "markdown",
      "metadata": {
        "id": "ZZ2h7ayddnQ-",
        "colab_type": "text"
      },
      "source": [
        "Eliminar columnas con axis = 1"
      ]
    },
    {
      "cell_type": "code",
      "metadata": {
        "id": "5jwbMO9Xdnen",
        "colab_type": "code",
        "colab": {}
      },
      "source": [
        "#drop devuelve un nuevo dataframe sin la columna\n",
        "df = cali_housing.drop([\"temp\", \"temp2\"], axis=1)\n",
        "df"
      ],
      "execution_count": 0,
      "outputs": []
    },
    {
      "cell_type": "markdown",
      "metadata": {
        "id": "4skGg56odnlF",
        "colab_type": "text"
      },
      "source": [
        "Eliminar filas con axis = 0"
      ]
    },
    {
      "cell_type": "code",
      "metadata": {
        "id": "8ygP00w8dnsS",
        "colab_type": "code",
        "colab": {}
      },
      "source": [
        "#drop devuelve un nuevo dataframe sin la fila\n",
        "df = cali_housing.drop([5,7,9], axis=0)\n",
        "df"
      ],
      "execution_count": 0,
      "outputs": []
    },
    {
      "cell_type": "markdown",
      "metadata": {
        "id": "93ha10yDA-fF",
        "colab_type": "text"
      },
      "source": [
        "## Remover columnas con ```del```\n",
        "\n",
        "Puedes usar la notación _del df[col_name]_ para eliminar una columna directamente de un DataFrame:"
      ]
    },
    {
      "cell_type": "code",
      "metadata": {
        "id": "bwpoq_9TQgPF",
        "colab_type": "code",
        "colab": {}
      },
      "source": [
        "#el dataframe original no ha sido alterado\n",
        "#aun contiene las columnas temporales\n",
        "cali_housing"
      ],
      "execution_count": 0,
      "outputs": []
    },
    {
      "cell_type": "code",
      "metadata": {
        "id": "pmVacTmiQg-j",
        "colab_type": "code",
        "colab": {}
      },
      "source": [
        "#eliminamos la nueva columna temp con del directamente en el df\n",
        "del cali_housing[\"temp\"]\n",
        "cali_housing"
      ],
      "execution_count": 0,
      "outputs": []
    },
    {
      "cell_type": "code",
      "metadata": {
        "id": "sr9fkAPWhwhd",
        "colab_type": "code",
        "colab": {}
      },
      "source": [
        "#del elimina una columna a la vez\n",
        "# llamemos del una segunda vez para eliminar temp2\n",
        "del cali_housing[\"temp2\"]\n",
        "cali_housing"
      ],
      "execution_count": 0,
      "outputs": []
    },
    {
      "cell_type": "markdown",
      "metadata": {
        "id": "Dkzdjyk3VZL_",
        "colab_type": "text"
      },
      "source": [
        "# Datos faltantes"
      ]
    },
    {
      "cell_type": "markdown",
      "metadata": {
        "id": "ySNj8BT8qkI0",
        "colab_type": "text"
      },
      "source": [
        "En Pandas, los valores faltantes son representado con el valor NaN (de Not a Number). Cuando existen valores faltantes, muchas veces es necesario eliminarlar las entradas que los contienen o reemplazarlos por valores antes de empezar a trabajar con los datos. Pandas provee algunos métodos para realizar este tipo de tareas."
      ]
    },
    {
      "cell_type": "code",
      "metadata": {
        "id": "iymXcdS3uvTB",
        "colab_type": "code",
        "colab": {}
      },
      "source": [
        "#creando un dataframe con datos faltantes\n",
        "df = pd.DataFrame(np.random.randn(5, 3), index=['a', 'c', 'e', 'f', 'h'], columns=['A', 'B', 'C'])\n",
        "df['D'] = df['A'] > 0\n",
        "df = df.reindex(['a', 'b', 'c', 'd', 'e', 'f', 'g', 'h'])\n",
        "df"
      ],
      "execution_count": 0,
      "outputs": []
    },
    {
      "cell_type": "markdown",
      "metadata": {
        "id": "JOQ6eWscx3Zm",
        "colab_type": "text"
      },
      "source": [
        "## df.isna()\n",
        "\n",
        "El método isna() funciona para conocer si el objeto contiene valores faltantes. Regresa un objeto con elementos booleanos que indican la existencia de datos faltantes."
      ]
    },
    {
      "cell_type": "code",
      "metadata": {
        "id": "Cvk6XMVSx3eN",
        "colab_type": "code",
        "colab": {}
      },
      "source": [
        "df.isna()"
      ],
      "execution_count": 0,
      "outputs": []
    },
    {
      "cell_type": "markdown",
      "metadata": {
        "id": "4k7fCgEYqkav",
        "colab_type": "text"
      },
      "source": [
        "## df.dropna()\n",
        "\n",
        "El método dropna() permite eliminar del DataFrame las filas o columnas que contienen uno o más elementos NaN.\n",
        "\n",
        "Los principales parámetros de dropna():\n",
        "\n",
        "```\n",
        "axis : {0 o 'index', 1 o 'columns'}, por defecto 0\n",
        "        Determina si elimina filas o columnas que contienen\n",
        "        valores faltantes.\n",
        "    \n",
        "how : {'any', 'all'}, por defecto 'any'\n",
        "    Determina si se elimina la fila o columna cuando contiene al menos un valor faltante o solo si todos sus valores son faltantes.\n",
        "\n",
        "    * 'any' : Si hay un valor faltante, elimina la fila o columna.\n",
        "    * 'all' : Si todos los valores son faltantes, elimina la fila o columna.\n",
        "    \n",
        "thresh : int, opcional\n",
        "    Requirir al menos ese número de valores faltantes para eliminar la fila o columna.\n",
        "```\n",
        "\n"
      ]
    },
    {
      "cell_type": "code",
      "metadata": {
        "id": "FlsVq2-fBpXE",
        "colab_type": "code",
        "colab": {}
      },
      "source": [
        "df.dropna(axis=0, how='any')"
      ],
      "execution_count": 0,
      "outputs": []
    },
    {
      "cell_type": "code",
      "metadata": {
        "id": "efPiUeddzm4H",
        "colab_type": "code",
        "colab": {}
      },
      "source": [
        "#insertando un nuevo nan\n",
        "df.iat[0, 0] = np.nan"
      ],
      "execution_count": 0,
      "outputs": []
    },
    {
      "cell_type": "markdown",
      "metadata": {
        "id": "_zrR_L4g7r_5",
        "colab_type": "text"
      },
      "source": [
        "Usando ```all``` con ```axis=0``` elimina filas donde todos los elementos faltan:"
      ]
    },
    {
      "cell_type": "code",
      "metadata": {
        "id": "byjfnMF0zkyG",
        "colab_type": "code",
        "colab": {}
      },
      "source": [
        "df.dropna(axis = 0, how='all')"
      ],
      "execution_count": 0,
      "outputs": []
    },
    {
      "cell_type": "markdown",
      "metadata": {
        "id": "hQPlZclY7iLP",
        "colab_type": "text"
      },
      "source": [
        "Usando ```any``` con axis=0, elimina las filas con uno o más faltantes:"
      ]
    },
    {
      "cell_type": "code",
      "metadata": {
        "id": "uBrcxqKn7lMM",
        "colab_type": "code",
        "colab": {}
      },
      "source": [
        "df.dropna(axis=0, how=\"any\")"
      ],
      "execution_count": 0,
      "outputs": []
    },
    {
      "cell_type": "markdown",
      "metadata": {
        "id": "UKjCKWaO8Avy",
        "colab_type": "text"
      },
      "source": [
        "Agregamos una nueva columna con todos los elementos ```NaN```:"
      ]
    },
    {
      "cell_type": "code",
      "metadata": {
        "id": "DWBwmsi58BYR",
        "colab_type": "code",
        "colab": {}
      },
      "source": [
        "df[\"empty_col\"] = np.nan\n",
        "df"
      ],
      "execution_count": 0,
      "outputs": []
    },
    {
      "cell_type": "markdown",
      "metadata": {
        "id": "VPZBTo1-8SFj",
        "colab_type": "text"
      },
      "source": [
        "Eliminando la columna con ```axis=1``` y ```how=all```:"
      ]
    },
    {
      "cell_type": "code",
      "metadata": {
        "id": "0hnbfM_G8aZ_",
        "colab_type": "code",
        "colab": {}
      },
      "source": [
        "# La columna con solo ```NaN``` sera eliminada por completo\n",
        "df.dropna(axis=1, how=\"all\")"
      ],
      "execution_count": 0,
      "outputs": []
    },
    {
      "cell_type": "markdown",
      "metadata": {
        "id": "NHj2kDTSqk35",
        "colab_type": "text"
      },
      "source": [
        "## df.fillna()\n",
        "\n",
        "El método fillna() permite reemplazar los valores faltantes en un DataFrame por otro valor.\n",
        "\n",
        "Los principales parámetros de fillna():\n",
        "\n",
        "```\n",
        "value : escalar, diccionario, Series, o un DataFrame\n",
        "    El valor utilizado para reemplazar los faltantes.\n",
        "    Si es un diccionario, una serie o un dataframe, entonces\n",
        "    se utiliza el valor asociado a la clave, indice o columna asociada.\n",
        "\n",
        "method : {'backfill', 'bfill', 'pad', 'ffill', None}, por defecto None\n",
        "    El método utilizado para rellenar los espacios vacios.\n",
        "    * pad / ffill: usa el ultimo valor valido para rellenar \n",
        "    hacia adelante hasta el siguiente valor valido.\n",
        "    * backfill / bfill: utilizar la siguiente observacion \n",
        "    valida para rellenar.\n",
        "\n",
        "axis : {0 or 'index', 1 or 'columns'}\n",
        "```\n",
        "\n"
      ]
    },
    {
      "cell_type": "markdown",
      "metadata": {
        "id": "k6qhxeg1_Lg3",
        "colab_type": "text"
      },
      "source": [
        "Reemplazar todos los faltantes por un escalar:"
      ]
    },
    {
      "cell_type": "code",
      "metadata": {
        "id": "_jBS1p9SqlHi",
        "colab_type": "code",
        "colab": {}
      },
      "source": [
        "# fillna con escalar\n",
        "df.fillna(0.0)"
      ],
      "execution_count": 0,
      "outputs": []
    },
    {
      "cell_type": "markdown",
      "metadata": {
        "id": "uP56VW9L_QPm",
        "colab_type": "text"
      },
      "source": [
        "Reemplazar usando un dicccionario para las columnas de un Dataframe:"
      ]
    },
    {
      "cell_type": "code",
      "metadata": {
        "id": "ijAQd576yuK6",
        "colab_type": "code",
        "colab": {}
      },
      "source": [
        "# usando un diccionario para reemplazar con un valor diferente cada columna\n",
        "df.fillna({'A': 0.0, 'B': 0.0, 'C': 0.0, 'D': False})"
      ],
      "execution_count": 0,
      "outputs": []
    },
    {
      "cell_type": "markdown",
      "metadata": {
        "id": "yFhnS9mT_VRM",
        "colab_type": "text"
      },
      "source": [
        "Con un diccionario para los índices de una Serie:"
      ]
    },
    {
      "cell_type": "code",
      "metadata": {
        "id": "VgD276Pt_XWA",
        "colab_type": "code",
        "colab": {}
      },
      "source": [
        "df[\"A\"].fillna({'a':0.0, 'b':1.0, 'c':2.0})"
      ],
      "execution_count": 0,
      "outputs": []
    },
    {
      "cell_type": "markdown",
      "metadata": {
        "id": "fBPVGWfIBbgC",
        "colab_type": "text"
      },
      "source": [
        "Forward Fill:"
      ]
    },
    {
      "cell_type": "markdown",
      "metadata": {
        "id": "Vp8Q7xQKBi4-",
        "colab_type": "text"
      },
      "source": [
        "```axis = 0``` por defecto (por columnas, siguiendo el index):"
      ]
    },
    {
      "cell_type": "code",
      "metadata": {
        "id": "QVYrcfyTBhcc",
        "colab_type": "code",
        "colab": {}
      },
      "source": [
        "df.fillna(method='ffill',)"
      ],
      "execution_count": 0,
      "outputs": []
    },
    {
      "cell_type": "markdown",
      "metadata": {
        "id": "KtUz5njNBjVv",
        "colab_type": "text"
      },
      "source": [
        "```axis=1``` (por filas):"
      ]
    },
    {
      "cell_type": "code",
      "metadata": {
        "id": "fXk8JZpHCDGr",
        "colab_type": "code",
        "colab": {}
      },
      "source": [
        "# un nuevo elemento faltante en la fila c columnas C\n",
        "df.iat[2, 2] = np.NaN\n",
        "df"
      ],
      "execution_count": 0,
      "outputs": []
    },
    {
      "cell_type": "code",
      "metadata": {
        "id": "qiJaI1CCxnU0",
        "colab_type": "code",
        "colab": {}
      },
      "source": [
        "# rellenando de izq a der por filas\n",
        "df.fillna(method='ffill', axis=1)"
      ],
      "execution_count": 0,
      "outputs": []
    },
    {
      "cell_type": "markdown",
      "metadata": {
        "id": "ZQZk68YQBeNa",
        "colab_type": "text"
      },
      "source": [
        "Back Fill:"
      ]
    },
    {
      "cell_type": "markdown",
      "metadata": {
        "id": "aXncjc8ECcFK",
        "colab_type": "text"
      },
      "source": [
        "```axis=0``` por defecto (por columnas):"
      ]
    },
    {
      "cell_type": "code",
      "metadata": {
        "id": "-jsnbmSbxncu",
        "colab_type": "code",
        "colab": {}
      },
      "source": [
        "# rellena de abajo hacia arriba por columnas\n",
        "df.fillna(method='bfill')"
      ],
      "execution_count": 0,
      "outputs": []
    },
    {
      "cell_type": "markdown",
      "metadata": {
        "id": "Dal0eOCkCj5s",
        "colab_type": "text"
      },
      "source": [
        "```axis=1``` (por filas):"
      ]
    },
    {
      "cell_type": "code",
      "metadata": {
        "id": "XieYa65XCkYN",
        "colab_type": "code",
        "colab": {}
      },
      "source": [
        "# rellena de der a izq por filas\n",
        "df.fillna(method='bfill', axis=1)"
      ],
      "execution_count": 0,
      "outputs": []
    },
    {
      "cell_type": "markdown",
      "metadata": {
        "id": "7orBVhvQSHzT",
        "colab_type": "text"
      },
      "source": [
        "# Métodos Utilitarios\n",
        "\n",
        "* df.copy()\n",
        "* df.sort_values([ascending=True|False])\n",
        "* df.sort_index([ascending=True|False])"
      ]
    },
    {
      "cell_type": "markdown",
      "metadata": {
        "id": "aUdj9iOdjSsF",
        "colab_type": "text"
      },
      "source": [
        "## df.copy()\n",
        "\n",
        "Crea una copia profunda (por defecto) del objeto:"
      ]
    },
    {
      "cell_type": "code",
      "metadata": {
        "id": "_ylxot4wjMrA",
        "colab_type": "code",
        "colab": {}
      },
      "source": [
        "df = cali_housing.copy()\n",
        "df.head()"
      ],
      "execution_count": 0,
      "outputs": []
    },
    {
      "cell_type": "markdown",
      "metadata": {
        "id": "FEV5a_-5DEZg",
        "colab_type": "text"
      },
      "source": [
        "Ahora modificar ```df``` no afectará a ```cali_housing``` y viceversa."
      ]
    },
    {
      "cell_type": "markdown",
      "metadata": {
        "id": "5W8QRU4ajQCl",
        "colab_type": "text"
      },
      "source": [
        "## df.sort_values()\n",
        "\n",
        "Ordenar usando los valores en el Dataframe:"
      ]
    },
    {
      "cell_type": "code",
      "metadata": {
        "id": "I5dyrY1xjQLY",
        "colab_type": "code",
        "colab": {}
      },
      "source": [
        "df.sort_values(\"housing_median_age\")"
      ],
      "execution_count": 0,
      "outputs": []
    },
    {
      "cell_type": "markdown",
      "metadata": {
        "id": "-VLNFaxjC3F3",
        "colab_type": "text"
      },
      "source": [
        "Ordenar usando más de una columna:"
      ]
    },
    {
      "cell_type": "code",
      "metadata": {
        "id": "y0yV-eAvC3eo",
        "colab_type": "code",
        "colab": {}
      },
      "source": [
        "df.sort_values([\"housing_median_age\", \"households\"])"
      ],
      "execution_count": 0,
      "outputs": []
    },
    {
      "cell_type": "markdown",
      "metadata": {
        "id": "Zet4Wt7DjQaP",
        "colab_type": "text"
      },
      "source": [
        "## df.sort_index()\n",
        "\n",
        "Ordenar usando los índices del Dataframe/Series:"
      ]
    },
    {
      "cell_type": "code",
      "metadata": {
        "id": "E0eodMQRjQgb",
        "colab_type": "code",
        "colab": {}
      },
      "source": [
        "#una muestra aleatoria\n",
        "df = cali_housing.sample(5)\n",
        "df"
      ],
      "execution_count": 0,
      "outputs": []
    },
    {
      "cell_type": "code",
      "metadata": {
        "id": "z5hZDIeATSuy",
        "colab_type": "code",
        "colab": {}
      },
      "source": [
        "# ordenar por index\n",
        "df.sort_index()"
      ],
      "execution_count": 0,
      "outputs": []
    },
    {
      "cell_type": "markdown",
      "metadata": {
        "id": "zjvZYHkIDzR3",
        "colab_type": "text"
      },
      "source": [
        "Para un objeto Series:"
      ]
    },
    {
      "cell_type": "code",
      "metadata": {
        "id": "hml6pB_gD1xM",
        "colab_type": "code",
        "colab": {}
      },
      "source": [
        "s = cali_housing[\"total_rooms\"].sample(5)\n",
        "s"
      ],
      "execution_count": 0,
      "outputs": []
    },
    {
      "cell_type": "code",
      "metadata": {
        "id": "6dbg9193EBua",
        "colab_type": "code",
        "colab": {}
      },
      "source": [
        "s.sort_index()"
      ],
      "execution_count": 0,
      "outputs": []
    },
    {
      "cell_type": "markdown",
      "metadata": {
        "id": "WpFJKTtLSH6q",
        "colab_type": "text"
      },
      "source": [
        "# Métodos matemáticos\n",
        "\n",
        "[Operaciones binarias](https://pandas.pydata.org/docs/reference/frame.html#binary-operator-functions):\n",
        "\n",
        "* add(other), suma elemento por elemento un DataFrames/Series y other.\n",
        "* sub(other), resta elemento por elemento un DataFrames/Series y other.\n",
        "* mul(other), multiplicación elemento por elemento de un DataFrames/Series por other.\n",
        "* div(other), divide elemento por elemento un DataFrames/Series entre other.\n",
        "* mod(other), calcula el módulo de un DataFrame/Series usando other.\n",
        "* pow(other), calcula el exponente elemento por elemento de un DataFrame/Series elevado a la potencia de other.\n",
        "* dot(other), producto punto o de matrices entre dos Series/DataFrames respectivamente.\n",
        "\n",
        "_Las operaciones binarias pueden utilizar broadcasting, entonces pueden recibir escalares, Dataframes o Series._\n",
        "\n",
        "\n",
        "[Operaciones estadísticas](https://pandas.pydata.org/docs/reference/frame.html#computations-descriptive-stats):\n",
        "* abs(), valor absoluto de los elementos.\n",
        "* count(axis), cuenta el número de elementos no-nulos en las filas o columnas. \n",
        "* max(axis), retorna el valor máximo encontrado por filas o columnas.\n",
        "* min(axis), retorna el valor mínimo encontrado por filas o columnas.\n",
        "* mean(axis), retorna la media de los elementos por filas o columnas.\n",
        "* median(axis), retorna la mediana de los elementos de las filas o columnas.\n",
        "* sum(axis), retorna la suma de todos los elementos de las filas o columnas.\n",
        "* std(axis), retorna la desviación estándar de las filas o columnas.\n",
        "* var(axis),retorna la varianza de las filas o columnas."
      ]
    },
    {
      "cell_type": "markdown",
      "metadata": {
        "id": "GIymgx0GKjyI",
        "colab_type": "text"
      },
      "source": [
        "## Operaciones binarias"
      ]
    },
    {
      "cell_type": "code",
      "metadata": {
        "id": "t8jB4PTpLlwL",
        "colab_type": "code",
        "colab": {}
      },
      "source": [
        "#creamos un dataframe para ejemplificar las funciones\n",
        "df = pd.DataFrame({'angles': [0, 3, 4], 'degrees': [360, 180, 360]}, index=['circle', 'triangle', 'rectangle'])\n",
        "df"
      ],
      "execution_count": 0,
      "outputs": []
    },
    {
      "cell_type": "markdown",
      "metadata": {
        "id": "kYiT5W6xKsVt",
        "colab_type": "text"
      },
      "source": [
        "### add(), sub(), mul() y div()"
      ]
    },
    {
      "cell_type": "code",
      "metadata": {
        "id": "IEyrVIZ1hLEY",
        "colab_type": "code",
        "colab": {}
      },
      "source": [
        "df.add(1)"
      ],
      "execution_count": 0,
      "outputs": []
    },
    {
      "cell_type": "markdown",
      "metadata": {
        "id": "w0ALFEcSx5RJ",
        "colab_type": "text"
      },
      "source": [
        "o"
      ]
    },
    {
      "cell_type": "code",
      "metadata": {
        "id": "cONCG3nlxfaB",
        "colab_type": "code",
        "colab": {}
      },
      "source": [
        "df + 1"
      ],
      "execution_count": 0,
      "outputs": []
    },
    {
      "cell_type": "code",
      "metadata": {
        "id": "VdD5jMxxL9UO",
        "colab_type": "code",
        "colab": {}
      },
      "source": [
        "df.mul(2)"
      ],
      "execution_count": 0,
      "outputs": []
    },
    {
      "cell_type": "markdown",
      "metadata": {
        "id": "XrvVPJtkx7a7",
        "colab_type": "text"
      },
      "source": [
        "o"
      ]
    },
    {
      "cell_type": "code",
      "metadata": {
        "id": "J0T9xkxbx9Q2",
        "colab_type": "code",
        "colab": {}
      },
      "source": [
        "df * 2"
      ],
      "execution_count": 0,
      "outputs": []
    },
    {
      "cell_type": "code",
      "metadata": {
        "id": "uYU8Nj9HL-ys",
        "colab_type": "code",
        "colab": {}
      },
      "source": [
        "df.div(2)"
      ],
      "execution_count": 0,
      "outputs": []
    },
    {
      "cell_type": "markdown",
      "metadata": {
        "id": "8IC8hg-tx_x_",
        "colab_type": "text"
      },
      "source": [
        "o"
      ]
    },
    {
      "cell_type": "code",
      "metadata": {
        "id": "SnIJAbm2yAuh",
        "colab_type": "code",
        "colab": {}
      },
      "source": [
        "df / 2"
      ],
      "execution_count": 0,
      "outputs": []
    },
    {
      "cell_type": "markdown",
      "metadata": {
        "id": "X0eCoCPzKwTT",
        "colab_type": "text"
      },
      "source": [
        "### mod() y pow()"
      ]
    },
    {
      "cell_type": "code",
      "metadata": {
        "id": "N2LKPhushLmc",
        "colab_type": "code",
        "colab": {}
      },
      "source": [
        "df.mod(2)"
      ],
      "execution_count": 0,
      "outputs": []
    },
    {
      "cell_type": "markdown",
      "metadata": {
        "id": "gmHFy-Wiyii-",
        "colab_type": "text"
      },
      "source": [
        "o"
      ]
    },
    {
      "cell_type": "code",
      "metadata": {
        "id": "YGa471AJyjqk",
        "colab_type": "code",
        "colab": {}
      },
      "source": [
        "df % 2"
      ],
      "execution_count": 0,
      "outputs": []
    },
    {
      "cell_type": "code",
      "metadata": {
        "id": "ZtqiK_x9MP9z",
        "colab_type": "code",
        "colab": {}
      },
      "source": [
        "df.pow(3)"
      ],
      "execution_count": 0,
      "outputs": []
    },
    {
      "cell_type": "markdown",
      "metadata": {
        "id": "1z_r3MsVyndb",
        "colab_type": "text"
      },
      "source": [
        "o"
      ]
    },
    {
      "cell_type": "code",
      "metadata": {
        "id": "uCadw7BxynvV",
        "colab_type": "code",
        "colab": {}
      },
      "source": [
        "df ** 3"
      ],
      "execution_count": 0,
      "outputs": []
    },
    {
      "cell_type": "markdown",
      "metadata": {
        "id": "d9BNaw_GK01I",
        "colab_type": "text"
      },
      "source": [
        "### dot()"
      ]
    },
    {
      "cell_type": "code",
      "metadata": {
        "id": "7CjDky-LMcQN",
        "colab_type": "code",
        "colab": {}
      },
      "source": [
        "#un nuevo dataframe para ejemplificar dot\n",
        "df = pd.DataFrame([[0, 1, -2, -1], [1, 1, 1, 1]])\n",
        "df"
      ],
      "execution_count": 0,
      "outputs": []
    },
    {
      "cell_type": "code",
      "metadata": {
        "id": "GdKKQyURK08h",
        "colab_type": "code",
        "colab": {}
      },
      "source": [
        "#dot usando una serie\n",
        "s = pd.Series([1, 1, 2, 1])\n",
        "df.dot(s)"
      ],
      "execution_count": 0,
      "outputs": []
    },
    {
      "cell_type": "code",
      "metadata": {
        "id": "jLvzQjZOMuJR",
        "colab_type": "code",
        "colab": {}
      },
      "source": [
        "#dot de dos matrices\n",
        "other = pd.DataFrame([[0, 1], [1, 2], [-1, -1], [2, 0]])\n",
        "df.dot(other)"
      ],
      "execution_count": 0,
      "outputs": []
    },
    {
      "cell_type": "markdown",
      "metadata": {
        "id": "gW9WU9a4yCsT",
        "colab_type": "text"
      },
      "source": [
        "*Nota: Las operaciones binarias pueden aplicarse usando escalares, series u otros dataframes.*"
      ]
    },
    {
      "cell_type": "markdown",
      "metadata": {
        "id": "hN3IC4dlKnUI",
        "colab_type": "text"
      },
      "source": [
        "## Operaciones estadísticas"
      ]
    },
    {
      "cell_type": "markdown",
      "metadata": {
        "id": "giITZgImLK05",
        "colab_type": "text"
      },
      "source": [
        "### abs()"
      ]
    },
    {
      "cell_type": "code",
      "metadata": {
        "id": "qR_CH7C6jMFk",
        "colab_type": "code",
        "colab": {}
      },
      "source": [
        "#un df con valores negativos\n",
        "df = pd.DataFrame({'a': [4, -5, -6, 7], 'b': [-10, 20, 30, -40], 'c': [100, 50, -30, -50]})\n",
        "df"
      ],
      "execution_count": 0,
      "outputs": []
    },
    {
      "cell_type": "code",
      "metadata": {
        "id": "6Fvi1UeOmQZI",
        "colab_type": "code",
        "colab": {}
      },
      "source": [
        "df.abs()"
      ],
      "execution_count": 0,
      "outputs": []
    },
    {
      "cell_type": "markdown",
      "metadata": {
        "id": "1Qpx3o7tLO2L",
        "colab_type": "text"
      },
      "source": [
        "### count()"
      ]
    },
    {
      "cell_type": "code",
      "metadata": {
        "id": "TRQ1-i_MLO6R",
        "colab_type": "code",
        "colab": {}
      },
      "source": [
        "#un dataframe con valores no-nulos y nuelos\n",
        "df = pd.DataFrame({\"Person\":[\"John\", \"Myla\", \"Lewis\", \"John\", \"Myla\"],\n",
        "                    \"Age\": [24., np.nan, 21., 33, 26],\n",
        "                    \"Single\": [False, True, True, np.nan, np.nan]})\n",
        "df"
      ],
      "execution_count": 0,
      "outputs": []
    },
    {
      "cell_type": "markdown",
      "metadata": {
        "id": "bhRjhAwsoc3i",
        "colab_type": "text"
      },
      "source": [
        "Por columna (por defecto axis=0):"
      ]
    },
    {
      "cell_type": "code",
      "metadata": {
        "id": "b9UZfmFrmuxM",
        "colab_type": "code",
        "colab": {}
      },
      "source": [
        "df.count()"
      ],
      "execution_count": 0,
      "outputs": []
    },
    {
      "cell_type": "markdown",
      "metadata": {
        "id": "rm_XPyieodTa",
        "colab_type": "text"
      },
      "source": [
        "Por fila (axis=1)"
      ]
    },
    {
      "cell_type": "code",
      "metadata": {
        "id": "xIecQd5aodY3",
        "colab_type": "code",
        "colab": {}
      },
      "source": [
        "df.count(axis=1)"
      ],
      "execution_count": 0,
      "outputs": []
    },
    {
      "cell_type": "markdown",
      "metadata": {
        "id": "sYkKe0CeLQj9",
        "colab_type": "text"
      },
      "source": [
        "### max() y min()"
      ]
    },
    {
      "cell_type": "code",
      "metadata": {
        "id": "i8ASz2GHm0oN",
        "colab_type": "code",
        "colab": {}
      },
      "source": [
        "#creamos un dataframe para ejemplificar las funciones\n",
        "df = pd.DataFrame({'angles': [0, 3, 4], 'degrees': [360, 180, 360]}, index=['circle', 'triangle', 'rectangle'])\n",
        "df"
      ],
      "execution_count": 0,
      "outputs": []
    },
    {
      "cell_type": "markdown",
      "metadata": {
        "id": "bQavGGrFnH1l",
        "colab_type": "text"
      },
      "source": [
        "Por columna (por defecto ```axis=0```):"
      ]
    },
    {
      "cell_type": "code",
      "metadata": {
        "id": "voNH4Yf5csuy",
        "colab_type": "code",
        "colab": {}
      },
      "source": [
        "df.max(axis=0)"
      ],
      "execution_count": 0,
      "outputs": []
    },
    {
      "cell_type": "code",
      "metadata": {
        "id": "LtId7n9PnEyr",
        "colab_type": "code",
        "colab": {}
      },
      "source": [
        "# axis = 0 por defecto\n",
        "df.min()"
      ],
      "execution_count": 0,
      "outputs": []
    },
    {
      "cell_type": "markdown",
      "metadata": {
        "id": "e4JTvqUnnMr8",
        "colab_type": "text"
      },
      "source": [
        "Por filas (```axis=1```):"
      ]
    },
    {
      "cell_type": "code",
      "metadata": {
        "id": "6D5arL57nO43",
        "colab_type": "code",
        "colab": {}
      },
      "source": [
        "df.max(axis=1)"
      ],
      "execution_count": 0,
      "outputs": []
    },
    {
      "cell_type": "code",
      "metadata": {
        "id": "ZGo4traHnPTu",
        "colab_type": "code",
        "colab": {}
      },
      "source": [
        "df.min(axis=1)"
      ],
      "execution_count": 0,
      "outputs": []
    },
    {
      "cell_type": "markdown",
      "metadata": {
        "id": "rN6bfSoILUzq",
        "colab_type": "text"
      },
      "source": [
        "### mean() y median()"
      ]
    },
    {
      "cell_type": "markdown",
      "metadata": {
        "id": "2VYzRogro2FS",
        "colab_type": "text"
      },
      "source": [
        "Por columnas (por defecto axis=0)"
      ]
    },
    {
      "cell_type": "code",
      "metadata": {
        "id": "mzy5zOQ5o22-",
        "colab_type": "code",
        "colab": {}
      },
      "source": [
        "df.mean()"
      ],
      "execution_count": 0,
      "outputs": []
    },
    {
      "cell_type": "code",
      "metadata": {
        "id": "aVCiWZimpA01",
        "colab_type": "code",
        "colab": {}
      },
      "source": [
        "df.median()"
      ],
      "execution_count": 0,
      "outputs": []
    },
    {
      "cell_type": "markdown",
      "metadata": {
        "id": "zaBNhyVWo2-v",
        "colab_type": "text"
      },
      "source": [
        "Por filas (axis=1):"
      ]
    },
    {
      "cell_type": "code",
      "metadata": {
        "id": "KfQwjwIYLakL",
        "colab_type": "code",
        "colab": {}
      },
      "source": [
        "df.mean(axis=1)"
      ],
      "execution_count": 0,
      "outputs": []
    },
    {
      "cell_type": "code",
      "metadata": {
        "id": "2Hfdph4hpQ_c",
        "colab_type": "code",
        "colab": {}
      },
      "source": [
        "df.median(axis=1)"
      ],
      "execution_count": 0,
      "outputs": []
    },
    {
      "cell_type": "markdown",
      "metadata": {
        "id": "HPTgv9gBLaqN",
        "colab_type": "text"
      },
      "source": [
        "### sum()"
      ]
    },
    {
      "cell_type": "markdown",
      "metadata": {
        "id": "44usShNUpbb3",
        "colab_type": "text"
      },
      "source": [
        "Por columnas (por defecto axis=0):"
      ]
    },
    {
      "cell_type": "code",
      "metadata": {
        "id": "cGGOiXdwLawP",
        "colab_type": "code",
        "colab": {}
      },
      "source": [
        "df.sum()"
      ],
      "execution_count": 0,
      "outputs": []
    },
    {
      "cell_type": "markdown",
      "metadata": {
        "id": "8Wkp93t_pb75",
        "colab_type": "text"
      },
      "source": [
        "Por filas (axis=1):"
      ]
    },
    {
      "cell_type": "code",
      "metadata": {
        "id": "g_fIp2cXpcA-",
        "colab_type": "code",
        "colab": {}
      },
      "source": [
        "df.sum(axis=1)"
      ],
      "execution_count": 0,
      "outputs": []
    },
    {
      "cell_type": "markdown",
      "metadata": {
        "id": "Ep_iABKeLcN2",
        "colab_type": "text"
      },
      "source": [
        "### std() y var()"
      ]
    },
    {
      "cell_type": "markdown",
      "metadata": {
        "id": "cqDKnpRlpzD4",
        "colab_type": "text"
      },
      "source": [
        "Por columnas (por defecto axis=0):"
      ]
    },
    {
      "cell_type": "code",
      "metadata": {
        "id": "wvQx0krDLcUZ",
        "colab_type": "code",
        "colab": {}
      },
      "source": [
        "df.std()"
      ],
      "execution_count": 0,
      "outputs": []
    },
    {
      "cell_type": "code",
      "metadata": {
        "id": "ZMP8viIvp-54",
        "colab_type": "code",
        "colab": {}
      },
      "source": [
        "df.var()"
      ],
      "execution_count": 0,
      "outputs": []
    },
    {
      "cell_type": "markdown",
      "metadata": {
        "id": "wk7PNbHnpzoY",
        "colab_type": "text"
      },
      "source": [
        "Por filas (axis=1):"
      ]
    },
    {
      "cell_type": "code",
      "metadata": {
        "id": "ePFAQ62DpztQ",
        "colab_type": "code",
        "colab": {}
      },
      "source": [
        "df.std(axis=1)"
      ],
      "execution_count": 0,
      "outputs": []
    },
    {
      "cell_type": "code",
      "metadata": {
        "id": "0dzqX_njqDGZ",
        "colab_type": "code",
        "colab": {}
      },
      "source": [
        "df.var(axis=1)"
      ],
      "execution_count": 0,
      "outputs": []
    },
    {
      "cell_type": "markdown",
      "metadata": {
        "id": "Z4ZjI7Xzcr91",
        "colab_type": "text"
      },
      "source": [
        "# Aplicando funciones propias"
      ]
    },
    {
      "cell_type": "markdown",
      "metadata": {
        "id": "rLqL8hxHcvhp",
        "colab_type": "text"
      },
      "source": [
        "## apply()\n",
        "\n",
        "Recibe una función y la aplica a todas las filas o columnas según el axis indicado."
      ]
    },
    {
      "cell_type": "markdown",
      "metadata": {
        "id": "YOn9rei70eoL",
        "colab_type": "text"
      },
      "source": [
        "```axis=0``` aplica la función por columnas:"
      ]
    },
    {
      "cell_type": "code",
      "metadata": {
        "id": "ik_aP1hjT-PU",
        "colab_type": "code",
        "colab": {}
      },
      "source": [
        "f = lambda x: (x - x.mean())/x.var()\n",
        "\n",
        "#aplica la funcion a todas las columnas\n",
        "cali_housing.apply(f, axis=0)"
      ],
      "execution_count": 0,
      "outputs": []
    },
    {
      "cell_type": "markdown",
      "metadata": {
        "id": "r0nPxa8k0nJ7",
        "colab_type": "text"
      },
      "source": [
        "```axis = 1``` aplica la función por filas:"
      ]
    },
    {
      "cell_type": "code",
      "metadata": {
        "id": "YicJc0p2hGTw",
        "colab_type": "code",
        "colab": {}
      },
      "source": [
        "#aplica la funcion a todas las filas\n",
        "cali_housing.apply(f, axis=1)"
      ],
      "execution_count": 0,
      "outputs": []
    },
    {
      "cell_type": "markdown",
      "metadata": {
        "id": "874C05ZNcwDB",
        "colab_type": "text"
      },
      "source": [
        "## applymap()\n",
        "\n",
        "Aplica una función elemento por elemento al objeto de Pandas."
      ]
    },
    {
      "cell_type": "code",
      "metadata": {
        "id": "GOaAV64ncwKT",
        "colab_type": "code",
        "colab": {}
      },
      "source": [
        "f = lambda x: round(x)\n",
        "\n",
        "#aplica la funcion a todos los elementos\n",
        "cali_housing.applymap(f)"
      ],
      "execution_count": 0,
      "outputs": []
    },
    {
      "cell_type": "markdown",
      "metadata": {
        "id": "rH43oj20UmsY",
        "colab_type": "text"
      },
      "source": [
        "# Operaciones en columnas\n",
        "\n",
        "Puedes realizar operaciones directamente en las columnas de un DataFrame para obtener resultados como una Serie o para crear nuevas columnas.  Por ejemplo:\n",
        "\n",
        "* Relizar operaciones binarias entre columnas. (suma, resta, multiplicación, etc.).\n",
        "* Aplicar métodos estadísticos en las columnas. (sum(), mean(), var(), etc.).\n",
        "* Una mezcla de operaciones binarias y métodos."
      ]
    },
    {
      "cell_type": "code",
      "metadata": {
        "id": "O3KKVANJUrDx",
        "colab_type": "code",
        "colab": {}
      },
      "source": [
        "#creando un dataframe\n",
        "df = pd.DataFrame({\"A\":[1, 2, 3], \"B\":[2, 2, 2]})\n",
        "df"
      ],
      "execution_count": 0,
      "outputs": []
    },
    {
      "cell_type": "code",
      "metadata": {
        "id": "s5NCuK2LbE8y",
        "colab_type": "code",
        "colab": {}
      },
      "source": [
        "#operaciones entre columna regresan una serie\n",
        "df[\"A\"] * df[\"B\"]"
      ],
      "execution_count": 0,
      "outputs": []
    },
    {
      "cell_type": "code",
      "metadata": {
        "id": "LcpfXx-mb2-f",
        "colab_type": "code",
        "colab": {}
      },
      "source": [
        "#generar una nueva columna desde una operacion\n",
        "df[\"A^B\"] = df[\"A\"].pow(df[\"B\"])\n",
        "df "
      ],
      "execution_count": 0,
      "outputs": []
    },
    {
      "cell_type": "code",
      "metadata": {
        "id": "NR78G-lZcPEb",
        "colab_type": "code",
        "colab": {}
      },
      "source": [
        "#aplicar un metodo estadistico a una columna genera un valor\n",
        "df[\"A\"].sum()"
      ],
      "execution_count": 0,
      "outputs": []
    },
    {
      "cell_type": "code",
      "metadata": {
        "id": "I7L1MVTIcl99",
        "colab_type": "code",
        "colab": {}
      },
      "source": [
        "#generando una nueva columna con la suma de las filas\n",
        "df[\"suma\"] = df.sum(axis=1)\n",
        "df"
      ],
      "execution_count": 0,
      "outputs": []
    },
    {
      "cell_type": "markdown",
      "metadata": {
        "id": "kQX4ek7hVAuu",
        "colab_type": "text"
      },
      "source": [
        "# Funciones por grupos y agregación"
      ]
    },
    {
      "cell_type": "markdown",
      "metadata": {
        "id": "3kP0btfyqbvP",
        "colab_type": "text"
      },
      "source": [
        "## aggregate()/agg()\n",
        "\n",
        "La agregación de datos es una transformación que produce un valor escalar a partir de un arreglo, por ejemplo, las funciones/métodos \"sum\" y \"mean\". Los métodos aggregate() y su alias agg() permiten aplicar una o más funciones de agregación a los objetos de Pandas. \n",
        "\n",
        "Los parámetros principales son:\n",
        "\n",
        "\n",
        "\n",
        "```\n",
        "func : funcion, str, list o dict\n",
        "  La funcion o funciones utilizada spara la agregacion de los datos.\n",
        "\n",
        "  Las combinaciones aceptadas:\n",
        "\n",
        "  funcion\n",
        "  cadena con el nombre de la funcion\n",
        "  lista de funciones y/o nombre de las funciones (ej, [np.sum, 'mean'])\n",
        "  diccionario de etiquetas del axis que mapean a:\n",
        "  - las funciones.\n",
        "  - nombre de funciones.\n",
        "  - lista de funciones.\n",
        "\n",
        "axis : {0 or ‘index’, 1 or ‘columns’}, por defecto 0\n",
        "  Si axis=0 o ‘index’: aplica la funcion a cada columna.\n",
        "  Si axis=1 o ‘columns’: aplica la funcion a cada fila.\n",
        "```\n",
        "\n"
      ]
    },
    {
      "cell_type": "code",
      "metadata": {
        "id": "n7WDkeCDh9Ne",
        "colab_type": "code",
        "colab": {}
      },
      "source": [
        "df = pd.DataFrame([[1, 2, 3],\n",
        "                   [4, 5, 6],\n",
        "                   [7, 8, 9]],\n",
        "                  columns=['A', 'B', 'C'])\n",
        "df"
      ],
      "execution_count": 0,
      "outputs": []
    },
    {
      "cell_type": "markdown",
      "metadata": {
        "id": "UAmPy6H_kEV1",
        "colab_type": "text"
      },
      "source": [
        "Por columna (por defecto axis=0):"
      ]
    },
    {
      "cell_type": "code",
      "metadata": {
        "id": "F4qbT9ESeVG-",
        "colab_type": "code",
        "colab": {}
      },
      "source": [
        "#funcion de agregacion para calcular varios estadisticos a las columnas\n",
        "df.agg([\"min\", \"max\"])"
      ],
      "execution_count": 0,
      "outputs": []
    },
    {
      "cell_type": "markdown",
      "metadata": {
        "id": "0h2JljwtkIYQ",
        "colab_type": "text"
      },
      "source": [
        "Por filas (axis=1):"
      ]
    },
    {
      "cell_type": "code",
      "metadata": {
        "id": "uTuA399VkIcC",
        "colab_type": "code",
        "colab": {}
      },
      "source": [
        "#funcion de agregacion para calcular varios estadisticos a las filas\n",
        "df.agg([\"min\", \"max\"], axis=1)"
      ],
      "execution_count": 0,
      "outputs": []
    },
    {
      "cell_type": "markdown",
      "metadata": {
        "id": "3yyCfud-kTdn",
        "colab_type": "text"
      },
      "source": [
        "Usando un diccionario como parámetro:"
      ]
    },
    {
      "cell_type": "code",
      "metadata": {
        "id": "8qrOoj_7kUQs",
        "colab_type": "code",
        "colab": {}
      },
      "source": [
        "df.agg({\"A\": np.min, \"B\": np.max, \"C\": [np.mean, np.std]})"
      ],
      "execution_count": 0,
      "outputs": []
    },
    {
      "cell_type": "markdown",
      "metadata": {
        "id": "C7R7riKcVDt6",
        "colab_type": "text"
      },
      "source": [
        "## groupby()\n",
        "\n",
        "El método groupby() permite generar grupos de datos usando una o más columnas para aplicar funciones de transformación o de agregación. \n",
        "\n",
        "Groupby es útil para contestar preguntas tipo: ¿cuál es la media de altura en hombres y mujeres? o ¿cúal es estado con menor población para cada país?"
      ]
    },
    {
      "cell_type": "code",
      "metadata": {
        "id": "Ba0EwO9GVCsO",
        "colab_type": "code",
        "colab": {}
      },
      "source": [
        "df = pd.DataFrame({\"Sexo\": [\"M\", \"F\", \"F\", \"M\"], \"Altura\": [1.68, 1.55, 1.75, 1.82], \"Peso\": [70, 50, 68, 72]})\n",
        "df"
      ],
      "execution_count": 0,
      "outputs": []
    },
    {
      "cell_type": "code",
      "metadata": {
        "id": "4SjCIZ6Cm2RN",
        "colab_type": "code",
        "colab": {}
      },
      "source": [
        "#generar un dataframe argupado por una columna\n",
        "df.groupby(\"Sexo\")"
      ],
      "execution_count": 0,
      "outputs": []
    },
    {
      "cell_type": "markdown",
      "metadata": {
        "id": "Qkxna7JlnIbD",
        "colab_type": "text"
      },
      "source": [
        "groupby() por si solo no resulta en la salida esperada.\n",
        "\n",
        "Hay que aplicar una función:"
      ]
    },
    {
      "cell_type": "code",
      "metadata": {
        "id": "uw0pANH5nans",
        "colab_type": "code",
        "colab": {}
      },
      "source": [
        "#la media de las columnas\n",
        "df.groupby(\"Sexo\").mean()"
      ],
      "execution_count": 0,
      "outputs": []
    },
    {
      "cell_type": "code",
      "metadata": {
        "id": "jlBYy_eWnrm9",
        "colab_type": "code",
        "colab": {}
      },
      "source": [
        "#seleccionando una sola columna para la agregacion\n",
        "df.groupby(\"Sexo\")[\"Altura\"].mean()"
      ],
      "execution_count": 0,
      "outputs": []
    },
    {
      "cell_type": "markdown",
      "metadata": {
        "id": "j7H3MQN3hrSB",
        "colab_type": "text"
      },
      "source": [
        "**groupby() y agg()**\n",
        "\n",
        "Puedes mezclar groupby() con agg() para aplicar más de una función. "
      ]
    },
    {
      "cell_type": "code",
      "metadata": {
        "id": "9l3IAtYBhrv8",
        "colab_type": "code",
        "colab": {}
      },
      "source": [
        "df.groupby(\"Sexo\").agg([\"mean\", \"std\"])"
      ],
      "execution_count": 0,
      "outputs": []
    },
    {
      "cell_type": "markdown",
      "metadata": {
        "id": "WNskBq1do9g5",
        "colab_type": "text"
      },
      "source": [
        "**Agrupando con más de una columna**"
      ]
    },
    {
      "cell_type": "code",
      "metadata": {
        "id": "aqA4S2dPo97J",
        "colab_type": "code",
        "colab": {}
      },
      "source": [
        "#agregar una nueva columna al df\n",
        "df[\"Estado\"] = [\"Morelos\", \"DF\", \"DF\", \"DF\"]\n",
        "df"
      ],
      "execution_count": 0,
      "outputs": []
    },
    {
      "cell_type": "code",
      "metadata": {
        "id": "bA7HP3yLpY9N",
        "colab_type": "code",
        "colab": {}
      },
      "source": [
        "#usando mas de una clave para la agrupacion\n",
        "df.groupby([\"Sexo\", \"Estado\"]).agg(\"mean\")"
      ],
      "execution_count": 0,
      "outputs": []
    },
    {
      "cell_type": "markdown",
      "metadata": {
        "id": "tn76gw-kVIX5",
        "colab_type": "text"
      },
      "source": [
        "# Combinar Dataframes"
      ]
    },
    {
      "cell_type": "markdown",
      "metadata": {
        "id": "QTjnCTA0oKOZ",
        "colab_type": "text"
      },
      "source": [
        "## append()\n",
        "\n",
        "Concatena las filas de un DataFrame a otro usando las columnas que coinciden. Columnas que no coinciden son agregadas al DataFrame resultante."
      ]
    },
    {
      "cell_type": "code",
      "metadata": {
        "id": "H3iFTLk7VKbK",
        "colab_type": "code",
        "colab": {}
      },
      "source": [
        "df = pd.DataFrame([[1, 2], [3, 4]], columns=[\"A\", \"B\"])\n",
        "df"
      ],
      "execution_count": 0,
      "outputs": []
    },
    {
      "cell_type": "code",
      "metadata": {
        "id": "l6w99m9aqLaO",
        "colab_type": "code",
        "colab": {}
      },
      "source": [
        "df2 = df2 = pd.DataFrame([[5, 6], [7, 8]], columns=[\"A\", \"B\"])\n",
        "df2"
      ],
      "execution_count": 0,
      "outputs": []
    },
    {
      "cell_type": "code",
      "metadata": {
        "id": "37SLtmNhrfPi",
        "colab_type": "code",
        "colab": {}
      },
      "source": [
        "df.append(df2)"
      ],
      "execution_count": 0,
      "outputs": []
    },
    {
      "cell_type": "markdown",
      "metadata": {
        "id": "9exwc3KToKoF",
        "colab_type": "text"
      },
      "source": [
        "## merge() y join()\n",
        "\n",
        "Joins al estilo SQL.\n",
        "\n",
        "Si no conoces SQL visita este sitio para darte una idea de los tipos de joins disponibles: https://www.w3schools.com/sql/sql_join.asp\n",
        "\n",
        "![dofactory.com](https://www.dofactory.com/Images/sql-joins.png)"
      ]
    },
    {
      "cell_type": "markdown",
      "metadata": {
        "id": "p7okKBKWtsea",
        "colab_type": "text"
      },
      "source": [
        "**merge()**\n",
        "\n",
        "Parámetros principales:\n",
        "\n",
        "\n",
        "```\n",
        "right : DataFrame o  Series\n",
        "  Objeto con el que realizar merge()\n",
        "\n",
        "how:{‘left’, ‘right’, ‘outer’, ‘inner’}, Por defecto ‘inner’\n",
        "  Type of merge to be performed.\n",
        "\n",
        "  left: similar a un left outer join de SQL.\n",
        "  right: similar a un  right outer join SQL.\n",
        "  outer:  similar a un full outer join SQL.\n",
        "  inner: similar a un inner join de SQL.\n",
        "\n",
        "on : etiqueta o lista de etiquetas\n",
        "  Columnas o indices para unir. Deben estar en ambos DataFrames.\n",
        "\n",
        "left_on : etiqueta, lista de etiquetas\n",
        "  Columnas o indices para unir del DataFrame de la izquierda.\n",
        "\n",
        "right_on : etiqueta, lista de etiquetas\n",
        "  Columnas o indices para unir del DataFrame de la derecha.\n",
        "```\n"
      ]
    },
    {
      "cell_type": "code",
      "metadata": {
        "id": "2Du2Y5qHqOOK",
        "colab_type": "code",
        "colab": {}
      },
      "source": [
        "# df1 tiene un elemento unico u1 que df2 no tiene\n",
        "df1 = pd.DataFrame({'key': ['a', 'b', 'u1', 'a'], 'value': [1, 2, 3, 5]})\n",
        "df1"
      ],
      "execution_count": 0,
      "outputs": []
    },
    {
      "cell_type": "code",
      "metadata": {
        "id": "Cj-XgVtqtYA7",
        "colab_type": "code",
        "colab": {}
      },
      "source": [
        "# df2 tiene un elemento unico u2 que no df1 no tiene\n",
        "df2 = pd.DataFrame({'key': ['a', 'b', 'u2', 'a'], 'value': [5, 6, 7, 8]})\n",
        "df2"
      ],
      "execution_count": 0,
      "outputs": []
    },
    {
      "cell_type": "markdown",
      "metadata": {
        "id": "GCpWIW2A1iEV",
        "colab_type": "text"
      },
      "source": [
        "Inner\n",
        "\n",
        "Mantiene las llaves ```key``` que coinciden en ambos dataframes.\n",
        "\n",
        "\n",
        "| df1   || coincide en ```key``` de df2|\n",
        "|---||----|\n",
        "| (a, 1) || (a, 5) y (a, 8) |\n",
        "| (a, 5) || (a, 5) y (a, 8) |\n",
        "| (b, 2) || (b, 6) |"
      ]
    },
    {
      "cell_type": "code",
      "metadata": {
        "id": "nC1dlsPztc-I",
        "colab_type": "code",
        "colab": {}
      },
      "source": [
        "df1.merge(df2, how=\"inner\", on=\"key\")"
      ],
      "execution_count": 0,
      "outputs": []
    },
    {
      "cell_type": "markdown",
      "metadata": {
        "id": "5dJcT9MD1jVL",
        "colab_type": "text"
      },
      "source": [
        "Outer\n",
        "\n",
        "Mantiene las filas de ambos Dataframes, sin importar si existe o no existe un mapeo entre las llaves ```key```.\n",
        "\n",
        "| df1   || df2|\n",
        "|---||----|\n",
        "| (a, 1) || (a, 5) y (a, 8) |\n",
        "| (a, 5) || (a, 5) y (a, 8) |\n",
        "| (b, 2) || (b, 6) |\n",
        "| (u1, 3)|| NaN |\n",
        "| NaN || (u2, 7)|"
      ]
    },
    {
      "cell_type": "code",
      "metadata": {
        "id": "a4KVmbhp1lNu",
        "colab_type": "code",
        "colab": {}
      },
      "source": [
        "df1.merge(df2, how=\"outer\", on=\"key\")"
      ],
      "execution_count": 0,
      "outputs": []
    },
    {
      "cell_type": "markdown",
      "metadata": {
        "id": "UfMmCgEn1lfT",
        "colab_type": "text"
      },
      "source": [
        "Left\n",
        "\n",
        "Mantiene todas las filas del Dataframe de la izquierda y en las que existe un match en ```key``` en el Dataframe de la derecha.\n",
        "\n",
        "| df1 (left)   || df2 (right)|\n",
        "|---||----|\n",
        "| (a, 1) || (a, 5) y (a, 8) |\n",
        "| (a, 5) || (a, 5) y (a, 8) |\n",
        "| (b, 2) || (b, 6) |\n",
        "| (u1, 3)|| NaN |"
      ]
    },
    {
      "cell_type": "code",
      "metadata": {
        "id": "8yl-C27B1lzo",
        "colab_type": "code",
        "colab": {}
      },
      "source": [
        "df1.merge(df2, how=\"left\", on=\"key\")"
      ],
      "execution_count": 0,
      "outputs": []
    },
    {
      "cell_type": "markdown",
      "metadata": {
        "id": "pWfriTKA1mJG",
        "colab_type": "text"
      },
      "source": [
        "Right\n",
        "\n",
        "Mantiene todas las filas del Dataframe de la derecha y en las que existe un match en ```key``` en el Dataframe de la izquierda.\n",
        "\n",
        "| df1 (left)   || df2 (right)|\n",
        "|---||----|\n",
        "| (a, 1) || (a, 5) y (a, 8) |\n",
        "| (a, 5) || (a, 5) y (a, 8) |\n",
        "| (b, 2) || (b, 6) |\n",
        "| NaN || (u2, 7) |"
      ]
    },
    {
      "cell_type": "code",
      "metadata": {
        "id": "I1bNQtDH1mgL",
        "colab_type": "code",
        "colab": {}
      },
      "source": [
        "df1.merge(df2, how=\"right\", on=\"key\")"
      ],
      "execution_count": 0,
      "outputs": []
    },
    {
      "cell_type": "markdown",
      "metadata": {
        "id": "RcwPQghivj8S",
        "colab_type": "text"
      },
      "source": [
        "**join()**\n",
        "\n",
        "Permite unir las columnas de uno o más objetos usando su índice o usando una columna como clave.\n",
        "\n",
        "\n",
        "Parámetros:\n",
        "```\n",
        "other : DataFrame, Series, o lista de DataFrames\n",
        "\n",
        "on : str o lista de str, opcional (por defecto usa los indices)\n",
        "\n",
        "how:{‘left’, ‘right’, ‘outer’, ‘inner’}, Por defecto ‘inner’\n",
        "  Type of merge to be performed.\n",
        "\n",
        "  left: usar el indice del DataFrame que llama al metodo.\n",
        "  right: usar el indice de other.\n",
        "  outer:  union de los indices.\n",
        "  inner: interseccion de los indices.\n",
        "\n",
        "lsuffix : str, por defecto ‘’\n",
        "  sufijo a utilizar del dataframe izq para la columnas sobrelapadas.\n",
        "\n",
        "rsuffix : str, default ‘’\n",
        "  sufijo a utilizar del dataframe der para la columnas sobrelapadas.\n",
        "```\n",
        "\n"
      ]
    },
    {
      "cell_type": "code",
      "metadata": {
        "id": "OPJ0nnz0w_Sk",
        "colab_type": "code",
        "colab": {}
      },
      "source": [
        "df1 = pd.DataFrame({'key': ['foo', 'bar', 'baz', 'foo'], 'value': [1, 2, 3, 5]}).set_index(\"key\")\n",
        "df1"
      ],
      "execution_count": 0,
      "outputs": []
    },
    {
      "cell_type": "code",
      "metadata": {
        "id": "s1NKoBucw_b2",
        "colab_type": "code",
        "colab": {}
      },
      "source": [
        "df2 = pd.DataFrame({'key': ['foo', 'bar', 'baz', 'foo'], 'value': [5, 6, 7, 8]}).set_index(\"key\")\n",
        "df2"
      ],
      "execution_count": 0,
      "outputs": []
    },
    {
      "cell_type": "code",
      "metadata": {
        "id": "XxGont_ExMFH",
        "colab_type": "code",
        "colab": {}
      },
      "source": [
        "df1.join(df2, lsuffix=\"_l\", rsuffix=\"_r\")"
      ],
      "execution_count": 0,
      "outputs": []
    },
    {
      "cell_type": "markdown",
      "metadata": {
        "id": "_L-No5v8Vm2a",
        "colab_type": "text"
      },
      "source": [
        "# Cadenas\n",
        "\n",
        "Muchas de los métodos/funciones de Python para variables string, tienen un método equivalente en los objetos Series y DataFrames de Pandas.\n",
        "\n",
        "Métodos principales para cadenas:\n",
        "\n",
        "* str.cat(other, sep), concatenta sep y other a cada str en el objeto.\n",
        "* str.split(str), divide la cadena usando el separador especificado.\n",
        "* str.replace(patt, repl), reemplaza en la cadena patt por repl.\n",
        "* str.lower() y str.upper(), para convertir cadenas a minúsculas o mayúsculas.\n",
        "* str.len(), calcula la longitud de la cadena.\n",
        "* str.count(str), cuenta el número de apariciones de str en la cadena.\n",
        "* str.strip(str), elimina str al inicio y final de la cadena.\n",
        "\n",
        "Visita la documentación para la lista completa de [métodos para cadenas de texto de Pandas](https://pandas.pydata.org/pandas-docs/stable/user_guide/text.html#method-summary).\n"
      ]
    },
    {
      "cell_type": "code",
      "metadata": {
        "id": "x6OD5UjjVRgL",
        "colab_type": "code",
        "colab": {}
      },
      "source": [
        "s1 = pd.Series([\"A\", \"B\", \"C\"])\n",
        "s1"
      ],
      "execution_count": 0,
      "outputs": []
    },
    {
      "cell_type": "code",
      "metadata": {
        "id": "MxstMIglhypx",
        "colab_type": "code",
        "colab": {}
      },
      "source": [
        "s2 = pd.Series([\"1\", \"2\", \"3\"])\n",
        "s2"
      ],
      "execution_count": 0,
      "outputs": []
    },
    {
      "cell_type": "code",
      "metadata": {
        "id": "x9F2lAoyg765",
        "colab_type": "code",
        "colab": {}
      },
      "source": [
        "#concatenando s1 y s2 generando s3\n",
        "s3 = s1.str.cat(s2, sep=\"-\")\n",
        "s3"
      ],
      "execution_count": 0,
      "outputs": []
    },
    {
      "cell_type": "code",
      "metadata": {
        "id": "BHPmiTLFiG4a",
        "colab_type": "code",
        "colab": {}
      },
      "source": [
        "#str split\n",
        "s3.str.split(\"-\")"
      ],
      "execution_count": 0,
      "outputs": []
    },
    {
      "cell_type": "code",
      "metadata": {
        "id": "p5UZmIieiOYh",
        "colab_type": "code",
        "colab": {}
      },
      "source": [
        "#str.replace\n",
        "s3.str.replace(pat=\"-\", repl=\"_\")"
      ],
      "execution_count": 0,
      "outputs": []
    },
    {
      "cell_type": "code",
      "metadata": {
        "id": "EA3DyWgOiAen",
        "colab_type": "code",
        "colab": {}
      },
      "source": [
        "#un nuevo df\n",
        "s = pd.Series([\"gato\", \"perro\", \"elefante\"])"
      ],
      "execution_count": 0,
      "outputs": []
    },
    {
      "cell_type": "code",
      "metadata": {
        "id": "DwtQJJwriluM",
        "colab_type": "code",
        "colab": {}
      },
      "source": [
        "#upper\n",
        "s.str.upper()"
      ],
      "execution_count": 0,
      "outputs": []
    },
    {
      "cell_type": "code",
      "metadata": {
        "id": "ISoIjll3ir8W",
        "colab_type": "code",
        "colab": {}
      },
      "source": [
        "#len\n",
        "s.str.len()"
      ],
      "execution_count": 0,
      "outputs": []
    },
    {
      "cell_type": "code",
      "metadata": {
        "id": "1axpUP6vivRY",
        "colab_type": "code",
        "colab": {}
      },
      "source": [
        "#count\n",
        "s.str.count(\"o\")"
      ],
      "execution_count": 0,
      "outputs": []
    },
    {
      "cell_type": "code",
      "metadata": {
        "id": "4AfZk9Pyi42j",
        "colab_type": "code",
        "colab": {}
      },
      "source": [
        "#un nuevo df\n",
        "s4 = pd.Series([\"_A_\", \"_B_\", \"_C_\", \"_D_\"])\n",
        "s4"
      ],
      "execution_count": 0,
      "outputs": []
    },
    {
      "cell_type": "code",
      "metadata": {
        "id": "xGUWuWAkjJGM",
        "colab_type": "code",
        "colab": {}
      },
      "source": [
        "s4.str.strip(\"_\")"
      ],
      "execution_count": 0,
      "outputs": []
    },
    {
      "cell_type": "markdown",
      "metadata": {
        "id": "k3f__tkwckYx",
        "colab_type": "text"
      },
      "source": [
        "# Series de tiempo\n",
        "\n",
        "Pandas utiliza el tipo de dato \"Timestamp\" para el manejo de fechas y tiempo."
      ]
    },
    {
      "cell_type": "markdown",
      "metadata": {
        "id": "f8dQbtFPg0RI",
        "colab_type": "text"
      },
      "source": [
        "## String a Timestamp"
      ]
    },
    {
      "cell_type": "code",
      "metadata": {
        "id": "00MB65mOckiQ",
        "colab_type": "code",
        "colab": {}
      },
      "source": [
        "ts_index = pd.to_datetime([\"10/09/2006\", \"11/09/2006\", \"12/09/2006\"])\n",
        "ts_index"
      ],
      "execution_count": 0,
      "outputs": []
    },
    {
      "cell_type": "markdown",
      "metadata": {
        "id": "OAwU2ETlg7Aq",
        "colab_type": "text"
      },
      "source": [
        "Creando una serie de tiempo desde objetos:"
      ]
    },
    {
      "cell_type": "code",
      "metadata": {
        "id": "oXrkDmylg7KB",
        "colab_type": "code",
        "colab": {}
      },
      "source": [
        "ts = pd.Series([\"5\", \"10\", \"15\"], index=ts_index)\n",
        "ts"
      ],
      "execution_count": 0,
      "outputs": []
    },
    {
      "cell_type": "markdown",
      "metadata": {
        "id": "tc8pIQAMmods",
        "colab_type": "text"
      },
      "source": [
        "Creando una serie de tiempo usando aleatoriamente usando Numpy y date_range de Pandas:"
      ]
    },
    {
      "cell_type": "code",
      "metadata": {
        "id": "I-g0NLy4moi6",
        "colab_type": "code",
        "colab": {}
      },
      "source": [
        "ts = pd.Series(np.random.normal(0, 1, 100), index=pd.date_range(start=\"2006-01-01\", periods=100, freq=\"D\"))\n",
        "ts.head(10)"
      ],
      "execution_count": 0,
      "outputs": []
    },
    {
      "cell_type": "markdown",
      "metadata": {
        "id": "oRuwhTMRmdNM",
        "colab_type": "text"
      },
      "source": [
        "## Indexing\n",
        "\n",
        "Puedes utilizar fechas para indexar una serie de tiempo:"
      ]
    },
    {
      "cell_type": "code",
      "metadata": {
        "id": "wGH6izcRl4q_",
        "colab_type": "code",
        "colab": {}
      },
      "source": [
        "#usando el anio y mes como indice\n",
        "ts[\"2006-02\"]"
      ],
      "execution_count": 0,
      "outputs": []
    },
    {
      "cell_type": "code",
      "metadata": {
        "id": "3Ap7AU9bunh_",
        "colab_type": "code",
        "colab": {}
      },
      "source": [
        "#una rebanada entre fechas\n",
        "ts[\"2006-02-20\": \"2006-03-10\"]"
      ],
      "execution_count": 0,
      "outputs": []
    },
    {
      "cell_type": "markdown",
      "metadata": {
        "id": "OhcR1uS6n2py",
        "colab_type": "text"
      },
      "source": [
        "## Resampling / agregación\n",
        "\n",
        "Permite obtener desde una serie de tiempo una nueva serie de tiempo a una frecuencia de tiempo menor al agregar los datos."
      ]
    },
    {
      "cell_type": "code",
      "metadata": {
        "id": "jwU6jpz0n41e",
        "colab_type": "code",
        "colab": {}
      },
      "source": [
        "#De frecuencia por dias a semanas\n",
        "ts.resample(\"W\").mean()"
      ],
      "execution_count": 0,
      "outputs": []
    },
    {
      "cell_type": "markdown",
      "metadata": {
        "id": "-xUm9dhkn5RX",
        "colab_type": "text"
      },
      "source": [
        "## Ventanas\n",
        "\n",
        "Puedes aplicar ventanas deslizantes a series de tiempo para calcular distintos estadísticos."
      ]
    },
    {
      "cell_type": "code",
      "metadata": {
        "id": "DCVmpAFTn5e6",
        "colab_type": "code",
        "colab": {}
      },
      "source": [
        "ts.rolling(window=7).mean().head(14)"
      ],
      "execution_count": 0,
      "outputs": []
    }
  ]
}