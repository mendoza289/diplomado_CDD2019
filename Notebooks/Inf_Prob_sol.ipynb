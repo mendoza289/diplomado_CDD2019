{
 "cells": [
  {
   "cell_type": "code",
   "execution_count": 112,
   "metadata": {},
   "outputs": [],
   "source": [
    "import numpy as np\n",
    "from collections import defaultdict\n",
    "import pandas as pd\n",
    "import itertools"
   ]
  },
  {
   "cell_type": "code",
   "execution_count": 208,
   "metadata": {},
   "outputs": [
    {
     "name": "stdout",
     "output_type": "stream",
     "text": [
      "p(X=r) = 0.4; p(X=a) = 0.6\n"
     ]
    },
    {
     "data": {
      "text/html": [
       "<div>\n",
       "<style scoped>\n",
       "    .dataframe tbody tr th:only-of-type {\n",
       "        vertical-align: middle;\n",
       "    }\n",
       "\n",
       "    .dataframe tbody tr th {\n",
       "        vertical-align: top;\n",
       "    }\n",
       "\n",
       "    .dataframe thead th {\n",
       "        text-align: right;\n",
       "    }\n",
       "</style>\n",
       "<table border=\"1\" class=\"dataframe\">\n",
       "  <thead>\n",
       "    <tr style=\"text-align: right;\">\n",
       "      <th>P(X)</th>\n",
       "      <th>p</th>\n",
       "    </tr>\n",
       "    <tr>\n",
       "      <th>X</th>\n",
       "      <th></th>\n",
       "    </tr>\n",
       "  </thead>\n",
       "  <tbody>\n",
       "    <tr>\n",
       "      <td>r</td>\n",
       "      <td>0.4</td>\n",
       "    </tr>\n",
       "    <tr>\n",
       "      <td>a</td>\n",
       "      <td>0.6</td>\n",
       "    </tr>\n",
       "  </tbody>\n",
       "</table>\n",
       "</div>"
      ],
      "text/plain": [
       "P(X)    p\n",
       "X        \n",
       "r     0.4\n",
       "a     0.6"
      ]
     },
     "execution_count": 208,
     "metadata": {},
     "output_type": "execute_result"
    }
   ],
   "source": [
    "#PX={'r':4/10, 'a':6/10}. los datos:\n",
    "#PX={'r':4/10, 'a':6/10}. los datos:\n",
    "data={'p':[4/10,6/10]}\n",
    "\n",
    "#construimos el DF\n",
    "PX=pd.DataFrame(data,index=['r','a'])\n",
    "\n",
    "#Cambiamos el titulo del indice\n",
    "PX.index.names = ['X']\n",
    "PX.columns.names = ['P(X)']\n",
    "\n",
    "print('p(X=r) = {0}; p(X=a) = {1}'.format(PX['p']['r'],PX['p']['a']))\n",
    "PX"
   ]
  },
  {
   "cell_type": "markdown",
   "metadata": {},
   "source": [
    "### Ejercicios I.3"
   ]
  },
  {
   "cell_type": "markdown",
   "metadata": {},
   "source": [
    "Aplicando las ecuaciones (6), (7) y (9) responde a las siguientes preguntas para nuestro ejemplo de Manzanas y Duraznos:\n",
    "\n",
    "<ol>\n",
    "    <li>¿Cuál es la probabilidad de elegir una Manzana?</li>\n",
    "    <li>¿Dado que elegimos un Durazno, qué probablidad hay de que haya provenido de la caja azúl?</li>\n",
    "</ol>"
   ]
  },
  {
   "cell_type": "markdown",
   "metadata": {},
   "source": [
    "&#9998; Calcula $P(Y|X)$ (PY_X). ¿Qué representa esta distribución para nuestro ejemplo?"
   ]
  },
  {
   "cell_type": "code",
   "execution_count": 207,
   "metadata": {},
   "outputs": [
    {
     "name": "stdout",
     "output_type": "stream",
     "text": [
      "{'m': [0.25, 0.75], 'd': [0.75, 0.25]}\n",
      "p(Y=m|X=r) = 0.25; p(Y=m|X=a) = 0.75\n"
     ]
    },
    {
     "data": {
      "text/html": [
       "<div>\n",
       "<style scoped>\n",
       "    .dataframe tbody tr th:only-of-type {\n",
       "        vertical-align: middle;\n",
       "    }\n",
       "\n",
       "    .dataframe tbody tr th {\n",
       "        vertical-align: top;\n",
       "    }\n",
       "\n",
       "    .dataframe thead th {\n",
       "        text-align: right;\n",
       "    }\n",
       "</style>\n",
       "<table border=\"1\" class=\"dataframe\">\n",
       "  <thead>\n",
       "    <tr style=\"text-align: right;\">\n",
       "      <th>P(Y|X)</th>\n",
       "      <th>m</th>\n",
       "      <th>d</th>\n",
       "    </tr>\n",
       "    <tr>\n",
       "      <th>X</th>\n",
       "      <th></th>\n",
       "      <th></th>\n",
       "    </tr>\n",
       "  </thead>\n",
       "  <tbody>\n",
       "    <tr>\n",
       "      <td>r</td>\n",
       "      <td>0.25</td>\n",
       "      <td>0.75</td>\n",
       "    </tr>\n",
       "    <tr>\n",
       "      <td>a</td>\n",
       "      <td>0.75</td>\n",
       "      <td>0.25</td>\n",
       "    </tr>\n",
       "  </tbody>\n",
       "</table>\n",
       "</div>"
      ],
      "text/plain": [
       "P(Y|X)     m     d\n",
       "X                 \n",
       "r       0.25  0.75\n",
       "a       0.75  0.25"
      ]
     },
     "execution_count": 207,
     "metadata": {},
     "output_type": "execute_result"
    }
   ],
   "source": [
    "#Representa la probabilidad de elegir una fruta dado que se ha elegido una caja\n",
    "#Tenemos:\n",
    "#pm_r: la proporción de mazanas en la caja roja\n",
    "pm_r=1/4\n",
    "pd_r=1-pm_r\n",
    "#pm_a: la proporción de mazanas en la caja azúl\n",
    "pm_a=3/4\n",
    "pd_a=1-pm_a\n",
    "\n",
    "data={}\n",
    "for x,p in zip(['m','d'],[[pm_r,pm_a],[pd_r,pd_a]]):\n",
    "    data[x]=p\n",
    "print(data)\n",
    "\n",
    "#construimos el DF\n",
    "PY_X=pd.DataFrame(data,index=['r','a'])\n",
    "PY_X.index.names = ['X']\n",
    "PY_X.columns.names = ['P(Y|X)']\n",
    "\n",
    "print('p(Y=m|X=r) = {0}; p(Y=m|X=a) = {1}'.format(PY_X['m']['r'],PY_X['m']['a']))\n",
    "PY_X"
   ]
  },
  {
   "cell_type": "markdown",
   "metadata": {},
   "source": [
    "&#9998; ¿Cómo se representa la distribución de la pregunta 1? Calcúlala"
   ]
  },
  {
   "cell_type": "code",
   "execution_count": 211,
   "metadata": {},
   "outputs": [
    {
     "name": "stdout",
     "output_type": "stream",
     "text": [
      "p(Y=m) = 0.55; p(Y=d) = 0.45\n"
     ]
    },
    {
     "data": {
      "text/html": [
       "<div>\n",
       "<style scoped>\n",
       "    .dataframe tbody tr th:only-of-type {\n",
       "        vertical-align: middle;\n",
       "    }\n",
       "\n",
       "    .dataframe tbody tr th {\n",
       "        vertical-align: top;\n",
       "    }\n",
       "\n",
       "    .dataframe thead th {\n",
       "        text-align: right;\n",
       "    }\n",
       "</style>\n",
       "<table border=\"1\" class=\"dataframe\">\n",
       "  <thead>\n",
       "    <tr style=\"text-align: right;\">\n",
       "      <th>P(Y)</th>\n",
       "      <th>p</th>\n",
       "    </tr>\n",
       "    <tr>\n",
       "      <th>Y</th>\n",
       "      <th></th>\n",
       "    </tr>\n",
       "  </thead>\n",
       "  <tbody>\n",
       "    <tr>\n",
       "      <td>m</td>\n",
       "      <td>0.55</td>\n",
       "    </tr>\n",
       "    <tr>\n",
       "      <td>d</td>\n",
       "      <td>0.45</td>\n",
       "    </tr>\n",
       "  </tbody>\n",
       "</table>\n",
       "</div>"
      ],
      "text/plain": [
       "P(Y)     p\n",
       "Y         \n",
       "m     0.55\n",
       "d     0.45"
      ]
     },
     "execution_count": 211,
     "metadata": {},
     "output_type": "execute_result"
    }
   ],
   "source": [
    "#P(Y=m). Es la probabilidad marginal de Y=m\n",
    "#p(Y=m)=\\sum_{X} P(X,Y=m) = \\sum_{X}P(Y=m|X)P(X) = P(Y=m|X=r)P(X=r)+P(Y=m|X=a)\n",
    "p_m=round(PY_X['m']['r']*PX['p']['r']+PY_X['m']['a']*PX['p']['a'],3)\n",
    "p_d=round(1-p_m,3)\n",
    "\n",
    "data={'p':[p_m,p_d]}\n",
    "\n",
    "#construimos el DF\n",
    "PY=pd.DataFrame(data,index=['m','d'])\n",
    "\n",
    "#Cambiamos el titulo del indice\n",
    "PY.index.names = ['Y']\n",
    "PY.columns.names = ['P(Y)']\n",
    "\n",
    "print('p(Y=m) = {0}; p(Y=d) = {1}'.format(PY['p']['m'],PY['p']['d']))\n",
    "PY"
   ]
  },
  {
   "cell_type": "markdown",
   "metadata": {},
   "source": [
    "&#9998; ¿Cómo se representa la distribución de la pregunta 2? Calcúlala"
   ]
  },
  {
   "cell_type": "code",
   "execution_count": 217,
   "metadata": {},
   "outputs": [
    {
     "name": "stdout",
     "output_type": "stream",
     "text": [
      "{'r': [0.182, 0.667], 'a': [0.818, 0.333]}\n",
      "p(X=r|Y=m) = 0.182; p(X=a|Y=m) = 0.818\n"
     ]
    },
    {
     "data": {
      "text/html": [
       "<div>\n",
       "<style scoped>\n",
       "    .dataframe tbody tr th:only-of-type {\n",
       "        vertical-align: middle;\n",
       "    }\n",
       "\n",
       "    .dataframe tbody tr th {\n",
       "        vertical-align: top;\n",
       "    }\n",
       "\n",
       "    .dataframe thead th {\n",
       "        text-align: right;\n",
       "    }\n",
       "</style>\n",
       "<table border=\"1\" class=\"dataframe\">\n",
       "  <thead>\n",
       "    <tr style=\"text-align: right;\">\n",
       "      <th>P(X|Y)</th>\n",
       "      <th>r</th>\n",
       "      <th>a</th>\n",
       "    </tr>\n",
       "    <tr>\n",
       "      <th>Y</th>\n",
       "      <th></th>\n",
       "      <th></th>\n",
       "    </tr>\n",
       "  </thead>\n",
       "  <tbody>\n",
       "    <tr>\n",
       "      <td>m</td>\n",
       "      <td>0.182</td>\n",
       "      <td>0.818</td>\n",
       "    </tr>\n",
       "    <tr>\n",
       "      <td>d</td>\n",
       "      <td>0.667</td>\n",
       "      <td>0.333</td>\n",
       "    </tr>\n",
       "  </tbody>\n",
       "</table>\n",
       "</div>"
      ],
      "text/plain": [
       "P(X|Y)      r      a\n",
       "Y                   \n",
       "m       0.182  0.818\n",
       "d       0.667  0.333"
      ]
     },
     "execution_count": 217,
     "metadata": {},
     "output_type": "execute_result"
    }
   ],
   "source": [
    "#P(X=a|Y=d) = P(Y=d|X=a)P(X=a) / P(Y=d)\n",
    "pa_d=round(PY_X['d']['a']*PX['p']['a']/PY['p']['d'],3)\n",
    "pr_d=round(1-pa_d,3)\n",
    "pr_m=round(PY_X['m']['r']*PX['p']['r']/PY['p']['m'],3)\n",
    "pa_m=round(1-pr_m,3)\n",
    "\n",
    "data={}\n",
    "for x,p in zip(['r','a'],[[pr_m,pr_d],[pa_m,pa_d]]):\n",
    "    data[x]=p\n",
    "print(data)\n",
    "\n",
    "#construimos el DF\n",
    "PX_Y=pd.DataFrame(data,index=['m','d'])\n",
    "PX_Y.index.names = ['Y']\n",
    "PX_Y.columns.names = ['P(X|Y)']\n",
    "\n",
    "print('p(X=r|Y=m) = {0}; p(X=a|Y=m) = {1}'.format(PX_Y['r']['m'],PX_Y['a']['m']))\n",
    "PX_Y"
   ]
  },
  {
   "cell_type": "code",
   "execution_count": null,
   "metadata": {},
   "outputs": [],
   "source": []
  }
 ],
 "metadata": {
  "kernelspec": {
   "display_name": "Python 3",
   "language": "python",
   "name": "python3"
  },
  "language_info": {
   "codemirror_mode": {
    "name": "ipython",
    "version": 3
   },
   "file_extension": ".py",
   "mimetype": "text/x-python",
   "name": "python",
   "nbconvert_exporter": "python",
   "pygments_lexer": "ipython3",
   "version": "3.7.4"
  }
 },
 "nbformat": 4,
 "nbformat_minor": 4
}
