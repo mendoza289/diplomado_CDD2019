{
 "cells": [
  {
   "cell_type": "markdown",
   "metadata": {},
   "source": [
    "<a href=\"https://colab.research.google.com/github/jhermosillo/diplomado_CDD2019/blob/modulo4/Notebooks/Funciones%20Discriminantes.ipynb\" target=\"_parent\"><img src=\"https://colab.research.google.com/assets/colab-badge.svg\" alt=\"Open In Colab\"/></a>"
   ]
  },
  {
   "cell_type": "markdown",
   "metadata": {},
   "source": [
    "<h1 style=\"font-size:50px;\" align=\"left\"> <img align=\"left\" width=\"350\" src=\"../img/classification-in-machine-learning.jpg\"/> <br>Modelos <br>Lineales de Clasificación</h1>"
   ]
  },
  {
   "cell_type": "markdown",
   "metadata": {},
   "source": [
    "___"
   ]
  },
  {
   "cell_type": "markdown",
   "metadata": {},
   "source": [
    "<style>\n",
    "table, td, th {  \n",
    "  border: 1px solid #ddd;\n",
    "  text-align: left;\n",
    "}\n",
    "|  <img src=\"../img/data_science.jpg\" width=\"300\"/> |   <font color='midnightblue'>Diplomado en <br> Ciencia de Datos <br> con Python</font>|\n",
    "|:-:|:-|\n"
   ]
  },
  {
   "cell_type": "markdown",
   "metadata": {},
   "source": [
    "&#128214; <u>Referencias bibliográficas</u>:\n",
    "* Bishop, Christopher M. (2006). Pattern recognition and machine learning. New York. Springer.\n",
    "* Flach, Peter (2012). Machine Learning: The Art and Science of Algorithms that Make Sense of Data. Cambridge University Press."
   ]
  },
  {
   "cell_type": "markdown",
   "metadata": {},
   "source": [
    "## &#9991; <u> Introducción a la tarea de clasificación</u>"
   ]
  },
  {
   "cell_type": "markdown",
   "metadata": {},
   "source": [
    "* Supongamos que tenemos un vector de datos de entrada $\\textrm{x}$ de dimensión $D$: $\\textrm{x}:=\\{x_1,\\ldots,x_D\\}$ ($\\textrm{x}\\in\\mathbb{R}^D$), junto con una variable objetivo correspondiente $\\textrm{t}$."
   ]
  },
  {
   "cell_type": "markdown",
   "metadata": {},
   "source": [
    "&#9758; Un clasificador separa los datos de entrada en **regiones de decisión** cuyos límites llamamos **Fronteras (o superficies) de Decisión** (FD).\n",
    "\n",
    "* Las fronteras lineales son funciones lineales del vector de entrada, por lo que están definidas en **hyperplanos** de dimensión $D-1$. \n",
    "* En la Regresión: $\\textrm{t}$ es un valor real.\n",
    "* En la __Clasificación__: $\\textrm{t}$ es una variable que corresponde a una clase $\\mathcal{C}_k$, con $k=1,2,\\ldots,K$. Típicamente, en el caso de $K=2$, $t\\in\\{0,1\\}$, de tal forma que $t=0$ corresponde a $\\mathcal{C}_1$ y $t=1$ corresponde a $\\mathcal{C}_2$. La representación binaria permite tener una interpretación probabilística de la pertenencia a una clase u a otra (regresión logística).\n",
    "* En el caso multiclase, $t$ puede ser un vector de representación de tipo **codificación one-hot** o **codificación 1-en-**$K$. Por ejemplo, si $K=5$, la clase $\\mathcal{C}_2$ se representaría así:\n",
    "$$\n",
    "t=(0,1,0,0,0)^\\textrm{T}\n",
    "$$"
   ]
  },
  {
   "cell_type": "markdown",
   "metadata": {},
   "source": [
    "### &#9758; La clasificación desde la perspectiva Bayesiana"
   ]
  },
  {
   "cell_type": "markdown",
   "metadata": {},
   "source": [
    "* La probabilidad conjunta $p(\\textrm{x}, \\textrm{t})$ contiene toda la información respecto de estas variables y **describe la incertidumbre** asociada a ellas.\n",
    "* Determinar $p(\\textrm{x}, \\textrm{t})$ de un conjunto de **datos de entrenamiento** es un ejemplo de inferencia, y en general un problema muy difícil.\n",
    "* En situaciones prácticas, debemos hacer una **predicción** respecto del valor de $\\textrm{t}$, o tener una idea de su valor con el fin de **tomar una decisión**. "
   ]
  },
  {
   "cell_type": "markdown",
   "metadata": {},
   "source": [
    "Desde un enfoque Bayesiano, el problema de Clasificación se puede describir de la siguiente forma:\n",
    "\n",
    "$$\n",
    "p(\\mathcal{C}_k|\\textrm{x}) = \\frac{p(\\textrm{x}|\\mathcal{C}_k)p(\\mathcal{C}_k)}{p(\\textrm{x})}\\;\\;\\;\\;\\;\\;\\;(12)\n",
    "$$\n"
   ]
  },
  {
   "cell_type": "markdown",
   "metadata": {},
   "source": [
    "* El problema de la decisión puede resolverse de tres maneras posibles:\n",
    "<ol>\n",
    "    <li> Primero resuelve el problema de inferencia de determinar las distribuciones de probabilidad condicional a las clases $p(\\textrm{x}|\\mathcal{C}_k)$ para cada clase $\\mathcal{C}_k$ individualmente. Además, infiere las probabilidades sobre el <i>a-priori</i> de cada clase $p(\\mathcal{C}_k)$. Luego, usa el teorema de Bayes (12) para encontrar los <i>a-posterioris</i> $p(\\mathcal{C}_k|\\textrm{x})$. Como es habitual, el denominador puede calcularse de la siguiente forma:<br>&nbsp;\n",
    "        $$\n",
    "        p(\\textrm{x}) = \\sum_k p(\\textrm{x}|\\mathcal{C}_k)p(\\mathcal{C}_k)\\;\\;\\;\\;\\;\\;\\;(13)\n",
    "        $$     \n",
    "        Habiendo encontrado las distribuciones <i>a-posteriori</i>, usa el criterio de <b>MAP</b> (<i>Máximo A Posteriori</i>) para asignar cada nuevo $\\textrm{x}$ a una de las clases. Los enfoques que explícita o implícitamente modelan las distribuciones de entradas y salidas se llaman <b><i>modelos generativos</i></b>, ya que se pueden generar datos sintéticos muestreándolos. <br> &#9758; P.Ej. <i>Naïve Bayes</i></li>\n",
    "    <li> Primero resuelve el problema de inferencia de las distribuciones <i>a-posteriori</i> $p(\\mathcal{C}_k|\\textrm{x})$, y después usa el criterio de MAP para asignar cada nuevo $\\textrm{x}$ a una de las clases. Los enfoques que modelan directamente las distribuciones <i>a-posteriori</i> se llaman  <b><i>modelos discriminativos</i></b> <br> &#9758; P.Ej. <i>Regresión Logística</i></li>\n",
    "    <li> Encuentra una función $h(\\textrm{x})$, llamada <b><i>función discriminante</i></b>, que mapea cada entrada $\\textrm{x}$ directamente a una clase. En este caso, las probabilidades no se utilizan. <br> &#9758; P.Ej. <i>SVM</i> o <i>RNA.</i></li>"
   ]
  },
  {
   "cell_type": "markdown",
   "metadata": {},
   "source": [
    "___"
   ]
  },
  {
   "cell_type": "markdown",
   "metadata": {},
   "source": [
    "## &#9991; <u>Notación</u>"
   ]
  },
  {
   "cell_type": "markdown",
   "metadata": {},
   "source": [
    "* En el módulo anterior, vimos la Regresión Lineal clásica, expresada de la siguiente forma:\n",
    "$$\n",
    "y=\\beta_0+\\beta_1x_1+\\beta_2x_2+\\ldots+\\beta_nx_n,\n",
    "$$\n",
    "* Para fines de este módulo, vamos a re-expresar este modelo de la siguiente forma:\n",
    "$$\n",
    "y(\\textrm{x})=\\textrm{w}^\\textrm{T}\\textrm{x}+w_{0} \\;\\;\\;\\;\\;\\;\\;\\;(1)\n",
    "$$\n",
    "donde usaremos la convención clásica de notación vectorial:\n",
    "<table style=\"width:100%\">\n",
    "  <tr>\n",
    "    <td><img align=\"left\" width=\"350\" src=\"../img/vectores.jpg\"/></td>\n",
    "    <td><img align=\"left\" width=\"350\" src=\"../img/vectores_dot.jpg\"/></td>\n",
    "  </tr>\n",
    "</table>\n",
    "    \n",
    "En Python, lo anterior se escribe:"
   ]
  },
  {
   "cell_type": "code",
   "execution_count": 3,
   "metadata": {},
   "outputs": [],
   "source": [
    "#Para Colab\n",
    "# from IPython.display import Javascript, Math\n",
    "# def display_Math(s):\n",
    "#   display(Javascript(\"var sc = document.createElement('script')\"))\n",
    "#   display(Javascript(\"sc.type='text/javascript'; sc.src='https://cdnjs.cloudflare.com/ajax/libs/mathjax/2.7.3/MathJax.js?config=TeX-AMS-MML_HTMLorMML&dummy=.js'\"))\n",
    "#   display(Javascript(\"var currentDiv = document.activeElement.parent\"))\n",
    "#   #display(Javascript(\"sc.onload = function () {console.log('loaded')};\"))\n",
    "#   display(Javascript(\"document.body.insertBefore(sc, currentDiv)\"))\n",
    "#   return display(Math(s))"
   ]
  },
  {
   "cell_type": "code",
   "execution_count": 2,
   "metadata": {},
   "outputs": [
    {
     "name": "stdout",
     "output_type": "stream",
     "text": [
      "w ((10,)) = [2. 2. 2. 2. 2. 2. 2. 2. 2. 2.] \n",
      " x ((10,)) = [ 1  2  3  4  5  6  7  8  9 10]\n"
     ]
    },
    {
     "data": {
      "text/latex": [
       "$y_1 = np.sum(np.multiply(w,x)) = \\sum w^T \\odot x = \\sum [ 2.  4.  6.  8. 10. 12. 14. 16. 18. 20.] (10,) = 110.00$"
      ],
      "text/plain": [
       "<IPython.core.display.Latex object>"
      ]
     },
     "metadata": {},
     "output_type": "display_data"
    },
    {
     "data": {
      "text/latex": [
       "$y_2 = np.dot(w,x) = y_3 = w@x = w \\cdot x = 110.00 = 110.00$"
      ],
      "text/plain": [
       "<IPython.core.display.Latex object>"
      ]
     },
     "metadata": {},
     "output_type": "display_data"
    },
    {
     "data": {
      "text/latex": [
       "$y_4 = w.T@x = w^T \\cdot x = [2. 2. 2. 2. 2. 2. 2. 2. 2. 2.] (10,) \\cdot [ 1  2  3  4  5  6  7  8  9 10] = 110.00$"
      ],
      "text/plain": [
       "<IPython.core.display.Latex object>"
      ]
     },
     "metadata": {},
     "output_type": "display_data"
    }
   ],
   "source": [
    "import numpy as np\n",
    "from IPython.display import display, Markdown, Latex\n",
    "\n",
    "w=(np.ones(10)*2)\n",
    "x=np.arange(1,11)\n",
    "print('w ({0}) = {1} \\n x ({2}) = {3}'.format(w.shape,w,x.shape,x))\n",
    "\n",
    "p=np.multiply(w,x)\n",
    "y1=np.sum(p)\n",
    "y2=np.dot(w,x)\n",
    "y3=w@x\n",
    "wT=w.T\n",
    "y4=wT@x\n",
    "\n",
    "\n",
    "s1 = f'$y_1 = %s = \\sum w^T \\odot x = \\sum %s %s = %.2f$'%('np.sum(np.multiply(w,x))',p,p.shape,y1) \n",
    "s2 = f'$y_2 = %s = y_3 = %s = w \\cdot x = %.2f = %.2f$'%('np.dot(w,x)','w@x',y2,y3) \n",
    "s3 = f'$y_4 = %s = w^T \\cdot x = %s %s \\cdot %s = %.2f$'%('w.T@x',wT,wT.shape,x,y4) \n",
    "\n",
    "#Para Jupyter\n",
    "display(Latex(s1))\n",
    "display(Latex(s2))\n",
    "display(Latex(s3))\n",
    "#Para Colab\n",
    "# display_Math(s1)\n",
    "# display_Math(s2)\n",
    "# display_Math(s3)"
   ]
  },
  {
   "cell_type": "markdown",
   "metadata": {},
   "source": [
    "* En el caso de la clasificación, queremos predecir etiquetas discretas de clase, o más generalmente valores de probabilidad de pertenencia a las clases en el rango $(0,1)$.\n",
    "* Para esto vamos a considerar una transformación no lineal $f(\\cdot)$ de $\\textrm{w}$:\n",
    "\n",
    "$$\n",
    "y(\\textrm{x})=f(\\textrm{w}^\\textrm{T}\\textrm{x}+w_{0}) \\;\\;\\;\\;\\;\\;\\;\\;\\;\\;(2)\n",
    "$$\n",
    "* A $f(\\cdot)$ se le conoce como **función de activación**.\n",
    "* Las FD corresponden con $y(\\textrm{x})=$constante, es decir $\\textrm{w}^\\textrm{T}\\textrm{x}+w_{0}=$constante, lo que significa que las FD son funciones lineales de $\\textrm{x}$, a pesar de que $f(\\cdot)$ es no lineal.\n",
    "* Por esta razón a la clase de modelos descritos por (2) se le conoce como _**modelos lineales generalizados**_.\n",
    "* Sin embargo, a diferencia de los modelos de regresión (1), que son lineales en los parámetros, los modelos (2) no lo son debido a $f(\\cdot)$.\n",
    "* Los modelos lineales de clasificación también pueden aplicarse si hacemos una transformación fija de los datos primero mediante funciones base que llamaremos aquí $\\phi(x)$. "
   ]
  },
  {
   "cell_type": "markdown",
   "metadata": {},
   "source": [
    "## &#9991; <u>Funciones discriminantes</u>"
   ]
  },
  {
   "cell_type": "markdown",
   "metadata": {},
   "source": [
    "### Discriminantes de 2 clases"
   ]
  },
  {
   "cell_type": "markdown",
   "metadata": {},
   "source": [
    "* La función discriminante más simple es la que obtenemos mediante una función lineal del vector de entrada:\n",
    "\n",
    "$$\n",
    "y(\\textrm{x})=\\textrm{w}^\\textrm{T}\\textrm{x}+w_{0} \\;\\;\\;\\;\\;\\;\\;\\;\\;\\;(3)\n",
    "$$"
   ]
  },
  {
   "cell_type": "markdown",
   "metadata": {},
   "source": [
    "* $\\textrm{w}$ es el **vector de pesos**, y $w_0$ es el bias (sesgo / intercepto). \n",
    "* A $-w_0$ se le conoce como el **umbral** (_threshold_).\n",
    "* Un vector de entrada $\\textrm{x}$ será asignado a la clase $\\mathcal{C}_{1}$ si $y(\\textrm{x}) \\geq 0$ y a la clase $\\mathcal{C}_{2}$ de lo contrario.\n",
    "* La FD correspondiente está definida por la relación $y(\\textrm{x}) = 0$, que corresponde a un hyperplano de dimensión $(D-1)$ dentro del espacio $D-$dimensional de entrada.\n",
    "* Para cualesquiera dos puntos $\\textrm{x}_A$ y $\\textrm{x}_B$, $y(\\textrm{x}_A) = y(\\textrm{x}_B) = 0$, por lo que $\\textrm{w}^\\textrm{T}(\\textrm{x}_A-\\textrm{x}_B)=0$ es ortogonal a cualquier vector en la FD. \n",
    "* De esta forma, $\\textrm{w}$ **determina la orientación de la FD**. \n",
    "* También, si $\\textrm{x}$ es un punto en la FD, $y(\\textrm{x})=0$ y la distancia normal del origen a la FD está dada por:\n",
    "\n",
    "$$\n",
    "\\frac{\\textrm{w}^\\textrm{T}\\textrm{x}}{\\left\\lVert\\textrm{w}\\right\\rVert}=-\\frac{w_0}{\\left\\lVert\\textrm{w}\\right\\rVert}\n",
    "$$\n",
    "\n",
    "<img align=\"center\" width=\"350\" src=\"../img/modelo_lineal_conceptos.jpg\"/>"
   ]
  },
  {
   "cell_type": "markdown",
   "metadata": {},
   "source": [
    "* En muchas ocasiones es conveniente usar una notación más compacta, por lo que escribiremos: $\\tilde{\\textrm{w}}=(w_0,\\textrm{w})$ y $\\tilde{\\textrm{x}}=(1,\\textrm{x})$, por lo que:\n",
    "\n",
    "$$\n",
    "y(\\textrm{x})=\\tilde{\\textrm{w}}^\\textrm{T}\\tilde{\\textrm{x}}\n",
    "$$\n",
    "\n",
    "* En este caso, la FD son hyperplanos que pasan por el origen del espacio $(D+1)-$dimensional expandido de la entrada."
   ]
  },
  {
   "cell_type": "markdown",
   "metadata": {},
   "source": [
    "* En Python"
   ]
  },
  {
   "cell_type": "code",
   "execution_count": 49,
   "metadata": {},
   "outputs": [
    {
     "name": "stdout",
     "output_type": "stream",
     "text": [
      "---W----\n",
      "W= [ 6.  -1.2]\n",
      "W-shape = (2,)\n",
      "\n",
      "---X-----\n",
      "X[:2]= \n",
      "     x0           x1\n",
      "[[1.         0.        ]\n",
      " [1.         0.05050505]]\n",
      "X-shape=(100, 2), X-ndim=2, X-size=200\n",
      "\n",
      "---y-----\n"
     ]
    },
    {
     "data": {
      "text/latex": [
       "$y(x) = X@W = $"
      ],
      "text/plain": [
       "<IPython.core.display.Latex object>"
      ]
     },
     "metadata": {},
     "output_type": "display_data"
    },
    {
     "name": "stdout",
     "output_type": "stream",
     "text": [
      "[6.   5.94 5.88 5.82 5.76 5.7  5.64 5.58 5.52 5.45 5.39 5.33 5.27 5.21\n",
      " 5.15 5.09 5.03 4.97 4.91 4.85 4.79 4.73 4.67 4.61 4.55 4.48 4.42 4.36\n",
      " 4.3  4.24 4.18 4.12 4.06 4.   3.94 3.88 3.82 3.76 3.7  3.64 3.58 3.52\n",
      " 3.45 3.39 3.33 3.27 3.21 3.15 3.09 3.03 2.97 2.91 2.85 2.79 2.73 2.67\n",
      " 2.61 2.55 2.48 2.42 2.36 2.3  2.24 2.18 2.12 2.06 2.   1.94 1.88 1.82\n",
      " 1.76 1.7  1.64 1.58 1.52 1.45 1.39 1.33 1.27 1.21 1.15 1.09 1.03 0.97\n",
      " 0.91 0.85 0.79 0.73 0.67 0.61 0.55 0.48 0.42 0.36 0.3  0.24 0.18 0.12\n",
      " 0.06 0.  ]\n",
      "y-shape= (100,)\n",
      "\n",
      "----plot y(x) = w0 + w1x = -1.2x + 6----\n"
     ]
    },
    {
     "data": {
      "text/plain": [
       "<matplotlib.patches.FancyArrow at 0x1f2d9173e08>"
      ]
     },
     "execution_count": 49,
     "metadata": {},
     "output_type": "execute_result"
    },
    {
     "data": {
      "image/png": "[encoded data removed]",
      "text/plain": [
       "<Figure size 432x288 with 1 Axes>"
      ]
     },
     "metadata": {
      "needs_background": "light"
     },
     "output_type": "display_data"
    }
   ],
   "source": [
    "import numpy as np\n",
    "import matplotlib.pyplot as plt\n",
    "%matplotlib inline\n",
    "\n",
    "print('---W----')\n",
    "b = 6; a = -1.2\n",
    "W=np.array([b,a])\n",
    "print('W=',W)\n",
    "print('W-shape = {}\\n'.format(W.shape))\n",
    "\n",
    "print('---X-----')\n",
    "x=np.linspace(0, 5, 100)\n",
    "X = np.asarray([np.ones(x.size), x]).T\n",
    "print('X[:2]= ')\n",
    "print('     x0           x1')\n",
    "print(X[:2])\n",
    "print('X-shape={0}, X-ndim={1}, X-size={2}\\n'.format(X.shape,X.ndim,X.size))\n",
    "\n",
    "print('---y-----')\n",
    "y=np.round(X@W,2)\n",
    "\n",
    "#Para Colab\n",
    "# display_Math(f'$y(x) = X@W = $')\n",
    "\n",
    "#Para Jupyter\n",
    "display(Latex(f'$y(x) = X@W = $'))\n",
    "print(y)\n",
    "print('y-shape= {}\\n'.format(y.shape))\n",
    "\n",
    "print('----plot y(x) = w0 + w1x = -1.2x + 6----')\n",
    "\n",
    "fig = plt.figure()\n",
    "ax = fig.add_subplot(111)\n",
    "\n",
    "ax.plot(X[:,1], y, color='r',lw=1)\n",
    "ax.plot((0,0),(6.2,0), color='k',lw=2)\n",
    "ax.plot((0,5.2),(0,0), color='k',lw=2)\n",
    "\n",
    "ax.grid(color='lightgray', linestyle='--', linewidth=1)\n",
    "plt.xlabel('$x$',size='large')\n",
    "plt.ylabel('$y$',size='large',rotation=0)\n",
    "ax.annotate('y(x)=-1.2x + 6', xy=(1.8, 4), xytext=(3, 5),\n",
    "            arrowprops=dict(arrowstyle = \"->\"))\n",
    "\n",
    "#######################################################\n",
    "# draw x and y axis\n",
    "xmin=0\n",
    "xmax=5.5\n",
    "ymin=0\n",
    "ymax=6.5\n",
    "\n",
    "# manual arrowhead width and length\n",
    "hw = 1./30.*(ymax-ymin) \n",
    "hl = 1./30.*(xmax-xmin)\n",
    "lw = 1. # axis line width\n",
    "ohg = 0.4 # arrow overhang\n",
    "\n",
    "# get width and height of axes object to compute \n",
    "# matching arrowhead length and width\n",
    "dps = fig.dpi_scale_trans.inverted()\n",
    "bbox = ax.get_window_extent().transformed(dps)\n",
    "width, height = bbox.width, bbox.height\n",
    "\n",
    "# compute matching arrowhead length and width\n",
    "yhw = hw/(ymax-ymin)*(xmax-xmin)* height/width \n",
    "yhl = hl/(xmax-xmin)*(ymax-ymin)* width/height\n",
    "    \n",
    "ax.arrow(0, 0, xmax-xmin, 0., fc='k', ec='k', lw = lw, \n",
    "         head_width=hw, head_length=hl, overhang = ohg, \n",
    "         length_includes_head= True, clip_on = False)\n",
    "ax.arrow(0, ymin, 0., ymax-ymin, fc='k', ec='k', lw = lw, \n",
    "         head_width=yhw, head_length=yhl, overhang = ohg, \n",
    "         length_includes_head= True, clip_on = False)"
   ]
  },
  {
   "cell_type": "markdown",
   "metadata": {},
   "source": [
    "<table style=\"width:100%\">\n",
    "  <tr>\n",
    "    <td><img align=\"left\" width=\"100%\" src=\"../img/Python_DOT_PROD_1.jpg\"/></td>\n",
    "    <td><img align=\"left\" width=\"100%\" src=\"../img/Python_DOT_PROD_2.jpg\"/></td>\n",
    "  </tr>\n",
    "</table>"
   ]
  },
  {
   "cell_type": "code",
   "execution_count": 98,
   "metadata": {},
   "outputs": [
    {
     "name": "stdout",
     "output_type": "stream",
     "text": [
      "------- Enfoque Xi=(x1,x2) --------------\n",
      "X:=\n",
      "       x1          x2\n",
      "[[0.         6.        ]\n",
      " [0.05050505 5.94      ]]\n",
      "X.shape= (100, 2)\n"
     ]
    },
    {
     "data": {
      "image/png": "[encoded data removed]",
      "text/plain": [
       "<Figure size 432x288 with 1 Axes>"
      ]
     },
     "metadata": {
      "needs_background": "light"
     },
     "output_type": "display_data"
    }
   ],
   "source": [
    "print('------- Enfoque Xi=(x1,x2) --------------')\n",
    "X=np.array(list(zip(x,y)))\n",
    "print('X:=')\n",
    "print('       x1          x2')\n",
    "print(X[:2])\n",
    "print('X.shape=',X.shape)\n",
    "\n",
    "#Dibuja los puntos Xi=(x1,x2)\n",
    "fig = plt.figure()\n",
    "ax = fig.add_subplot(111)\n",
    "\n",
    "#-------------------------------\n",
    "b = 6; a = -1.2\n",
    "W_antes=np.array([b,a])\n",
    "\n",
    "ax.quiver(0,6,1.0,-1.2, color=['b'], units='xy', scale = 1)\n",
    "plt.axis('equal')\n",
    "\n",
    "ax.scatter(X[:,0],X[:,1],marker='o',s=20,alpha=0.3)\n",
    "\n",
    "ax.grid(color='lightgray', linestyle='--', linewidth=1)\n",
    "plt.xlabel('$x$',size='large')\n",
    "plt.ylabel('$y$',size='large',rotation=0)\n",
    "ax.annotate('W_antes=(1,-1.2)', xy=(1, 5), xytext=(2.2, 5.5),\n",
    "            arrowprops=dict(arrowstyle = \"->\"))\n",
    "\n",
    "ax.annotate('x1', xy=(5.5, 0), xytext=(5.6, 0))\n",
    "ax.annotate('x2', xy=(-0.5, 5.5), xytext=(-0.6, 5.5))\n",
    "\n",
    "#######################################################\n",
    "# draw x and y axis\n",
    "xmin=0\n",
    "xmax=5.5\n",
    "ymin=0\n",
    "ymax=6.5\n",
    "\n",
    "# manual arrowhead width and length\n",
    "hw = 1./30.*(ymax-ymin) \n",
    "hl = 1./30.*(xmax-xmin)\n",
    "lw = 1. # axis line width\n",
    "ohg = 0.4 # arrow overhang\n",
    "\n",
    "# get width and height of axes object to compute \n",
    "# matching arrowhead length and width\n",
    "dps = fig.dpi_scale_trans.inverted()\n",
    "bbox = ax.get_window_extent().transformed(dps)\n",
    "width, height = bbox.width, bbox.height\n",
    "\n",
    "# compute matching arrowhead length and width\n",
    "yhw = hw/(ymax-ymin)*(xmax-xmin)* height/width \n",
    "yhl = hl/(xmax-xmin)*(ymax-ymin)* width/height\n",
    "    \n",
    "ax.arrow(0, 0, xmax-xmin, 0., fc='k', ec='k', lw = lw, \n",
    "         head_width=hw, head_length=hl, overhang = ohg, \n",
    "         length_includes_head= True, clip_on = False)\n",
    "ax.arrow(0, ymin, 0., ymax-ymin, fc='k', ec='k', lw = lw, \n",
    "         head_width=yhw, head_length=yhl, overhang = ohg, \n",
    "         length_includes_head= True, clip_on = False)\n",
    "plt.axis('off')\n",
    "plt.show()\n"
   ]
  },
  {
   "cell_type": "code",
   "execution_count": 121,
   "metadata": {},
   "outputs": [],
   "source": [
    "def line_intersection(line1, line2):\n",
    "    xdiff = (line1[0][0] - line1[1][0], line2[0][0] - line2[1][0])\n",
    "    ydiff = (line1[0][1] - line1[1][1], line2[0][1] - line2[1][1])\n",
    "\n",
    "    def det(a, b):\n",
    "        return a[0] * b[1] - a[1] * b[0]\n",
    "\n",
    "    div = det(xdiff, ydiff)\n",
    "    if div == 0:\n",
    "        raise Exception('lines do not intersect')\n",
    "\n",
    "    d = (det(*line1), det(*line2))\n",
    "    x = det(d, xdiff) / div\n",
    "    y = det(d, ydiff) / div\n",
    "    return x, y"
   ]
  },
  {
   "cell_type": "code",
   "execution_count": 125,
   "metadata": {},
   "outputs": [
    {
     "name": "stdout",
     "output_type": "stream",
     "text": [
      "------- Xi=(x0,x1,x2) --------------\n",
      "X:=\n",
      "       x0          x1          x2\n",
      "[[1.         0.         6.        ]\n",
      " [1.         0.05050505 5.94      ]]\n",
      "X.shape= (100, 3)\n",
      "\n",
      "------- W=(w0,w1,w2) --------------\n",
      "  w0   w1   w2\n",
      "[-6.   1.2  1. ]\n"
     ]
    },
    {
     "data": {
      "text/latex": [
       "$d=\\frac{-w_0}{\\lVert w \\rVert}= 0.00$"
      ],
      "text/plain": [
       "<IPython.core.display.Latex object>"
      ]
     },
     "metadata": {},
     "output_type": "display_data"
    },
    {
     "name": "stdout",
     "output_type": "stream",
     "text": [
      "d= 3.8411063979868794\n"
     ]
    },
    {
     "data": {
      "image/png": "[encoded data removed]",
      "text/plain": [
       "<Figure size 432x288 with 1 Axes>"
      ]
     },
     "metadata": {
      "needs_background": "light"
     },
     "output_type": "display_data"
    }
   ],
   "source": [
    "X=np.array(list(zip(x,y)))\n",
    "\n",
    "print('------- Xi=(x0,x1,x2) --------------')\n",
    "X=np.hstack((np.ones((X.shape[0],1)),X))\n",
    "print('X:=')\n",
    "print('       x0          x1          x2')\n",
    "print(X[:2])\n",
    "print('X.shape= {}\\n'.format(X.shape))\n",
    "#Dibuja los puntos Xi=(x1,x2)\n",
    "fig = plt.figure()\n",
    "ax = fig.add_subplot(111)\n",
    "\n",
    "#---------W DE ANTES----------------------\n",
    "b = 6; a = -1.2\n",
    "W_antes=np.array([b,a])\n",
    "\n",
    "ax.quiver(0,6,1.0,-1.2, color=['k'], units='xy', scale = 1)\n",
    "\n",
    "plt.axis('equal')\n",
    "\n",
    "ax.scatter(X[:,1],X[:,2],marker='^',c='r',s=20,alpha=0.3)\n",
    "\n",
    "ax.grid(color='lightgray', linestyle='--', linewidth=1)\n",
    "ax.annotate('W_antes=(1,-1.2)', xy=(1, 5), xytext=(2.2, 5.5),\n",
    "            arrowprops=dict(arrowstyle = \"->\"))\n",
    "ax.annotate('x1', xy=(5.5, 0), xytext=(5.6, 0))\n",
    "ax.annotate('x2', xy=(-0.5, 5.5), xytext=(-0.6, 5.5))\n",
    "\n",
    "#----------NUEVO W--------------------\n",
    "print('------- W=(w0,w1,w2) --------------')\n",
    "print('  w0   w1   w2')\n",
    "W = np.array([-6,1.2,1.0])\n",
    "o = [0],[0] # origin point\n",
    "print(W)\n",
    "\n",
    "#----------------------------------------------\n",
    "\"\"\"\n",
    "CALCULA d= -w0/||w||\n",
    "\"\"\"\n",
    "# usa numpy.linalg.norm(array) --> LA.norm(a)\n",
    "from numpy import linalg as LA\n",
    "\n",
    "d=0.0\n",
    "#Para Colab\n",
    "# display_Math(r'$d=\\frac{-w_0}{\\lVert w \\rVert}= %.2f$'%d)\n",
    "\n",
    "display(Latex(r'$d=\\frac{-w_0}{\\lVert w \\rVert}= %.2f$'%d))\n",
    "\n",
    "#Comprueba con la función line_intersection\n",
    "A=(0,6)\n",
    "B=(5,0)\n",
    "C=(0,0)\n",
    "D=(4.8,4)\n",
    "xI,yI=line_intersection((A,B),(C,D))\n",
    "d=np.sqrt(xI**2+yI**2)\n",
    "print('d=',d)\n",
    "\n",
    "#Dibuja las lineas (A,B) y (C,D)\n",
    "\n",
    "\n",
    "#-------------------------------------------\n",
    "ax.quiver(*o,W[1],W[2], color=['g'], units='xy', scale = 1)\n",
    "ax.annotate('WL=(1.2,1.0)', xy=(0.5, 0.5), xytext=(2, 0.5),\n",
    "            arrowprops=dict(arrowstyle = \"->\"))\n",
    "\n",
    "\n",
    "#######################################################\n",
    "# draw x and y axis\n",
    "xmin=0\n",
    "xmax=5.5\n",
    "ymin=0\n",
    "ymax=6.5\n",
    "\n",
    "# manual arrowhead width and length\n",
    "hw = 1./30.*(ymax-ymin) \n",
    "hl = 1./30.*(xmax-xmin)\n",
    "lw = 1. # axis line width\n",
    "ohg = 0.4 # arrow overhang\n",
    "\n",
    "# get width and height of axes object to compute \n",
    "# matching arrowhead length and width\n",
    "dps = fig.dpi_scale_trans.inverted()\n",
    "bbox = ax.get_window_extent().transformed(dps)\n",
    "width, height = bbox.width, bbox.height\n",
    "\n",
    "# compute matching arrowhead length and width\n",
    "yhw = hw/(ymax-ymin)*(xmax-xmin)* height/width \n",
    "yhl = hl/(xmax-xmin)*(ymax-ymin)* width/height\n",
    "    \n",
    "ax.arrow(0, 0, xmax-xmin, 0., fc='k', ec='k', lw = lw, \n",
    "         head_width=hw, head_length=hl, overhang = ohg, \n",
    "         length_includes_head= True, clip_on = False)\n",
    "ax.arrow(0, ymin, 0., ymax-ymin, fc='k', ec='k', lw = lw, \n",
    "         head_width=yhw, head_length=yhl, overhang = ohg, \n",
    "         length_includes_head= True, clip_on = False)\n",
    "\n",
    "plt.show()\n"
   ]
  },
  {
   "cell_type": "markdown",
   "metadata": {},
   "source": [
    "<img align=\"center\" width=\"350\" src=\"../img/modelo_lineal_conceptos.jpg\"/>"
   ]
  },
  {
   "cell_type": "markdown",
   "metadata": {},
   "source": [
    "&#9998; **Calcula el valor de Y**"
   ]
  },
  {
   "cell_type": "code",
   "execution_count": null,
   "metadata": {},
   "outputs": [],
   "source": [
    "# TU CODIGO AQUI\n"
   ]
  },
  {
   "cell_type": "code",
   "execution_count": null,
   "metadata": {},
   "outputs": [],
   "source": []
  },
  {
   "cell_type": "markdown",
   "metadata": {},
   "source": [
    "### Discriminantes de $K$ clases"
   ]
  },
  {
   "cell_type": "code",
   "execution_count": null,
   "metadata": {},
   "outputs": [],
   "source": []
  },
  {
   "cell_type": "markdown",
   "metadata": {},
   "source": [
    "* En el caso en que se desee implementar un clasificador mediante un modelo generativo, la sección anterior sugiere modelar los datos como distribuciones de probabilidad.\n",
    "* Un supuesto importante es considerar que los datos son independientes e idénticamente distribuidos (_iid_).\n",
    "* En este curso vamos a usar distribuciones paramétricas (e.g. Binomial o Gaussiana), ya que están gobernadas por un número pequeño de parámetros y se utilizan muy ampliamente en la literatura.\n",
    "* EL **aprendizaje** es este caso, consiste en ajustar un modelo a los datos.\n",
    "* Para ajustar los parámetros de estos modelos, vamos a seguir dos principios: el de **Máximo de Verosimilitud** (frecuentista) o el **Bayesiano** (calcular el a posteriori, partiendo de un a priori, conforme se observan datos)."
   ]
  },
  {
   "cell_type": "markdown",
   "metadata": {},
   "source": [
    "### II.1 Ajuste de un modelo por Máximo de Verosimilitud (_Maximum Likelihood_) "
   ]
  },
  {
   "cell_type": "markdown",
   "metadata": {},
   "source": [
    "* Ajustar un modelo a los datos, es estimar los parámetros del modelo, una vez que se ha elegido su forma paramétrica.\n",
    "* Desde un punto de vista frecuentista, se pueden estimar los parámetros mediante la maximización de la función de verosimilitud (_likelyhood_).  \n",
    "* Por el teorema de Bayes, sabemos que para un conjunto de datos $D=\\{x_1,\\ldots,x_N\\}$, la distribución de los parámetros ($\\theta$) puede describirse de la siguiente forma:\n",
    "\n",
    "$$\n",
    "p(\\theta|D) \\propto \\underbrace{p(D|\\theta)}_{likelyhood}p(\\theta)\n",
    "$$\n"
   ]
  },
  {
   "cell_type": "markdown",
   "metadata": {},
   "source": [
    "* Supongamos que tenemos datos uni-dimensionales, cuyo origen desconocemos... "
   ]
  },
  {
   "cell_type": "code",
   "execution_count": 35,
   "metadata": {},
   "outputs": [
    {
     "name": "stdout",
     "output_type": "stream",
     "text": [
      "[0 0 0 1 1 1 0 0 0 0 0 1 1 0 1 0 0 0 0 0 0 1 1 0 0 0 1 1 1 1 0 1 0 0 0 1 0\n",
      " 0 0 0 0 1 0 1 1 1 1 0 1 0 1 0 0 0 0 1 0 0 1 0 1 0 1 0 1 1 0 1 1 0 1 0 0 0\n",
      " 1 1 0 0 0 0 1 1 1 0 1 0 1 0 1 1 0 0 0 0 1 0 0 0 1 0 0 1 1 0 1 0 1 0 1 0 1\n",
      " 0 1 1 0 1 0 0 0 0 0 0 1 1 1 1 0 0 1 1 1 1 0 0 0 1 1 0 1 1 1 1 1 1 1 0 1 1\n",
      " 0 1 1 0 1 0 0 1 0 1 1 1 1 0 1 1 1 0 1 0 0 1 1 1 0 1 1 0 0 0 1 1 0 0 1 0 1\n",
      " 1 1 1 1 0 0 1 1 0 1 0 0 0 1 0 0 1 1 0 1 1 0 1 1 0 0 0 0 1 1 0 1 1 1 1 1 1\n",
      " 0 0 1 0 0 1 1 1 0 0 1 0 0 1 1 1 0 0 0 0 0 0 0 0 0 0 1 1 1 1 1 1 0 0 0 0 0\n",
      " 0 0 1 0 1 0 1 0 0 0 0 0 1 1 0 1 0 0 0 1 0 0 1 0 0 1 1 1 0 0 1 0 0 1 0 0 0\n",
      " 1 1 1 1 1 1 0 0 1 0 0 1 1 1 0 0 1 1 0 1 0 0 1 1 0 0 1 1 1 1 1 1 1 1 0 0 0\n",
      " 0 1 1 1 1 1 1 1 0 0 0 1 1 1 0 1 1 1 0 1 0 0 0 1 0 0 0 0 0 0 1 0 1 0 0 0 1\n",
      " 0 1 0 1 0 1 0 1 0 0 1 1 0 1 0 1 1 0 0 0 0 0 0 1 0 1 0 1 0 1 0 0 1 1 1 0 1\n",
      " 0 1 0 1 1 1 1 1 1 1 1 0 1 0 0 0 1 0 1 1 0 0 0 0 1 0 0 1 1 0 0 0 0 1 1 1 1\n",
      " 0 0 1 1 1 1 1 1 1 1 0 0 1 0 0 1 0 1 1 1 1 1 0 1 0 0 0 1 0 0 1 1 0 1 1 1 0\n",
      " 0 0 1 0 0 1 1 1 0 0 0 1 0 0 1 0 1 1 1]\n"
     ]
    }
   ],
   "source": [
    "import scipy.stats as stats\n",
    "\n",
    "def datos_misteriosos(n):\n",
    "    data = stats.bernoulli.rvs(0.5, size=n[-1])\n",
    "    return data\n",
    "\n",
    "#Observaciones  \n",
    "n_trials = [0, 1, 2, 3, 4, 5, 15, 50, 100, 500]\n",
    "D=datos_misteriosos(n_trials)\n",
    "\n",
    "print(D)"
   ]
  },
  {
   "cell_type": "markdown",
   "metadata": {},
   "source": [
    "* Suponiendo una distribución Gaussiana, ajustemos este modelo a nuestros datos:  "
   ]
  },
  {
   "cell_type": "markdown",
   "metadata": {},
   "source": [
    "La Gaussiana uni-dimensional:\n",
    "$$\n",
    "\\displaystyle p(x|\\mu,\\sigma^2)=\\mathcal{N}(x|\\mu,\\sigma^2)=\\frac{1}{2\\pi\\sigma^2}\\exp\\left\\{-\\frac{1}{2\\sigma^2}(x-\\mu)^2\\right\\}\\hspace{7em}(14)\n",
    "$$\n",
    "\n",
    "La Gaussiana multidimensional:\n",
    "$$\n",
    "\\displaystyle p(\\textrm{x}|\\mathbf{\\mu},\\Sigma)=\\mathcal{N}(\\textrm{x}|\\mathbf{\\mu},\\Sigma)=\\frac{1}{(2\\pi)^{D/2}|\\Sigma|^{1/2}}\\exp\\left\\{-\\frac{1}{2}(\\textrm{x}-\\mu)^\\textrm{T}\\Sigma^{-1}(\\textrm{x}-\\mu)\\right\\}\\hspace{3em}(15)\n",
    "$$"
   ]
  },
  {
   "cell_type": "markdown",
   "metadata": {},
   "source": [
    "* Para ello vamos a maximizar la función de verosimilitud (_likelyhood_), dadas N observaciones:\n",
    "\n",
    "$$\n",
    "\\displaystyle p(\\textrm{x}|\\mu,\\sigma^2)=\\prod_{n=1}^{N}\\mathcal{N}(x_n|\\mu,\\sigma^2)\\hspace{3em}(16)\n",
    "$$"
   ]
  },
  {
   "cell_type": "markdown",
   "metadata": {},
   "source": [
    "* En estos casos es común calcular el $\\log$ del likelyhood:\n",
    "\n",
    "$$\n",
    "\\displaystyle \\ln p(\\textrm{x}|\\mu,\\sigma^2)=-\\frac{1}{2\\sigma^2}\\sum_{n=1}^N(x_n-\\mu)^2 -\\frac{N}{2}\\ln \\sigma^2 -\\frac{N}{2}\\ln (2\\pi)\\hspace{3em}(17)\n",
    "$$"
   ]
  },
  {
   "cell_type": "markdown",
   "metadata": {},
   "source": [
    "&#9758; Maximizando (17) con respecto a $\\mu$, obtenemos:\n",
    "\n",
    "$$\n",
    "\\displaystyle \\mu_{\\textrm{ML}}= \\frac{1}{N}\\sum_{n=1}^N x_n \\hspace{3em}(18)\n",
    "$$"
   ]
  },
  {
   "cell_type": "markdown",
   "metadata": {},
   "source": [
    "&#9758; Maximizando (17) con respecto a $\\sigma^2$, obtenemos:\n",
    "\n",
    "$$\n",
    "\\displaystyle \\sigma^2_{\\textrm{ML}}= \\frac{1}{N}\\sum_{n=1}^N (x_n-\\mu_{\\textrm{ML}})^2 \\hspace{3em}(19)\n",
    "$$"
   ]
  },
  {
   "cell_type": "markdown",
   "metadata": {},
   "source": [
    "&#9998; **Define una función que calcule los parámetros $\\mu_{\\textrm{ML}}$ y $\\sigma^2$ para nuestros datos $D$, <u>en función del número de observaciones</u>. Compara estos cálculos contra los que te da numpy.**"
   ]
  },
  {
   "cell_type": "code",
   "execution_count": 49,
   "metadata": {},
   "outputs": [],
   "source": [
    "#Observaciones  \n",
    "n_trials = [0, 1, 2, 3, 4, 5, 15, 50, 100, 500]\n",
    "\n",
    "for n in n_trials:\n",
    "    d=D[:n]\n",
    "    # TU CODIGO AQUI\n",
    "    "
   ]
  },
  {
   "cell_type": "markdown",
   "metadata": {},
   "source": [
    "* Un problema con la estimación de los parámetros por ML es el _**overfitting**_ : la estimación \"se apega\" a los datos.\n",
    "* Otro problema es el sesgo en la varianza.\n",
    "\n",
    "<img src=\"../img/ML_varianza.jpg\" width=\"100%\">"
   ]
  },
  {
   "cell_type": "markdown",
   "metadata": {},
   "source": [
    "___"
   ]
  },
  {
   "cell_type": "markdown",
   "metadata": {},
   "source": [
    "### II.2 Ajuste Bayesiano de un modelo"
   ]
  },
  {
   "cell_type": "markdown",
   "metadata": {},
   "source": [
    "* Como hemos dicho, el enfoque Bayesiano consiste en tener una \"idea\" de cuál sería la distribución a priori (modelo) de los datos para ir ajustando esa distribución conforme vamos teniendo datos nuevos, con el fin de calcular su distribución a posteriori.\n",
    "\n",
    "* En en este contexto, si suponemos que la distribución a posteriori tiene una cierta forma funcional, se utilizan _**a prioris conjugados**_, que son modelos que permiten calcular a posterioris con esa forma funcional. "
   ]
  },
  {
   "cell_type": "markdown",
   "metadata": {},
   "source": [
    "* Por ejemplo, supongamos que elegimos una distribución de Bernoulli para nuestros \"datos misteriosos\".\n",
    "\n",
    "$$\n",
    "p(x|\\theta)=\\textrm{Bern}(x|\\mu)=\\mu^x(1-\\mu)^{1-x}\\hspace{5em}(20)\n",
    "$$"
   ]
  },
  {
   "cell_type": "markdown",
   "metadata": {},
   "source": [
    "Dado $N$ observaciones: $D=\\{x_1,\\ldots,x_N\\}$, la expresión del _likelyhood_:"
   ]
  },
  {
   "cell_type": "markdown",
   "metadata": {},
   "source": [
    "$$\n",
    "\\displaystyle p(D|\\mu)=\\prod_{n=1}^{N}p(x_n|\\mu)=\\prod_{n=1}^{N}\\mu^{x_n}(1-\\mu)^{1-x_{n}}\\hspace{3em}(21)\n",
    "$$"
   ]
  },
  {
   "cell_type": "markdown",
   "metadata": {},
   "source": [
    "* Podríamos maximizar la _likelyhood_ (21) como lo hicimos arriba para la Gaussiana.\n",
    "* La expresión resultante sería la misma!\n",
    "\n",
    "$$\n",
    "\\displaystyle \\mu_{\\textrm{ML}}= \\frac{1}{N}\\sum_{n=1}^N x_n \\hspace{3em}(22)\n",
    "$$"
   ]
  },
  {
   "cell_type": "markdown",
   "metadata": {},
   "source": [
    "* Si llamamos $m$ el número de observaciones de un $1$ en los datos $D$, por (22) tendríamos:\n",
    "\n",
    "$$\n",
    "\\mu_{\\textrm{ML}}=\\frac{m}{N}\\hspace{4em}(23)\n",
    "$$\n",
    "___"
   ]
  },
  {
   "cell_type": "markdown",
   "metadata": {},
   "source": [
    "* Hagamos una estimación Bayesiana de $\\mu$.\n",
    "* &#9758; Tomemos $m$ como la variable observada. Necesitamos usar ahora una distribución Binomial.\n",
    "\n",
    "$$\n",
    "p(m|\\mu)=\\textrm{Bin}(m|N\\mu)=\\binom{N}{m}\\mu^m(1-\\mu)^{N-m}\\hspace{3em}(24)\n",
    "$$\n",
    "donde\n",
    "\n",
    "$$\n",
    "\\binom{N}{m}=\\frac{N!}{(N-m)!m!}\n",
    "$$\n",
    "es el número de formas de elegir $m$ objetos de un total de $N$ objetos.\n",
    "* &#9758; Usaremos ahora un _**a priori conjugado**_: la distribución Beta.\n",
    "\n",
    "$$\n",
    "p(\\mu)=\\textrm{Beta}(\\mu|a,b)=\\frac{\\Gamma(a+b)}{\\Gamma(a)\\Gamma(b)}\\mu^{a-1}(1-\\mu)^{b-1}\\hspace{3em}(25)\n",
    "$$\n",
    "donde \n",
    "$$\n",
    "\\Gamma(x)\\equiv\\int_0^\\infty u^{x-1}e^{-u}\\textrm{d}u\n",
    "$$\n",
    "* EL promedio y la varianza de la distribución Beta están dados por:\n",
    "\n",
    "$$\n",
    "\\mathbb{E}[\\mu]=\\frac{a}{a+b}\\hspace{8em}(26)\n",
    "$$\n",
    "\n",
    "$$\n",
    "\\textrm{var}[\\mu]=\\frac{ab}{(a+b)^2(a+b+1)}\\hspace{3em}(27)\n",
    "$$"
   ]
  },
  {
   "cell_type": "markdown",
   "metadata": {},
   "source": [
    "*  &#9758; Ahora, nuestra distribución _**a posteriori**_ de $\\mu$ se obtiene multiplicando el a priori Beta (25) por la _likelyhood_ Binomial (24). \n",
    "* &#9758; Trabajando sólo los factores que dependen de $\\mu$, podemos ver que la expresión del _**a posteriori**_ $p(\\mu|m) \\propto p(m|\\mu)p(\\mu)$ tiene la forma:\n",
    "\n",
    "$$\n",
    "p(\\mu|m,l,a,b) \\propto \\mu^{m+a-1}(1-\\mu)^{l+b-1}\\hspace{3em}(28)\n",
    "$$\n",
    "\n",
    "donde $l=N-m$ y por lo tanto corresponde al número de $0$'s en nuestro ejemplo."
   ]
  },
  {
   "cell_type": "markdown",
   "metadata": {},
   "source": [
    "* De hecho el a posteriori es una distribución Beta, y su coeficiente de normalización se puede encontrar comparando con (25):\n",
    "\n",
    "$$\n",
    "p(\\mu|m,l,a,b)=\\frac{\\Gamma(m+a+l+b)}{\\Gamma(m+a)\\Gamma(l+b)}\\mu^{m+a-1}(1-\\mu)^{l+b-1}\\hspace{3em}(29)\n",
    "$$"
   ]
  },
  {
   "cell_type": "markdown",
   "metadata": {},
   "source": [
    "* &#9758; Vemos que el efecto de tener un conjunto de datos con $m$ observaciones de $x=1$ y $l$ observaciones de $x=0$ ha sido incrementar los valores de $a$ por $m$ y de $b$ por $l$, yendo de la distribución a priori a la distribución a posteriori.\n",
    "* &#9758; Esto nos permite dar una interpretación sencilla a los hyperparámetros $a$ y $b$ en el a priori como _**el número efectivo de observaciones de**_ $x=1$ y $x=0$ respectivamente.\n",
    "* &#9758; Nota que $a$ y $b$ no necesitan ser enteros.\n",
    "* &#9758; Nota también que el a posteriori, puede volver a ser el a priori, si se observan nuevos datos, repitiendo el ciclo con (29) como a priori y (24) como likelyhood. El resultado tendrá la forma de (29) nuevamente, pero con los parámetros actualizados con las nuevas observaciones efectivas de $x=1$ ($m$) y $x=0$ ($l$)."
   ]
  },
  {
   "cell_type": "markdown",
   "metadata": {},
   "source": [
    "* Si el experimento es el lanzamiento de una moneda y queremos predecir el valor del siguiente lanzamiento: $p(x=1|D)$, aplicamos las reglas de la suma y del producto:\n",
    "\n",
    "$$\n",
    "p(x=1|D)=\\int_0^1 p(x=1,\\mu|D)\\textrm{d}\\mu=\\int_0^1 p(x=1|\\mu)p(\\mu|D)\\textrm{d}\\mu=\\int_0^1 \\mu p(\\mu|D)\\textrm{d}\\mu = \\mathbb{E}[\\mu|D]\n",
    "$$"
   ]
  },
  {
   "cell_type": "markdown",
   "metadata": {},
   "source": [
    "* Utilizando (29) como el a posteriori de $p(\\mu|D)$ junto con (26) para el cálculo de la media de la distribución Beta, tenemos:\n",
    "\n",
    "$$\n",
    "p(x=1|D)=\\frac{m+a}{m+a+l+b}\\hspace{5em}(30)\n",
    "$$\n",
    "\n",
    "*  &#9758; Para un conjunto grande de datos $m,l\\to \\infty$, y el resultado (30) tiende a ser el mimso que (23)"
   ]
  },
  {
   "cell_type": "code",
   "execution_count": 50,
   "metadata": {},
   "outputs": [
    {
     "data": {
      "image/png": "[encoded data removed]",
      "text/plain": [
       "<Figure size 720x720 with 10 Axes>"
      ]
     },
     "metadata": {
      "needs_background": "light"
     },
     "output_type": "display_data"
    }
   ],
   "source": [
    "fig=plt.figure(figsize=(10,10))\n",
    "\n",
    "dist = stats.beta\n",
    "x = np.linspace(0, 1, 100)\n",
    "\n",
    "for k, N in enumerate(n_trials):\n",
    "    ax = plt.subplot(len(n_trials) / 2, 2, k + 1)\n",
    "    plt.xlabel(\"$p$, probabilidad de 1's\") \\\n",
    "        if k in [0, len(n_trials) - 1] else None\n",
    "    plt.setp(ax.get_yticklabels(), visible=False)\n",
    "    m = D[:N].sum()\n",
    "    l=N-m\n",
    "    a=1+m\n",
    "    b=1+l\n",
    "    mu=(a)/(a+b)\n",
    "    var=a*b/((a+b)*(a+b)*(a+b+1))\n",
    "    y = dist.pdf(x, a, b)\n",
    "    plt.plot(x, y, label=\"%d datos,\\n %d 1's, \\n $p(x=1|D)$= %2.2f, \\n var= %2.4f  \" %(N, m, mu,var))\n",
    "    plt.fill_between(x, 0, y, color=\"#348ABD\", alpha=0.4)\n",
    "    plt.vlines(0.5, 0, 10, color=\"k\", linestyles=\"--\", lw=1)\n",
    "\n",
    "    leg = plt.legend()\n",
    "    leg.get_frame().set_alpha(0.4)\n",
    "\n",
    "\n",
    "plt.suptitle(\"Ajuste Bayesiano de un Modelo\",\n",
    "             y=1.02,\n",
    "             fontsize=14)\n",
    "\n",
    "plt.tight_layout()"
   ]
  },
  {
   "cell_type": "markdown",
   "metadata": {},
   "source": [
    "___\n",
    "___"
   ]
  },
  {
   "cell_type": "markdown",
   "metadata": {},
   "source": [
    "## &#9991; <u>III. Modelos Generativos de Clasificación</u>"
   ]
  },
  {
   "cell_type": "code",
   "execution_count": 125,
   "metadata": {},
   "outputs": [],
   "source": [
    "import pandas as pd\n",
    "pd.set_option('float_format', '{:.2f}'.format)\n",
    "import seaborn as sns\n",
    "import matplotlib.pyplot as plt\n",
    "%matplotlib inline\n"
   ]
  },
  {
   "cell_type": "code",
   "execution_count": 115,
   "metadata": {},
   "outputs": [
    {
     "data": {
      "text/html": [
       "<div>\n",
       "<style scoped>\n",
       "    .dataframe tbody tr th:only-of-type {\n",
       "        vertical-align: middle;\n",
       "    }\n",
       "\n",
       "    .dataframe tbody tr th {\n",
       "        vertical-align: top;\n",
       "    }\n",
       "\n",
       "    .dataframe thead th {\n",
       "        text-align: right;\n",
       "    }\n",
       "</style>\n",
       "<table border=\"1\" class=\"dataframe\">\n",
       "  <thead>\n",
       "    <tr style=\"text-align: right;\">\n",
       "      <th></th>\n",
       "      <th>LoanNr_ChkDgt</th>\n",
       "      <th>Name</th>\n",
       "      <th>City</th>\n",
       "      <th>State</th>\n",
       "      <th>Zip</th>\n",
       "      <th>Bank</th>\n",
       "      <th>BankState</th>\n",
       "      <th>NAICS</th>\n",
       "      <th>ApprovalDate</th>\n",
       "      <th>ApprovalFY</th>\n",
       "      <th>...</th>\n",
       "      <th>ChgOffPrinGr</th>\n",
       "      <th>GrAppv</th>\n",
       "      <th>SBA_Appv</th>\n",
       "      <th>New</th>\n",
       "      <th>RealEstate</th>\n",
       "      <th>Portion</th>\n",
       "      <th>Recession</th>\n",
       "      <th>daysterm</th>\n",
       "      <th>xx</th>\n",
       "      <th>Default</th>\n",
       "    </tr>\n",
       "    <tr>\n",
       "      <th>Selected</th>\n",
       "      <th></th>\n",
       "      <th></th>\n",
       "      <th></th>\n",
       "      <th></th>\n",
       "      <th></th>\n",
       "      <th></th>\n",
       "      <th></th>\n",
       "      <th></th>\n",
       "      <th></th>\n",
       "      <th></th>\n",
       "      <th></th>\n",
       "      <th></th>\n",
       "      <th></th>\n",
       "      <th></th>\n",
       "      <th></th>\n",
       "      <th></th>\n",
       "      <th></th>\n",
       "      <th></th>\n",
       "      <th></th>\n",
       "      <th></th>\n",
       "      <th></th>\n",
       "    </tr>\n",
       "  </thead>\n",
       "  <tbody>\n",
       "    <tr>\n",
       "      <td>0</td>\n",
       "      <td>1004285007</td>\n",
       "      <td>SIMPLEX OFFICE SOLUTIONS</td>\n",
       "      <td>ANAHEIM</td>\n",
       "      <td>CA</td>\n",
       "      <td>92801</td>\n",
       "      <td>CALIFORNIA BANK &amp; TRUST</td>\n",
       "      <td>CA</td>\n",
       "      <td>532420</td>\n",
       "      <td>15074</td>\n",
       "      <td>2001</td>\n",
       "      <td>...</td>\n",
       "      <td>0</td>\n",
       "      <td>30000</td>\n",
       "      <td>15000</td>\n",
       "      <td>0</td>\n",
       "      <td>0</td>\n",
       "      <td>0.5</td>\n",
       "      <td>0</td>\n",
       "      <td>1080</td>\n",
       "      <td>16175.0</td>\n",
       "      <td>0</td>\n",
       "    </tr>\n",
       "    <tr>\n",
       "      <td>1</td>\n",
       "      <td>1004535010</td>\n",
       "      <td>DREAM HOME REALTY</td>\n",
       "      <td>TORRANCE</td>\n",
       "      <td>CA</td>\n",
       "      <td>90505</td>\n",
       "      <td>CALIFORNIA BANK &amp; TRUST</td>\n",
       "      <td>CA</td>\n",
       "      <td>531210</td>\n",
       "      <td>15130</td>\n",
       "      <td>2001</td>\n",
       "      <td>...</td>\n",
       "      <td>0</td>\n",
       "      <td>30000</td>\n",
       "      <td>15000</td>\n",
       "      <td>0</td>\n",
       "      <td>0</td>\n",
       "      <td>0.5</td>\n",
       "      <td>1</td>\n",
       "      <td>1680</td>\n",
       "      <td>17658.0</td>\n",
       "      <td>0</td>\n",
       "    </tr>\n",
       "    <tr>\n",
       "      <td>0</td>\n",
       "      <td>1005005006</td>\n",
       "      <td>Winset, Inc. dba Bankers Hill</td>\n",
       "      <td>SAN DIEGO</td>\n",
       "      <td>CA</td>\n",
       "      <td>92103</td>\n",
       "      <td>CALIFORNIA BANK &amp; TRUST</td>\n",
       "      <td>CA</td>\n",
       "      <td>531210</td>\n",
       "      <td>15188</td>\n",
       "      <td>2001</td>\n",
       "      <td>...</td>\n",
       "      <td>0</td>\n",
       "      <td>30000</td>\n",
       "      <td>15000</td>\n",
       "      <td>0</td>\n",
       "      <td>0</td>\n",
       "      <td>0.5</td>\n",
       "      <td>0</td>\n",
       "      <td>1080</td>\n",
       "      <td>16298.0</td>\n",
       "      <td>0</td>\n",
       "    </tr>\n",
       "    <tr>\n",
       "      <td>1</td>\n",
       "      <td>1005535001</td>\n",
       "      <td>Shiva Management</td>\n",
       "      <td>SAN DIEGO</td>\n",
       "      <td>CA</td>\n",
       "      <td>92108</td>\n",
       "      <td>CALIFORNIA BANK &amp; TRUST</td>\n",
       "      <td>CA</td>\n",
       "      <td>531312</td>\n",
       "      <td>15719</td>\n",
       "      <td>2003</td>\n",
       "      <td>...</td>\n",
       "      <td>0</td>\n",
       "      <td>50000</td>\n",
       "      <td>25000</td>\n",
       "      <td>0</td>\n",
       "      <td>0</td>\n",
       "      <td>0.5</td>\n",
       "      <td>0</td>\n",
       "      <td>1080</td>\n",
       "      <td>16816.0</td>\n",
       "      <td>0</td>\n",
       "    </tr>\n",
       "    <tr>\n",
       "      <td>1</td>\n",
       "      <td>1005996006</td>\n",
       "      <td>GOLD CROWN HOME LOANS, INC</td>\n",
       "      <td>LOS ANGELES</td>\n",
       "      <td>CA</td>\n",
       "      <td>91345</td>\n",
       "      <td>SBA - EDF ENFORCEMENT ACTION</td>\n",
       "      <td>CO</td>\n",
       "      <td>531390</td>\n",
       "      <td>16840</td>\n",
       "      <td>2006</td>\n",
       "      <td>...</td>\n",
       "      <td>0</td>\n",
       "      <td>343000</td>\n",
       "      <td>343000</td>\n",
       "      <td>0</td>\n",
       "      <td>1</td>\n",
       "      <td>1.0</td>\n",
       "      <td>0</td>\n",
       "      <td>7200</td>\n",
       "      <td>24103.0</td>\n",
       "      <td>0</td>\n",
       "    </tr>\n",
       "  </tbody>\n",
       "</table>\n",
       "<p>5 rows × 34 columns</p>\n",
       "</div>"
      ],
      "text/plain": [
       "          LoanNr_ChkDgt                           Name         City State  \\\n",
       "Selected                                                                    \n",
       "0            1004285007       SIMPLEX OFFICE SOLUTIONS      ANAHEIM    CA   \n",
       "1            1004535010              DREAM HOME REALTY     TORRANCE    CA   \n",
       "0            1005005006  Winset, Inc. dba Bankers Hill    SAN DIEGO    CA   \n",
       "1            1005535001               Shiva Management    SAN DIEGO    CA   \n",
       "1            1005996006     GOLD CROWN HOME LOANS, INC  LOS ANGELES    CA   \n",
       "\n",
       "            Zip                          Bank BankState   NAICS  ApprovalDate  \\\n",
       "Selected                                                                        \n",
       "0         92801       CALIFORNIA BANK & TRUST        CA  532420         15074   \n",
       "1         90505       CALIFORNIA BANK & TRUST        CA  531210         15130   \n",
       "0         92103       CALIFORNIA BANK & TRUST        CA  531210         15188   \n",
       "1         92108       CALIFORNIA BANK & TRUST        CA  531312         15719   \n",
       "1         91345  SBA - EDF ENFORCEMENT ACTION        CO  531390         16840   \n",
       "\n",
       "          ApprovalFY  ...  ChgOffPrinGr  GrAppv  SBA_Appv  New  RealEstate  \\\n",
       "Selected              ...                                                    \n",
       "0               2001  ...             0   30000     15000    0           0   \n",
       "1               2001  ...             0   30000     15000    0           0   \n",
       "0               2001  ...             0   30000     15000    0           0   \n",
       "1               2003  ...             0   50000     25000    0           0   \n",
       "1               2006  ...             0  343000    343000    0           1   \n",
       "\n",
       "          Portion  Recession daysterm       xx  Default  \n",
       "Selected                                                 \n",
       "0             0.5          0     1080  16175.0        0  \n",
       "1             0.5          1     1680  17658.0        0  \n",
       "0             0.5          0     1080  16298.0        0  \n",
       "1             0.5          0     1080  16816.0        0  \n",
       "1             1.0          0     7200  24103.0        0  \n",
       "\n",
       "[5 rows x 34 columns]"
      ]
     },
     "execution_count": 115,
     "metadata": {},
     "output_type": "execute_result"
    }
   ],
   "source": [
    "df1=pd.read_csv('../Data/ujse_a_1434342_sm1547/SBAcase.csv')\n",
    "df1.index=df1['Selected']\n",
    "df1=df1.drop(columns=['Selected'])\n",
    "df1.head()"
   ]
  },
  {
   "cell_type": "code",
   "execution_count": 116,
   "metadata": {},
   "outputs": [
    {
     "data": {
      "text/html": [
       "<div>\n",
       "<style scoped>\n",
       "    .dataframe tbody tr th:only-of-type {\n",
       "        vertical-align: middle;\n",
       "    }\n",
       "\n",
       "    .dataframe tbody tr th {\n",
       "        vertical-align: top;\n",
       "    }\n",
       "\n",
       "    .dataframe thead th {\n",
       "        text-align: right;\n",
       "    }\n",
       "</style>\n",
       "<table border=\"1\" class=\"dataframe\">\n",
       "  <thead>\n",
       "    <tr style=\"text-align: right;\">\n",
       "      <th></th>\n",
       "      <th>Recession</th>\n",
       "      <th>New</th>\n",
       "      <th>RealEstate</th>\n",
       "      <th>DisbursementGross</th>\n",
       "      <th>Portion</th>\n",
       "      <th>Default</th>\n",
       "    </tr>\n",
       "    <tr>\n",
       "      <th>Selected</th>\n",
       "      <th></th>\n",
       "      <th></th>\n",
       "      <th></th>\n",
       "      <th></th>\n",
       "      <th></th>\n",
       "      <th></th>\n",
       "    </tr>\n",
       "  </thead>\n",
       "  <tbody>\n",
       "    <tr>\n",
       "      <td>0</td>\n",
       "      <td>0</td>\n",
       "      <td>0</td>\n",
       "      <td>0</td>\n",
       "      <td>32812</td>\n",
       "      <td>0.50</td>\n",
       "      <td>0</td>\n",
       "    </tr>\n",
       "    <tr>\n",
       "      <td>1</td>\n",
       "      <td>1</td>\n",
       "      <td>0</td>\n",
       "      <td>0</td>\n",
       "      <td>30000</td>\n",
       "      <td>0.50</td>\n",
       "      <td>0</td>\n",
       "    </tr>\n",
       "    <tr>\n",
       "      <td>0</td>\n",
       "      <td>0</td>\n",
       "      <td>0</td>\n",
       "      <td>0</td>\n",
       "      <td>30000</td>\n",
       "      <td>0.50</td>\n",
       "      <td>0</td>\n",
       "    </tr>\n",
       "    <tr>\n",
       "      <td>1</td>\n",
       "      <td>0</td>\n",
       "      <td>0</td>\n",
       "      <td>0</td>\n",
       "      <td>50000</td>\n",
       "      <td>0.50</td>\n",
       "      <td>0</td>\n",
       "    </tr>\n",
       "    <tr>\n",
       "      <td>1</td>\n",
       "      <td>0</td>\n",
       "      <td>0</td>\n",
       "      <td>1</td>\n",
       "      <td>343000</td>\n",
       "      <td>1.00</td>\n",
       "      <td>0</td>\n",
       "    </tr>\n",
       "    <tr>\n",
       "      <td>...</td>\n",
       "      <td>...</td>\n",
       "      <td>...</td>\n",
       "      <td>...</td>\n",
       "      <td>...</td>\n",
       "      <td>...</td>\n",
       "      <td>...</td>\n",
       "    </tr>\n",
       "    <tr>\n",
       "      <td>1</td>\n",
       "      <td>0</td>\n",
       "      <td>1</td>\n",
       "      <td>0</td>\n",
       "      <td>150000</td>\n",
       "      <td>0.50</td>\n",
       "      <td>0</td>\n",
       "    </tr>\n",
       "    <tr>\n",
       "      <td>1</td>\n",
       "      <td>0</td>\n",
       "      <td>0</td>\n",
       "      <td>1</td>\n",
       "      <td>99000</td>\n",
       "      <td>0.80</td>\n",
       "      <td>0</td>\n",
       "    </tr>\n",
       "    <tr>\n",
       "      <td>0</td>\n",
       "      <td>0</td>\n",
       "      <td>0</td>\n",
       "      <td>0</td>\n",
       "      <td>50000</td>\n",
       "      <td>0.80</td>\n",
       "      <td>0</td>\n",
       "    </tr>\n",
       "    <tr>\n",
       "      <td>1</td>\n",
       "      <td>0</td>\n",
       "      <td>0</td>\n",
       "      <td>0</td>\n",
       "      <td>251150</td>\n",
       "      <td>0.75</td>\n",
       "      <td>0</td>\n",
       "    </tr>\n",
       "    <tr>\n",
       "      <td>0</td>\n",
       "      <td>0</td>\n",
       "      <td>0</td>\n",
       "      <td>0</td>\n",
       "      <td>35000</td>\n",
       "      <td>0.50</td>\n",
       "      <td>0</td>\n",
       "    </tr>\n",
       "  </tbody>\n",
       "</table>\n",
       "<p>2102 rows × 6 columns</p>\n",
       "</div>"
      ],
      "text/plain": [
       "          Recession  New  RealEstate  DisbursementGross  Portion  Default\n",
       "Selected                                                                 \n",
       "0                 0    0           0              32812     0.50        0\n",
       "1                 1    0           0              30000     0.50        0\n",
       "0                 0    0           0              30000     0.50        0\n",
       "1                 0    0           0              50000     0.50        0\n",
       "1                 0    0           1             343000     1.00        0\n",
       "...             ...  ...         ...                ...      ...      ...\n",
       "1                 0    1           0             150000     0.50        0\n",
       "1                 0    0           1              99000     0.80        0\n",
       "0                 0    0           0              50000     0.80        0\n",
       "1                 0    0           0             251150     0.75        0\n",
       "0                 0    0           0              35000     0.50        0\n",
       "\n",
       "[2102 rows x 6 columns]"
      ]
     },
     "execution_count": 116,
     "metadata": {},
     "output_type": "execute_result"
    }
   ],
   "source": [
    "df2=df1[['Recession','New','RealEstate','DisbursementGross','Portion','Default']]\n",
    "df2"
   ]
  },
  {
   "cell_type": "code",
   "execution_count": 124,
   "metadata": {},
   "outputs": [
    {
     "data": {
      "text/html": [
       "<div>\n",
       "<style scoped>\n",
       "    .dataframe tbody tr th:only-of-type {\n",
       "        vertical-align: middle;\n",
       "    }\n",
       "\n",
       "    .dataframe tbody tr th {\n",
       "        vertical-align: top;\n",
       "    }\n",
       "\n",
       "    .dataframe thead th {\n",
       "        text-align: right;\n",
       "    }\n",
       "</style>\n",
       "<table border=\"1\" class=\"dataframe\">\n",
       "  <thead>\n",
       "    <tr style=\"text-align: right;\">\n",
       "      <th></th>\n",
       "      <th>count</th>\n",
       "      <th>mean</th>\n",
       "      <th>std</th>\n",
       "      <th>min</th>\n",
       "      <th>25%</th>\n",
       "      <th>50%</th>\n",
       "      <th>75%</th>\n",
       "      <th>max</th>\n",
       "    </tr>\n",
       "  </thead>\n",
       "  <tbody>\n",
       "    <tr>\n",
       "      <td>Recession</td>\n",
       "      <td>2102.00</td>\n",
       "      <td>0.07</td>\n",
       "      <td>0.25</td>\n",
       "      <td>0.00</td>\n",
       "      <td>0.00</td>\n",
       "      <td>0.00</td>\n",
       "      <td>0.00</td>\n",
       "      <td>1.00</td>\n",
       "    </tr>\n",
       "    <tr>\n",
       "      <td>New</td>\n",
       "      <td>2102.00</td>\n",
       "      <td>0.15</td>\n",
       "      <td>0.36</td>\n",
       "      <td>0.00</td>\n",
       "      <td>0.00</td>\n",
       "      <td>0.00</td>\n",
       "      <td>0.00</td>\n",
       "      <td>1.00</td>\n",
       "    </tr>\n",
       "    <tr>\n",
       "      <td>RealEstate</td>\n",
       "      <td>2102.00</td>\n",
       "      <td>0.27</td>\n",
       "      <td>0.45</td>\n",
       "      <td>0.00</td>\n",
       "      <td>0.00</td>\n",
       "      <td>0.00</td>\n",
       "      <td>1.00</td>\n",
       "      <td>1.00</td>\n",
       "    </tr>\n",
       "    <tr>\n",
       "      <td>DisbursementGross</td>\n",
       "      <td>2102.00</td>\n",
       "      <td>242737.21</td>\n",
       "      <td>338286.10</td>\n",
       "      <td>4835.00</td>\n",
       "      <td>40000.00</td>\n",
       "      <td>100000.00</td>\n",
       "      <td>300000.00</td>\n",
       "      <td>2315000.00</td>\n",
       "    </tr>\n",
       "    <tr>\n",
       "      <td>Portion</td>\n",
       "      <td>2102.00</td>\n",
       "      <td>0.67</td>\n",
       "      <td>0.19</td>\n",
       "      <td>0.30</td>\n",
       "      <td>0.50</td>\n",
       "      <td>0.50</td>\n",
       "      <td>0.85</td>\n",
       "      <td>1.00</td>\n",
       "    </tr>\n",
       "    <tr>\n",
       "      <td>Default</td>\n",
       "      <td>2102.00</td>\n",
       "      <td>0.33</td>\n",
       "      <td>0.47</td>\n",
       "      <td>0.00</td>\n",
       "      <td>0.00</td>\n",
       "      <td>0.00</td>\n",
       "      <td>1.00</td>\n",
       "      <td>1.00</td>\n",
       "    </tr>\n",
       "  </tbody>\n",
       "</table>\n",
       "</div>"
      ],
      "text/plain": [
       "                    count      mean       std     min      25%       50%  \\\n",
       "Recession         2102.00      0.07      0.25    0.00     0.00      0.00   \n",
       "New               2102.00      0.15      0.36    0.00     0.00      0.00   \n",
       "RealEstate        2102.00      0.27      0.45    0.00     0.00      0.00   \n",
       "DisbursementGross 2102.00 242737.21 338286.10 4835.00 40000.00 100000.00   \n",
       "Portion           2102.00      0.67      0.19    0.30     0.50      0.50   \n",
       "Default           2102.00      0.33      0.47    0.00     0.00      0.00   \n",
       "\n",
       "                        75%        max  \n",
       "Recession              0.00       1.00  \n",
       "New                    0.00       1.00  \n",
       "RealEstate             1.00       1.00  \n",
       "DisbursementGross 300000.00 2315000.00  \n",
       "Portion                0.85       1.00  \n",
       "Default                1.00       1.00  "
      ]
     },
     "execution_count": 124,
     "metadata": {},
     "output_type": "execute_result"
    }
   ],
   "source": []
  },
  {
   "cell_type": "code",
   "execution_count": 118,
   "metadata": {},
   "outputs": [
    {
     "data": {
      "image/png": "[encoded data removed]",
      "text/plain": [
       "<Figure size 944.75x900 with 30 Axes>"
      ]
     },
     "metadata": {
      "needs_background": "light"
     },
     "output_type": "display_data"
    }
   ],
   "source": [
    "g=sns.pairplot(df2,kind='scatter', plot_kws={'alpha': 0.5}, vars=['Recession','New','RealEstate','DisbursementGross','Portion'],hue='Default')"
   ]
  },
  {
   "cell_type": "code",
   "execution_count": null,
   "metadata": {},
   "outputs": [],
   "source": []
  }
 ],
 "metadata": {
  "kernelspec": {
   "display_name": "Python 3",
   "language": "python",
   "name": "python3"
  },
  "language_info": {
   "codemirror_mode": {
    "name": "ipython",
    "version": 3
   },
   "file_extension": ".py",
   "mimetype": "text/x-python",
   "name": "python",
   "nbconvert_exporter": "python",
   "pygments_lexer": "ipython3",
   "version": "3.7.4"
  }
 },
 "nbformat": 4,
 "nbformat_minor": 4
}
