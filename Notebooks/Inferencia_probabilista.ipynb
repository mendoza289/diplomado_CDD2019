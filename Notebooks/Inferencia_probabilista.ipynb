{
 "cells": [
  {
   "cell_type": "markdown",
   "metadata": {},
   "source": [
    "<a href=\"https://colab.research.google.com/github/jhermosillo/diplomado_CDD2019/blob/modulo4/Notebooks/Inferencia_probabilista.ipynb\" target=\"_parent\"><img src=\"https://colab.research.google.com/assets/colab-badge.svg\" alt=\"Open In Colab\"/></a>"
   ]
  },
  {
   "cell_type": "markdown",
   "metadata": {},
   "source": [
    "<h1 style=\"font-size:50px;\" align=\"left\"> <img align=\"left\" width=\"400\" src=\"../img/AI_network.jpg\"/> Inferencia Probabilista y Enfoque Bayesiano en Reconocimiento de Patrones</h1>"
   ]
  },
  {
   "cell_type": "markdown",
   "metadata": {},
   "source": [
    "___"
   ]
  },
  {
   "cell_type": "markdown",
   "metadata": {},
   "source": [
    "<style>\n",
    "table, td, th {  \n",
    "  border: 1px solid #ddd;\n",
    "  text-align: left;\n",
    "}\n",
    "|  <img src=\"../img/data_science.jpg\" width=\"300\"/> |   <font color='midnightblue'>Diplomado en <br> Ciencia de Datos <br> con Python</font>|\n",
    "|:-:|:-|\n"
   ]
  },
  {
   "cell_type": "markdown",
   "metadata": {},
   "source": [
    "&#128214; <u>Referencias bibliográficas</u>:\n",
    "* Flach, Peter (2012). Machine Learning: The Art and Science of Algorithms that Make Sense of Data. Cambridge University Press.\n",
    "* Bishop, Christopher M. (2006). Pattern recognition and machine learning. New York. Springer."
   ]
  },
  {
   "cell_type": "markdown",
   "metadata": {},
   "source": [
    "## &#9991; <u>Inferencia probabilista</u>"
   ]
  },
  {
   "cell_type": "markdown",
   "metadata": {},
   "source": [
    "### Ejemplo introductorio: Cajas con Frutas\n",
    "Supongamos que tenemos dos cajas, una caja roja que contiene 2 Manzanas y 6 Duraznos, y una caja azul que contiene 3 Manzanas y 1 Durazno.\n",
    "\n",
    "<img src=\"../img/peras_naranjas.jpg\" width=200/>\n",
    "\n",
    "Experimento(s):\n",
    "* <u>Elegimos una caja al azar</u> y <u>sacamos una fruta al azar</u>.\n",
    "* Habiendo observado qué fruta es, la volvemos a colocar en la caja de donde salió (muestreo con reemplazo).\n",
    "* Hacemos esto muchas veces; i.e. corremos el experimento varias veces (_trials_). \n",
    "\n",
    "Condiciones de partida (supuestos):\n",
    "* Supongamos que en este proceso tomamos la caja <b>roja 40%</b> de las veces y la caja <b>azúl 60%</b>.\n",
    "* Supongamos también que al devolver la fruta elegida al azar, cualquier otra fruta es igualmente probable de ser elegida la próxima vez (muestreo independiente)."
   ]
  },
  {
   "cell_type": "markdown",
   "metadata": {},
   "source": [
    "### Formalización matemática del Experimento y sus Resultados:\n",
    "\n",
    "#### Variable aleatoria, evento, distribución de probabilidad, valor de probabilidad\n",
    "* **La identidad de la caja** es una **_Variable Aleatoria_** (VA) que llamaremos $C$. Esta VA tiene **dos valores posibles**: $r$ (cuando se elige la caja roja) y $a$ (cuando elegimos la caja azúl).\n",
    "* La identidad de la fruta es una VA ($F$), cuyos valores posibles son $m$ y $d$.\n",
    "* Llamaremos un **_Evento_** el **resultado** de \"elegir una caja al azar\".\n",
    "* De esta forma, tenemos dos eventos posibles respecto de la primera parte del experimento: $C=r$ o $C=a$.\n",
    "* Llamaremos $P(C)$ la **distribución de probablidad** de $C$ y $p(C=x)$ el valor de probabilidad de que $C=x$. \n",
    "* Del ejemplo tenemos: $p(C=r)=4/10$ y $p(C=a)=6/10$; las respectivas proporciones de cada evento. Por definición los valores de probabilidad se encuentran en el intervalo $[0,1]$.\n",
    "* Para simplificar la notación escribiremos: $p(r)=0.4$ o $p(a)=0.6$.\n",
    "* Nota la diferencia entre el valor que puede tomar la VA ($r$ o $a$) y el valor de probabilidad de cada valor posible de la variable ($p(r)$ o $p(a)$).\n",
    "* Si los eventos son mutuamente excluyentes e incluyen todos los resultados posibles (como es el caso), entonces la suma de sus probabilidades es $1$: $p(r)+p(a)=1$.\n",
    "* A partir de aquí, nos podemos hacer varias preguntas. Por ejemplo, ¿Cuál es la probabilidad de elegir una Manzana? o ¿Dado que elegimos un Durazno, qué probablidad hay de que haya provenido de la caja azúl?\n",
    "* Para responder este tipo de preguntas, necesitamos utilizar las **_reglas de inferencia_** de la Teoría de Probabilidad."
   ]
  },
  {
   "cell_type": "markdown",
   "metadata": {},
   "source": [
    "  ### Regla del Producto y Regla de la Suma"
   ]
  },
  {
   "cell_type": "markdown",
   "metadata": {},
   "source": [
    "#### **Ilustración gráfica**.\n",
    "\n",
    "* Supongamos dos VA $X$ y $Y$. Supongamos además que $X$ tiene $i=1,\\ldots,M$ valores posibles y $Y$ tiene $j=1,\\ldots,L$ valores posibles, que denominaremos $x_i$ y $y_j$ respectivamente.\n",
    "* Supongamos que corremos el experimento $N$ veces (trials) y que en cada corrida muestreamos el valor de $X$ y de $Y$. \n",
    "* Sea $n_{ij}$ el **número de veces** en que $X=x_i$ y $Y=y_j$.\n",
    "* Sea $c_i$ el número de veces en que $X=x_i$ (independientemente de cuanto valga $Y$).\n",
    "* Sea $r_j$ el número de veces en que $Y=y_j$ (independientemente de cuanto valga $X$).\n",
    "\n",
    "<img src=\"../img/probas_graficas.jpg\" width=300/>\n",
    "<em><center>Ilustración de dos VA $X$ y $Y$: $X$ puede tomar 5 valores posibles y $Y$ 3. </center></em>\n",
    "\n",
    "<u>Probabilidad Conjunta</u>\n",
    "\n",
    "Es la probabilidad de que $X=x_i$ y $Y=y_j$ de manera simultánea (conjuntamente). Se escribe: $p(X=x_i,Y=y_j)$ y está dada por la proporción de veces en que ocurre esta conjunción (celda $(i,j)$) respecto del total de observaciones. \n",
    "\n",
    "<center>$p(x_i,y_j)=\\frac{n_{ij}}{N}$ &emsp;&emsp;&emsp;&emsp; (1)</center>\n",
    "\n",
    "<u>Probabilidad Marginal (Regla de la Suma)</u>\n",
    "\n",
    "Es la probabilidad de que $X=x_i$ de manera aislada (independientemente del valor de $Y$). Se escribe: $p(X=x_i)$ y está dada por la proporción del total de veces en que $X=x_i$ respecto del total de observaciones. \n",
    "\n",
    "<center>$p(x_i)=\\frac{c_{i}}{N}$ &emsp;&emsp;&emsp;&emsp; (2)</center>\n",
    "\n",
    "&#9758; Puesto que el número de instancias $c_i$ es el valor total de instancias en la columna $i$, tenemos que $c_i=\\sum n_{ij}$. Por lo tanto, de (1) y (2) tenemos:\n",
    "$$\n",
    "p(X=x_i)=\\sum_{j=1}^{L} p(X=x_i,Y=y_j) \\;\\;\\;\\;\\;\\;(3)\n",
    "$$\n",
    "\n",
    "<u>Probabilidad Condicional</u>\n",
    "\n",
    "Si consideramos sólo las instancias en que $X=x_i$, la fracción de estas instancias en las que $Y=y_j$ se escribe: $p(Y=y_j|X=x_i)$ y se le llama probabilidad condicional de $Y=y_j$ dado que $X=x_i$. Es la fracción de puntos que están en la columna $c_i$ que caen en la celda $(i,j)$: \n",
    "\n",
    "<center>$p(y_j|x_i)=\\frac{n_{ij}}{c_{i}}$ &emsp;&emsp;&emsp;&emsp; (4)</center>\n",
    "\n",
    "<u>Descomposición de la Conjunta (Regla del Producto)</u>\n",
    "\n",
    "&#9758; De (1), (2) y (4) tenemos la siguiente relación:\n",
    "\n",
    "$$\n",
    "p(X=x_i,Y=y_j) = \\frac{n_{ij}}{N} = \\frac{n_{ij}}{c_i}\\cdot\\frac{c_{i}}{N} = p(Y=y_j|X=x_i)p(X=x_i) \\;\\;\\;\\;\\;\\;(5)\n",
    "$$"
   ]
  },
  {
   "cell_type": "markdown",
   "metadata": {},
   "source": [
    "#### **Regla del Producto:**\n",
    "\n",
    "$$\n",
    "P(X,Y) = P(Y|X)P(X) \\;\\;\\;\\;\\;\\;(6)\n",
    "$$\n",
    "\n",
    "#### **Regla de la Suma:**\n",
    "\n",
    "$$\n",
    "p(X)=\\sum_{Y} P(X,Y) \\;\\;\\;\\;\\;\\;(7)\n",
    "$$\n"
   ]
  },
  {
   "cell_type": "markdown",
   "metadata": {},
   "source": [
    "&#9758; Estas expresiones se refieren a distribuciones de probabilidad **discreta**. Debes tomar en cuenta que se trata de Tablas, donde se van llenando los valores de probabilidad para cada valor de $x_i$ y $y_j$. \n",
    "\n",
    "Para nuestro ejemplo de Cajas ($X$) y Frutas ($Y$), las Tablas de distribución tendrían una aspecto similar a estos:\n",
    "<table width=\"90%\">\n",
    "    <tr>\n",
    "        <td valign=\"top\">\n",
    "            <table width=\"40%\">\n",
    "              <tr>\n",
    "                <th> $X$</th>\n",
    "                <th><p style=\"text-align:center;\"> $P(X)$</p></th>\n",
    "              </tr>\n",
    "              <tr>\n",
    "                <td><p style=\"text-align:center;\">$r$</p></td>\n",
    "                <td><p style=\"text-align:center;\">$p(r)$</p></td>\n",
    "              </tr>\n",
    "              <tr>\n",
    "                <td><p style=\"text-align:center;\">$a$</p></td>\n",
    "                <td><p style=\"text-align:center;\">$p(a)$</p></td>\n",
    "              </tr>\n",
    "            </table>\n",
    "        </td>\n",
    "        <td valign=\"top\">\n",
    "            <table >\n",
    "              <tr>\n",
    "                <th> $X, Y$</th>\n",
    "                <th><p style=\"text-align:center;\"> $P(X,Y)$</p></th>\n",
    "              </tr>\n",
    "              <tr>\n",
    "                <td><p style=\"text-align:center;\">$r,m$</p></td>\n",
    "                <td><p style=\"text-align:center;\">$p(r,m)$</p></td>\n",
    "              </tr>\n",
    "              <tr>\n",
    "                <td><p style=\"text-align:center;\">$r,d$</p></td>\n",
    "                <td><p style=\"text-align:center;\">$p(r,d)$</p></td>\n",
    "              </tr>\n",
    "              <tr>\n",
    "                <td><p style=\"text-align:center;\">$a,m$</p></td>\n",
    "                <td><p style=\"text-align:center;\">$p(a,m)$</p></td>\n",
    "              </tr>\n",
    "              <tr>\n",
    "                <td><p style=\"text-align:center;\">$a,d$</p></td>\n",
    "                <td><p style=\"text-align:center;\">$p(a,d)$</p></td>\n",
    "              </tr>\n",
    "            </table>\n",
    "        </td>\n",
    "        <td valign=\"top\">\n",
    "            <table >\n",
    "              <tr>\n",
    "                <td style=\"height:1px;\"> &nbsp;</td>\n",
    "                <td colspan=\"2\"><p style=\"text-align:center;\">$P$($Y$|$X$)</p></td>\n",
    "              </tr>\n",
    "              <tr>\n",
    "                <td>$X$</td>\n",
    "                <td><p style=\"text-align:center;\">$m$</p></td>\n",
    "                <td><p style=\"text-align:center;\">$d$</p></td>\n",
    "              </tr>\n",
    "              <tr>\n",
    "                <td><p style=\"text-align:center;\">$r$</p></td>\n",
    "                <td><p style=\"text-align:center;\">$p(m|r)$</p></td>\n",
    "                <td><p style=\"text-align:center;\">$p(d|r)$</p></td>\n",
    "              </tr>\n",
    "              <tr>\n",
    "                <td><p style=\"text-align:center;\">$a$</p></td>\n",
    "                <td><p style=\"text-align:center;\">$p(m|a)$</p></td>\n",
    "                <td><p style=\"text-align:center;\">$p(d|a)$</p></td>\n",
    "              </tr>\n",
    "            </table>        \n",
    "        </td>\n",
    "    </tr>\n",
    "</table>\n",
    "\n"
   ]
  },
  {
   "cell_type": "markdown",
   "metadata": {},
   "source": [
    "### Teorema de Bayes"
   ]
  },
  {
   "cell_type": "markdown",
   "metadata": {},
   "source": [
    "De la regla del producto podemos observar que:\n",
    "\n",
    "$$\n",
    "P(X,Y) = P(Y|X)P(X) = P(X|Y)P(Y) \\;\\;\\;\\;\\;\\;(8)\n",
    "$$\n",
    "\n",
    "Despejando para $P(Y|X)$ tenemos el **Teorema de Bayes**:\n",
    "\n",
    "$$\n",
    "P(Y|X) = \\frac{P(X|Y)P(Y)}{P(X)} \\;\\;\\;\\;\\;\\;(9)\n",
    "$$\n"
   ]
  },
  {
   "cell_type": "markdown",
   "metadata": {},
   "source": [
    "### &#9998; **Ejercicios-Reglas de la Inferencia Probabilista**"
   ]
  },
  {
   "cell_type": "markdown",
   "metadata": {},
   "source": [
    "Aplicando las ecuaciones (6) a (9) responde a las siguientes preguntas para nuestro ejemplo de Manzanas y Duraznos:\n",
    "\n",
    "<ol>\n",
    "    <li>¿Cuál es la probabilidad de elegir una Manzana?</li>\n",
    "    <li>¿Dado que elegimos un Durazno, qué probablidad hay de que haya provenido de la caja azúl?</li>\n",
    "</ol>"
   ]
  },
  {
   "cell_type": "markdown",
   "metadata": {},
   "source": [
    "Representemos $P(X)$, la distribución de X (el color de la caja)"
   ]
  },
  {
   "cell_type": "code",
   "execution_count": 1,
   "metadata": {},
   "outputs": [
    {
     "name": "stdout",
     "output_type": "stream",
     "text": [
      "p(X=r) = 0.4; p(X=a) = 0.6\n"
     ]
    },
    {
     "data": {
      "text/html": [
       "<div>\n",
       "<style scoped>\n",
       "    .dataframe tbody tr th:only-of-type {\n",
       "        vertical-align: middle;\n",
       "    }\n",
       "\n",
       "    .dataframe tbody tr th {\n",
       "        vertical-align: top;\n",
       "    }\n",
       "\n",
       "    .dataframe thead th {\n",
       "        text-align: right;\n",
       "    }\n",
       "</style>\n",
       "<table border=\"1\" class=\"dataframe\">\n",
       "  <thead>\n",
       "    <tr style=\"text-align: right;\">\n",
       "      <th>P(X)</th>\n",
       "      <th>p</th>\n",
       "    </tr>\n",
       "    <tr>\n",
       "      <th>X</th>\n",
       "      <th></th>\n",
       "    </tr>\n",
       "  </thead>\n",
       "  <tbody>\n",
       "    <tr>\n",
       "      <td>r</td>\n",
       "      <td>0.4</td>\n",
       "    </tr>\n",
       "    <tr>\n",
       "      <td>a</td>\n",
       "      <td>0.6</td>\n",
       "    </tr>\n",
       "  </tbody>\n",
       "</table>\n",
       "</div>"
      ],
      "text/plain": [
       "P(X)    p\n",
       "X        \n",
       "r     0.4\n",
       "a     0.6"
      ]
     },
     "execution_count": 1,
     "metadata": {},
     "output_type": "execute_result"
    }
   ],
   "source": [
    "import numpy as np\n",
    "import pandas as pd\n",
    "\n",
    "#PX={'r':4/10, 'a':6/10}. los datos:\n",
    "data={'p':[4/10,6/10]}\n",
    "\n",
    "#construimos el DF\n",
    "PX=pd.DataFrame(data,index=['r','a'])\n",
    "\n",
    "#Cambiamos el titulo del indice\n",
    "PX.index.names = ['X']\n",
    "PX.columns.names = ['P(X)']\n",
    "\n",
    "print('p(X=r) = {0}; p(X=a) = {1}'.format(PX['p']['r'],PX['p']['a']))\n",
    "PX\n"
   ]
  },
  {
   "cell_type": "markdown",
   "metadata": {},
   "source": [
    "&#9998; **Calcula $P(Y|X)$. ¿Qué representa esta distribución para nuestro ejemplo?**"
   ]
  },
  {
   "cell_type": "code",
   "execution_count": 32,
   "metadata": {},
   "outputs": [
    {
     "data": {
      "text/html": [
       "<div>\n",
       "<style scoped>\n",
       "    .dataframe tbody tr th:only-of-type {\n",
       "        vertical-align: middle;\n",
       "    }\n",
       "\n",
       "    .dataframe tbody tr th {\n",
       "        vertical-align: top;\n",
       "    }\n",
       "\n",
       "    .dataframe thead th {\n",
       "        text-align: right;\n",
       "    }\n",
       "</style>\n",
       "<table border=\"1\" class=\"dataframe\">\n",
       "  <thead>\n",
       "    <tr style=\"text-align: right;\">\n",
       "      <th>P(Y|X)</th>\n",
       "    </tr>\n",
       "    <tr>\n",
       "      <th>X</th>\n",
       "    </tr>\n",
       "  </thead>\n",
       "  <tbody>\n",
       "    <tr>\n",
       "      <td>r</td>\n",
       "    </tr>\n",
       "    <tr>\n",
       "      <td>a</td>\n",
       "    </tr>\n",
       "  </tbody>\n",
       "</table>\n",
       "</div>"
      ],
      "text/plain": [
       "Empty DataFrame\n",
       "Columns: []\n",
       "Index: [r, a]"
      ]
     },
     "execution_count": 32,
     "metadata": {},
     "output_type": "execute_result"
    }
   ],
   "source": [
    "# TIP: de los datos de partida, encuentra:\n",
    "# pm_r,pm_a\n",
    "# pd_r,pd_a\n",
    "\n",
    "#luego construye el diccionario 'data'\n",
    "data={}\n",
    "\n",
    "#construimos el DF\n",
    "PY_X=pd.DataFrame(data,index=[\"r\", \"a\"])\n",
    "PY_X.index.names = ['X']\n",
    "PY_X.columns.names = ['P(Y|X)']\n",
    "PY_X"
   ]
  },
  {
   "cell_type": "markdown",
   "metadata": {},
   "source": [
    "&#9998; **¿Cuál es la probabilidad de elegir una Manzana?**\n",
    "\n",
    "* ¿Cómo se representa la probabilidad de esta pregunta?\n",
    "* Calcúlala\n",
    "* Proporciona la distribución completa $P(Y)$"
   ]
  },
  {
   "cell_type": "code",
   "execution_count": null,
   "metadata": {},
   "outputs": [],
   "source": []
  },
  {
   "cell_type": "markdown",
   "metadata": {},
   "source": [
    "&#9998; **¿Dado que elegimos un Durazno, qué probablidad hay de que haya provenido de la caja azúl?**\n",
    "\n",
    "* ¿Cómo se representa la probabilidad de esta pregunta? \n",
    "* Calcúlala\n",
    "* Proporciona la distribución completa"
   ]
  },
  {
   "cell_type": "code",
   "execution_count": null,
   "metadata": {},
   "outputs": [],
   "source": []
  },
  {
   "cell_type": "markdown",
   "metadata": {},
   "source": [
    "___"
   ]
  },
  {
   "cell_type": "markdown",
   "metadata": {},
   "source": [
    "###  I.4 Inferencia Continua"
   ]
  },
  {
   "cell_type": "markdown",
   "metadata": {},
   "source": [
    "En el caso de VA continuas, el cálculo de probabilidades pasa por la integración de la función de **densidad de probabilidad**. Por ejemplo, si $x$ es una VA continua, que toma valores en el intervalo $(a,b)$, y si su función de densidad probabilidad es $f(x)$, entonces:\n",
    "\n",
    "$$\n",
    "p(x\\in(a,b))=\\int_a^b f(x)\\,\\textrm{d}x\n",
    "$$\n",
    "\n",
    "$$\n",
    "p(x) \\geq 0\n",
    "$$\n",
    "\n",
    "$$\n",
    "\\int_{-\\infty}^{\\infty} f(x)\\,\\textrm{d}x = 1\n",
    "$$"
   ]
  },
  {
   "cell_type": "markdown",
   "metadata": {},
   "source": [
    "<img src=\"../img/densidad_probabilidad.jpg\" width=\"50%\"/>"
   ]
  },
  {
   "cell_type": "markdown",
   "metadata": {},
   "source": [
    "Si tenemos dos VA continuas $x$ y $y$ y funciones de densidad de probabilidad marginal $p(x)$, conjunta $p(x,y)$ y condicional $p(y|x)$, las reglas del producto y de la suma tiene la misma forma que vimos antes:"
   ]
  },
  {
   "cell_type": "markdown",
   "metadata": {},
   "source": [
    "#### **Regla del Producto:**\n",
    "\n",
    "$$\n",
    "p(x,y) = p(y|x)p(x) \\;\\;\\;\\;\\;\\;(10)\n",
    "$$\n",
    "\n",
    "#### **Regla de la Suma:**\n",
    "\n",
    "$$\n",
    "p(x)=\\int p(x,y)\\,\\textrm{d}y \\;\\;\\;\\;\\;\\;(11)\n",
    "$$"
   ]
  },
  {
   "cell_type": "markdown",
   "metadata": {},
   "source": [
    "___\n",
    "___"
   ]
  },
  {
   "cell_type": "markdown",
   "metadata": {},
   "source": [
    "## &#9991; <u>Enfoque Bayesiano: inferencia con incertidumbre</u>"
   ]
  },
  {
   "cell_type": "markdown",
   "metadata": {},
   "source": [
    "* El ejemplo anterior, es un clásico ejemplo de cómo se utilizan las reglas de inferencia probabilista, bajo un **enfoque frecuentista**. \n",
    "* En algunas ocasiones es prácticamente imposible realizar un conteo de ciertos fenómenos o situaciones reales. Pensemos en la situación actual de la pandemia covid19. ¿Habrá desaparecido el riesgo de contagio en México en el 2021? Esta es una pregunta sobre la que no tenemos forma de repetir experimentos y calcular una probabilidad en la misma forma que en el ejemplo de las frutas. \n",
    "* Aún así, es posible tener una estimación de la velocidad de contagio y de la disminución del número de personas infectadas hasta ahora. Con ello, podríamos hacernos una idea (**una creencia** o **hipótesis**) sobre la respuesta a la pregunta.\n",
    "* Esta  **creencia a priori**, sin embargo, tendría que **modificarse** conforme vayamos teniendo **nueva evidencia**¨sobre el comportamiento de los contagios.\n",
    "* La evaluación de estos aspectos nos llevaría a **tomar decisiones**, cuyos efectos deberíamos ser capaces de observar para validar nuestras hipótesis.  \n",
    "* Ante estas circunstancias, es deseable tener una forma de **medir la incertidumbre** alrededor de nuestras hipótesis, y hacer revisiones de esta incertidumbre a la luz de nueva información.\n",
    "* Esto se logra gracias a la elegante interpretación de la probabilidad bayesiana."
   ]
  },
  {
   "cell_type": "markdown",
   "metadata": {},
   "source": [
    "&#128214; <u>Orígenes del bayesianismo</u>:\n",
    "<br>\n",
    "<ul>\n",
    "    <li> Biografía de <a href=\"https://es.wikipedia.org/wiki/Thomas_Bayes\"> Thomas Bayes</a> en Wikipedia</li>\n",
    "    <li> <a href=\"https://en.wikipedia.org/wiki/Cox%27s_theorem\"> Cox's Theorem</a> en Wikipedia</li>\n",
    "    <li> Cox, R. T. (1946). \"Probability, Frequency and Reasonable Expectation\". American Journal of Physics. 14: 1–10. doi:<a href=\"https://aapt.scitation.org/doi/10.1119/1.1990764\">10.1119/1.1990764</a>. </li>\n",
    "    <li>Cox, R. T. (1961). The Algebra of Probable Inference. Baltimore, MD: Johns Hopkins University Press. </li>\n",
    "    <li>Jaynes, E.T. (2003). Probability Theory - The Logic of Science.  Cambridge University Press. doi: <a href=\"https://www.cambridge.org/core/books/probability-theory/9CA08E224FF30123304E6D8935CF1A99\">10.1017/CBO9780511790423</a></li>\n",
    "</ul>\n",
    "\n"
   ]
  },
  {
   "cell_type": "markdown",
   "metadata": {},
   "source": [
    "### Re-interpretación del Teorema de Bayes"
   ]
  },
  {
   "cell_type": "markdown",
   "metadata": {},
   "source": [
    "<img src=\"../img/enfoque_bayesiano.jpg\" width=\"80%\"/>"
   ]
  },
  {
   "cell_type": "markdown",
   "metadata": {},
   "source": [
    "&#9998; **Utiliza las reglas del producto, de la suma y el teorema de Bayes para encontrar la expresión de que se pide, dada una distribución conjunta proporcionada al inicio:**\n",
    "\n",
    "NOTA: Las variables discretas están en _MAYÚSCULAS_ y las continuas en _minúsculas_.\n",
    "\n",
    "* $p(A,B,C)$ ; $p(B)$ &emsp; &emsp; &emsp; $\\rightarrow^{resp.} P(B)=\\sum_A \\sum_C P(ABC)$\n",
    "* $p(X,B,D)$ ; $p(XB)$ &emsp; &emsp; $\\rightarrow^{resp.} $ \n",
    "* $p(x,y)$ ; $p(y|x)$ &emsp; &emsp; &emsp; &nbsp; $  \\rightarrow^{resp.} $\n",
    "* $p(x,\\mu|D)$ ; $p(x|D)$ &emsp; &emsp; $  \\rightarrow^{resp.} $\n",
    "* $p(H,D|\\pi)$ ; $p(D|H\\pi)$ &emsp;  $  \\rightarrow^{resp.} $\n",
    "* $p(x,y,E,A)$ ; $p(x,y)$ &emsp; &nbsp;   $  \\rightarrow^{resp.} $\n",
    "* $p(x,y,E|A)$ ; $p(x|E,A)$ &nbsp;  $  \\rightarrow^{resp.} $"
   ]
  },
  {
   "cell_type": "code",
   "execution_count": null,
   "metadata": {},
   "outputs": [],
   "source": []
  }
 ],
 "metadata": {
  "kernelspec": {
   "display_name": "Python 3",
   "language": "python",
   "name": "python3"
  },
  "language_info": {
   "codemirror_mode": {
    "name": "ipython",
    "version": 3
   },
   "file_extension": ".py",
   "mimetype": "text/x-python",
   "name": "python",
   "nbconvert_exporter": "python",
   "pygments_lexer": "ipython3",
   "version": "3.7.4"
  }
 },
 "nbformat": 4,
 "nbformat_minor": 4
}
