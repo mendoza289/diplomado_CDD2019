{
 "cells": [
  {
   "cell_type": "markdown",
   "metadata": {},
   "source": [
    "<a href=\"https://github.com/jhermosillo/diplomado_CDD2019/blob/modulo4/Notebooks/Clasificación_Bayesiana.ipynb\" target=\"_parent\"><img src=\"https://colab.research.google.com/assets/colab-badge.svg\" alt=\"Open In Colab\"/></a>"
   ]
  },
  {
   "cell_type": "markdown",
   "metadata": {},
   "source": [
    "<img src=\"../img/cerebro_1.jpg\"  width=\"70%\"/>"
   ]
  },
  {
   "cell_type": "markdown",
   "metadata": {},
   "source": [
    "<h1 style=\"font-size:50px;\" align=\"center\">Clasificación Bayesiana</h1>"
   ]
  },
  {
   "cell_type": "markdown",
   "metadata": {},
   "source": [
    "___"
   ]
  },
  {
   "cell_type": "markdown",
   "metadata": {},
   "source": [
    "<style>\n",
    "table, td, th {  \n",
    "  border: 1px solid #ddd;\n",
    "  text-align: left;\n",
    "}\n",
    "|  <img src=\"../img/data_science.jpg\" width=\"300\"/> |   <font color='midnightblue'>Diplomado en <br> Ciencia de Datos <br> con Python</font>|\n",
    "|:-:|:-|\n"
   ]
  },
  {
   "cell_type": "markdown",
   "metadata": {},
   "source": [
    "&#128214; <u>Libro de referencia</u>:\n",
    "* Bishop, Christopher M. ( 2006). Pattern recognition and machine learning. New York. Springer."
   ]
  },
  {
   "cell_type": "markdown",
   "metadata": {},
   "source": [
    "<img src=\"../img/enfoque_bayesiano.jpg\" width=\"80%\"/>"
   ]
  },
  {
   "cell_type": "markdown",
   "metadata": {},
   "source": [
    "## <u>I. El problema de Clasificación desde la perspectiva Bayesiana</u>"
   ]
  },
  {
   "cell_type": "markdown",
   "metadata": {},
   "source": [
    "* Supongamos que tenemos un vector de datos de entrada $\\textrm{x}$, junto con un vector objetivo correspondiente $\\textrm{t}$.\n",
    "* __Regresión__: $\\textrm{t}$ es un vector de valores numéricos reales.\n",
    "* __Clasificación__: $\\textrm{t}$ es un vector de clases."
   ]
  },
  {
   "cell_type": "markdown",
   "metadata": {},
   "source": [
    "* La probabilidad conjunta $p(\\textrm{x}, \\textrm{t})$ contiene toda la información respecto de estas variables y **describe la incertidumbre** asociada a ellas.\n",
    "* Determinar $p(\\textrm{x}, \\textrm{t})$ de un conjunto de **datos de entrenamiento** es un ejemplo de inferencia, y en general un problema muy difícil.\n",
    "* En situaciones prácticas, debemos hacer una **predicción** respecto del valor de $\\textrm{t}$, o tener una idea de su valor con el fin de **tomar una decisión**. \n",
    "* Generalmente la decisión consiste, en el caso de la **Clasificación**, en **asignar un nuevo dato a una de las clases**, y en el caso de la **Regresión**, **hacer corresponder a una nueva variable de entrada el valor numérico \"óptimo\"**. "
   ]
  },
  {
   "cell_type": "markdown",
   "metadata": {},
   "source": [
    "&#9758; Desde un enfoque Bayesiano, el problema de Clasificación se puede describir de la siguiente forma:\n",
    "\n",
    "$$\n",
    "p(\\mathcal{C}_k|\\textrm{x}) = \\frac{p(\\textrm{x}|\\mathcal{C}_k)p(\\mathcal{C}_k)}{p(\\textrm{x})}\\;\\;\\;\\;\\;\\;\\;(12)\n",
    "$$\n"
   ]
  },
  {
   "cell_type": "markdown",
   "metadata": {},
   "source": [
    "* El problema de la decisión puede resolverse de tres maneras posibles:\n",
    "<ol>\n",
    "    <li> Primero resuelve el problema de inferencia de determinar las distribuciones de probabilidad condicional a las clases $p(\\textrm{x}|\\mathcal{C}_k)$ para cada clase $\\mathcal{C}_k$ individualmente. Además, infiere las probabilidades sobre el <i>a-priori</i> de cada clase $p(\\mathcal{C}_k)$. Luego, usa el teorema de Bayes (12) para encontrar los <i>a-posterioris</i> $p(\\mathcal{C}_k|\\textrm{x})$. Como es habitual, el denominador puede calcularse de la siguiente forma:<br>&nbsp;\n",
    "        $$\n",
    "        p(\\textrm{x}) = \\sum_k p(\\textrm{x}|\\mathcal{C}_k)p(\\mathcal{C}_k)\\;\\;\\;\\;\\;\\;\\;(13)\n",
    "        $$     \n",
    "        Habiendo encontrado las distribuciones <i>a-posteriori</i>, usa el criterio de <b>MAP</b> (<i>Máximo A Posteriori</i>) para asignar cada nuevo $\\textrm{x}$ a una de las clases. Los enfoques que explícita o implícitamente modelan las distribuciones de entradas y salidas se llaman <b><i>modelos generativos</i></b>, ya que se pueden generar datos sintéticos muestreándolos. <br> &#9758; P.Ej. <i>Naïve Bayes</i></li>\n",
    "    <li> Primero resuelve el problema de inferencia de las distribuciones <i>a-posteriori</i> $p(\\mathcal{C}_k|\\textrm{x})$, y después usa el criterio de MAP para asignar cada nuevo $\\textrm{x}$ a una de las clases. Los enfoques que modelan directamente las distribuciones <i>a-posteriori</i> se llaman  <b><i>modelos discriminativos</i></b> <br> &#9758; P.Ej. <i>Regresión Logística</i></li>\n",
    "    <li> Encuentra una función $f(\\textrm{x})$, llamada <b><i>función discriminante</i></b>, que mapea cada entrada $\\textrm{x}$ directamente a una clase. Por ejemplo, en el caso de la clasificación binaria, $f=0$ representa la clase $\\mathcal{C}_1$ y $f=1$ la clase $\\mathcal{C}_2$. En este caso, las probabilidades no se utilizan. <br> &#9758; P.Ej. <i>SVM</i> o <i>RRNN.</i></li>"
   ]
  },
  {
   "cell_type": "markdown",
   "metadata": {},
   "source": [
    "___\n",
    "___"
   ]
  },
  {
   "cell_type": "markdown",
   "metadata": {},
   "source": [
    "## &#9991; <u>II. Aprendizaje: Ajuste de un Modelo</u>"
   ]
  },
  {
   "cell_type": "markdown",
   "metadata": {},
   "source": [
    "* En el caso en que se desee implementar un clasificador mediante un modelo generativo, la sección anterior sugiere modelar los datos como distribuciones de probabilidad.\n",
    "* Un supuesto importante es considerar que los datos son independientes e idénticamente distribuidos (_iid_).\n",
    "* En este curso vamos a usar distribuciones paramétricas (e.g. Binomial o Gaussiana), ya que están gobernadas por un número pequeño de parámetros y se utilizan muy ampliamente en la literatura.\n",
    "* EL **aprendizaje** es este caso, consiste en ajustar un modelo a los datos.\n",
    "* Para ajustar los parámetros de estos modelos, vamos a seguir dos principios: el de **Máximo de Verosimilitud** (frecuentista) o el **Bayesiano** (calcular el a posteriori, partiendo de un a priori, conforme se observan datos)."
   ]
  },
  {
   "cell_type": "markdown",
   "metadata": {},
   "source": [
    "### II.1 Ajuste de un modelo por Máximo de Verosimilitud (_Maximum Likelihood_) "
   ]
  },
  {
   "cell_type": "markdown",
   "metadata": {},
   "source": [
    "* Ajustar un modelo a los datos, es estimar los parámetros del modelo, una vez que se ha elegido su forma paramétrica.\n",
    "* Desde un punto de vista frecuentista, se pueden estimar los parámetros mediante la maximización de la función de verosimilitud (_likelyhood_).  \n",
    "* Por el teorema de Bayes, sabemos que para un conjunto de datos $D=\\{x_1,\\ldots,x_N\\}$, la distribución de los parámetros ($\\theta$) puede describirse de la siguiente forma:\n",
    "\n",
    "$$\n",
    "p(\\theta|D) \\propto \\underbrace{p(D|\\theta)}_{likelyhood}p(\\theta)\n",
    "$$\n"
   ]
  },
  {
   "cell_type": "markdown",
   "metadata": {},
   "source": [
    "* Supongamos que tenemos datos uni-dimensionales, cuyo origen desconocemos... "
   ]
  },
  {
   "cell_type": "code",
   "execution_count": 35,
   "metadata": {},
   "outputs": [
    {
     "name": "stdout",
     "output_type": "stream",
     "text": [
      "[0 0 0 1 1 1 0 0 0 0 0 1 1 0 1 0 0 0 0 0 0 1 1 0 0 0 1 1 1 1 0 1 0 0 0 1 0\n",
      " 0 0 0 0 1 0 1 1 1 1 0 1 0 1 0 0 0 0 1 0 0 1 0 1 0 1 0 1 1 0 1 1 0 1 0 0 0\n",
      " 1 1 0 0 0 0 1 1 1 0 1 0 1 0 1 1 0 0 0 0 1 0 0 0 1 0 0 1 1 0 1 0 1 0 1 0 1\n",
      " 0 1 1 0 1 0 0 0 0 0 0 1 1 1 1 0 0 1 1 1 1 0 0 0 1 1 0 1 1 1 1 1 1 1 0 1 1\n",
      " 0 1 1 0 1 0 0 1 0 1 1 1 1 0 1 1 1 0 1 0 0 1 1 1 0 1 1 0 0 0 1 1 0 0 1 0 1\n",
      " 1 1 1 1 0 0 1 1 0 1 0 0 0 1 0 0 1 1 0 1 1 0 1 1 0 0 0 0 1 1 0 1 1 1 1 1 1\n",
      " 0 0 1 0 0 1 1 1 0 0 1 0 0 1 1 1 0 0 0 0 0 0 0 0 0 0 1 1 1 1 1 1 0 0 0 0 0\n",
      " 0 0 1 0 1 0 1 0 0 0 0 0 1 1 0 1 0 0 0 1 0 0 1 0 0 1 1 1 0 0 1 0 0 1 0 0 0\n",
      " 1 1 1 1 1 1 0 0 1 0 0 1 1 1 0 0 1 1 0 1 0 0 1 1 0 0 1 1 1 1 1 1 1 1 0 0 0\n",
      " 0 1 1 1 1 1 1 1 0 0 0 1 1 1 0 1 1 1 0 1 0 0 0 1 0 0 0 0 0 0 1 0 1 0 0 0 1\n",
      " 0 1 0 1 0 1 0 1 0 0 1 1 0 1 0 1 1 0 0 0 0 0 0 1 0 1 0 1 0 1 0 0 1 1 1 0 1\n",
      " 0 1 0 1 1 1 1 1 1 1 1 0 1 0 0 0 1 0 1 1 0 0 0 0 1 0 0 1 1 0 0 0 0 1 1 1 1\n",
      " 0 0 1 1 1 1 1 1 1 1 0 0 1 0 0 1 0 1 1 1 1 1 0 1 0 0 0 1 0 0 1 1 0 1 1 1 0\n",
      " 0 0 1 0 0 1 1 1 0 0 0 1 0 0 1 0 1 1 1]\n"
     ]
    }
   ],
   "source": [
    "import scipy.stats as stats\n",
    "\n",
    "def datos_misteriosos(n):\n",
    "    data = stats.bernoulli.rvs(0.5, size=n[-1])\n",
    "    return data\n",
    "\n",
    "#Observaciones  \n",
    "n_trials = [0, 1, 2, 3, 4, 5, 15, 50, 100, 500]\n",
    "D=datos_misteriosos(n_trials)\n",
    "\n",
    "print(D)"
   ]
  },
  {
   "cell_type": "markdown",
   "metadata": {},
   "source": [
    "* Suponiendo una distribución Gaussiana, ajustemos este modelo a nuestros datos:  "
   ]
  },
  {
   "cell_type": "markdown",
   "metadata": {},
   "source": [
    "La Gaussiana uni-dimensional:\n",
    "$$\n",
    "\\displaystyle p(x|\\mu,\\sigma^2)=\\mathcal{N}(x|\\mu,\\sigma^2)=\\frac{1}{2\\pi\\sigma^2}\\exp\\left\\{-\\frac{1}{2\\sigma^2}(x-\\mu)^2\\right\\}\\hspace{7em}(14)\n",
    "$$\n",
    "\n",
    "La Gaussiana multidimensional:\n",
    "$$\n",
    "\\displaystyle p(\\textrm{x}|\\mathbf{\\mu},\\Sigma)=\\mathcal{N}(\\textrm{x}|\\mathbf{\\mu},\\Sigma)=\\frac{1}{(2\\pi)^{D/2}|\\Sigma|^{1/2}}\\exp\\left\\{-\\frac{1}{2}(\\textrm{x}-\\mu)^\\textrm{T}\\Sigma^{-1}(\\textrm{x}-\\mu)\\right\\}\\hspace{3em}(15)\n",
    "$$"
   ]
  },
  {
   "cell_type": "markdown",
   "metadata": {},
   "source": [
    "* Para ello vamos a maximizar la función de verosimilitud (_likelyhood_), dadas N observaciones:\n",
    "\n",
    "$$\n",
    "\\displaystyle p(\\textrm{x}|\\mu,\\sigma^2)=\\prod_{n=1}^{N}\\mathcal{N}(x_n|\\mu,\\sigma^2)\\hspace{3em}(16)\n",
    "$$"
   ]
  },
  {
   "cell_type": "markdown",
   "metadata": {},
   "source": [
    "* En estos casos es común calcular el $\\log$ del likelyhood:\n",
    "\n",
    "$$\n",
    "\\displaystyle \\ln p(\\textrm{x}|\\mu,\\sigma^2)=-\\frac{1}{2\\sigma^2}\\sum_{n=1}^N(x_n-\\mu)^2 -\\frac{N}{2}\\ln \\sigma^2 -\\frac{N}{2}\\ln (2\\pi)\\hspace{3em}(17)\n",
    "$$"
   ]
  },
  {
   "cell_type": "markdown",
   "metadata": {},
   "source": [
    "&#9758; Maximizando (17) con respecto a $\\mu$, obtenemos:\n",
    "\n",
    "$$\n",
    "\\displaystyle \\mu_{\\textrm{ML}}= \\frac{1}{N}\\sum_{n=1}^N x_n \\hspace{3em}(18)\n",
    "$$"
   ]
  },
  {
   "cell_type": "markdown",
   "metadata": {},
   "source": [
    "&#9758; Maximizando (17) con respecto a $\\sigma^2$, obtenemos:\n",
    "\n",
    "$$\n",
    "\\displaystyle \\sigma^2_{\\textrm{ML}}= \\frac{1}{N}\\sum_{n=1}^N (x_n-\\mu_{\\textrm{ML}})^2 \\hspace{3em}(19)\n",
    "$$"
   ]
  },
  {
   "cell_type": "markdown",
   "metadata": {},
   "source": [
    "&#9998; **Define una función que calcule los parámetros $\\mu_{\\textrm{ML}}$ y $\\sigma^2$ para nuestros datos $D$, <u>en función del número de observaciones</u>. Compara estos cálculos contra los que te da numpy.**"
   ]
  },
  {
   "cell_type": "code",
   "execution_count": 49,
   "metadata": {},
   "outputs": [],
   "source": [
    "#Observaciones  \n",
    "n_trials = [0, 1, 2, 3, 4, 5, 15, 50, 100, 500]\n",
    "\n",
    "for n in n_trials:\n",
    "    d=D[:n]\n",
    "    # TU CODIGO AQUI\n",
    "    "
   ]
  },
  {
   "cell_type": "markdown",
   "metadata": {},
   "source": [
    "* Un problema con la estimación de los parámetros por ML es el _**overfitting**_ : la estimación \"se apega\" a los datos.\n",
    "* Otro problema es el sesgo en la varianza.\n",
    "\n",
    "<img src=\"../img/ML_varianza.jpg\" width=\"100%\">"
   ]
  },
  {
   "cell_type": "markdown",
   "metadata": {},
   "source": [
    "___"
   ]
  },
  {
   "cell_type": "markdown",
   "metadata": {},
   "source": [
    "### II.2 Ajuste Bayesiano de un modelo"
   ]
  },
  {
   "cell_type": "markdown",
   "metadata": {},
   "source": [
    "* Como hemos dicho, el enfoque Bayesiano consiste en tener una \"idea\" de cuál sería la distribución a priori (modelo) de los datos para ir ajustando esa distribución conforme vamos teniendo datos nuevos, con el fin de calcular su distribución a posteriori.\n",
    "\n",
    "* En en este contexto, si suponemos que la distribución a posteriori tiene una cierta forma funcional, se utilizan _**a prioris conjugados**_, que son modelos que permiten calcular a posterioris con esa forma funcional. "
   ]
  },
  {
   "cell_type": "markdown",
   "metadata": {},
   "source": [
    "* Por ejemplo, supongamos que elegimos una distribución de Bernoulli para nuestros \"datos misteriosos\".\n",
    "\n",
    "$$\n",
    "p(x|\\theta)=\\textrm{Bern}(x|\\mu)=\\mu^x(1-\\mu)^{1-x}\\hspace{5em}(20)\n",
    "$$"
   ]
  },
  {
   "cell_type": "markdown",
   "metadata": {},
   "source": [
    "Dado $N$ observaciones: $D=\\{x_1,\\ldots,x_N\\}$, la expresión del _likelyhood_:"
   ]
  },
  {
   "cell_type": "markdown",
   "metadata": {},
   "source": [
    "$$\n",
    "\\displaystyle p(D|\\mu)=\\prod_{n=1}^{N}p(x_n|\\mu)=\\prod_{n=1}^{N}\\mu^{x_n}(1-\\mu)^{1-x_{n}}\\hspace{3em}(21)\n",
    "$$"
   ]
  },
  {
   "cell_type": "markdown",
   "metadata": {},
   "source": [
    "* Podríamos maximizar la _likelyhood_ (21) como lo hicimos arriba para la Gaussiana.\n",
    "* La expresión resultante sería la misma!\n",
    "\n",
    "$$\n",
    "\\displaystyle \\mu_{\\textrm{ML}}= \\frac{1}{N}\\sum_{n=1}^N x_n \\hspace{3em}(22)\n",
    "$$"
   ]
  },
  {
   "cell_type": "markdown",
   "metadata": {},
   "source": [
    "* Si llamamos $m$ el número de observaciones de un $1$ en los datos $D$, por (22) tendríamos:\n",
    "\n",
    "$$\n",
    "\\mu_{\\textrm{ML}}=\\frac{m}{N}\\hspace{4em}(23)\n",
    "$$\n",
    "___"
   ]
  },
  {
   "cell_type": "markdown",
   "metadata": {},
   "source": [
    "* Hagamos una estimación Bayesiana de $\\mu$.\n",
    "* &#9758; Tomemos $m$ como la variable observada. Necesitamos usar ahora una distribución Binomial.\n",
    "\n",
    "$$\n",
    "p(m|\\mu)=\\textrm{Bin}(m|N\\mu)=\\binom{N}{m}\\mu^m(1-\\mu)^{N-m}\\hspace{3em}(24)\n",
    "$$\n",
    "donde\n",
    "\n",
    "$$\n",
    "\\binom{N}{m}=\\frac{N!}{(N-m)!m!}\n",
    "$$\n",
    "es el número de formas de elegir $m$ objetos de un total de $N$ objetos.\n",
    "* &#9758; Usaremos ahora un _**a priori conjugado**_: la distribución Beta.\n",
    "\n",
    "$$\n",
    "p(\\mu)=\\textrm{Beta}(\\mu|a,b)=\\frac{\\Gamma(a+b)}{\\Gamma(a)\\Gamma(b)}\\mu^{a-1}(1-\\mu)^{b-1}\\hspace{3em}(25)\n",
    "$$\n",
    "donde \n",
    "$$\n",
    "\\Gamma(x)\\equiv\\int_0^\\infty u^{x-1}e^{-u}\\textrm{d}u\n",
    "$$\n",
    "* EL promedio y la varianza de la distribución Beta están dados por:\n",
    "\n",
    "$$\n",
    "\\mathbb{E}[\\mu]=\\frac{a}{a+b}\\hspace{8em}(26)\n",
    "$$\n",
    "\n",
    "$$\n",
    "\\textrm{var}[\\mu]=\\frac{ab}{(a+b)^2(a+b+1)}\\hspace{3em}(27)\n",
    "$$"
   ]
  },
  {
   "cell_type": "markdown",
   "metadata": {},
   "source": [
    "*  &#9758; Ahora, nuestra distribución _**a posteriori**_ de $\\mu$ se obtiene multiplicando el a priori Beta (25) por la _likelyhood_ Binomial (24). \n",
    "* &#9758; Trabajando sólo los factores que dependen de $\\mu$, podemos ver que la expresión del _**a posteriori**_ $p(\\mu|m) \\propto p(m|\\mu)p(\\mu)$ tiene la forma:\n",
    "\n",
    "$$\n",
    "p(\\mu|m,l,a,b) \\propto \\mu^{m+a-1}(1-\\mu)^{l+b-1}\\hspace{3em}(28)\n",
    "$$\n",
    "\n",
    "donde $l=N-m$ y por lo tanto corresponde al número de $0$'s en nuestro ejemplo."
   ]
  },
  {
   "cell_type": "markdown",
   "metadata": {},
   "source": [
    "* De hecho el a posteriori es una distribución Beta, y su coeficiente de normalización se puede encontrar comparando con (25):\n",
    "\n",
    "$$\n",
    "p(\\mu|m,l,a,b)=\\frac{\\Gamma(m+a+l+b)}{\\Gamma(m+a)\\Gamma(l+b)}\\mu^{m+a-1}(1-\\mu)^{l+b-1}\\hspace{3em}(29)\n",
    "$$"
   ]
  },
  {
   "cell_type": "markdown",
   "metadata": {},
   "source": [
    "* &#9758; Vemos que el efecto de tener un conjunto de datos con $m$ observaciones de $x=1$ y $l$ observaciones de $x=0$ ha sido incrementar los valores de $a$ por $m$ y de $b$ por $l$, yendo de la distribución a priori a la distribución a posteriori.\n",
    "* &#9758; Esto nos permite dar una interpretación sencilla a los hyperparámetros $a$ y $b$ en el a priori como _**el número efectivo de observaciones de**_ $x=1$ y $x=0$ respectivamente.\n",
    "* &#9758; Nota que $a$ y $b$ no necesitan ser enteros.\n",
    "* &#9758; Nota también que el a posteriori, puede volver a ser el a priori, si se observan nuevos datos, repitiendo el ciclo con (29) como a priori y (24) como likelyhood. El resultado tendrá la forma de (29) nuevamente, pero con los parámetros actualizados con las nuevas observaciones efectivas de $x=1$ ($m$) y $x=0$ ($l$)."
   ]
  },
  {
   "cell_type": "markdown",
   "metadata": {},
   "source": [
    "* Si el experimento es el lanzamiento de una moneda y queremos predecir el valor del siguiente lanzamiento: $p(x=1|D)$, aplicamos las reglas de la suma y del producto:\n",
    "\n",
    "$$\n",
    "p(x=1|D)=\\int_0^1 p(x=1,\\mu|D)\\textrm{d}\\mu=\\int_0^1 p(x=1|\\mu)p(\\mu|D)\\textrm{d}\\mu=\\int_0^1 \\mu p(\\mu|D)\\textrm{d}\\mu = \\mathbb{E}[\\mu|D]\n",
    "$$"
   ]
  },
  {
   "cell_type": "markdown",
   "metadata": {},
   "source": [
    "* Utilizando (29) como el a posteriori de $p(\\mu|D)$ junto con (26) para el cálculo de la media de la distribución Beta, tenemos:\n",
    "\n",
    "$$\n",
    "p(x=1|D)=\\frac{m+a}{m+a+l+b}\\hspace{5em}(30)\n",
    "$$\n",
    "\n",
    "*  &#9758; Para un conjunto grande de datos $m,l\\to \\infty$, y el resultado (30) tiende a ser el mimso que (23)"
   ]
  },
  {
   "cell_type": "code",
   "execution_count": 50,
   "metadata": {},
   "outputs": [
    {
     "data": {
      "image/png": "[encoded data removed]",
      "text/plain": [
       "<Figure size 720x720 with 10 Axes>"
      ]
     },
     "metadata": {
      "needs_background": "light"
     },
     "output_type": "display_data"
    }
   ],
   "source": [
    "fig=plt.figure(figsize=(10,10))\n",
    "\n",
    "dist = stats.beta\n",
    "x = np.linspace(0, 1, 100)\n",
    "\n",
    "for k, N in enumerate(n_trials):\n",
    "    ax = plt.subplot(len(n_trials) / 2, 2, k + 1)\n",
    "    plt.xlabel(\"$p$, probabilidad de 1's\") \\\n",
    "        if k in [0, len(n_trials) - 1] else None\n",
    "    plt.setp(ax.get_yticklabels(), visible=False)\n",
    "    m = D[:N].sum()\n",
    "    l=N-m\n",
    "    a=1+m\n",
    "    b=1+l\n",
    "    mu=(a)/(a+b)\n",
    "    var=a*b/((a+b)*(a+b)*(a+b+1))\n",
    "    y = dist.pdf(x, a, b)\n",
    "    plt.plot(x, y, label=\"%d datos,\\n %d 1's, \\n $p(x=1|D)$= %2.2f, \\n var= %2.4f  \" %(N, m, mu,var))\n",
    "    plt.fill_between(x, 0, y, color=\"#348ABD\", alpha=0.4)\n",
    "    plt.vlines(0.5, 0, 10, color=\"k\", linestyles=\"--\", lw=1)\n",
    "\n",
    "    leg = plt.legend()\n",
    "    leg.get_frame().set_alpha(0.4)\n",
    "\n",
    "\n",
    "plt.suptitle(\"Ajuste Bayesiano de un Modelo\",\n",
    "             y=1.02,\n",
    "             fontsize=14)\n",
    "\n",
    "plt.tight_layout()"
   ]
  },
  {
   "cell_type": "markdown",
   "metadata": {},
   "source": [
    "___\n",
    "___"
   ]
  },
  {
   "cell_type": "markdown",
   "metadata": {},
   "source": [
    "## &#9991; <u>III. Modelos Generativos de Clasificación</u>"
   ]
  },
  {
   "cell_type": "code",
   "execution_count": null,
   "metadata": {},
   "outputs": [],
   "source": []
  }
 ],
 "metadata": {
  "kernelspec": {
   "display_name": "Python 3",
   "language": "python",
   "name": "python3"
  },
  "language_info": {
   "codemirror_mode": {
    "name": "ipython",
    "version": 3
   },
   "file_extension": ".py",
   "mimetype": "text/x-python",
   "name": "python",
   "nbconvert_exporter": "python",
   "pygments_lexer": "ipython3",
   "version": "3.7.4"
  }
 },
 "nbformat": 4,
 "nbformat_minor": 4
}
