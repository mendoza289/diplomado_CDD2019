{
 "cells": [
  {
   "cell_type": "markdown",
   "metadata": {},
   "source": [
    "<a href=\"https://colab.research.google.com/github/jhermosillo/diplomado_CDD2019/blob/master/04%20Clasificacion_Agrupamiento/3%20Agrupamiento/Notebooks/PCA.ipynb\" target=\"_parent\"><img src=\"https://colab.research.google.com/assets/colab-badge.svg\" alt=\"Open In Colab\"/></a>"
   ]
  },
  {
   "cell_type": "markdown",
   "metadata": {},
   "source": [
    "<h3><center>\n",
    "    \n",
    "## **Modelado de texto usando técnicas de reducción de dimensionalidad.**\n",
    "### Aplicación en WikiPedia para medir semejanza entre documentos.\n",
    "    \n",
    "</center></h3>\n",
    "<h5><center>\n",
    "    Dr. Jorge Hermosillo Valadez<br>\n",
    "    Centro de Investigación en Ciencias<br>\n",
    "    Universidad Autónoma del Estado de Morelos<br>\n",
    "</center></h5>\n",
    "</center>\n",
    "<img src=\"../img/logoCInC.jpg\" width=\"100\"/>\n",
    "<img src=\"../img/uaem.jpg\" width=\"100\"/>\n",
    "</center>"
   ]
  },
  {
   "cell_type": "markdown",
   "metadata": {},
   "source": [
    "Descubrir temas es útil para diversos fines, como agrupar documentos, organizar contenido disponible en línea para recuperar información y hacer recomendaciones. El modelado de temas es una técnica de minería de texto que proporciona métodos para identificar palabras clave concurrentes, con el fin de resumir grandes colecciones de información textual. Ayuda a descubrir temas ocultos en el documento, anotar los documentos con estos temas y organizar una gran cantidad de datos no estructurados. Numerosos proveedores de contenido y agencias de noticias están utilizando modelos de temas para recomendar artículos a los lectores. \n",
    "\n",
    "Utilizaremos la técnica de reducción de dimensionalidad PCA (Principal Component Analysis) con el propósito de modelar documentos y establecer semejanzas entre ellos. \n",
    "\n",
    "Usaremos el modelo de bolsa de palabras (BoW -- Bag of words), que da como resultado una matriz documento-término que representa documentos en función del conteo de términos. \n",
    "\n",
    "En términos generales, el proceso que vamos a seguir es lo siguiente:\n",
    "\n",
    "![Proceso](../img/BOW.png)"
   ]
  },
  {
   "cell_type": "markdown",
   "metadata": {},
   "source": [
    "## Para subir carpetas a Colab"
   ]
  },
  {
   "cell_type": "code",
   "execution_count": null,
   "metadata": {},
   "outputs": [],
   "source": [
    "# !apt-get install subversion\n",
    "# !svn checkout \"https://github.com/jhermosillo/diplomado_CDD2019/trunk/04%20Clasificacion_Agrupamiento/3%20Agrupamiento/Data/\""
   ]
  },
  {
   "cell_type": "code",
   "execution_count": 1,
   "metadata": {},
   "outputs": [
    {
     "name": "stderr",
     "output_type": "stream",
     "text": [
      "[nltk_data] Downloading package stopwords to\n",
      "[nltk_data]     C:\\Users\\user\\AppData\\Roaming\\nltk_data...\n",
      "[nltk_data]   Package stopwords is already up-to-date!\n",
      "[nltk_data] Downloading package punkt to\n",
      "[nltk_data]     C:\\Users\\user\\AppData\\Roaming\\nltk_data...\n",
      "[nltk_data]   Package punkt is already up-to-date!\n"
     ]
    }
   ],
   "source": [
    "import sys\n",
    "import string\n",
    "import numpy as np\n",
    "import matplotlib.pyplot as plt\n",
    "%matplotlib inline\n",
    "\n",
    "import pandas as pd\n",
    "import glob\n",
    "\n",
    "from collections import Counter, OrderedDict\n",
    "\n",
    "import nltk\n",
    "nltk.download('stopwords')\n",
    "nltk.download('punkt')\n",
    "from nltk.tokenize import word_tokenize\n",
    "from nltk.corpus import stopwords"
   ]
  },
  {
   "cell_type": "code",
   "execution_count": 2,
   "metadata": {},
   "outputs": [],
   "source": [
    "import wiki_graf as wi"
   ]
  },
  {
   "cell_type": "markdown",
   "metadata": {},
   "source": [
    "# **Cargado de archivo Wikipedia**"
   ]
  },
  {
   "cell_type": "markdown",
   "metadata": {},
   "source": [
    "Dato informativo: para este curso primero descargamos los archivos raw de wikipedia (https://www.cs.upc.edu/~nlp/wikicorpus/). Estos archivos son tipo texto.\n",
    "\n",
    "**Para propósitos de este curso, solo usamos un par de archivos cada uno con varios miles de documentos.**"
   ]
  },
  {
   "cell_type": "code",
   "execution_count": 4,
   "metadata": {},
   "outputs": [
    {
     "name": "stdout",
     "output_type": "stream",
     "text": [
      "['../Data/textosWiki_1']\n"
     ]
    }
   ],
   "source": [
    "archivos = glob.glob('Data/textosWiki_1')\n",
    "print(archivos)"
   ]
  },
  {
   "cell_type": "markdown",
   "metadata": {},
   "source": [
    "Leemos los archivos descargados y sus nombres."
   ]
  },
  {
   "cell_type": "code",
   "execution_count": 5,
   "metadata": {},
   "outputs": [],
   "source": [
    "def carga_datos(archivos):\n",
    "    file=[]\n",
    "    nombres=[]\n",
    "    suma = 0\n",
    "    print(\"leyendo...\")\n",
    "    for i,filename in enumerate(archivos):\n",
    "        with open(filename,encoding=\"ISO-8859-1\") as f:\n",
    "            content = f.read().split()\n",
    "        #quitamos los espacios en blanco extras\n",
    "        content = [x.strip().lower() for x in content] \n",
    "        size=sys.getsizeof(content)//1048576 #tamaño en MB\n",
    "        suma += size\n",
    "        file.append(content)\n",
    "        nombres.append(filename)\n",
    "        print(filename)\n",
    "\n",
    "    print('tamaño del contenido de archivos cargados: \\\n",
    "            {0} MB'.format(suma))\n",
    "    return file, nombres"
   ]
  },
  {
   "cell_type": "code",
   "execution_count": 6,
   "metadata": {},
   "outputs": [
    {
     "name": "stdout",
     "output_type": "stream",
     "text": [
      "leyendo...\n",
      "../Data/textosWiki_1\n",
      "tamaño del contenido de archivos cargados:             11 MB\n"
     ]
    }
   ],
   "source": [
    "file,nombres = carga_datos(archivos)"
   ]
  },
  {
   "cell_type": "markdown",
   "metadata": {},
   "source": [
    "Verificamos algunos datos"
   ]
  },
  {
   "cell_type": "code",
   "execution_count": 7,
   "metadata": {},
   "outputs": [
    {
     "name": "stdout",
     "output_type": "stream",
     "text": [
      "['<doc', 'id=\"1871762\"', 'title=\"jud', 'buechler\"', 'nonfiltered=\"1\"', 'processed=\"1\"', 'dbindex=\"435001\">', 'judson', 'donald', 'buechler', '(nacido', 'el', '19', 'de', 'junio', 'de', '1968', 'en', 'san', 'diego'] ['sostiene', 'que,', 'para', 'todas', 'las', 'personas,', 'ese', 'criterio', 'imparcial', 'se', 'aplica', 'en', 'forma', 'homogénea.', 'véase', 'también', '.', 'objetividad;', 'endofarticle.', '</doc>']\n"
     ]
    }
   ],
   "source": [
    "print(file[0][:20],file[0][-20:])"
   ]
  },
  {
   "cell_type": "markdown",
   "metadata": {},
   "source": [
    "# **Extracción de documentos**"
   ]
  },
  {
   "cell_type": "markdown",
   "metadata": {},
   "source": [
    "Ahora vamos a identificar cada documento y elaborar una lista de los mismos.\n",
    "Para ello, se debe tener en cuenta la forma en que se indexan listas y arreglos en Python.\n",
    "\n",
    "Como hemos visto, los archivos de Wikipedia traen el identificador de documento ```id=``` (p.ej. _id=\"1842224\"_) y marcadores de inicio y fin de documento, que se reconocen por el caracter ```\">\"``` (p.ej. _dbindex=\"430000\">_ y ```</doc>```). \n",
    "\n",
    "__Lo que vamos a hacer es obtener los indices en donde se encuentran estos datos para extraer el id de documento y su contenido textual__. Esto con el fin de construir una lista de documentos.\n",
    "\n",
    "Los textos se limpian y procesan usando el módulo ```nltk``` (Natural Language ToolKit) (Loper and Bird, 2002). \n",
    "\n",
    "Al final tendremos una lista cuyo contenido será como sigue:\n",
    "\n",
    "```\n",
    "docs->[[id_doc1,texto del documento doc1],[id_doc2,texto del documento doc2], ... ]\n",
    "```"
   ]
  },
  {
   "cell_type": "code",
   "execution_count": 8,
   "metadata": {},
   "outputs": [],
   "source": [
    "def lee_documentos(file, nombres):\n",
    "    #palabras demasiado frecuentes\n",
    "    stop_words = set(stopwords.words('spanish'))\n",
    "\n",
    "    #conjunto de palabras únicas --vocabulario\n",
    "    vocabulario = set()\n",
    "\n",
    "    registros = []\n",
    "    docs = []\n",
    "    completo = False\n",
    "    suma = 0\n",
    "    for i,archivo in enumerate(file):\n",
    "        for j,cadena in enumerate(archivo):\n",
    "            if 'id=' in cadena and completo == False:\n",
    "                id_ = cadena[4:-1]\n",
    "            elif 'dbindex=' in cadena and completo == False:\n",
    "                inicio = j+1\n",
    "            elif 'doc>' in cadena and completo == False:\n",
    "                fin = j-1\n",
    "                completo = True\n",
    "            if completo:\n",
    "                x = archivo[inicio:fin]\n",
    "                r=pd.DataFrame(x,columns=['cadena'])\n",
    "                r=r.cadena.str.translate(\\\n",
    "                        str.maketrans('','',string.digits))\\\n",
    "                        .str.translate(\\\n",
    "                       str.maketrans('','',string.punctuation))\\\n",
    "                .str.replace('«','')\\\n",
    "                .str.replace('»','').str.replace('(','')\\\n",
    "                .str.replace(')','').str.strip()\n",
    "                palabras = r.tolist()\n",
    "                #elimino las stopwords\n",
    "                texto = [w for w in palabras \\\n",
    "                         if not w in stop_words and len(w)>2]\n",
    "                #genero el texto del documento\n",
    "                doc = ' '.join(texto)  \n",
    "                registros.append([id_,doc,i])\n",
    "                completo = False\n",
    "                suma += 1\n",
    "        print('archivo {0} contiene {1}\\\n",
    "        documentos \\n'.format(nombres[i],suma) )\n",
    "        suma=0\n",
    "        docs.append(registros)\n",
    "        registros=[]\n",
    "    return docs"
   ]
  },
  {
   "cell_type": "code",
   "execution_count": 9,
   "metadata": {},
   "outputs": [
    {
     "name": "stdout",
     "output_type": "stream",
     "text": [
      "archivo ../Data/textosWiki_1 contiene 4753        documentos \n",
      "\n",
      "Se leyeron 1 archivos\n",
      "1871762 judson donald buechler nacido junio san diego california california unidos jugador profesional ameri\n"
     ]
    }
   ],
   "source": [
    "docs = lee_documentos(file,nombres)\n",
    "print('Se leyeron {} archivos'.format(len(docs)))\n",
    "print(docs[0][0][0],docs[0][0][1][:100])"
   ]
  },
  {
   "cell_type": "markdown",
   "metadata": {},
   "source": [
    "# **Data Frame de documentos**"
   ]
  },
  {
   "cell_type": "markdown",
   "metadata": {},
   "source": [
    "Ahora vamos a usar pandas (McKinney & others, 2010) para crear un DataFrame que es una estructura de datos especialmente diseñada para manipular grandes cantidades de datos de manera ágil y eficiente."
   ]
  },
  {
   "cell_type": "code",
   "execution_count": 10,
   "metadata": {},
   "outputs": [
    {
     "name": "stdout",
     "output_type": "stream",
     "text": [
      "4753\n",
      "(4753, 3)\n"
     ]
    },
    {
     "data": {
      "text/html": [
       "<div>\n",
       "<style scoped>\n",
       "    .dataframe tbody tr th:only-of-type {\n",
       "        vertical-align: middle;\n",
       "    }\n",
       "\n",
       "    .dataframe tbody tr th {\n",
       "        vertical-align: top;\n",
       "    }\n",
       "\n",
       "    .dataframe thead th {\n",
       "        text-align: right;\n",
       "    }\n",
       "</style>\n",
       "<table border=\"1\" class=\"dataframe\">\n",
       "  <thead>\n",
       "    <tr style=\"text-align: right;\">\n",
       "      <th></th>\n",
       "      <th>doc_id</th>\n",
       "      <th>Texto</th>\n",
       "      <th>clase</th>\n",
       "    </tr>\n",
       "  </thead>\n",
       "  <tbody>\n",
       "    <tr>\n",
       "      <td>0</td>\n",
       "      <td>1871762</td>\n",
       "      <td>judson donald buechler nacido junio san diego ...</td>\n",
       "      <td>0</td>\n",
       "    </tr>\n",
       "    <tr>\n",
       "      <td>1</td>\n",
       "      <td>1871768</td>\n",
       "      <td>lost highway the concert dvd recoge concierto ...</td>\n",
       "      <td>0</td>\n",
       "    </tr>\n",
       "    <tr>\n",
       "      <td>2</td>\n",
       "      <td>1871769</td>\n",
       "      <td>eburones tribu descendencia germánica habitaro...</td>\n",
       "      <td>0</td>\n",
       "    </tr>\n",
       "    <tr>\n",
       "      <td>3</td>\n",
       "      <td>1871771</td>\n",
       "      <td>aguada baixo portuguesa águeda km² área habita...</td>\n",
       "      <td>0</td>\n",
       "    </tr>\n",
       "    <tr>\n",
       "      <td>4</td>\n",
       "      <td>1871772</td>\n",
       "      <td>selge griego importante ciudad pisidia ladera ...</td>\n",
       "      <td>0</td>\n",
       "    </tr>\n",
       "  </tbody>\n",
       "</table>\n",
       "</div>"
      ],
      "text/plain": [
       "    doc_id                                              Texto  clase\n",
       "0  1871762  judson donald buechler nacido junio san diego ...      0\n",
       "1  1871768  lost highway the concert dvd recoge concierto ...      0\n",
       "2  1871769  eburones tribu descendencia germánica habitaro...      0\n",
       "3  1871771  aguada baixo portuguesa águeda km² área habita...      0\n",
       "4  1871772  selge griego importante ciudad pisidia ladera ...      0"
      ]
     },
     "execution_count": 10,
     "metadata": {},
     "output_type": "execute_result"
    }
   ],
   "source": [
    "df = pd.DataFrame(docs[0],columns = ['doc_id','Texto','clase'])\n",
    "print(len(df.index))\n",
    "print(df.shape)\n",
    "df.head()"
   ]
  },
  {
   "cell_type": "markdown",
   "metadata": {},
   "source": [
    "## **Extracción de características**"
   ]
  },
  {
   "cell_type": "markdown",
   "metadata": {},
   "source": [
    "Tratemos de visualizar algunas propiedades de los documentos.\n",
    "\n",
    "Para ello vamos a utilizar un contador ([Counter](https://docs.python.org/2/library/collections.html)). Un contador es un contenedor que almacena elementos como claves de diccionario, y sus recuentos se almacenan como valores de diccionario.\n",
    "\n",
    "Construiremos una columna con el conteo de palabras por documento y otra con la palabra más frecuente en el documento.\n",
    "\n",
    "Para visualizar estos datos utilizaremos [matplotlib](https://matplotlib.org/) (Hunter, 2007).\n",
    "\n",
    "John D. Hunter. Matplotlib: A 2D Graphics Environment, _Computing in Science & Engineering, 9, 90-95 (2007)_, DOI:10.1109/MCSE.2007.55 (publisher link)"
   ]
  },
  {
   "cell_type": "code",
   "execution_count": 11,
   "metadata": {},
   "outputs": [
    {
     "data": {
      "text/html": [
       "<div>\n",
       "<style scoped>\n",
       "    .dataframe tbody tr th:only-of-type {\n",
       "        vertical-align: middle;\n",
       "    }\n",
       "\n",
       "    .dataframe tbody tr th {\n",
       "        vertical-align: top;\n",
       "    }\n",
       "\n",
       "    .dataframe thead th {\n",
       "        text-align: right;\n",
       "    }\n",
       "</style>\n",
       "<table border=\"1\" class=\"dataframe\">\n",
       "  <thead>\n",
       "    <tr style=\"text-align: right;\">\n",
       "      <th></th>\n",
       "      <th>doc_id</th>\n",
       "      <th>Texto</th>\n",
       "      <th>clase</th>\n",
       "      <th>Palabras</th>\n",
       "      <th>Total</th>\n",
       "      <th>Conteos</th>\n",
       "    </tr>\n",
       "  </thead>\n",
       "  <tbody>\n",
       "    <tr>\n",
       "      <td>0</td>\n",
       "      <td>1889137</td>\n",
       "      <td>invasiones japonesas corea conflicto bélico de...</td>\n",
       "      <td>0</td>\n",
       "      <td>[invasiones, japonesas, corea, conflicto, béli...</td>\n",
       "      <td>7549</td>\n",
       "      <td>{'invasiones': 6, 'japonesas': 31, 'corea': 69...</td>\n",
       "    </tr>\n",
       "    <tr>\n",
       "      <td>1</td>\n",
       "      <td>1889938</td>\n",
       "      <td>cartapuebla oviedo documento concedido ciudad ...</td>\n",
       "      <td>0</td>\n",
       "      <td>[cartapuebla, oviedo, documento, concedido, ci...</td>\n",
       "      <td>5280</td>\n",
       "      <td>{'cartapuebla': 1, 'oviedo': 26, 'documento': ...</td>\n",
       "    </tr>\n",
       "    <tr>\n",
       "      <td>2</td>\n",
       "      <td>1881683</td>\n",
       "      <td>historia sal trata uso comercio dado siglos ún...</td>\n",
       "      <td>0</td>\n",
       "      <td>[historia, sal, trata, uso, comercio, dado, si...</td>\n",
       "      <td>4047</td>\n",
       "      <td>{'historia': 7, 'sal': 228, 'trata': 1, 'uso':...</td>\n",
       "    </tr>\n",
       "    <tr>\n",
       "      <td>3</td>\n",
       "      <td>1891268</td>\n",
       "      <td>movimiento homófilo segundo movimiento homosex...</td>\n",
       "      <td>0</td>\n",
       "      <td>[movimiento, homófilo, segundo, movimiento, ho...</td>\n",
       "      <td>3738</td>\n",
       "      <td>{'movimiento': 26, 'homófilo': 14, 'segundo': ...</td>\n",
       "    </tr>\n",
       "    <tr>\n",
       "      <td>4</td>\n",
       "      <td>1892060</td>\n",
       "      <td>sarah trimmer enero diciembre escritora crític...</td>\n",
       "      <td>0</td>\n",
       "      <td>[sarah, trimmer, enero, diciembre, escritora, ...</td>\n",
       "      <td>3694</td>\n",
       "      <td>{'sarah': 16, 'trimmer': 115, 'enero': 2, 'dic...</td>\n",
       "    </tr>\n",
       "  </tbody>\n",
       "</table>\n",
       "</div>"
      ],
      "text/plain": [
       "    doc_id                                              Texto  clase  \\\n",
       "0  1889137  invasiones japonesas corea conflicto bélico de...      0   \n",
       "1  1889938  cartapuebla oviedo documento concedido ciudad ...      0   \n",
       "2  1881683  historia sal trata uso comercio dado siglos ún...      0   \n",
       "3  1891268  movimiento homófilo segundo movimiento homosex...      0   \n",
       "4  1892060  sarah trimmer enero diciembre escritora crític...      0   \n",
       "\n",
       "                                            Palabras  Total  \\\n",
       "0  [invasiones, japonesas, corea, conflicto, béli...   7549   \n",
       "1  [cartapuebla, oviedo, documento, concedido, ci...   5280   \n",
       "2  [historia, sal, trata, uso, comercio, dado, si...   4047   \n",
       "3  [movimiento, homófilo, segundo, movimiento, ho...   3738   \n",
       "4  [sarah, trimmer, enero, diciembre, escritora, ...   3694   \n",
       "\n",
       "                                             Conteos  \n",
       "0  {'invasiones': 6, 'japonesas': 31, 'corea': 69...  \n",
       "1  {'cartapuebla': 1, 'oviedo': 26, 'documento': ...  \n",
       "2  {'historia': 7, 'sal': 228, 'trata': 1, 'uso':...  \n",
       "3  {'movimiento': 26, 'homófilo': 14, 'segundo': ...  \n",
       "4  {'sarah': 16, 'trimmer': 115, 'enero': 2, 'dic...  "
      ]
     },
     "execution_count": 11,
     "metadata": {},
     "output_type": "execute_result"
    }
   ],
   "source": [
    "from collections import Counter  #regresa un diccionario con conteos\n",
    "\n",
    "df['Palabras']=df['Texto'].apply(lambda x: x.split())\n",
    "df['Total']=df['Palabras'].apply(lambda x: len(x))\n",
    "df['Conteos']=df['Palabras'].apply(lambda x: Counter(x))\n",
    "\n",
    "df=df.sort_values(by=\"Total\",ascending=False)\n",
    "\n",
    "df.index = range(len(df.index))\n",
    "df.head()"
   ]
  },
  {
   "cell_type": "code",
   "execution_count": 130,
   "metadata": {},
   "outputs": [
    {
     "name": "stdout",
     "output_type": "stream",
     "text": [
      "Promedio de palabras por documento en el corpus: 166.54491899852724\n",
      "[7549 5280 4047 3738 3694 3672 3193 2913 2666 2630]\n"
     ]
    },
    {
     "data": {
      "image/png": "[encoded data removed]",
      "text/plain": [
       "<Figure size 1440x720 with 1 Axes>"
      ]
     },
     "metadata": {
      "needs_background": "light"
     },
     "output_type": "display_data"
    }
   ],
   "source": [
    "wi.grafica_palabras_porDoc(df)"
   ]
  },
  {
   "cell_type": "markdown",
   "metadata": {},
   "source": [
    "# **Reducción del tamaño de las matrices**"
   ]
  },
  {
   "cell_type": "markdown",
   "metadata": {},
   "source": [
    "Para reducir la complejidad espacial de nuestro ejercicio, podemos hacer dos cosas:\n",
    "* 1.- Un muestreo aleatorio de documentos, lo que nos ayudaría a reducir el vocabulario. \n",
    "* 2.- Un recorte en el número de documentos por la cantidad de palabras.\n",
    "Usaremos el segundo."
   ]
  },
  {
   "cell_type": "markdown",
   "metadata": {},
   "source": [
    "Obtenemos el vocabulario.\n",
    "Para ello vamos a usar el método de tokenización de NLTK"
   ]
  },
  {
   "cell_type": "code",
   "execution_count": 131,
   "metadata": {},
   "outputs": [
    {
     "name": "stdout",
     "output_type": "stream",
     "text": [
      "103133 palabras únicas (tipos)\n"
     ]
    }
   ],
   "source": [
    "textos = df['Texto'].values\n",
    "textos = \" \".join(textos)\n",
    "vocabulario = set(word_tokenize(textos))\n",
    "print(len(vocabulario),'palabras únicas (tipos)')"
   ]
  },
  {
   "cell_type": "markdown",
   "metadata": {},
   "source": [
    "Filtramos algunos documentos"
   ]
  },
  {
   "cell_type": "code",
   "execution_count": 12,
   "metadata": {},
   "outputs": [
    {
     "name": "stdout",
     "output_type": "stream",
     "text": [
      "2006\n"
     ]
    },
    {
     "data": {
      "text/html": [
       "<div>\n",
       "<style scoped>\n",
       "    .dataframe tbody tr th:only-of-type {\n",
       "        vertical-align: middle;\n",
       "    }\n",
       "\n",
       "    .dataframe tbody tr th {\n",
       "        vertical-align: top;\n",
       "    }\n",
       "\n",
       "    .dataframe thead th {\n",
       "        text-align: right;\n",
       "    }\n",
       "</style>\n",
       "<table border=\"1\" class=\"dataframe\">\n",
       "  <thead>\n",
       "    <tr style=\"text-align: right;\">\n",
       "      <th></th>\n",
       "      <th>doc_id</th>\n",
       "      <th>Texto</th>\n",
       "      <th>clase</th>\n",
       "      <th>Palabras</th>\n",
       "      <th>Total</th>\n",
       "      <th>Conteos</th>\n",
       "    </tr>\n",
       "  </thead>\n",
       "  <tbody>\n",
       "    <tr>\n",
       "      <td>0</td>\n",
       "      <td>1896200</td>\n",
       "      <td>jardín botánico villa thuret francés jardin bo...</td>\n",
       "      <td>0</td>\n",
       "      <td>[jardín, botánico, villa, thuret, francés, jar...</td>\n",
       "      <td>199</td>\n",
       "      <td>{'jardín': 6, 'botánico': 3, 'villa': 5, 'thur...</td>\n",
       "    </tr>\n",
       "    <tr>\n",
       "      <td>1</td>\n",
       "      <td>1881014</td>\n",
       "      <td>introducción cinco tesoro isla five treasure i...</td>\n",
       "      <td>0</td>\n",
       "      <td>[introducción, cinco, tesoro, isla, five, trea...</td>\n",
       "      <td>199</td>\n",
       "      <td>{'introducción': 1, 'cinco': 4, 'tesoro': 5, '...</td>\n",
       "    </tr>\n",
       "    <tr>\n",
       "      <td>2</td>\n",
       "      <td>1885576</td>\n",
       "      <td>estudios sonosfera estudios grabación fundados...</td>\n",
       "      <td>0</td>\n",
       "      <td>[estudios, sonosfera, estudios, grabación, fun...</td>\n",
       "      <td>199</td>\n",
       "      <td>{'estudios': 5, 'sonosfera': 3, 'grabación': 4...</td>\n",
       "    </tr>\n",
       "    <tr>\n",
       "      <td>3</td>\n",
       "      <td>1897742</td>\n",
       "      <td>coso ciudad altoaragonesa huesca larga calle r...</td>\n",
       "      <td>0</td>\n",
       "      <td>[coso, ciudad, altoaragonesa, huesca, larga, c...</td>\n",
       "      <td>199</td>\n",
       "      <td>{'coso': 11, 'ciudad': 1, 'altoaragonesa': 1, ...</td>\n",
       "    </tr>\n",
       "    <tr>\n",
       "      <td>4</td>\n",
       "      <td>1889776</td>\n",
       "      <td>miss venezuela celebró caraballeda vargas vene...</td>\n",
       "      <td>0</td>\n",
       "      <td>[miss, venezuela, celebró, caraballeda, vargas...</td>\n",
       "      <td>199</td>\n",
       "      <td>{'miss': 29, 'venezuela': 8, 'celebró': 1, 'ca...</td>\n",
       "    </tr>\n",
       "  </tbody>\n",
       "</table>\n",
       "</div>"
      ],
      "text/plain": [
       "    doc_id                                              Texto  clase  \\\n",
       "0  1896200  jardín botánico villa thuret francés jardin bo...      0   \n",
       "1  1881014  introducción cinco tesoro isla five treasure i...      0   \n",
       "2  1885576  estudios sonosfera estudios grabación fundados...      0   \n",
       "3  1897742  coso ciudad altoaragonesa huesca larga calle r...      0   \n",
       "4  1889776  miss venezuela celebró caraballeda vargas vene...      0   \n",
       "\n",
       "                                            Palabras  Total  \\\n",
       "0  [jardín, botánico, villa, thuret, francés, jar...    199   \n",
       "1  [introducción, cinco, tesoro, isla, five, trea...    199   \n",
       "2  [estudios, sonosfera, estudios, grabación, fun...    199   \n",
       "3  [coso, ciudad, altoaragonesa, huesca, larga, c...    199   \n",
       "4  [miss, venezuela, celebró, caraballeda, vargas...    199   \n",
       "\n",
       "                                             Conteos  \n",
       "0  {'jardín': 6, 'botánico': 3, 'villa': 5, 'thur...  \n",
       "1  {'introducción': 1, 'cinco': 4, 'tesoro': 5, '...  \n",
       "2  {'estudios': 5, 'sonosfera': 3, 'grabación': 4...  \n",
       "3  {'coso': 11, 'ciudad': 1, 'altoaragonesa': 1, ...  \n",
       "4  {'miss': 29, 'venezuela': 8, 'celebró': 1, 'ca...  "
      ]
     },
     "execution_count": 12,
     "metadata": {},
     "output_type": "execute_result"
    }
   ],
   "source": [
    "df=df[(df.Total < 200) & (df.Total > 50)]\n",
    "print(len(df))\n",
    "df.index = range(len(df.index))\n",
    "df.head()"
   ]
  },
  {
   "cell_type": "code",
   "execution_count": 133,
   "metadata": {},
   "outputs": [
    {
     "name": "stdout",
     "output_type": "stream",
     "text": [
      "Promedio de palabras por documento en el corpus: 110.1136590229312\n",
      "[199 199 199 199 199 199 199 199 198 198]\n"
     ]
    },
    {
     "data": {
      "image/png": "[encoded data removed]",
      "text/plain": [
       "<Figure size 1440x720 with 1 Axes>"
      ]
     },
     "metadata": {
      "needs_background": "light"
     },
     "output_type": "display_data"
    }
   ],
   "source": [
    "wi.grafica_palabras_porDoc(df)"
   ]
  },
  {
   "cell_type": "markdown",
   "metadata": {},
   "source": [
    "### Guardamos el data frame\n",
    "\n",
    "Para ello, vamos a usar [pickle](https://docs.python.org/2/library/pickle.html), que forma parte de las [funcionalidades de I/O](https://pandas.pydata.org/pandas-docs/stable/user_guide/io.html) de Pandas.\n",
    "\n",
    "Pickle permite serializar y deserializar una estructura de datos Python. \"_Pickling_\" es el proceso mediante el cual una jerarquía de objetos de Python se convierte en una secuencia de bytes, y \"_Depickling_\" es la operación inversa, mediante la cual una secuencia de bytes se convierte nuevamente en una jerarquía de objetos."
   ]
  },
  {
   "cell_type": "code",
   "execution_count": 25,
   "metadata": {},
   "outputs": [],
   "source": [
    "df.to_pickle('Data/data_frame_4K.pkl')"
   ]
  },
  {
   "cell_type": "markdown",
   "metadata": {},
   "source": [
    "___"
   ]
  },
  {
   "cell_type": "markdown",
   "metadata": {},
   "source": [
    "# Leemos un Data Frame previamente almacenado"
   ]
  },
  {
   "cell_type": "code",
   "execution_count": 26,
   "metadata": {},
   "outputs": [
    {
     "name": "stdout",
     "output_type": "stream",
     "text": [
      "(2006, 6)\n"
     ]
    },
    {
     "data": {
      "text/html": [
       "<div>\n",
       "<style scoped>\n",
       "    .dataframe tbody tr th:only-of-type {\n",
       "        vertical-align: middle;\n",
       "    }\n",
       "\n",
       "    .dataframe tbody tr th {\n",
       "        vertical-align: top;\n",
       "    }\n",
       "\n",
       "    .dataframe thead th {\n",
       "        text-align: right;\n",
       "    }\n",
       "</style>\n",
       "<table border=\"1\" class=\"dataframe\">\n",
       "  <thead>\n",
       "    <tr style=\"text-align: right;\">\n",
       "      <th></th>\n",
       "      <th>doc_id</th>\n",
       "      <th>Texto</th>\n",
       "      <th>clase</th>\n",
       "      <th>Palabras</th>\n",
       "      <th>Total</th>\n",
       "      <th>Conteos</th>\n",
       "    </tr>\n",
       "  </thead>\n",
       "  <tbody>\n",
       "    <tr>\n",
       "      <td>0</td>\n",
       "      <td>1896200</td>\n",
       "      <td>jardín botánico villa thuret francés jardin bo...</td>\n",
       "      <td>0</td>\n",
       "      <td>[jardín, botánico, villa, thuret, francés, jar...</td>\n",
       "      <td>199</td>\n",
       "      <td>{'jardín': 6, 'botánico': 3, 'villa': 5, 'thur...</td>\n",
       "    </tr>\n",
       "    <tr>\n",
       "      <td>1</td>\n",
       "      <td>1881014</td>\n",
       "      <td>introducción cinco tesoro isla five treasure i...</td>\n",
       "      <td>0</td>\n",
       "      <td>[introducción, cinco, tesoro, isla, five, trea...</td>\n",
       "      <td>199</td>\n",
       "      <td>{'introducción': 1, 'cinco': 4, 'tesoro': 5, '...</td>\n",
       "    </tr>\n",
       "    <tr>\n",
       "      <td>2</td>\n",
       "      <td>1885576</td>\n",
       "      <td>estudios sonosfera estudios grabación fundados...</td>\n",
       "      <td>0</td>\n",
       "      <td>[estudios, sonosfera, estudios, grabación, fun...</td>\n",
       "      <td>199</td>\n",
       "      <td>{'estudios': 5, 'sonosfera': 3, 'grabación': 4...</td>\n",
       "    </tr>\n",
       "    <tr>\n",
       "      <td>3</td>\n",
       "      <td>1897742</td>\n",
       "      <td>coso ciudad altoaragonesa huesca larga calle r...</td>\n",
       "      <td>0</td>\n",
       "      <td>[coso, ciudad, altoaragonesa, huesca, larga, c...</td>\n",
       "      <td>199</td>\n",
       "      <td>{'coso': 11, 'ciudad': 1, 'altoaragonesa': 1, ...</td>\n",
       "    </tr>\n",
       "    <tr>\n",
       "      <td>4</td>\n",
       "      <td>1889776</td>\n",
       "      <td>miss venezuela celebró caraballeda vargas vene...</td>\n",
       "      <td>0</td>\n",
       "      <td>[miss, venezuela, celebró, caraballeda, vargas...</td>\n",
       "      <td>199</td>\n",
       "      <td>{'miss': 29, 'venezuela': 8, 'celebró': 1, 'ca...</td>\n",
       "    </tr>\n",
       "  </tbody>\n",
       "</table>\n",
       "</div>"
      ],
      "text/plain": [
       "    doc_id                                              Texto  clase  \\\n",
       "0  1896200  jardín botánico villa thuret francés jardin bo...      0   \n",
       "1  1881014  introducción cinco tesoro isla five treasure i...      0   \n",
       "2  1885576  estudios sonosfera estudios grabación fundados...      0   \n",
       "3  1897742  coso ciudad altoaragonesa huesca larga calle r...      0   \n",
       "4  1889776  miss venezuela celebró caraballeda vargas vene...      0   \n",
       "\n",
       "                                            Palabras  Total  \\\n",
       "0  [jardín, botánico, villa, thuret, francés, jar...    199   \n",
       "1  [introducción, cinco, tesoro, isla, five, trea...    199   \n",
       "2  [estudios, sonosfera, estudios, grabación, fun...    199   \n",
       "3  [coso, ciudad, altoaragonesa, huesca, larga, c...    199   \n",
       "4  [miss, venezuela, celebró, caraballeda, vargas...    199   \n",
       "\n",
       "                                             Conteos  \n",
       "0  {'jardín': 6, 'botánico': 3, 'villa': 5, 'thur...  \n",
       "1  {'introducción': 1, 'cinco': 4, 'tesoro': 5, '...  \n",
       "2  {'estudios': 5, 'sonosfera': 3, 'grabación': 4...  \n",
       "3  {'coso': 11, 'ciudad': 1, 'altoaragonesa': 1, ...  \n",
       "4  {'miss': 29, 'venezuela': 8, 'celebró': 1, 'ca...  "
      ]
     },
     "execution_count": 26,
     "metadata": {},
     "output_type": "execute_result"
    }
   ],
   "source": [
    "df=pd.read_pickle('Data/data_frame_4K.pkl')\n",
    "df.index = range(len(df.index))\n",
    "print(df.shape)\n",
    "df.head()"
   ]
  },
  {
   "cell_type": "markdown",
   "metadata": {},
   "source": [
    "# **BoW**\n",
    "\n",
    "* Para obtener la Bolsa de Palabras, vamos a utilizar la columna de Conteos con los conteos de palabras respectivos por cada documento.\n",
    "\n",
    "* Esta columna consta de diccionarios que usaremos como entrada para el módulo [DictVectorizer de scikit-learn](https://scikit-learn.org/stable/modules/generated/sklearn.feature_extraction.DictVectorizer.html). Este módulo transforma listas de mapeos (dicconarios) de valores de características en vectores. Este transformador convierte las listas de mapeos (objetos similares a dict) de nombres de entidades a valores de entidades, en matrices Numpy o matrices scipy.sparse para usar con estimadores de scikit-learn. Cuando los valores de las características son cadenas (strings), este transformador realizará una codificación binaria del tipo One-Hot (también conocido como uno-de-K): se construye una característica con valor booleano para cada uno de los posibles valores de string que la característica puede asumir.\n",
    "\n",
    "* Primero, vamos a definir nuestra función BOW. Esta función recibe una lista de diccionarios y regresa una matriz $X$ de documentos y un diccionario $v$ con el vocabulario asociado a un entero. \n",
    "\n",
    "**Cada fila de $X$ es un documento y cada columna representa una palabra del vocabulario.**"
   ]
  },
  {
   "cell_type": "markdown",
   "metadata": {},
   "source": [
    "<img src=\"../img/BoW_M.png\" width=\"300\"/>"
   ]
  },
  {
   "cell_type": "code",
   "execution_count": 13,
   "metadata": {},
   "outputs": [],
   "source": [
    "from sklearn.feature_extraction import DictVectorizer\n",
    "from collections import Counter, OrderedDict\n",
    "\n",
    "def bow_(docs):\n",
    "    v = DictVectorizer(sparse=False)\n",
    "    X = v.fit_transform(docs)\n",
    "    return X,v"
   ]
  },
  {
   "cell_type": "code",
   "execution_count": 14,
   "metadata": {},
   "outputs": [
    {
     "name": "stdout",
     "output_type": "stream",
     "text": [
      "(2006, 46295)\n"
     ]
    }
   ],
   "source": [
    "docs = df.Conteos.tolist()\n",
    "X,vocab_ = bow_(docs)\n",
    "print(X.shape)"
   ]
  },
  {
   "cell_type": "code",
   "execution_count": 15,
   "metadata": {},
   "outputs": [
    {
     "name": "stdout",
     "output_type": "stream",
     "text": [
      "X:\n",
      "[[0. 0. 0. ... 0. 0. 0.]\n",
      " [0. 0. 0. ... 0. 0. 0.]]\n",
      "La primer fila de la matriz X suma 199 conteos que coincide con el primer documento.\n",
      "La segunda fila de la matriz X suma 199 conteos que coincide con el segundo documento.\n"
     ]
    }
   ],
   "source": [
    "print('X:')\n",
    "print(X[:2])\n",
    "print('La primer fila de la matriz X suma {} conteos que coincide con el primer documento.'.format(int(X[0].sum())))\n",
    "print('La segunda fila de la matriz X suma {} conteos que coincide con el segundo documento.'.format(int(X[1].sum())))"
   ]
  },
  {
   "cell_type": "markdown",
   "metadata": {},
   "source": [
    "# **Métodos de reducción de dimensionalidad y codificación latente**"
   ]
  },
  {
   "cell_type": "markdown",
   "metadata": {},
   "source": [
    "El análisis de componentes principales (PCA) y la descomposición de valores singulares (SVD) son enfoques de reducción de dimensionalidad comúnmente utilizados en el análisis de datos exploratorios y el aprendizaje automático. \n",
    "\n",
    "Ambos son métodos clásicos de reducción de dimensionalidad lineal que intentan encontrar combinaciones lineales de características en la matriz de datos de alta dimensión original para construir una representación significativa del conjunto de datos.\n",
    "\n",
    "PCA tiene como objetivo encontrar ejes ortogonales linealmente no correlacionados, que también se conocen como componentes principales (PC) en el espacio dimensional m (espacio de las características &mdash;_features_) para proyectar los puntos de datos en esas PC. La primera PC captura la mayor variación en los datos."
   ]
  },
  {
   "cell_type": "markdown",
   "metadata": {},
   "source": [
    "<img src=\"../img/PCA.gif\" width=\"375\" height=\"375\"/>"
   ]
  },
  {
   "cell_type": "markdown",
   "metadata": {},
   "source": [
    "Las representaciones resultantes de PCA y SVD son similares para algunos datos, ya que PCA y SVD están estrechamente relacionados. Si tenemos:\n",
    "\n",
    "<img src=\"../img/PCA_SVD-1.png\" width=\"75\"/> \n",
    "\n",
    "donde, $\\mathbf{x}_i=[x_1,x_2,\\cdots,x_d]$ son muestras observadas de datos $d-$dimensionales, $d\\in \\mathbb{N}$.\n",
    "\n",
    "Los $k$ _ejes principales_ $\\mathbf{w}_j$, $j \\in \\{1,\\cdots,k\\}$, son aquellos ejes ortonormales sobre los cuales la varianza de la proyección es máxima. \n",
    "\n",
    "**¿Por qué la varianza?**:\n",
    "Se puede considerar cualquier conjunto de observaciones como una señal contaminada con ruido. Lo deseable es maximizar la razón señal-a-ruido (SNR):\n",
    "<center>\n",
    "$SNR=\\frac{\\sigma^2_{senal}}{\\sigma^2_{ruido}}$\n",
    "</center>\n",
    "\n",
    "Esto es equivalente a encontrar una transformación que permita proyectar las observaciones sobre ejes que maximicen la varianza de los datos y minimicen la varianza del ruido.\n",
    "\n",
    "Visto de otra forma, se desea encontrar ejes de proyección de los datos en donde haya la **menor** redundancia (i.e. correlación) posible; es decir, ejes en donde la varianza de la señal sea máxima y su correlación con respecto a otros ejes (\"ruido\") sea mínima:\n",
    "\n",
    "<img src=\"../img/COV.png\" width=\"350\"/>\n",
    "\n",
    "Se puede demostrar que estos ejes $\\mathbf{w}_j$ están dados por los $k$ vectores propios dominantes (i.e. los asociados con los valores propios más grandes) de la matriz de covarianza de las muestras\n",
    "<center>\n",
    "$\\mathbf{S}=\\sum_{i}(\\mathbf{x}_i-\\bar{\\mathbf{x}})(\\mathbf{x}_i-\\bar{\\mathbf{x}})^{^\\textrm{T}}/N$ \n",
    "</center>\n",
    "donde $\\bar{\\mathbf{x}}$ es la media de las muestras, de tal forma que\n",
    "<center>\n",
    "$\\mathbf{S}\\mathbf{w}_j=\\lambda_j\\mathbf{w}_j$. \n",
    "</center>\n",
    "\n",
    "Escribiendo $\\mathbf{P}=\\mathbf{W}^{^\\textrm{T}}$, las $k$ componentes principales del vector observado $\\mathbf{x}_n$ están dadas por el vector: \n",
    "<center>\n",
    "$\\mathbf{p}_n=\\mathbf{P}\\,(\\mathbf{x}_n-\\bar{\\mathbf{x}})$. \n",
    "</center>\n",
    "\n",
    "De esta forma, las filas de $\\mathbf{P}$ son _las componentes principales_ de $\\mathbf{X}$ y constituyen una nueva base sobre la que se pueden proyectar los vectores $\\mathbf{x}_n$:\n",
    "<center>\n",
    "$\\mathbf{Y}=\\mathbf{P}\\,\\mathbf{X}$. \n",
    "</center>\n",
    "\n",
    "\n"
   ]
  },
  {
   "cell_type": "markdown",
   "metadata": {},
   "source": [
    "<img src=\"../img/PCA_3.png\" width=\"400\"/>\n",
    "<em><center>Proyección de la matriz original en el espacio de componentes principales (Tharwat, 2016)</em></center>"
   ]
  },
  {
   "cell_type": "markdown",
   "metadata": {},
   "source": [
    "# **PCA**"
   ]
  },
  {
   "cell_type": "code",
   "execution_count": 16,
   "metadata": {},
   "outputs": [],
   "source": [
    "from sklearn.decomposition import PCA\n",
    "\n",
    "pca = PCA(svd_solver='auto')\n",
    "\n",
    "Y_pca = pca.fit_transform(X)"
   ]
  },
  {
   "cell_type": "code",
   "execution_count": 17,
   "metadata": {},
   "outputs": [
    {
     "name": "stdout",
     "output_type": "stream",
     "text": [
      "(2006, 2006)\n",
      "[[-3.97046224e-01  6.58263561e-02 -2.08655710e-01 ...  2.56124315e-15\n",
      "  -5.51853432e-19 -3.89108885e-46]\n",
      " [-6.10801431e-01  1.86606851e-01 -5.07533396e-01 ...  2.56124315e-15\n",
      "  -5.51853432e-19  2.54948646e-46]]\n"
     ]
    }
   ],
   "source": [
    "print(Y_pca.shape)\n",
    "print(Y_pca[:2])"
   ]
  },
  {
   "cell_type": "code",
   "execution_count": 32,
   "metadata": {},
   "outputs": [],
   "source": [
    "np.save('Data/Y_pca.npy', Y_pca)"
   ]
  },
  {
   "cell_type": "code",
   "execution_count": 33,
   "metadata": {},
   "outputs": [],
   "source": [
    "Y_pca = np.load('Data/Y_pca.npy')"
   ]
  },
  {
   "cell_type": "code",
   "execution_count": 18,
   "metadata": {},
   "outputs": [
    {
     "name": "stdout",
     "output_type": "stream",
     "text": [
      "(2006, 2007)\n"
     ]
    },
    {
     "data": {
      "text/html": [
       "<div>\n",
       "<style scoped>\n",
       "    .dataframe tbody tr th:only-of-type {\n",
       "        vertical-align: middle;\n",
       "    }\n",
       "\n",
       "    .dataframe tbody tr th {\n",
       "        vertical-align: top;\n",
       "    }\n",
       "\n",
       "    .dataframe thead th {\n",
       "        text-align: right;\n",
       "    }\n",
       "</style>\n",
       "<table border=\"1\" class=\"dataframe\">\n",
       "  <thead>\n",
       "    <tr style=\"text-align: right;\">\n",
       "      <th></th>\n",
       "      <th>doc_id</th>\n",
       "      <th>0</th>\n",
       "      <th>1</th>\n",
       "      <th>2</th>\n",
       "      <th>3</th>\n",
       "      <th>4</th>\n",
       "      <th>5</th>\n",
       "      <th>6</th>\n",
       "      <th>7</th>\n",
       "      <th>8</th>\n",
       "      <th>...</th>\n",
       "      <th>1996</th>\n",
       "      <th>1997</th>\n",
       "      <th>1998</th>\n",
       "      <th>1999</th>\n",
       "      <th>2000</th>\n",
       "      <th>2001</th>\n",
       "      <th>2002</th>\n",
       "      <th>2003</th>\n",
       "      <th>2004</th>\n",
       "      <th>2005</th>\n",
       "    </tr>\n",
       "  </thead>\n",
       "  <tbody>\n",
       "    <tr>\n",
       "      <td>0</td>\n",
       "      <td>1896200</td>\n",
       "      <td>-0.397046</td>\n",
       "      <td>0.065826</td>\n",
       "      <td>-0.208656</td>\n",
       "      <td>-0.326621</td>\n",
       "      <td>-0.222124</td>\n",
       "      <td>-0.537293</td>\n",
       "      <td>-0.501059</td>\n",
       "      <td>-1.110444</td>\n",
       "      <td>0.430676</td>\n",
       "      <td>...</td>\n",
       "      <td>0.000923</td>\n",
       "      <td>0.001119</td>\n",
       "      <td>0.000234</td>\n",
       "      <td>0.001011</td>\n",
       "      <td>0.001428</td>\n",
       "      <td>-0.000067</td>\n",
       "      <td>0.000159</td>\n",
       "      <td>2.561243e-15</td>\n",
       "      <td>-5.518534e-19</td>\n",
       "      <td>-3.891089e-46</td>\n",
       "    </tr>\n",
       "    <tr>\n",
       "      <td>1</td>\n",
       "      <td>1881014</td>\n",
       "      <td>-0.610801</td>\n",
       "      <td>0.186607</td>\n",
       "      <td>-0.507533</td>\n",
       "      <td>-3.363084</td>\n",
       "      <td>-1.509550</td>\n",
       "      <td>8.651002</td>\n",
       "      <td>0.755407</td>\n",
       "      <td>-1.668928</td>\n",
       "      <td>1.293250</td>\n",
       "      <td>...</td>\n",
       "      <td>-0.001174</td>\n",
       "      <td>0.001489</td>\n",
       "      <td>0.000088</td>\n",
       "      <td>-0.000461</td>\n",
       "      <td>-0.001868</td>\n",
       "      <td>0.000054</td>\n",
       "      <td>-0.000296</td>\n",
       "      <td>2.561243e-15</td>\n",
       "      <td>-5.518534e-19</td>\n",
       "      <td>2.549486e-46</td>\n",
       "    </tr>\n",
       "    <tr>\n",
       "      <td>2</td>\n",
       "      <td>1885576</td>\n",
       "      <td>0.257185</td>\n",
       "      <td>-0.862755</td>\n",
       "      <td>-0.679346</td>\n",
       "      <td>-0.217889</td>\n",
       "      <td>1.420259</td>\n",
       "      <td>0.155632</td>\n",
       "      <td>0.593849</td>\n",
       "      <td>0.178755</td>\n",
       "      <td>-0.496738</td>\n",
       "      <td>...</td>\n",
       "      <td>-0.006366</td>\n",
       "      <td>-0.002978</td>\n",
       "      <td>-0.001313</td>\n",
       "      <td>0.001137</td>\n",
       "      <td>-0.000644</td>\n",
       "      <td>0.000031</td>\n",
       "      <td>-0.000429</td>\n",
       "      <td>2.561243e-15</td>\n",
       "      <td>-5.518534e-19</td>\n",
       "      <td>-3.975675e-45</td>\n",
       "    </tr>\n",
       "    <tr>\n",
       "      <td>3</td>\n",
       "      <td>1897742</td>\n",
       "      <td>-2.355385</td>\n",
       "      <td>0.362323</td>\n",
       "      <td>2.668149</td>\n",
       "      <td>-4.339048</td>\n",
       "      <td>-3.588703</td>\n",
       "      <td>-1.827023</td>\n",
       "      <td>3.979391</td>\n",
       "      <td>2.202862</td>\n",
       "      <td>-1.521509</td>\n",
       "      <td>...</td>\n",
       "      <td>0.001553</td>\n",
       "      <td>0.007664</td>\n",
       "      <td>0.005811</td>\n",
       "      <td>-0.000630</td>\n",
       "      <td>0.001240</td>\n",
       "      <td>-0.000037</td>\n",
       "      <td>0.001502</td>\n",
       "      <td>2.561243e-15</td>\n",
       "      <td>-5.518534e-19</td>\n",
       "      <td>4.241004e-45</td>\n",
       "    </tr>\n",
       "    <tr>\n",
       "      <td>4</td>\n",
       "      <td>1889776</td>\n",
       "      <td>-0.296757</td>\n",
       "      <td>-0.402908</td>\n",
       "      <td>-0.829722</td>\n",
       "      <td>-0.057294</td>\n",
       "      <td>0.305550</td>\n",
       "      <td>0.357160</td>\n",
       "      <td>0.613522</td>\n",
       "      <td>-2.040624</td>\n",
       "      <td>-1.190819</td>\n",
       "      <td>...</td>\n",
       "      <td>0.000526</td>\n",
       "      <td>-0.000935</td>\n",
       "      <td>-0.000713</td>\n",
       "      <td>0.000228</td>\n",
       "      <td>0.000545</td>\n",
       "      <td>0.000068</td>\n",
       "      <td>0.000043</td>\n",
       "      <td>2.561243e-15</td>\n",
       "      <td>-5.518534e-19</td>\n",
       "      <td>2.918487e-45</td>\n",
       "    </tr>\n",
       "  </tbody>\n",
       "</table>\n",
       "<p>5 rows × 2007 columns</p>\n",
       "</div>"
      ],
      "text/plain": [
       "    doc_id         0         1         2         3         4         5  \\\n",
       "0  1896200 -0.397046  0.065826 -0.208656 -0.326621 -0.222124 -0.537293   \n",
       "1  1881014 -0.610801  0.186607 -0.507533 -3.363084 -1.509550  8.651002   \n",
       "2  1885576  0.257185 -0.862755 -0.679346 -0.217889  1.420259  0.155632   \n",
       "3  1897742 -2.355385  0.362323  2.668149 -4.339048 -3.588703 -1.827023   \n",
       "4  1889776 -0.296757 -0.402908 -0.829722 -0.057294  0.305550  0.357160   \n",
       "\n",
       "          6         7         8  ...      1996      1997      1998      1999  \\\n",
       "0 -0.501059 -1.110444  0.430676  ...  0.000923  0.001119  0.000234  0.001011   \n",
       "1  0.755407 -1.668928  1.293250  ... -0.001174  0.001489  0.000088 -0.000461   \n",
       "2  0.593849  0.178755 -0.496738  ... -0.006366 -0.002978 -0.001313  0.001137   \n",
       "3  3.979391  2.202862 -1.521509  ...  0.001553  0.007664  0.005811 -0.000630   \n",
       "4  0.613522 -2.040624 -1.190819  ...  0.000526 -0.000935 -0.000713  0.000228   \n",
       "\n",
       "       2000      2001      2002          2003          2004          2005  \n",
       "0  0.001428 -0.000067  0.000159  2.561243e-15 -5.518534e-19 -3.891089e-46  \n",
       "1 -0.001868  0.000054 -0.000296  2.561243e-15 -5.518534e-19  2.549486e-46  \n",
       "2 -0.000644  0.000031 -0.000429  2.561243e-15 -5.518534e-19 -3.975675e-45  \n",
       "3  0.001240 -0.000037  0.001502  2.561243e-15 -5.518534e-19  4.241004e-45  \n",
       "4  0.000545  0.000068  0.000043  2.561243e-15 -5.518534e-19  2.918487e-45  \n",
       "\n",
       "[5 rows x 2007 columns]"
      ]
     },
     "execution_count": 18,
     "metadata": {},
     "output_type": "execute_result"
    }
   ],
   "source": [
    "ypca = pd.DataFrame(Y_pca)\n",
    "ypca['doc_id']=df['doc_id'].copy()\n",
    "\n",
    "cols = ypca.columns.tolist()\n",
    "cols = cols[-1:] + cols[:-1]\n",
    "ypca=ypca[cols]\n",
    "\n",
    "print(ypca.shape)\n",
    "ypca.head()"
   ]
  },
  {
   "cell_type": "code",
   "execution_count": 19,
   "metadata": {},
   "outputs": [
    {
     "name": "stdout",
     "output_type": "stream",
     "text": [
      "[0.01013527 0.00906409 0.00779159 0.00668381 0.0061231  0.00558941\n",
      " 0.0055032  0.00503977 0.00479507 0.00443493]\n"
     ]
    }
   ],
   "source": [
    "\"\"\"Proporción de la varianza por componente\"\"\"\n",
    "pca_vr=pca.explained_variance_ratio_\n",
    "print(pca_vr[:10])"
   ]
  },
  {
   "cell_type": "code",
   "execution_count": 20,
   "metadata": {},
   "outputs": [
    {
     "data": {
      "image/png": "[encoded data removed]",
      "text/plain": [
       "<Figure size 576x360 with 1 Axes>"
      ]
     },
     "metadata": {
      "needs_background": "light"
     },
     "output_type": "display_data"
    }
   ],
   "source": [
    "D=pca_vr[:]\n",
    "\n",
    "\"\"\"Varianza acumulada\"\"\"\n",
    "d=np.cumsum(D)\n",
    "\n",
    "\"\"\"Areas de Graficacion y visualizacion de los datos\"\"\"\n",
    "fig,ax = plt.subplots(figsize=(8,5))\n",
    "\n",
    "pasos=range(len(D))\n",
    "datos=np.array(list(map(lambda x,y:[x,y],pasos,d)))\n",
    "ax.plot(datos[:,0],datos[:,1],\n",
    "        ls='--',\n",
    "        color='green',\n",
    "        linewidth=1,\n",
    "        label='Contribucion acumulada')\n",
    "plt.title('Distribucion de Varianzas')\n",
    "plt.xlabel('Componente')\n",
    "plt.ylabel('Proporción')\n",
    "plt.grid(True)\n",
    "ax.xaxis.grid(True, which='minor')\n",
    "ax.yaxis.grid(True, which='minor')\n",
    "ax.grid(which='major', color='gray', linestyle='-')\n",
    "ax.grid(which='minor', color='grey', linestyle='--')\n",
    "ax.legend()\n",
    "plt.show()"
   ]
  },
  {
   "cell_type": "markdown",
   "metadata": {},
   "source": [
    "# **Ejercicio**\n",
    "\n",
    "Queremos saber que tan bien podemos modelar documentos utilizando estas técnicas de reducción de dimensionalidad.\n",
    "\n",
    "Observa la distribución de los componentes principales de la matriz BoW, calculados por PCA y por LSI. \n",
    "\n",
    "Elige un número $q$ de componentes principales (que llamaremos _representativos_) para PCA y compara la calidad de los documentos más cercanos (semejantes) a los documentos de análisis mostrados aquí abajo."
   ]
  },
  {
   "cell_type": "markdown",
   "metadata": {},
   "source": [
    "## Análisis usando PCA"
   ]
  },
  {
   "cell_type": "markdown",
   "metadata": {},
   "source": [
    "### Modelación de documentos utilizando componentes principales"
   ]
  },
  {
   "cell_type": "code",
   "execution_count": 21,
   "metadata": {},
   "outputs": [],
   "source": [
    "def get_representativos(df,numero=100):\n",
    "    cols = [col for col in df.columns[:numero+1]]\n",
    "    rep = df.loc[:, cols]\n",
    "    return rep"
   ]
  },
  {
   "cell_type": "code",
   "execution_count": 58,
   "metadata": {},
   "outputs": [
    {
     "name": "stdout",
     "output_type": "stream",
     "text": [
      "(2006, 3)\n"
     ]
    },
    {
     "data": {
      "text/html": [
       "<div>\n",
       "<style scoped>\n",
       "    .dataframe tbody tr th:only-of-type {\n",
       "        vertical-align: middle;\n",
       "    }\n",
       "\n",
       "    .dataframe tbody tr th {\n",
       "        vertical-align: top;\n",
       "    }\n",
       "\n",
       "    .dataframe thead th {\n",
       "        text-align: right;\n",
       "    }\n",
       "</style>\n",
       "<table border=\"1\" class=\"dataframe\">\n",
       "  <thead>\n",
       "    <tr style=\"text-align: right;\">\n",
       "      <th></th>\n",
       "      <th>doc_id</th>\n",
       "      <th>0</th>\n",
       "      <th>1</th>\n",
       "    </tr>\n",
       "  </thead>\n",
       "  <tbody>\n",
       "    <tr>\n",
       "      <td>0</td>\n",
       "      <td>1896200</td>\n",
       "      <td>-0.397046</td>\n",
       "      <td>0.065826</td>\n",
       "    </tr>\n",
       "    <tr>\n",
       "      <td>1</td>\n",
       "      <td>1881014</td>\n",
       "      <td>-0.610801</td>\n",
       "      <td>0.186607</td>\n",
       "    </tr>\n",
       "    <tr>\n",
       "      <td>2</td>\n",
       "      <td>1885576</td>\n",
       "      <td>0.257185</td>\n",
       "      <td>-0.862755</td>\n",
       "    </tr>\n",
       "    <tr>\n",
       "      <td>3</td>\n",
       "      <td>1897742</td>\n",
       "      <td>-2.355385</td>\n",
       "      <td>0.362323</td>\n",
       "    </tr>\n",
       "    <tr>\n",
       "      <td>4</td>\n",
       "      <td>1889776</td>\n",
       "      <td>-0.296757</td>\n",
       "      <td>-0.402908</td>\n",
       "    </tr>\n",
       "  </tbody>\n",
       "</table>\n",
       "</div>"
      ],
      "text/plain": [
       "    doc_id         0         1\n",
       "0  1896200 -0.397046  0.065826\n",
       "1  1881014 -0.610801  0.186607\n",
       "2  1885576  0.257185 -0.862755\n",
       "3  1897742 -2.355385  0.362323\n",
       "4  1889776 -0.296757 -0.402908"
      ]
     },
     "execution_count": 58,
     "metadata": {},
     "output_type": "execute_result"
    }
   ],
   "source": [
    "q=2  #elige un numero q de componentes principales\n",
    "df_pca=get_representativos(ypca,q)\n",
    "print(df_pca.shape)\n",
    "df_pca.head()"
   ]
  },
  {
   "cell_type": "markdown",
   "metadata": {},
   "source": [
    "### &#9998; Dibuja los puntos (documentos)"
   ]
  },
  {
   "cell_type": "code",
   "execution_count": null,
   "metadata": {},
   "outputs": [],
   "source": [
    "fig,ax=plt.subplots()\n",
    "\"\"\" TU CODIGO AQUI \"\"\"\n",
    "\n",
    "\"\"\"--------------\"\"\"\n",
    "plt.show()"
   ]
  },
  {
   "cell_type": "markdown",
   "metadata": {},
   "source": [
    "### Documentos de análisis"
   ]
  },
  {
   "cell_type": "code",
   "execution_count": 60,
   "metadata": {},
   "outputs": [
    {
     "data": {
      "text/html": [
       "<div>\n",
       "<style scoped>\n",
       "    .dataframe tbody tr th:only-of-type {\n",
       "        vertical-align: middle;\n",
       "    }\n",
       "\n",
       "    .dataframe tbody tr th {\n",
       "        vertical-align: top;\n",
       "    }\n",
       "\n",
       "    .dataframe thead th {\n",
       "        text-align: right;\n",
       "    }\n",
       "</style>\n",
       "<table border=\"1\" class=\"dataframe\">\n",
       "  <thead>\n",
       "    <tr style=\"text-align: right;\">\n",
       "      <th></th>\n",
       "      <th>doc_id</th>\n",
       "      <th>Texto</th>\n",
       "    </tr>\n",
       "  </thead>\n",
       "  <tbody>\n",
       "    <tr>\n",
       "      <td>0</td>\n",
       "      <td>1896200</td>\n",
       "      <td>jardín botánico villa thuret francés jardin bo...</td>\n",
       "    </tr>\n",
       "    <tr>\n",
       "      <td>1</td>\n",
       "      <td>1881014</td>\n",
       "      <td>introducción cinco tesoro isla five treasure i...</td>\n",
       "    </tr>\n",
       "    <tr>\n",
       "      <td>2</td>\n",
       "      <td>1885576</td>\n",
       "      <td>estudios sonosfera estudios grabación fundados...</td>\n",
       "    </tr>\n",
       "    <tr>\n",
       "      <td>3</td>\n",
       "      <td>1897742</td>\n",
       "      <td>coso ciudad altoaragonesa huesca larga calle r...</td>\n",
       "    </tr>\n",
       "    <tr>\n",
       "      <td>4</td>\n",
       "      <td>1889776</td>\n",
       "      <td>miss venezuela celebró caraballeda vargas vene...</td>\n",
       "    </tr>\n",
       "  </tbody>\n",
       "</table>\n",
       "</div>"
      ],
      "text/plain": [
       "    doc_id                                              Texto\n",
       "0  1896200  jardín botánico villa thuret francés jardin bo...\n",
       "1  1881014  introducción cinco tesoro isla five treasure i...\n",
       "2  1885576  estudios sonosfera estudios grabación fundados...\n",
       "3  1897742  coso ciudad altoaragonesa huesca larga calle r...\n",
       "4  1889776  miss venezuela celebró caraballeda vargas vene..."
      ]
     },
     "execution_count": 60,
     "metadata": {},
     "output_type": "execute_result"
    }
   ],
   "source": [
    "docus = df.head().copy()\n",
    "docus.drop(columns=['Total','Conteos','Palabras','clase'],inplace=True)  \n",
    "docus.index=range(len(docus.index))\n",
    "\n",
    "docus"
   ]
  },
  {
   "cell_type": "markdown",
   "metadata": {},
   "source": [
    "### Calculamos el vecino más cercano a cada uno de los documentos de análisis"
   ]
  },
  {
   "cell_type": "code",
   "execution_count": 61,
   "metadata": {},
   "outputs": [],
   "source": [
    "def dist_vecinos(id_docu,df):\n",
    "    dist=[]\n",
    "    candidato = df[df['doc_id']==id_docu]\n",
    "    candidato = candidato.iloc[:,1].values[0]\n",
    "    fila=df.index[df['doc_id'] == id_docu].tolist()\n",
    "    pts=df.drop(df.index[fila])\n",
    "    id_=pts.doc_id.values\n",
    "    pts=pts.iloc[:,1].values\n",
    "\n",
    "    for i in range(len(pts)):\n",
    "        d = np.sqrt(np.sum(np.square(candidato-pts[i])))\n",
    "        dist.append((id_docu,id_[i],d))\n",
    "    dist=sorted(dist,key=lambda x: x[2])\n",
    "    return dist\n",
    "\n",
    "def k_vecinos_mas_cercanos(docus,df,k=1):\n",
    "    l=docus.doc_id.values\n",
    "    vec=OrderedDict()\n",
    "    for id_ in l:\n",
    "        d=dist_vecinos(id_,df)\n",
    "        for i in range(k):\n",
    "            if i==0:\n",
    "                vec[id_]=[[d[i][1],d[i][2]]]\n",
    "            else:\n",
    "                vec[id_].append([d[i][1],d[i][2]])\n",
    "    return vec"
   ]
  },
  {
   "cell_type": "code",
   "execution_count": 62,
   "metadata": {},
   "outputs": [],
   "source": [
    "k=1\n",
    "vecinos_pca=k_vecinos_mas_cercanos(docus,df_pca,k)"
   ]
  },
  {
   "cell_type": "markdown",
   "metadata": {},
   "source": [
    "### Por cada documento de análisis, podemos ver qué documento es el más semejante (el vecino más cercano)"
   ]
  },
  {
   "cell_type": "code",
   "execution_count": 63,
   "metadata": {},
   "outputs": [
    {
     "name": "stdout",
     "output_type": "stream",
     "text": [
      "[['1885814', 0.0004828216557195564], ['1883605', 0.000507755122934217], ['1895033', 0.0008445378621166344], ['1892929', 0.023499314930265136], ['1896150', 3.702000621252921e-05]]\n"
     ]
    }
   ],
   "source": [
    "doc_names=list(docus.doc_id.values)\n",
    "\n",
    "nivel=0\n",
    "vecinos=[]\n",
    "for d in doc_names:\n",
    "    vecinos.append(vecinos_pca[d][nivel])\n",
    "print(vecinos)"
   ]
  },
  {
   "cell_type": "code",
   "execution_count": 64,
   "metadata": {},
   "outputs": [
    {
     "data": {
      "text/html": [
       "<div>\n",
       "<style scoped>\n",
       "    .dataframe tbody tr th:only-of-type {\n",
       "        vertical-align: middle;\n",
       "    }\n",
       "\n",
       "    .dataframe tbody tr th {\n",
       "        vertical-align: top;\n",
       "    }\n",
       "\n",
       "    .dataframe thead th {\n",
       "        text-align: right;\n",
       "    }\n",
       "</style>\n",
       "<table border=\"1\" class=\"dataframe\">\n",
       "  <thead>\n",
       "    <tr style=\"text-align: right;\">\n",
       "      <th></th>\n",
       "      <th>vecino</th>\n",
       "      <th>Texto_vecino</th>\n",
       "    </tr>\n",
       "  </thead>\n",
       "  <tbody>\n",
       "    <tr>\n",
       "      <td>0</td>\n",
       "      <td>1885814</td>\n",
       "      <td>mathias stomer amersfoort sicilia pintor holan...</td>\n",
       "    </tr>\n",
       "    <tr>\n",
       "      <td>1</td>\n",
       "      <td>1883605</td>\n",
       "      <td>mohamed ould maaouya méderdra agosto político ...</td>\n",
       "    </tr>\n",
       "    <tr>\n",
       "      <td>2</td>\n",
       "      <td>1895033</td>\n",
       "      <td>philipp wilhelm wirtgen diciembre septiembre b...</td>\n",
       "    </tr>\n",
       "    <tr>\n",
       "      <td>3</td>\n",
       "      <td>1892929</td>\n",
       "      <td>anthony jarrad morrow nacido septiembre charlo...</td>\n",
       "    </tr>\n",
       "    <tr>\n",
       "      <td>4</td>\n",
       "      <td>1896150</td>\n",
       "      <td>meiofauna compuesta pequeños animales habitan ...</td>\n",
       "    </tr>\n",
       "  </tbody>\n",
       "</table>\n",
       "</div>"
      ],
      "text/plain": [
       "    vecino                                       Texto_vecino\n",
       "0  1885814  mathias stomer amersfoort sicilia pintor holan...\n",
       "1  1883605  mohamed ould maaouya méderdra agosto político ...\n",
       "2  1895033  philipp wilhelm wirtgen diciembre septiembre b...\n",
       "3  1892929  anthony jarrad morrow nacido septiembre charlo...\n",
       "4  1896150  meiofauna compuesta pequeños animales habitan ..."
      ]
     },
     "execution_count": 64,
     "metadata": {},
     "output_type": "execute_result"
    }
   ],
   "source": [
    "vecinos=dict(vecinos)\n",
    "for id_ in vecinos.keys():\n",
    "    txt=df[df.doc_id==id_].Texto.values\n",
    "    vecinos[id_]=list(txt)[0]\n",
    "vecinos=pd.DataFrame(vecinos.items(),columns=['vecino','Texto_vecino'])\n",
    "vecinos"
   ]
  },
  {
   "cell_type": "code",
   "execution_count": 65,
   "metadata": {},
   "outputs": [
    {
     "data": {
      "text/html": [
       "<div>\n",
       "<style scoped>\n",
       "    .dataframe tbody tr th:only-of-type {\n",
       "        vertical-align: middle;\n",
       "    }\n",
       "\n",
       "    .dataframe tbody tr th {\n",
       "        vertical-align: top;\n",
       "    }\n",
       "\n",
       "    .dataframe thead th {\n",
       "        text-align: right;\n",
       "    }\n",
       "</style>\n",
       "<table border=\"1\" class=\"dataframe\">\n",
       "  <thead>\n",
       "    <tr style=\"text-align: right;\">\n",
       "      <th></th>\n",
       "      <th>doc_id</th>\n",
       "      <th>Texto</th>\n",
       "      <th>vecino</th>\n",
       "      <th>Texto_vecino</th>\n",
       "    </tr>\n",
       "  </thead>\n",
       "  <tbody>\n",
       "    <tr>\n",
       "      <td>0</td>\n",
       "      <td>1896200</td>\n",
       "      <td>jardín botánico villa thuret francés jardin bo...</td>\n",
       "      <td>1885814</td>\n",
       "      <td>mathias stomer amersfoort sicilia pintor holan...</td>\n",
       "    </tr>\n",
       "    <tr>\n",
       "      <td>1</td>\n",
       "      <td>1881014</td>\n",
       "      <td>introducción cinco tesoro isla five treasure i...</td>\n",
       "      <td>1883605</td>\n",
       "      <td>mohamed ould maaouya méderdra agosto político ...</td>\n",
       "    </tr>\n",
       "    <tr>\n",
       "      <td>2</td>\n",
       "      <td>1885576</td>\n",
       "      <td>estudios sonosfera estudios grabación fundados...</td>\n",
       "      <td>1895033</td>\n",
       "      <td>philipp wilhelm wirtgen diciembre septiembre b...</td>\n",
       "    </tr>\n",
       "    <tr>\n",
       "      <td>3</td>\n",
       "      <td>1897742</td>\n",
       "      <td>coso ciudad altoaragonesa huesca larga calle r...</td>\n",
       "      <td>1892929</td>\n",
       "      <td>anthony jarrad morrow nacido septiembre charlo...</td>\n",
       "    </tr>\n",
       "    <tr>\n",
       "      <td>4</td>\n",
       "      <td>1889776</td>\n",
       "      <td>miss venezuela celebró caraballeda vargas vene...</td>\n",
       "      <td>1896150</td>\n",
       "      <td>meiofauna compuesta pequeños animales habitan ...</td>\n",
       "    </tr>\n",
       "  </tbody>\n",
       "</table>\n",
       "</div>"
      ],
      "text/plain": [
       "    doc_id                                              Texto   vecino  \\\n",
       "0  1896200  jardín botánico villa thuret francés jardin bo...  1885814   \n",
       "1  1881014  introducción cinco tesoro isla five treasure i...  1883605   \n",
       "2  1885576  estudios sonosfera estudios grabación fundados...  1895033   \n",
       "3  1897742  coso ciudad altoaragonesa huesca larga calle r...  1892929   \n",
       "4  1889776  miss venezuela celebró caraballeda vargas vene...  1896150   \n",
       "\n",
       "                                        Texto_vecino  \n",
       "0  mathias stomer amersfoort sicilia pintor holan...  \n",
       "1  mohamed ould maaouya méderdra agosto político ...  \n",
       "2  philipp wilhelm wirtgen diciembre septiembre b...  \n",
       "3  anthony jarrad morrow nacido septiembre charlo...  \n",
       "4  meiofauna compuesta pequeños animales habitan ...  "
      ]
     },
     "execution_count": 65,
     "metadata": {},
     "output_type": "execute_result"
    }
   ],
   "source": [
    "datos_PCA=pd.concat([docus,vecinos],axis=1)\n",
    "datos_PCA=datos_PCA.astype({'Texto':str, 'Texto_vecino':str})\n",
    "datos_PCA"
   ]
  },
  {
   "cell_type": "markdown",
   "metadata": {},
   "source": [
    "### Traemos los textos correspondientes y comparamos"
   ]
  },
  {
   "cell_type": "code",
   "execution_count": 67,
   "metadata": {},
   "outputs": [
    {
     "name": "stdout",
     "output_type": "stream",
     "text": [
      "\n",
      "Documento: 1896200 Texto de referencia:\n",
      "\n",
      "jardín botánico villa thuret francés jardin botanique villa thuret jardín botánico hectáreas ubicado terrenos villa thuret antibes francia código identificación internacional institución botánica inra\n",
      "\n",
      "Texto más cercano:\n",
      "\n",
      "mathias stomer amersfoort sicilia pintor holandés estilo tenebrista nombre escribe formas diversas figura fuentes matthias stomer mathias stom conocen pocos datos seguros vida cree inició pintura abra\n",
      "\n",
      "Documento: 1881014 Texto de referencia:\n",
      "\n",
      "introducción cinco tesoro isla five treasure island primer libro serie cinco enid blyton editado argumento llegan vacaciones pequeños julian julián dick anne ana repentino viaje negocios padre escocia\n",
      "\n",
      "Texto más cercano:\n",
      "\n",
      "mohamed ould maaouya méderdra agosto político mauritania ministro interior descentralización gobierno bajo control militar surgido tras golpe cursó estudios superiores formándose administración públic\n",
      "\n",
      "Documento: 1885576 Texto de referencia:\n",
      "\n",
      "estudios sonosfera estudios grabación fundados asociación músicos riojanosjunto diferentes empresas sector academias musicales distribuidores material musical promotores managers discográficos estudio\n",
      "\n",
      "Texto más cercano:\n",
      "\n",
      "philipp wilhelm wirtgen diciembre septiembre botánico maestro alemán neuwied docente remagen winningen koblenz botánico theodor nees von esenbeck cofundador botanischer verein mittel und niederrhein a\n",
      "\n",
      "Documento: 1897742 Texto de referencia:\n",
      "\n",
      "coso ciudad altoaragonesa huesca larga calle rodea antigua muralla oscense excepto parte nororiental junto río isuela ronda misericorida actualmente trata zona principalmente comercial cabe resaltar m\n",
      "\n",
      "Texto más cercano:\n",
      "\n",
      "anthony jarrad morrow nacido septiembre charlotte carolina norte apodado amo jugador baloncesto estadounidense temporada pertenece plantilla golden state warriors nba mide metros altura juega posición\n",
      "\n",
      "Documento: 1889776 Texto de referencia:\n",
      "\n",
      "miss venezuela celebró caraballeda vargas venezuela mayo ganadora certamen maritza sayalero fernández miss departamento vargas certamen transmitido vivo primera vez colores venevisión hotel macuto she\n",
      "\n",
      "Texto más cercano:\n",
      "\n",
      "meiofauna compuesta pequeños animales habitan granos arena trata pequeños invertebrados superan mayoría casos pueden llegar medir formada miles especies protozoos poliquetos ácaros tardígrados quinorr\n"
     ]
    }
   ],
   "source": [
    "for docu in list(docus.doc_id.values):\n",
    "    print('\\nDocumento: {} Texto de referencia:\\n'.format(docu))\n",
    "    print(datos_PCA[datos_PCA.doc_id==docu].Texto.values[0][:200])\n",
    "    print('\\nTexto más cercano:\\n')\n",
    "    print(datos_PCA[datos_PCA.doc_id==docu].Texto_vecino.values[0][:200])"
   ]
  },
  {
   "cell_type": "markdown",
   "metadata": {},
   "source": [
    "___"
   ]
  },
  {
   "cell_type": "markdown",
   "metadata": {},
   "source": [
    "# &#9998; TAREA:\n",
    "* Elige un método de los vistos en el curso y haz un análisis de clusters de la matriz PCA.\n",
    "* Reporta tus resultados en un documento PDF."
   ]
  },
  {
   "cell_type": "code",
   "execution_count": null,
   "metadata": {},
   "outputs": [],
   "source": []
  }
 ],
 "metadata": {
  "kernelspec": {
   "display_name": "Python 3",
   "language": "python",
   "name": "python3"
  },
  "language_info": {
   "codemirror_mode": {
    "name": "ipython",
    "version": 3
   },
   "file_extension": ".py",
   "mimetype": "text/x-python",
   "name": "python",
   "nbconvert_exporter": "python",
   "pygments_lexer": "ipython3",
   "version": "3.7.4"
  }
 },
 "nbformat": 4,
 "nbformat_minor": 4
}
