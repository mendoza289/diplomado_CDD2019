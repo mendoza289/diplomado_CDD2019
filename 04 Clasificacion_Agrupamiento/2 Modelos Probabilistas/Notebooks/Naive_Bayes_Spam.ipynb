{
 "cells": [
  {
   "cell_type": "markdown",
   "metadata": {},
   "source": [
    "<a href=\"https://colab.research.google.com/github/jhermosillo/diplomado_CDD2019/blob/master/04%20Clasificacion_Agrupamiento/2%20Modelos%20Probabilistas/Notebooks/Naive_Bayes_Spam.ipynb\" target=\"_parent\"><img src=\"https://colab.research.google.com/assets/colab-badge.svg\" alt=\"Open In Colab\"/></a>"
   ]
  },
  {
   "cell_type": "markdown",
   "metadata": {},
   "source": [
    "<h1 style=\"font-size:50px;\" align=\"left\"> <img align=\"left\" width=\"400\" src=\"../img/cerebro_1.jpg\"/>Clasificador Naïve Bayes<br>\n",
    "    Detector de Spam"
   ]
  },
  {
   "cell_type": "code",
   "execution_count": 1,
   "metadata": {},
   "outputs": [],
   "source": [
    "import pandas as pd\n",
    "import numpy as np\n",
    "\n",
    "import math"
   ]
  },
  {
   "cell_type": "markdown",
   "metadata": {},
   "source": [
    "## Archivo de datos preprocesados\n",
    "\n",
    "### Matriz BOW\n",
    "\n",
    "* Los correos vienen etiquetados de la siguiente forma: `correo_enron1_<0/1>_<#email>` donde $0\\equiv Ham$ y $1\\equiv Spam$."
   ]
  },
  {
   "cell_type": "code",
   "execution_count": 3,
   "metadata": {},
   "outputs": [
    {
     "name": "stdout",
     "output_type": "stream",
     "text": [
      "(9406, 1002)\n"
     ]
    },
    {
     "data": {
      "text/html": [
       "<div>\n",
       "<style scoped>\n",
       "    .dataframe tbody tr th:only-of-type {\n",
       "        vertical-align: middle;\n",
       "    }\n",
       "\n",
       "    .dataframe tbody tr th {\n",
       "        vertical-align: top;\n",
       "    }\n",
       "\n",
       "    .dataframe thead th {\n",
       "        text-align: right;\n",
       "    }\n",
       "</style>\n",
       "<table border=\"1\" class=\"dataframe\">\n",
       "  <thead>\n",
       "    <tr style=\"text-align: right;\">\n",
       "      <th></th>\n",
       "      <th>Unnamed: 0</th>\n",
       "      <th>WORD</th>\n",
       "      <th>correo_enron1_0_0</th>\n",
       "      <th>correo_enron1_0_1</th>\n",
       "      <th>correo_enron1_0_2</th>\n",
       "      <th>correo_enron1_0_3</th>\n",
       "      <th>correo_enron1_0_4</th>\n",
       "      <th>correo_enron1_0_5</th>\n",
       "      <th>correo_enron1_0_6</th>\n",
       "      <th>correo_enron1_0_7</th>\n",
       "      <th>...</th>\n",
       "      <th>correo_enron1_1_490</th>\n",
       "      <th>correo_enron1_1_491</th>\n",
       "      <th>correo_enron1_1_492</th>\n",
       "      <th>correo_enron1_1_493</th>\n",
       "      <th>correo_enron1_1_494</th>\n",
       "      <th>correo_enron1_1_495</th>\n",
       "      <th>correo_enron1_1_496</th>\n",
       "      <th>correo_enron1_1_497</th>\n",
       "      <th>correo_enron1_1_498</th>\n",
       "      <th>correo_enron1_1_499</th>\n",
       "    </tr>\n",
       "  </thead>\n",
       "  <tbody>\n",
       "    <tr>\n",
       "      <td>0</td>\n",
       "      <td>0</td>\n",
       "      <td>fw</td>\n",
       "      <td>1</td>\n",
       "      <td>0</td>\n",
       "      <td>0</td>\n",
       "      <td>0</td>\n",
       "      <td>0</td>\n",
       "      <td>0</td>\n",
       "      <td>0</td>\n",
       "      <td>0</td>\n",
       "      <td>...</td>\n",
       "      <td>0</td>\n",
       "      <td>0</td>\n",
       "      <td>0</td>\n",
       "      <td>0</td>\n",
       "      <td>0</td>\n",
       "      <td>0</td>\n",
       "      <td>0</td>\n",
       "      <td>0</td>\n",
       "      <td>0</td>\n",
       "      <td>0</td>\n",
       "    </tr>\n",
       "    <tr>\n",
       "      <td>1</td>\n",
       "      <td>1</td>\n",
       "      <td>everyone</td>\n",
       "      <td>1</td>\n",
       "      <td>0</td>\n",
       "      <td>0</td>\n",
       "      <td>0</td>\n",
       "      <td>0</td>\n",
       "      <td>0</td>\n",
       "      <td>0</td>\n",
       "      <td>0</td>\n",
       "      <td>...</td>\n",
       "      <td>0</td>\n",
       "      <td>0</td>\n",
       "      <td>0</td>\n",
       "      <td>0</td>\n",
       "      <td>0</td>\n",
       "      <td>0</td>\n",
       "      <td>0</td>\n",
       "      <td>0</td>\n",
       "      <td>0</td>\n",
       "      <td>0</td>\n",
       "    </tr>\n",
       "    <tr>\n",
       "      <td>2</td>\n",
       "      <td>2</td>\n",
       "      <td>access</td>\n",
       "      <td>3</td>\n",
       "      <td>0</td>\n",
       "      <td>0</td>\n",
       "      <td>0</td>\n",
       "      <td>0</td>\n",
       "      <td>0</td>\n",
       "      <td>0</td>\n",
       "      <td>0</td>\n",
       "      <td>...</td>\n",
       "      <td>0</td>\n",
       "      <td>0</td>\n",
       "      <td>0</td>\n",
       "      <td>0</td>\n",
       "      <td>0</td>\n",
       "      <td>0</td>\n",
       "      <td>0</td>\n",
       "      <td>0</td>\n",
       "      <td>0</td>\n",
       "      <td>0</td>\n",
       "    </tr>\n",
       "    <tr>\n",
       "      <td>3</td>\n",
       "      <td>3</td>\n",
       "      <td>change</td>\n",
       "      <td>1</td>\n",
       "      <td>0</td>\n",
       "      <td>0</td>\n",
       "      <td>0</td>\n",
       "      <td>5</td>\n",
       "      <td>0</td>\n",
       "      <td>0</td>\n",
       "      <td>0</td>\n",
       "      <td>...</td>\n",
       "      <td>1</td>\n",
       "      <td>0</td>\n",
       "      <td>0</td>\n",
       "      <td>0</td>\n",
       "      <td>0</td>\n",
       "      <td>0</td>\n",
       "      <td>0</td>\n",
       "      <td>0</td>\n",
       "      <td>0</td>\n",
       "      <td>1</td>\n",
       "    </tr>\n",
       "    <tr>\n",
       "      <td>4</td>\n",
       "      <td>4</td>\n",
       "      <td>security</td>\n",
       "      <td>2</td>\n",
       "      <td>0</td>\n",
       "      <td>0</td>\n",
       "      <td>0</td>\n",
       "      <td>0</td>\n",
       "      <td>0</td>\n",
       "      <td>0</td>\n",
       "      <td>0</td>\n",
       "      <td>...</td>\n",
       "      <td>0</td>\n",
       "      <td>0</td>\n",
       "      <td>0</td>\n",
       "      <td>0</td>\n",
       "      <td>0</td>\n",
       "      <td>0</td>\n",
       "      <td>0</td>\n",
       "      <td>0</td>\n",
       "      <td>0</td>\n",
       "      <td>2</td>\n",
       "    </tr>\n",
       "  </tbody>\n",
       "</table>\n",
       "<p>5 rows × 1002 columns</p>\n",
       "</div>"
      ],
      "text/plain": [
       "   Unnamed: 0      WORD  correo_enron1_0_0  correo_enron1_0_1  \\\n",
       "0           0        fw                  1                  0   \n",
       "1           1  everyone                  1                  0   \n",
       "2           2    access                  3                  0   \n",
       "3           3    change                  1                  0   \n",
       "4           4  security                  2                  0   \n",
       "\n",
       "   correo_enron1_0_2  correo_enron1_0_3  correo_enron1_0_4  correo_enron1_0_5  \\\n",
       "0                  0                  0                  0                  0   \n",
       "1                  0                  0                  0                  0   \n",
       "2                  0                  0                  0                  0   \n",
       "3                  0                  0                  5                  0   \n",
       "4                  0                  0                  0                  0   \n",
       "\n",
       "   correo_enron1_0_6  correo_enron1_0_7  ...  correo_enron1_1_490  \\\n",
       "0                  0                  0  ...                    0   \n",
       "1                  0                  0  ...                    0   \n",
       "2                  0                  0  ...                    0   \n",
       "3                  0                  0  ...                    1   \n",
       "4                  0                  0  ...                    0   \n",
       "\n",
       "   correo_enron1_1_491  correo_enron1_1_492  correo_enron1_1_493  \\\n",
       "0                    0                    0                    0   \n",
       "1                    0                    0                    0   \n",
       "2                    0                    0                    0   \n",
       "3                    0                    0                    0   \n",
       "4                    0                    0                    0   \n",
       "\n",
       "   correo_enron1_1_494  correo_enron1_1_495  correo_enron1_1_496  \\\n",
       "0                    0                    0                    0   \n",
       "1                    0                    0                    0   \n",
       "2                    0                    0                    0   \n",
       "3                    0                    0                    0   \n",
       "4                    0                    0                    0   \n",
       "\n",
       "   correo_enron1_1_497  correo_enron1_1_498  correo_enron1_1_499  \n",
       "0                    0                    0                    0  \n",
       "1                    0                    0                    0  \n",
       "2                    0                    0                    0  \n",
       "3                    0                    0                    1  \n",
       "4                    0                    0                    2  \n",
       "\n",
       "[5 rows x 1002 columns]"
      ]
     },
     "execution_count": 3,
     "metadata": {},
     "output_type": "execute_result"
    }
   ],
   "source": [
    "data = pd.read_csv('../Data/frequencia_palabras.csv') # lectura del documento con pandas\n",
    "# visualizacion\n",
    "print(data.shape)\n",
    "data.head()"
   ]
  },
  {
   "cell_type": "markdown",
   "metadata": {},
   "source": [
    "La siguiente función separa los datos para prueba y entrenamiento, el argumento 'resto' indica la cantidad de correos que se desea para los datos de prueba. <br>\n",
    "La salida son dos diccionarios, uno de entrenamiento y el otro para prueba del modelo."
   ]
  },
  {
   "cell_type": "code",
   "execution_count": 4,
   "metadata": {},
   "outputs": [],
   "source": [
    "def datosEP(data, resto):\n",
    "    conjunto1 = {'WORD':data['WORD']}\n",
    "    n_instPN = 500 - resto\n",
    "    for i in range(2):\n",
    "        for j in range(n_instPN):\n",
    "            llave = 'correo_enron1_'+str(i)+\"_\"+str(j)\n",
    "            conjunto1[llave] = data[llave]\n",
    "    conjunto2 = {'WORD':data['WORD']}\n",
    "    for i in range(2):\n",
    "        for j in range(resto):\n",
    "            llave = 'correo_enron1_'+str(i)+\"_\"+str(j)\n",
    "            conjunto2[llave] = data[llave]\n",
    "    return [conjunto1,conjunto2]"
   ]
  },
  {
   "cell_type": "code",
   "execution_count": 5,
   "metadata": {},
   "outputs": [
    {
     "name": "stdout",
     "output_type": "stream",
     "text": [
      "801 201\n"
     ]
    }
   ],
   "source": [
    "X_train, X_test = datosEP(data,100)\n",
    "print(len(X_train.keys()),len(X_test.keys()))"
   ]
  },
  {
   "cell_type": "code",
   "execution_count": 9,
   "metadata": {},
   "outputs": [
    {
     "data": {
      "text/html": [
       "<div>\n",
       "<style scoped>\n",
       "    .dataframe tbody tr th:only-of-type {\n",
       "        vertical-align: middle;\n",
       "    }\n",
       "\n",
       "    .dataframe tbody tr th {\n",
       "        vertical-align: top;\n",
       "    }\n",
       "\n",
       "    .dataframe thead th {\n",
       "        text-align: right;\n",
       "    }\n",
       "</style>\n",
       "<table border=\"1\" class=\"dataframe\">\n",
       "  <thead>\n",
       "    <tr style=\"text-align: right;\">\n",
       "      <th></th>\n",
       "      <th>WORD</th>\n",
       "      <th>correo_enron1_0_0</th>\n",
       "      <th>correo_enron1_0_1</th>\n",
       "      <th>correo_enron1_0_2</th>\n",
       "      <th>correo_enron1_0_3</th>\n",
       "      <th>correo_enron1_0_4</th>\n",
       "      <th>correo_enron1_0_5</th>\n",
       "      <th>correo_enron1_0_6</th>\n",
       "      <th>correo_enron1_0_7</th>\n",
       "      <th>correo_enron1_0_8</th>\n",
       "      <th>...</th>\n",
       "      <th>correo_enron1_1_390</th>\n",
       "      <th>correo_enron1_1_391</th>\n",
       "      <th>correo_enron1_1_392</th>\n",
       "      <th>correo_enron1_1_393</th>\n",
       "      <th>correo_enron1_1_394</th>\n",
       "      <th>correo_enron1_1_395</th>\n",
       "      <th>correo_enron1_1_396</th>\n",
       "      <th>correo_enron1_1_397</th>\n",
       "      <th>correo_enron1_1_398</th>\n",
       "      <th>correo_enron1_1_399</th>\n",
       "    </tr>\n",
       "  </thead>\n",
       "  <tbody>\n",
       "    <tr>\n",
       "      <td>0</td>\n",
       "      <td>fw</td>\n",
       "      <td>1</td>\n",
       "      <td>0</td>\n",
       "      <td>0</td>\n",
       "      <td>0</td>\n",
       "      <td>0</td>\n",
       "      <td>0</td>\n",
       "      <td>0</td>\n",
       "      <td>0</td>\n",
       "      <td>0</td>\n",
       "      <td>...</td>\n",
       "      <td>0</td>\n",
       "      <td>0</td>\n",
       "      <td>0</td>\n",
       "      <td>0</td>\n",
       "      <td>0</td>\n",
       "      <td>0</td>\n",
       "      <td>0</td>\n",
       "      <td>0</td>\n",
       "      <td>0</td>\n",
       "      <td>0</td>\n",
       "    </tr>\n",
       "    <tr>\n",
       "      <td>1</td>\n",
       "      <td>everyone</td>\n",
       "      <td>1</td>\n",
       "      <td>0</td>\n",
       "      <td>0</td>\n",
       "      <td>0</td>\n",
       "      <td>0</td>\n",
       "      <td>0</td>\n",
       "      <td>0</td>\n",
       "      <td>0</td>\n",
       "      <td>0</td>\n",
       "      <td>...</td>\n",
       "      <td>0</td>\n",
       "      <td>0</td>\n",
       "      <td>0</td>\n",
       "      <td>0</td>\n",
       "      <td>0</td>\n",
       "      <td>0</td>\n",
       "      <td>0</td>\n",
       "      <td>0</td>\n",
       "      <td>0</td>\n",
       "      <td>1</td>\n",
       "    </tr>\n",
       "    <tr>\n",
       "      <td>2</td>\n",
       "      <td>access</td>\n",
       "      <td>3</td>\n",
       "      <td>0</td>\n",
       "      <td>0</td>\n",
       "      <td>0</td>\n",
       "      <td>0</td>\n",
       "      <td>0</td>\n",
       "      <td>0</td>\n",
       "      <td>0</td>\n",
       "      <td>0</td>\n",
       "      <td>...</td>\n",
       "      <td>0</td>\n",
       "      <td>0</td>\n",
       "      <td>0</td>\n",
       "      <td>0</td>\n",
       "      <td>0</td>\n",
       "      <td>0</td>\n",
       "      <td>1</td>\n",
       "      <td>0</td>\n",
       "      <td>0</td>\n",
       "      <td>0</td>\n",
       "    </tr>\n",
       "    <tr>\n",
       "      <td>3</td>\n",
       "      <td>change</td>\n",
       "      <td>1</td>\n",
       "      <td>0</td>\n",
       "      <td>0</td>\n",
       "      <td>0</td>\n",
       "      <td>5</td>\n",
       "      <td>0</td>\n",
       "      <td>0</td>\n",
       "      <td>0</td>\n",
       "      <td>0</td>\n",
       "      <td>...</td>\n",
       "      <td>0</td>\n",
       "      <td>0</td>\n",
       "      <td>0</td>\n",
       "      <td>1</td>\n",
       "      <td>0</td>\n",
       "      <td>0</td>\n",
       "      <td>0</td>\n",
       "      <td>0</td>\n",
       "      <td>0</td>\n",
       "      <td>0</td>\n",
       "    </tr>\n",
       "    <tr>\n",
       "      <td>4</td>\n",
       "      <td>security</td>\n",
       "      <td>2</td>\n",
       "      <td>0</td>\n",
       "      <td>0</td>\n",
       "      <td>0</td>\n",
       "      <td>0</td>\n",
       "      <td>0</td>\n",
       "      <td>0</td>\n",
       "      <td>0</td>\n",
       "      <td>0</td>\n",
       "      <td>...</td>\n",
       "      <td>0</td>\n",
       "      <td>0</td>\n",
       "      <td>0</td>\n",
       "      <td>0</td>\n",
       "      <td>0</td>\n",
       "      <td>0</td>\n",
       "      <td>0</td>\n",
       "      <td>1</td>\n",
       "      <td>0</td>\n",
       "      <td>0</td>\n",
       "    </tr>\n",
       "  </tbody>\n",
       "</table>\n",
       "<p>5 rows × 801 columns</p>\n",
       "</div>"
      ],
      "text/plain": [
       "       WORD  correo_enron1_0_0  correo_enron1_0_1  correo_enron1_0_2  \\\n",
       "0        fw                  1                  0                  0   \n",
       "1  everyone                  1                  0                  0   \n",
       "2    access                  3                  0                  0   \n",
       "3    change                  1                  0                  0   \n",
       "4  security                  2                  0                  0   \n",
       "\n",
       "   correo_enron1_0_3  correo_enron1_0_4  correo_enron1_0_5  correo_enron1_0_6  \\\n",
       "0                  0                  0                  0                  0   \n",
       "1                  0                  0                  0                  0   \n",
       "2                  0                  0                  0                  0   \n",
       "3                  0                  5                  0                  0   \n",
       "4                  0                  0                  0                  0   \n",
       "\n",
       "   correo_enron1_0_7  correo_enron1_0_8  ...  correo_enron1_1_390  \\\n",
       "0                  0                  0  ...                    0   \n",
       "1                  0                  0  ...                    0   \n",
       "2                  0                  0  ...                    0   \n",
       "3                  0                  0  ...                    0   \n",
       "4                  0                  0  ...                    0   \n",
       "\n",
       "   correo_enron1_1_391  correo_enron1_1_392  correo_enron1_1_393  \\\n",
       "0                    0                    0                    0   \n",
       "1                    0                    0                    0   \n",
       "2                    0                    0                    0   \n",
       "3                    0                    0                    1   \n",
       "4                    0                    0                    0   \n",
       "\n",
       "   correo_enron1_1_394  correo_enron1_1_395  correo_enron1_1_396  \\\n",
       "0                    0                    0                    0   \n",
       "1                    0                    0                    0   \n",
       "2                    0                    0                    1   \n",
       "3                    0                    0                    0   \n",
       "4                    0                    0                    0   \n",
       "\n",
       "   correo_enron1_1_397  correo_enron1_1_398  correo_enron1_1_399  \n",
       "0                    0                    0                    0  \n",
       "1                    0                    0                    1  \n",
       "2                    0                    0                    0  \n",
       "3                    0                    0                    0  \n",
       "4                    1                    0                    0  \n",
       "\n",
       "[5 rows x 801 columns]"
      ]
     },
     "execution_count": 9,
     "metadata": {},
     "output_type": "execute_result"
    }
   ],
   "source": [
    "pd.DataFrame(X_train).head()"
   ]
  },
  {
   "cell_type": "markdown",
   "metadata": {},
   "source": [
    "## Entrenamiento\n",
    "La distribución de probabilidad de la Variable Aleatoria $\\textrm{x}$ es una distribución multinomial (conteos de palabras) de la conjunción de palabras únicas (vocabulario-$Voc$).<br>"
   ]
  },
  {
   "cell_type": "markdown",
   "metadata": {},
   "source": [
    "### &#9998; Entrena al modelo utilizando la siguiente fórmula:\n",
    "\n",
    "$$ P(x_i|y_j) = \\frac{n_i + 1}{|S_j| + k} $$ como se vió en clase.\n",
    "\n",
    "* $|S_j|$ es la suma de los conteos de cada palabra para la clase $y_j$. \n",
    "* $k=|Voc|$.\n",
    "* $n_i$ es la suma de los conteos para la palabra $i$.\n",
    "\n",
    "&#9758; **Crea una función que reciba un diccionario y devuelva dos vectores: theta_Positivo y theta_Negativo.**"
   ]
  },
  {
   "cell_type": "code",
   "execution_count": 8,
   "metadata": {},
   "outputs": [],
   "source": [
    "def fit(X_train):\n",
    "    k = len(X_train['WORD']) # numero de palabras\n",
    "    print('numero de palabras: ',k)\n",
    "    datos_p = int((int(len(X_train.keys()))-1)/2)\n",
    "    print(\"datos_p: \", datos_p)\n",
    "    \n",
    "    theta_p = np.ones(k)\n",
    "    theta_n = np.ones(k)\n",
    "    \n",
    "    indice_p = 0 # indice para los correos ham\n",
    "    indice_n = 1 # indice para los correos spam\n",
    "    \n",
    "    #entranamiento para theta positivo => S_p\n",
    "    S_p = 0 # total de conteos de las instancias ham\n",
    "    \"\"\" TU CODIGO AQUI\"\"\"\n",
    "    \n",
    "    \"\"\" ------------- \"\"\"\n",
    "    print(theta_p.shape)\n",
    "    \n",
    "    #entranamiento para theta negativo => S_n\n",
    "    S_n = 0 # total de conteos de las instancias ham\n",
    "    \"\"\" TU CODIGO AQUI\"\"\"\n",
    "    \n",
    "    \"\"\" ------------- \"\"\"\n",
    "    print(theta_n.shape)\n",
    "    return [theta_p,theta_n]\n",
    "        "
   ]
  },
  {
   "cell_type": "markdown",
   "metadata": {},
   "source": [
    "&#9758; **Prueba el entrenamiento**"
   ]
  },
  {
   "cell_type": "code",
   "execution_count": 12,
   "metadata": {},
   "outputs": [
    {
     "name": "stdout",
     "output_type": "stream",
     "text": [
      "numero de palabras:  9406\n",
      "datos_p:  400\n",
      "|S_p| =  24528\n",
      "(9406,)\n",
      "|S_p| =  31518\n",
      "(9406,) (9406,)\n"
     ]
    }
   ],
   "source": [
    "theta_p, theta_n = fit(X_train)"
   ]
  },
  {
   "cell_type": "code",
   "execution_count": 13,
   "metadata": {},
   "outputs": [
    {
     "name": "stdout",
     "output_type": "stream",
     "text": [
      "La suma para vector debe ser 1 \n",
      " Theta_p :  1.0\n",
      "La suma para vector debe ser 1 \n",
      " Theta_n :  1.0\n"
     ]
    }
   ],
   "source": [
    "print(\"La suma para vector debe ser 1 \\n Theta_p : \",np.sum(theta_p))\n",
    "print(\"La suma para vector debe ser 1 \\n Theta_n : \",np.sum(theta_n))"
   ]
  },
  {
   "cell_type": "markdown",
   "metadata": {},
   "source": [
    "### Prueba del Modelo\n",
    "Como se tiene una distribución miltinomial, se utilizará la formula de tal distribución para la predicción de una instancia $\\textrm{x}$ dado theta_positivo y theta_negativo.<br> <br>\n",
    "\n",
    "$$ p(\\textrm{x}|\\theta_Pos) =  \\prod_{i=1}^{k} p(x_i|\\theta_Pos) = n!*\\frac{\\theta_{1}^{x_1}}{x_1!}*...*\\frac{\\theta_k^{x_k}}{x_k!}$$ <br>\n",
    "\n",
    "$$ p(\\textrm{x}|\\theta_Neg) =  \\prod_{i=1}^{k} p(x_i|\\theta_Neg) = n!*\\frac{\\theta_{1}^{x_1}}{x_1!}*...*\\frac{\\theta_k^{x_k}}{x_k!}$$ <br>\n",
    "\n",
    "$$ LR = \\frac{p(\\textrm{x}|\\theta_Pos)}{p(\\textrm{x}|\\theta_Neg)}$$ <br>\n",
    "\n",
    "Este modelo utiliza la razón de verosimilitud (LR) para hacer la predición.<br>\n",
    "Si LR > 1 -> y=1 <br>\n",
    "Si LR < 1 -> y=0 <br>"
   ]
  },
  {
   "cell_type": "code",
   "execution_count": 14,
   "metadata": {},
   "outputs": [],
   "source": [
    "def LR(x,theta_p, theta_n):\n",
    "    \"\"\"\n",
    "    LR=P(x|y=+)/P(x|y=-)\n",
    "    \"\"\"\n",
    "    lr=None\n",
    "    \"\"\" TU CODIGO AQUI \"\"\"\n",
    "    \n",
    "    \"\"\" -------------  \"\"\"\n",
    "    \n",
    "    return lr"
   ]
  },
  {
   "cell_type": "code",
   "execution_count": 15,
   "metadata": {},
   "outputs": [],
   "source": [
    "\"\"\"\n",
    "    Funcion que tranforma un diccionario a un arreglo de numpy, sin tomar en cuenta la primera llave del diccionario\n",
    "\"\"\"\n",
    "def diccionarioArreglo(X_test):\n",
    "    listaPrin = []\n",
    "    for llave in X_test.keys():\n",
    "        if llave!=\"WORD\": # escapar las palbras\n",
    "            listaPrin.append([i for i in X_test[llave]])\n",
    "    return np.array(listaPrin).T        "
   ]
  },
  {
   "cell_type": "markdown",
   "metadata": {},
   "source": [
    "La siguiente función separa los datos para prueba y entrenamiento, el argumento 'procentaje' indica el procentaje de los datos de prueba que se desea. <br>\n",
    "La salida son dos arreglos de numpy, uno de entranamiento y el otro para prueba del modelo y su respetivo vector de clases."
   ]
  },
  {
   "cell_type": "code",
   "execution_count": 16,
   "metadata": {},
   "outputs": [],
   "source": [
    "def datosEntPrue(data, porcentaje):\n",
    "    tamTotal = len(data.keys())-2 # no se cuenta la columna de palabras en el diccionario\n",
    "    tamPrueba = int((porcentaje*tamTotal)/100)\n",
    "    tamEntrenamiento = tamTotal - tamPrueba\n",
    "    print(\"tamaño del conjunto de (prueba,entrenamiento) : \", tamPrueba,\",\",tamEntrenamiento)\n",
    "    \n",
    "    y_train = np.array([0 for i in range(int(tamEntrenamiento/2))]+[1 for i in range(int(tamEntrenamiento/2))])\n",
    "    conjunto1 = {'WORD':data['WORD']}\n",
    "    for i in range(2):\n",
    "        for j in range(int(tamEntrenamiento/2)):\n",
    "            llave = 'correo_enron1_'+str(i)+\"_\"+str(j)\n",
    "            conjunto1[llave] = data[llave]\n",
    "            \n",
    "    y_test = np.array([0 for i in range(int(tamPrueba/2))]+[1 for i in range(int(tamPrueba/2))])\n",
    "    conjunto2 = {'WORD':data['WORD']}\n",
    "    for i in range(2):\n",
    "        for j in range(int(tamPrueba/2)):\n",
    "            llave = 'correo_enron1_'+str(i)+\"_\"+str(j)\n",
    "            conjunto2[llave] = data[llave]\n",
    "    return [diccionarioArreglo(conjunto1), y_train,diccionarioArreglo(conjunto2),y_test]"
   ]
  },
  {
   "cell_type": "code",
   "execution_count": 17,
   "metadata": {},
   "outputs": [
    {
     "name": "stdout",
     "output_type": "stream",
     "text": [
      "tamaño del conjunto de (prueba,entrenamiento) :  200 , 800\n",
      "Dimension de el conjunto de entrenamiento:  (9406, 800)  con su respectivo vector de etiquetas y:  (800,)\n",
      "Dimension de el conjunto de prueba:  (9406, 200)  con su respectivo vector de etiquetas y:  (200,)\n"
     ]
    }
   ],
   "source": [
    "x_train,y_train,x_test,y_test = datosEntPrue(data, 20)\n",
    "print(\"Dimension de el conjunto de entrenamiento: \",x_train.shape,\" con su respectivo vector de etiquetas y: \",y_train.shape)\n",
    "print(\"Dimension de el conjunto de prueba: \",x_test.shape,\" con su respectivo vector de etiquetas y: \",y_test.shape)"
   ]
  },
  {
   "cell_type": "code",
   "execution_count": 18,
   "metadata": {},
   "outputs": [
    {
     "name": "stdout",
     "output_type": "stream",
     "text": [
      "Dimension de los conjuntos de entranamiento y prueba:  (9406, 800) (9406, 200)\n"
     ]
    }
   ],
   "source": [
    "print(\"Dimension de los conjuntos de entranamiento y prueba: \",x_train.shape,x_test.shape)"
   ]
  },
  {
   "cell_type": "markdown",
   "metadata": {},
   "source": [
    "## Test del modelo\n",
    "La siguiente función realiza el test del conjunto de pruebas.<br>\n",
    "Recibe el arreglo de datos de prueba, el vector theta positivo y negativo para el LR."
   ]
  },
  {
   "cell_type": "code",
   "execution_count": 19,
   "metadata": {},
   "outputs": [],
   "source": [
    "def test(X_test,theta_p, theta_n):\n",
    "    tamEjemplos = x_test.shape[1]\n",
    "    y = np.zeros(tamEjemplos)\n",
    "    print(y.shape)\n",
    "    for i in range(tamEjemplos):\n",
    "        #print(\"si\")\n",
    "        try:\n",
    "            #print(\"eel\",P(X_test[:,i],theta_p, theta_n))\n",
    "            y[i] = P(X_test[:,i],theta_p, theta_n)\n",
    "        except:\n",
    "            y[i] = 1\n",
    "    return y"
   ]
  },
  {
   "cell_type": "code",
   "execution_count": 20,
   "metadata": {},
   "outputs": [
    {
     "name": "stdout",
     "output_type": "stream",
     "text": [
      "(200,)\n",
      "[0. 0. 0. 1. 0. 0. 0. 0. 0. 0. 1. 0. 0. 0. 0. 0. 0. 0. 0. 0. 0. 1. 0. 0.\n",
      " 0. 0. 0. 0. 0. 0. 0. 0. 0. 0. 0. 0. 0. 0. 0. 0. 0. 0. 0. 0. 0. 0. 0. 0.\n",
      " 0. 0. 0. 0. 0. 0. 0. 0. 0. 0. 0. 0. 0. 0. 0. 0. 0. 0. 0. 0. 0. 0. 0. 0.\n",
      " 0. 0. 0. 0. 0. 0. 0. 0. 0. 0. 0. 0. 0. 0. 0. 0. 0. 0. 0. 0. 0. 0. 0. 0.\n",
      " 0. 0. 0. 0. 1. 1. 1. 1. 1. 1. 1. 1. 1. 1. 1. 1. 1. 1. 1. 1. 1. 1. 0. 1.\n",
      " 1. 1. 1. 1. 1. 1. 1. 1. 1. 1. 1. 1. 1. 1. 1. 1. 1. 1. 1. 1. 1. 1. 1. 1.\n",
      " 1. 1. 1. 1. 1. 1. 1. 1. 1. 1. 1. 1. 1. 1. 1. 0. 1. 1. 1. 1. 1. 1. 1. 1.\n",
      " 1. 1. 1. 1. 1. 1. 1. 1. 1. 1. 1. 1. 1. 1. 1. 1. 1. 1. 1. 1. 1. 1. 1. 1.\n",
      " 1. 1. 1. 1. 1. 1. 1. 1.]\n"
     ]
    }
   ],
   "source": [
    "y_predic = test(x_test,theta_p, theta_n)\n",
    "print(y_predic)"
   ]
  },
  {
   "cell_type": "markdown",
   "metadata": {},
   "source": [
    "## Matriz de confusión"
   ]
  },
  {
   "cell_type": "code",
   "execution_count": 21,
   "metadata": {},
   "outputs": [],
   "source": [
    "def matrizCnf(y_test,y_predic):\n",
    "    \"\"\"\n",
    "        hay que recordar que por la construccion del conjunto de prueba y entrenamiento,\n",
    "        la primera mitad de los ejemplos (entrenamiento, prueba) son positivos (ham) y \n",
    "        el resto son negativos (spam)\n",
    "    \"\"\"\n",
    "    totalInstancias = y_test.shape[0]\n",
    "    tPositivo = len(np.where(y_predic[0:100]==y_test[0:100])[0]) # true positive Los primeros 100 son correos ham\n",
    "    fPositivo = len(np.where(y_predic[0:100]!=y_test[0:100])[0]) # false positive Los primeros 100 son correos ham\n",
    "    #print(tPositivo,fPositivo)\n",
    "    tNegativo = len(np.where(y_predic[100:200]==y_test[100:200])[0]) # true negative Los primeros 100 son correos spam\n",
    "    fNegativo = len(np.where(y_predic[100:200]!=y_test[100:200])[0]) # false negative Los primeros 100 son correos spam\n",
    "    #print(tNegativo,fNegativo)\n",
    "    matriz = {'1':[\"Actual: positivo\",\"Actual: negativo\"]}\n",
    "    matriz[\"prediccion: positivo\"] = [tPositivo,fPositivo]\n",
    "    matriz[\"prediccion: negativo\"] = [fNegativo,tNegativo]\n",
    "    return matriz"
   ]
  },
  {
   "cell_type": "code",
   "execution_count": 22,
   "metadata": {},
   "outputs": [],
   "source": [
    "matrizConfusion = matrizCnf(y_test,y_predic)"
   ]
  },
  {
   "cell_type": "code",
   "execution_count": null,
   "metadata": {},
   "outputs": [],
   "source": [
    "pd.DataFrame(matrizConfusion).head()"
   ]
  }
 ],
 "metadata": {
  "kernelspec": {
   "display_name": "Python 3",
   "language": "python",
   "name": "python3"
  },
  "language_info": {
   "codemirror_mode": {
    "name": "ipython",
    "version": 3
   },
   "file_extension": ".py",
   "mimetype": "text/x-python",
   "name": "python",
   "nbconvert_exporter": "python",
   "pygments_lexer": "ipython3",
   "version": "3.7.4"
  }
 },
 "nbformat": 4,
 "nbformat_minor": 4
}
