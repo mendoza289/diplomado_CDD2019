{
 "cells": [
  {
   "cell_type": "markdown",
   "metadata": {
    "slideshow": {
     "slide_type": "skip"
    }
   },
   "source": [
    "[![Open In Colab](https://colab.research.google.com/assets/colab-badge.svg)](https://colab.research.google.com/github/jhermosillo/diplomado_CDD2019/blob/master/Programación%20en%20Python/notebooks/Numpy.ipynb)"
   ]
  },
  {
   "cell_type": "markdown",
   "metadata": {
    "colab_type": "text",
    "id": "eCDWHOh2pKh0",
    "slideshow": {
     "slide_type": "slide"
    }
   },
   "source": [
    "# Numpy\n",
    "\n",
    "Numpy es un paquete que provee capacidades de cómputo cientifico para Python. Los componentes principales de Numpy son:\n",
    "\n",
    "* Un objeto para representar arreglos N-dimensionales.\n",
    "* Funcionalidades de _broadcasting_.\n",
    "* Herramientas para integrar código C/C++ y Fortran.\n",
    "* Funciones de algebra lineal, transformadas de Fourier y creación de números aleatorios.\n"
   ]
  },
  {
   "cell_type": "markdown",
   "metadata": {
    "colab_type": "text",
    "id": "2d_r5Ig5p29C",
    "slideshow": {
     "slide_type": "subslide"
    }
   },
   "source": [
    "Puedes importar Numpy en tus programas de Python de la siguiente manera:"
   ]
  },
  {
   "cell_type": "code",
   "execution_count": null,
   "metadata": {
    "colab": {},
    "colab_type": "code",
    "id": "-hIDSlM-maFE",
    "slideshow": {
     "slide_type": "subslide"
    }
   },
   "outputs": [],
   "source": [
    "#el alias comun de numpy es np\n",
    "import numpy as np"
   ]
  },
  {
   "cell_type": "markdown",
   "metadata": {
    "colab_type": "text",
    "id": "GNmASuuNNnBa",
    "slideshow": {
     "slide_type": "subslide"
    }
   },
   "source": [
    "A diferencia de los objetos de Python para almacenar secuencias, Numpy utiliza _vectorización_ (está optimizado para ser eficiente y utilizar la arquitectura de los procesadores modernos). Además el código generado usando Numpy es más limpio, ya que se aproxima a utilizar un lenguaje matemático."
   ]
  },
  {
   "cell_type": "markdown",
   "metadata": {
    "colab_type": "text",
    "id": "BeweeauBqEzB",
    "slideshow": {
     "slide_type": "slide"
    }
   },
   "source": [
    "# Numpy arrays (Arreglos)\n",
    "\n",
    "Los Numpy arrays o arreglos múlti-dimensionales son el principal objeto para el cómputo cientifico. Un arreglo multi-dimensional es una tabla (normalmente de números, pero no están limitadas) que almacena datos del mismo tipo. Los arreglos de Numpy están indexados por tuplas de enteros no negativos. Las dimensiones de los arreglos son conocidos como _axes_ o axis.\n",
    "\n",
    "\n",
    "---\n",
    "\n",
    "Para ejemplificar, utilicemos el siguiente arreglo que representa un punto en un espacio 3D (x, y, z):\n",
    "\n",
    "[1, 2, 1] \n",
    "\n",
    "Este arreglo tiene un solo axis y una longitud de 3, ya que contiene tres elementos.\n",
    "\n",
    "\n",
    "---\n",
    "\n",
    "\n",
    "Para un segundo ejemplo, usemos el siguiente arreglo, que representa a una matriz:\n",
    "\n",
    "\n",
    "[[1, 0, 0],\n",
    "\n",
    "[0, 1, 2]]\n",
    "\n",
    "\n",
    "Este es un arreglo con dos axis, el primer axis con logitud 2 y el segundo axis con longitud 3 (dos filas y tres columnas).\n"
   ]
  },
  {
   "cell_type": "code",
   "execution_count": null,
   "metadata": {
    "colab": {},
    "colab_type": "code",
    "id": "UaZBWG1GqDMv",
    "slideshow": {
     "slide_type": "subslide"
    }
   },
   "outputs": [],
   "source": [
    "#creando un arreglo con una funcion de numpy\n",
    "a = np.arange(15)\n",
    "print(a)"
   ]
  },
  {
   "cell_type": "markdown",
   "metadata": {
    "colab_type": "text",
    "id": "n4QGrlO5cfED",
    "slideshow": {
     "slide_type": "subslide"
    }
   },
   "source": [
    "## Atributos principales de arreglos\n",
    "\n",
    "* [ndarray.shape](https://numpy.org/doc/1.17/reference/generated/numpy.ndarray.shape.html#numpy.ndarray.shape) La longitud de las dimensiones del arreglo representadas como una tupla de enteros. Cada elemento de la tupla es el entero que representa el tamaño del arreglo en el respectivo axis. Para una matriz con n filas y m columnas, el atributo shape retornará la tupla (n, m), dos dimensiones con n y m elementos respectivamente.\n",
    "\n",
    "* [ndarray.ndim](https://numpy.org/doc/1.17/reference/generated/numpy.ndarray.ndim.html#numpy.ndarray.ndim) El número de axis (o dimensiones) en el arreglo.\n",
    "\n",
    "* [ndarray.size](https://numpy.org/doc/1.17/reference/generated/numpy.ndarray.size.html#numpy.ndarray.size)\n",
    "    El número total de elementos en el arreglo.\n",
    "    \n",
    "* [ndarray.dtype](https://numpy.org/doc/1.17/reference/generated/numpy.ndarray.dtype.html#numpy.ndarray.dtype)\n",
    "    Un objeto que representa el tipo de datos usado en el arreglo.\n",
    "    \n",
    "* [ndarray.itemsize](https://numpy.org/doc/1.17/reference/generated/numpy.ndarray.itemsize.html#numpy.ndarray.itemsize) El número de bytes que utiliza cada elemento en el arreglo."
   ]
  },
  {
   "cell_type": "code",
   "execution_count": null,
   "metadata": {
    "colab": {},
    "colab_type": "code",
    "id": "PvICxI2ncfLj",
    "slideshow": {
     "slide_type": "subslide"
    }
   },
   "outputs": [],
   "source": [
    "#creando un arreglo con una funcion de numpy y cambiando su \"forma\"\n",
    "a = np.arange(15).reshape(3, 5)\n",
    "\n",
    "#Esto crea una matriz de 3 filas y 5 columnas\n",
    "print(\"ndarray a:\")\n",
    "print(a)\n",
    "\n",
    "#El tipo de dato de a es un arreglo de numpy\n",
    "print(\"type(a)\", type(a))\n",
    "\n",
    "#tupla de la longitud de las dimensiones\n",
    "print(\"a.shape\", a.shape)\n",
    "\n",
    "#numero de dimensiones en el arreglo\n",
    "print(\"a.ndim\", a.ndim)\n",
    "\n",
    "#numero de elementos en el arreglo\n",
    "print(\"a.size\", a.size)\n",
    "\n",
    "#tipo de dato de los elementos del arreglo\n",
    "print(\"a.dtype\", a.dtype)\n",
    "\n",
    "#numero de bytes del tipo de dato del arreglo\n",
    "print(\"a.itemsize\", a.itemsize)"
   ]
  },
  {
   "cell_type": "markdown",
   "metadata": {
    "colab_type": "text",
    "id": "UsVkqI0abmFn",
    "slideshow": {
     "slide_type": "subslide"
    }
   },
   "source": [
    "## Creación de arreglos desde estructuras de Python\n",
    "\n",
    "Las estructura de Python (ej, listas y tuplas) que contienen elementos numéricos estructurados como un arreglo pueden ser transformadas a arreglos de Numpy mediante la función ```array()```."
   ]
  },
  {
   "cell_type": "code",
   "execution_count": null,
   "metadata": {
    "colab": {},
    "colab_type": "code",
    "id": "xswAJHfYb1xu",
    "slideshow": {
     "slide_type": "subslide"
    }
   },
   "outputs": [],
   "source": [
    "#una lista tradicional de python\n",
    "numbers_list = [1, 2, 3, 4]\n",
    "print(numbers_list)\n",
    "print(type(numbers_list))\n",
    "\n",
    "#Transformando la lista a un array de numpy\n",
    "x = np.array(numbers_list)\n",
    "print(x)\n",
    "print(type(x))"
   ]
  },
  {
   "cell_type": "code",
   "execution_count": null,
   "metadata": {
    "colab": {},
    "colab_type": "code",
    "id": "Zs5cmf-llnRH",
    "slideshow": {
     "slide_type": "subslide"
    }
   },
   "outputs": [],
   "source": [
    "#una tupla tradicional de python\n",
    "numbers_tuple = (1, 2, 3, 4)\n",
    "print(numbers_tuple)\n",
    "print(type(numbers_tuple))\n",
    "\n",
    "#Transformando la tupla a un array de numpy\n",
    "x = np.array(numbers_tuple)\n",
    "print(x)\n",
    "print(type(x))"
   ]
  },
  {
   "cell_type": "code",
   "execution_count": null,
   "metadata": {
    "colab": {},
    "colab_type": "code",
    "id": "InGp6_30lyQN",
    "slideshow": {
     "slide_type": "subslide"
    }
   },
   "outputs": [],
   "source": [
    "#una lista de listas de python\n",
    "numbers_list_list = [[1, 2, 3, 4], [5, 6, 7, 8]]\n",
    "print(numbers_list_list)\n",
    "print(type(numbers_list_list))\n",
    "\n",
    "#Transformando la lista a un array de numpy\n",
    "x = np.array(numbers_list_list)\n",
    "print(x)\n",
    "print(type(x))"
   ]
  },
  {
   "cell_type": "markdown",
   "metadata": {
    "colab_type": "text",
    "id": "9M4NzucVb154",
    "slideshow": {
     "slide_type": "subslide"
    }
   },
   "source": [
    "## Creación de arreglos con funciones de Numpy\n",
    "\n",
    "Numpy provee algunas funciones para crear arreglos comunmente utilizados:\n",
    "\n",
    "* [empty(shape)](https://numpy.org/doc/1.17/reference/generated/numpy.empty.html#numpy.empty) \n",
    "\n",
    "  Retorna un arreglo sin elementos inicializados con el shape (tupla de enteros) y type (tipo de dato) recibidos.\n",
    "\n",
    "* [empty_like(a)](https://numpy.org/doc/1.17/reference/generated/numpy.empty_like.html#numpy.empty_like) \t\n",
    "\n",
    "  Retorna un arreglo sin elementos inicializados con el mismo shape y type del arreglo recibido.\n",
    "\n",
    "* [eye(N)](https://numpy.org/doc/1.17/reference/generated/numpy.eye.html#numpy.eye) \n",
    "\n",
    "  Retorna un arreglo 2D con unos en la diagonal y ceros en las demás entradas.\n",
    "\n",
    "* [identity(n[, dtype])](https://numpy.org/doc/1.17/reference/generated/numpy.identity.html#numpy.identity) \tRetorna el arreglo identidad.\n",
    "\n",
    "* [ones(shape)](https://numpy.org/doc/1.17/reference/generated/numpy.ones.html#numpy.ones) \t\n",
    "\n",
    "  Retorna un arreglo con sus elementos inicializados con unos."
   ]
  },
  {
   "cell_type": "markdown",
   "metadata": {
    "slideshow": {
     "slide_type": "subslide"
    }
   },
   "source": [
    "* [ones_like(a)](https://numpy.org/doc/1.17/reference/generated/numpy.ones_like.html#numpy.ones_like) \t\n",
    "  \n",
    "  Retorna un arreglo con sus elementos inicializados con unos con el mismo shape y type del arreglo recibido.\n",
    "\n",
    "* [zeros(shape)](https://numpy.org/doc/1.17/reference/generated/numpy.zeros.html#numpy.zeros) \n",
    "  \n",
    "  Retorna un arreglo con sus elementos inicializados con ceros.\n",
    "\n",
    "* [zeros_like(a[, dtype, order, subok, shape])](https://numpy.org/doc/1.17/reference/generated/numpy.zeros_like.html#numpy.zeros_like) \t\n",
    "\n",
    "  Retorna un arreglo con sus elementos inicializados con ceros con el mismo shape y type del arreglo recibido.\n",
    "\n",
    "* [full(shape, fill_value)](https://numpy.org/doc/1.17/reference/generated/numpy.full.html#numpy.full) \n",
    "  \n",
    "  Retorna un arreglo con todos sus elementos inicializados con el valor fill_value.\n",
    "\n",
    "* [full_like(a, fill_value)](https://numpy.org/doc/1.17/reference/generated/numpy.full_like.html#numpy.full_like) \t\n",
    "  \n",
    "  Retorna un arreglo con todos sus elementos inicializados con el valor fill_value y el mismo shape del arreglo recibido.\n",
    "\n",
    "_shape siempre es una tupla que indica el número de elemento en cada dimensión._"
   ]
  },
  {
   "cell_type": "markdown",
   "metadata": {
    "slideshow": {
     "slide_type": "subslide"
    }
   },
   "source": [
    "**Rangos numéricos**\n",
    "\n",
    "Además puedes crear arreglos con rangos numéricos usando las siguientes funciones:\n",
    "\n",
    "* [arange([start,] stop)](https://numpy.org/doc/1.17/reference/generated/numpy.arange.html#numpy.arange) \t\n",
    "\n",
    "  Retorna un arreglo con una sucesión artimética (cada elemento está separado por la misma distancia), similar a la función range de Python.\n",
    "\n",
    "* [linspace(start, stop, num)](https://numpy.org/doc/1.17/reference/generated/numpy.linspace.html#numpy.linspace)\n",
    "\n",
    "  Retorna un arreglo con una progresión artimética en el intervalo recibido.\n",
    "\n",
    "* [logspace(start, stop, num)](https://numpy.org/doc/1.17/reference/generated/numpy.logspace.html#numpy.logspace) \t\n",
    "  \n",
    "  Retorna números separados igualmente en una escala logaritmica.\n",
    "\n",
    "* [geomspace(start, stop, num)](https://numpy.org/doc/1.17/reference/generated/numpy.geomspace.html#numpy.geomspace)\n",
    "\n",
    "  Retorna números en una progresión geométrica."
   ]
  },
  {
   "cell_type": "markdown",
   "metadata": {
    "colab_type": "text",
    "id": "sze8o2P-xjQ3",
    "slideshow": {
     "slide_type": "subslide"
    }
   },
   "source": [
    "### empty"
   ]
  },
  {
   "cell_type": "code",
   "execution_count": null,
   "metadata": {
    "colab": {},
    "colab_type": "code",
    "id": "KoGn-C1kxnIO",
    "slideshow": {
     "slide_type": "subslide"
    }
   },
   "outputs": [],
   "source": [
    "#empty regresa un arreglo sin inicializar\n",
    "e = np.empty((3, 3))\n",
    "\n",
    "#el arreglo puede contener valores \"basura\"\n",
    "print(e)"
   ]
  },
  {
   "cell_type": "markdown",
   "metadata": {
    "colab_type": "text",
    "id": "1GR_94cfxnnG",
    "slideshow": {
     "slide_type": "subslide"
    }
   },
   "source": [
    "### empty_like"
   ]
  },
  {
   "cell_type": "code",
   "execution_count": null,
   "metadata": {
    "colab": {},
    "colab_type": "code",
    "id": "CRstJKhkxnsR",
    "slideshow": {
     "slide_type": "subslide"
    }
   },
   "outputs": [],
   "source": [
    "#un arreglo numpy\n",
    "a = np.array([[1,2,3],[4,5,6]])\n",
    "\n",
    "#empty like copia el shape y type de a\n",
    "e_l = np.empty_like(a)\n",
    "print(e_l)"
   ]
  },
  {
   "cell_type": "markdown",
   "metadata": {
    "colab_type": "text",
    "id": "2bK_TA-0xn7H",
    "slideshow": {
     "slide_type": "subslide"
    }
   },
   "source": [
    "### eye\n",
    "\n",
    "Una [matriz identidad](https://es.wikipedia.org/wiki/Matriz_identidad) es una matriz que cumple la propiedad de ser el elemento neutro del producto de matrices. Esto quiere decir que el producto de cualquier matriz por la matriz identidad (donde dicho producto esté definido) no tiene ningún efecto. Una matriz identidad contiene unos en su diagonal."
   ]
  },
  {
   "cell_type": "code",
   "execution_count": null,
   "metadata": {
    "colab": {},
    "colab_type": "code",
    "id": "JaKFpkEHxoCn",
    "slideshow": {
     "slide_type": "subslide"
    }
   },
   "outputs": [],
   "source": [
    "#matriz identidad 3x3\n",
    "idtt = np.eye(3)\n",
    "\n",
    "print(idtt)"
   ]
  },
  {
   "cell_type": "markdown",
   "metadata": {
    "colab_type": "text",
    "id": "Ap2lO4ZQxuZq",
    "slideshow": {
     "slide_type": "subslide"
    }
   },
   "source": [
    "### identity\n",
    "\n",
    "La función ```identity``` es similar a la función ```eye``` para generar una matriz identidad.\n",
    "\n",
    "\n",
    "\n"
   ]
  },
  {
   "cell_type": "code",
   "execution_count": null,
   "metadata": {
    "colab": {},
    "colab_type": "code",
    "id": "_ylbmMthxudF",
    "slideshow": {
     "slide_type": "subslide"
    }
   },
   "outputs": [],
   "source": [
    "#matriz identidad 3x3\n",
    "idtt = np.identity(3)\n",
    "print(idtt)"
   ]
  },
  {
   "cell_type": "markdown",
   "metadata": {
    "colab_type": "text",
    "id": "2sbL9jTBxwdn",
    "slideshow": {
     "slide_type": "subslide"
    }
   },
   "source": [
    "### ones"
   ]
  },
  {
   "cell_type": "code",
   "execution_count": null,
   "metadata": {
    "colab": {},
    "colab_type": "code",
    "id": "32MYj_FHxwh1",
    "slideshow": {
     "slide_type": "subslide"
    }
   },
   "outputs": [],
   "source": [
    "#arreglo con unos\n",
    "o = np.ones((3, 3))\n",
    "\n",
    "print(o)"
   ]
  },
  {
   "cell_type": "markdown",
   "metadata": {
    "colab_type": "text",
    "id": "Pbgs2X6mxxyJ",
    "slideshow": {
     "slide_type": "subslide"
    }
   },
   "source": [
    "### ones_like"
   ]
  },
  {
   "cell_type": "code",
   "execution_count": null,
   "metadata": {
    "colab": {},
    "colab_type": "code",
    "id": "Y8gFCLb5xx2x",
    "slideshow": {
     "slide_type": "subslide"
    }
   },
   "outputs": [],
   "source": [
    "#un arreglo numpy\n",
    "a = np.array([[1,2,3],[4,5,6]])\n",
    "\n",
    "#arreglo con unos\n",
    "o_l = np.ones_like(a)\n",
    "\n",
    "print(o_l)"
   ]
  },
  {
   "cell_type": "markdown",
   "metadata": {
    "colab_type": "text",
    "id": "X_S9FOaoxynN",
    "slideshow": {
     "slide_type": "subslide"
    }
   },
   "source": [
    "### zeros"
   ]
  },
  {
   "cell_type": "code",
   "execution_count": null,
   "metadata": {
    "colab": {},
    "colab_type": "code",
    "id": "5pOH-BeExyrh",
    "slideshow": {
     "slide_type": "subslide"
    }
   },
   "outputs": [],
   "source": [
    "#arreglo con ceros\n",
    "z = np.zeros((3, 3))\n",
    "\n",
    "print(z)"
   ]
  },
  {
   "cell_type": "markdown",
   "metadata": {
    "colab_type": "text",
    "id": "_oCQasxNxzA5",
    "slideshow": {
     "slide_type": "subslide"
    }
   },
   "source": [
    "### zeros_like"
   ]
  },
  {
   "cell_type": "code",
   "execution_count": null,
   "metadata": {
    "colab": {},
    "colab_type": "code",
    "id": "gmN7lr8HxzEI",
    "slideshow": {
     "slide_type": "subslide"
    }
   },
   "outputs": [],
   "source": [
    "#un arreglo numpy desde una lista de listas\n",
    "a = np.array([[1,2,3],[4,5,6]])\n",
    "\n",
    "#arreglo con ceros\n",
    "z_l = np.zeros_like(a)\n",
    "print(z_l)"
   ]
  },
  {
   "cell_type": "markdown",
   "metadata": {
    "colab_type": "text",
    "id": "cZJybtc9x9tX",
    "slideshow": {
     "slide_type": "subslide"
    }
   },
   "source": [
    "### full"
   ]
  },
  {
   "cell_type": "code",
   "execution_count": null,
   "metadata": {
    "colab": {},
    "colab_type": "code",
    "id": "S4g8Dmwgx9zB",
    "slideshow": {
     "slide_type": "subslide"
    }
   },
   "outputs": [],
   "source": [
    "#un arreglo 3x3 inicializado con 5 en todos sus elementos\n",
    "f = np.full((3, 3), 5)\n",
    "\n",
    "print(f)"
   ]
  },
  {
   "cell_type": "markdown",
   "metadata": {
    "colab_type": "text",
    "id": "kimllQ3hx-Bk",
    "slideshow": {
     "slide_type": "subslide"
    }
   },
   "source": [
    "### full_like"
   ]
  },
  {
   "cell_type": "code",
   "execution_count": null,
   "metadata": {
    "colab": {},
    "colab_type": "code",
    "id": "8Qbw4Dpzx-Gd",
    "slideshow": {
     "slide_type": "subslide"
    }
   },
   "outputs": [],
   "source": [
    "#un arreglo numpy\n",
    "a = np.array([[1,2,3],[4,5,6]])\n",
    "\n",
    "#un arreglo con la misma dimension que a pero inicializado con valores 5\n",
    "f_l = np.full_like(a, 5)\n",
    "\n",
    "print(f_l)"
   ]
  },
  {
   "cell_type": "markdown",
   "metadata": {
    "colab_type": "text",
    "id": "O9ISy1BRyFBz",
    "slideshow": {
     "slide_type": "subslide"
    }
   },
   "source": [
    "### arange"
   ]
  },
  {
   "cell_type": "code",
   "execution_count": null,
   "metadata": {
    "colab": {},
    "colab_type": "code",
    "id": "3Fi5SCqzyFG9",
    "slideshow": {
     "slide_type": "subslide"
    }
   },
   "outputs": [],
   "source": [
    "#arange 0-9\n",
    "ar = np.arange(10)\n",
    "\n",
    "print(ar)"
   ]
  },
  {
   "cell_type": "markdown",
   "metadata": {
    "colab_type": "text",
    "id": "UoGYuIpCyFSZ",
    "slideshow": {
     "slide_type": "subslide"
    }
   },
   "source": [
    "### linspace\n",
    "\n",
    "La función linspace retorna una progresión aritmetica de acuerdo a los parémtros de entrada. Una [progresión aritmética](https://es.wikipedia.org/wiki/Progresi%C3%B3n_aritm%C3%A9tica) es una sucesión de números tales que la diferencia de cualquier par de términos sucesivos de la secuencia es constante. En una progresión aritmética, si se toman dos términos consecutivos de cualquiera de esta, la diferencia entre ambos es una constante, denominada diferencia. Esto se puede expresar como una relación de recurrencia de la siguiente manera: \n",
    "\n",
    "$d = a_{n+1}-a{n}$\n",
    "\n",
    "Conociendo el primer término $a_1$ y la diferencia $d$, podemos utilizar la siguiente fórmula para calcular el enésimo término de la progresión:\n",
    "\n",
    "$a_n = a_1 + (n-1)d$\n",
    "\n",
    "\n",
    "\n"
   ]
  },
  {
   "cell_type": "markdown",
   "metadata": {
    "slideshow": {
     "slide_type": "subslide"
    }
   },
   "source": [
    "Una visualización de los arreglos generados por la función linspace:\n",
    "\n",
    "![linspace](https://docs.scipy.org/doc/numpy/_images/numpy-linspace-1.png)"
   ]
  },
  {
   "cell_type": "code",
   "execution_count": null,
   "metadata": {
    "colab": {},
    "colab_type": "code",
    "id": "tFI-xwjFyFX3",
    "slideshow": {
     "slide_type": "subslide"
    }
   },
   "outputs": [],
   "source": [
    "#Una progresion aritmetica, 6 muestras espacios iguales\n",
    "ls = np.linspace(1., 4., num = 6)\n",
    "\n",
    "print(ls)"
   ]
  },
  {
   "cell_type": "markdown",
   "metadata": {
    "colab_type": "text",
    "id": "hAmeljyAyOGT",
    "slideshow": {
     "slide_type": "subslide"
    }
   },
   "source": [
    "### logspace\n",
    "\n",
    "La función logspace retorna un arreglo con números separados por espacios iguales en una escala logarítmica.\n",
    "\n",
    "El primer número en el arreglo está definido por el parámetro ```start```:\n",
    "\n",
    "start    : [float] start(base ** start) of interval range.\n",
    "\n",
    "El último número en el arreglo está definido por el parámetro ```end```:\n",
    "\n",
    "stop     : [float] end(base ** stop) of interval range\n",
    "\n",
    "Logspace es igual al siguiente código:\n",
    "\n",
    "```\n",
    "y = np.linspace(start, stop, num=num, endpoint=endpoint)\n",
    "power(base, y).astype(dtype)\n",
    "```"
   ]
  },
  {
   "cell_type": "markdown",
   "metadata": {
    "slideshow": {
     "slide_type": "subslide"
    }
   },
   "source": [
    "Una visualización de los arreglos generados por la función:\n",
    "\n",
    "![logspace](https://docs.scipy.org/doc/numpy/_images/numpy-logspace-1.png)"
   ]
  },
  {
   "cell_type": "code",
   "execution_count": null,
   "metadata": {
    "colab": {},
    "colab_type": "code",
    "id": "-G7ycgMUyOK5",
    "slideshow": {
     "slide_type": "subslide"
    }
   },
   "outputs": [],
   "source": [
    "#logarithmic space, 5 muestras\n",
    "log_s = np.logspace(0.1, 1, num = 5)\n",
    "\n",
    "print(log_s)"
   ]
  },
  {
   "cell_type": "markdown",
   "metadata": {
    "colab_type": "text",
    "id": "XHJbliumyOQV",
    "slideshow": {
     "slide_type": "subslide"
    }
   },
   "source": [
    "### geomspace\n",
    "Una [progresión geométrica](https://es.wikipedia.org/wiki/Progresi%C3%B3n_geom%C3%A9trica) es una sucesión de números reales en la que el elemento siguiente se obtiene multiplicando el elemento anterior por una constante denominada razón o factor de la progresión. Se puede obtener el valor de un elemento arbitrario de la secuencia mediante la expresión del término general, siendo $a_{n}$, el término en cuestión, $a_{1}$ el primer término y  $r$, la razón:\n",
    "\n",
    "$a_n = a_1 * r^{n-1}$\n",
    "\n"
   ]
  },
  {
   "cell_type": "code",
   "execution_count": null,
   "metadata": {
    "colab": {},
    "colab_type": "code",
    "id": "XxksDqEryOUe",
    "slideshow": {
     "slide_type": "subslide"
    }
   },
   "outputs": [],
   "source": [
    "#progresion geometrica, 4 muestras\n",
    "geo_s = np.geomspace(1, 1000, num = 4)\n",
    "\n",
    "print(geo_s)"
   ]
  },
  {
   "cell_type": "markdown",
   "metadata": {
    "colab_type": "text",
    "id": "9LOCgCSgvKQ_",
    "slideshow": {
     "slide_type": "subslide"
    }
   },
   "source": [
    "## Creación arreglos desde archivos en disco\n",
    "\n",
    "Normalmente los arreglos de gran tamaño son creados desde archivos en disco. Numpy provee estas funciones para crear arreglos desde archivos:\n",
    "\n",
    "* [loadtxt(fname[, dtype, comments, delimiter, …])](https://docs.scipy.org/doc/numpy/reference/generated/numpy.loadtxt.html#numpy.loadtxt) Carga datos desde un archivo de texto.\n",
    "* [genfromtxt(fname[, dtype, comments, …])](https://docs.scipy.org/doc/numpy/reference/generated/numpy.genfromtxt.html#numpy.genfromtxt) Carga datos desde un archivo de texto, permite el manejo de datos faltantes."
   ]
  },
  {
   "cell_type": "markdown",
   "metadata": {
    "colab_type": "text",
    "id": "Yzf4dvI-Ulau",
    "slideshow": {
     "slide_type": "subslide"
    }
   },
   "source": [
    "Un archivo pre-cargado en colab."
   ]
  },
  {
   "cell_type": "code",
   "execution_count": null,
   "metadata": {
    "colab": {},
    "colab_type": "code",
    "id": "08Df9Y-NUCBk",
    "slideshow": {
     "slide_type": "subslide"
    }
   },
   "outputs": [],
   "source": [
    "!head -n 3 sample_data/mnist_test.csv"
   ]
  },
  {
   "cell_type": "code",
   "execution_count": null,
   "metadata": {
    "colab": {},
    "colab_type": "code",
    "id": "LjPBu8YatUH3",
    "slideshow": {
     "slide_type": "subslide"
    }
   },
   "outputs": [],
   "source": [
    "#Cargando el archivo a un arreglo de numpy usando coma como delimitador\n",
    "dataset = np.loadtxt(\"/content/sample_data/mnist_test.csv\", delimiter=\",\")\n",
    "print(dataset)"
   ]
  },
  {
   "cell_type": "markdown",
   "metadata": {
    "colab_type": "text",
    "id": "yPx8hs9Ub7Xs",
    "slideshow": {
     "slide_type": "subslide"
    }
   },
   "source": [
    "## Creación arreglos aleatorios\n",
    "\n",
    "El módulo random de Numpy provee capacidades para generar arreglos de números pseudo-aleatorios con las siguientes funciones:\n",
    "\n",
    "**Aleatorios simples**\n",
    "\n",
    "* integers\n",
    "* random\n",
    "* choice\n",
    "\n",
    "\n",
    "**Permutaciones**\n",
    "\n",
    "* shuffle\n",
    "* permutation\n",
    "\n",
    "\n",
    "**Aleatorios de distribuciones**\n",
    "\n",
    "* normal\n",
    "* uniform\n",
    "* binomial\n"
   ]
  },
  {
   "cell_type": "markdown",
   "metadata": {
    "colab_type": "text",
    "id": "9EcvEhvWWxfb",
    "slideshow": {
     "slide_type": "subslide"
    }
   },
   "source": [
    "### integers"
   ]
  },
  {
   "cell_type": "code",
   "execution_count": null,
   "metadata": {
    "colab": {},
    "colab_type": "code",
    "id": "ePu2q87Nb7bx",
    "slideshow": {
     "slide_type": "subslide"
    }
   },
   "outputs": [],
   "source": [
    "#generar 10 numeros aleatorios de un rango de 0 a 100\n",
    "r_ints = np.random.randint(0, 100, size = 10)\n",
    "\n",
    "print(r_ints)"
   ]
  },
  {
   "cell_type": "markdown",
   "metadata": {
    "colab_type": "text",
    "id": "817Ex11ZWx71",
    "slideshow": {
     "slide_type": "subslide"
    }
   },
   "source": [
    "### random"
   ]
  },
  {
   "cell_type": "code",
   "execution_count": null,
   "metadata": {
    "colab": {},
    "colab_type": "code",
    "id": "oInfKQllWwBt",
    "slideshow": {
     "slide_type": "subslide"
    }
   },
   "outputs": [],
   "source": [
    "#Generar  un arreglo con 10 numeros aleatorios flotantes de 0 a 1\n",
    "r_floats = np.random.random(size=10)\n",
    "\n",
    "print(r_floats)"
   ]
  },
  {
   "cell_type": "markdown",
   "metadata": {
    "colab_type": "text",
    "id": "nzoXWa2UWyil",
    "slideshow": {
     "slide_type": "subslide"
    }
   },
   "source": [
    "### choice"
   ]
  },
  {
   "cell_type": "code",
   "execution_count": null,
   "metadata": {
    "colab": {},
    "colab_type": "code",
    "id": "P-EpMFgGWwFq",
    "slideshow": {
     "slide_type": "subslide"
    }
   },
   "outputs": [],
   "source": [
    "#un arreglo del 0 a 99\n",
    "a = np.arange(100)\n",
    "\n",
    "#10 elementos aleatorios de a\n",
    "r_choice = np.random.choice(a, size = 10)\n",
    "print(r_choice)"
   ]
  },
  {
   "cell_type": "markdown",
   "metadata": {
    "colab_type": "text",
    "id": "pOvkye9YW7CS",
    "slideshow": {
     "slide_type": "subslide"
    }
   },
   "source": [
    "### shuffle"
   ]
  },
  {
   "cell_type": "code",
   "execution_count": null,
   "metadata": {
    "colab": {},
    "colab_type": "code",
    "id": "YVyo7jxrW7Ga",
    "slideshow": {
     "slide_type": "subslide"
    }
   },
   "outputs": [],
   "source": [
    "#un arreglo del 0 a 99\n",
    "a = np.arange(100)\n",
    "print(a)\n",
    "\n",
    "#mezclar los elementos de a, afecta al arreglo directamente\n",
    "np.random.shuffle(a)\n",
    "print(a)"
   ]
  },
  {
   "cell_type": "markdown",
   "metadata": {
    "colab_type": "text",
    "id": "bqhh2ONJW7OL",
    "slideshow": {
     "slide_type": "subslide"
    }
   },
   "source": [
    "### permutation"
   ]
  },
  {
   "cell_type": "code",
   "execution_count": null,
   "metadata": {
    "colab": {},
    "colab_type": "code",
    "id": "YmRdFm_3W7SS",
    "slideshow": {
     "slide_type": "subslide"
    }
   },
   "outputs": [],
   "source": [
    "#un arreglo del 0 a 99\n",
    "a = np.arange(100)\n",
    "print(a)\n",
    "\n",
    "#mezclar los elementos de una copia de a, regresa un nuevo arreglo\n",
    "r_permu = np.random.permutation(a)\n",
    "print(r_permu)\n",
    "print(a)"
   ]
  },
  {
   "cell_type": "markdown",
   "metadata": {
    "colab_type": "text",
    "id": "OHg9beKLW_p4",
    "slideshow": {
     "slide_type": "subslide"
    }
   },
   "source": [
    "### normal\n",
    "\n",
    "Genera un arreglo con numeros aleatorios de una distribución normal parametizada por su media (loc) y desviación estándar (scale), con una función de densidad:\n",
    "\n",
    "$$\n",
    "N(x; \\mu, \\sigma^2) = \\dfrac{1}{\\sqrt{2\\pi \\sigma}}\\exp({-\\dfrac{(x-\\mu)^2}{2\\sigma^2}})\n",
    "$$"
   ]
  },
  {
   "cell_type": "code",
   "execution_count": null,
   "metadata": {
    "colab": {},
    "colab_type": "code",
    "id": "VRIAPfbgW_vF",
    "slideshow": {
     "slide_type": "subslide"
    }
   },
   "outputs": [],
   "source": [
    "#generar 10 numeros aleatorios de una distribucion normal con media 0 y desviacion estandar 1\n",
    "r_normal = np.random.normal(loc = 0, scale = 1, size=10)\n",
    "\n",
    "print(r_normal)"
   ]
  },
  {
   "cell_type": "markdown",
   "metadata": {
    "colab_type": "text",
    "id": "aH9d7aN6W_4U",
    "slideshow": {
     "slide_type": "subslide"
    }
   },
   "source": [
    "### uniform\n",
    "Genera un arreglo con numeros aleatorios de una distribución uniforme en un rango $A$ (low), $B$ (high), con una función de densidad:\n",
    "\n",
    "$$\n",
    "U(x; A, B) = \\begin{cases}\n",
    "\\dfrac{1}{B-A} & A \\leq x \\leq B\\\\\n",
    "0 & \\text{cualquier otro caso.}\\\\\n",
    "\\end{cases}\n",
    "$$"
   ]
  },
  {
   "cell_type": "code",
   "execution_count": null,
   "metadata": {
    "colab": {},
    "colab_type": "code",
    "id": "hZA9f4_6W_84",
    "slideshow": {
     "slide_type": "subslide"
    }
   },
   "outputs": [],
   "source": [
    "#generar 10 numeros aleatorios en el rango 0 10 con la misma probabilidad de ser elegidos (uniforme)\n",
    "r_uniform = np.random.uniform(low = 0, high = 10, size=10)\n",
    "\n",
    "print(r_uniform)"
   ]
  },
  {
   "cell_type": "markdown",
   "metadata": {
    "colab_type": "text",
    "id": "te8cFJbEXADm",
    "slideshow": {
     "slide_type": "subslide"
    }
   },
   "source": [
    "### binomial\n",
    "\n",
    "Genera un arreglo con numeros aleatorios de una distribución binomial, con una función de masa de probabilidad:\n",
    "\n",
    "$$\n",
    "B(x; n, p) = \\binom{n}{x}p^x (1-p)^{n-x}\n",
    "$$\n",
    "\n",
    "$n$ - número de experimentos.\n",
    "\n",
    "\n",
    "$p$ - probabilidad de experimento exitoso."
   ]
  },
  {
   "cell_type": "code",
   "execution_count": null,
   "metadata": {
    "colab": {},
    "colab_type": "code",
    "id": "kmRx0tnmXAIa",
    "slideshow": {
     "slide_type": "subslide"
    }
   },
   "outputs": [],
   "source": [
    "#generar 10 numeros aleatorios con distribucion binomial\n",
    "r_binomial = np.random.binomial(n = 10, p = 0.5, size=10)\n",
    "\n",
    "print(r_binomial)"
   ]
  },
  {
   "cell_type": "markdown",
   "metadata": {
    "colab_type": "text",
    "id": "wdMYjv6unjzq",
    "slideshow": {
     "slide_type": "slide"
    }
   },
   "source": [
    "# Indexación de arreglos Numpy\n",
    "\n",
    "De manera similar a Python, puedes utilizar inidices para seleccionar elementos en los arreglos de numpy, por ejemplo puedes usar la siguiente notación para arreglos 1D:\n",
    "\n",
    "\n",
    "\n",
    "```\n",
    "a[n]\n",
    "```\n",
    "\n",
    "O las siguientes para arreglos con 2 o más dimensiones:\n",
    "\n",
    "\n",
    "\n",
    "```\n",
    "a[n1, n2, ..., nn]\n",
    "```\n",
    "\n",
    "O\n",
    "\n",
    "\n",
    "```\n",
    "a[n1][n2]...[nn]\n",
    "```\n"
   ]
  },
  {
   "cell_type": "code",
   "execution_count": null,
   "metadata": {
    "colab": {},
    "colab_type": "code",
    "id": "Pa4fel4lt9wp",
    "slideshow": {
     "slide_type": "subslide"
    }
   },
   "outputs": [],
   "source": [
    "#1d\n",
    "a = np.arange(10)\n",
    "\n",
    "print(a[2])"
   ]
  },
  {
   "cell_type": "code",
   "execution_count": null,
   "metadata": {
    "colab": {},
    "colab_type": "code",
    "id": "U57ZrSBAV0VW",
    "slideshow": {
     "slide_type": "subslide"
    }
   },
   "outputs": [],
   "source": [
    "#2d\n",
    "A = np.arange(9).reshape((3, 3))\n",
    "print(\"A:\")\n",
    "print(A)\n",
    "\n",
    "#dos tipos de indexacion\n",
    "print(\"2,1:\", A[2, 1])\n",
    "print(\"0,2:\", A[0][2])"
   ]
  },
  {
   "cell_type": "markdown",
   "metadata": {
    "colab_type": "text",
    "id": "B8mfO6vtt93o",
    "slideshow": {
     "slide_type": "subslide"
    }
   },
   "source": [
    "## Slicing\n",
    "\n",
    "Al igual que objetos de Python, los arreglos en Numpy pueden utilizar slicing para obtener _vistas_ de los elmentos en los arreglos."
   ]
  },
  {
   "cell_type": "code",
   "execution_count": null,
   "metadata": {
    "colab": {},
    "colab_type": "code",
    "id": "sKAMth0Ft9-I",
    "slideshow": {
     "slide_type": "subslide"
    }
   },
   "outputs": [],
   "source": [
    "#en 1D\n",
    "a = np.arange(10)\n",
    "\n",
    "print(a[5:])"
   ]
  },
  {
   "cell_type": "code",
   "execution_count": null,
   "metadata": {
    "colab": {},
    "colab_type": "code",
    "id": "CcR9wpJZXSWC",
    "slideshow": {
     "slide_type": "subslide"
    }
   },
   "outputs": [],
   "source": [
    "#en 2D\n",
    "A = np.arange(9).reshape((3, 3))\n",
    "print(\"A:\")\n",
    "print(A)\n",
    "\n",
    "#slice de todos los elementos de la columna en el indice 2\n",
    "print(\"A[:, 2]:\", A[:,2])"
   ]
  },
  {
   "cell_type": "markdown",
   "metadata": {
    "colab_type": "text",
    "id": "6bxHc5W8Xw5l",
    "slideshow": {
     "slide_type": "subslide"
    }
   },
   "source": [
    "## Indexación Booleana\n",
    "\n",
    "También puedes utilizar expresiones booleanas para seleccionar a elementos de arreglos en numpy."
   ]
  },
  {
   "cell_type": "code",
   "execution_count": null,
   "metadata": {
    "colab": {},
    "colab_type": "code",
    "id": "DrXmM_ssX8y5",
    "slideshow": {
     "slide_type": "subslide"
    }
   },
   "outputs": [],
   "source": [
    "a = np.arange(10)\n",
    "print(a)\n",
    "\n",
    "print(a[a>6])"
   ]
  },
  {
   "cell_type": "markdown",
   "metadata": {
    "colab_type": "text",
    "id": "Av5CS0erqFdv",
    "slideshow": {
     "slide_type": "subslide"
    }
   },
   "source": [
    "# Constantes\n",
    "\n",
    "Numpy contiene como atributos a algunas variables matemáticas comunmente utilizadas:\n",
    "\n",
    "* np.pi\n",
    "* np.e\n",
    "* np.Infinity\n",
    "* np.NINF\n",
    "* np.NaN"
   ]
  },
  {
   "cell_type": "code",
   "execution_count": null,
   "metadata": {
    "colab": {},
    "colab_type": "code",
    "id": "ARspqDohtKgk",
    "slideshow": {
     "slide_type": "subslide"
    }
   },
   "outputs": [],
   "source": [
    "print(np.pi)\n",
    "print(np.e)"
   ]
  },
  {
   "cell_type": "markdown",
   "metadata": {
    "colab_type": "text",
    "id": "xssAbfx47MXY",
    "slideshow": {
     "slide_type": "slide"
    }
   },
   "source": [
    "# Manipulación de arreglos"
   ]
  },
  {
   "cell_type": "markdown",
   "metadata": {
    "colab_type": "text",
    "id": "5iQLQ-cmYeCJ",
    "slideshow": {
     "slide_type": "subslide"
    }
   },
   "source": [
    "## Reshape\n",
    "\n",
    "El método y función ```reshape()``` permite cambiar la \"forma\" de arreglos. Por ejemplo, para convertir un arreglo 1D a uno 2D. Reshape crea nuevos axis donde apareceran en orden original los elementos del arreglo."
   ]
  },
  {
   "cell_type": "code",
   "execution_count": null,
   "metadata": {
    "colab": {},
    "colab_type": "code",
    "id": "CA2LqWMesNqS",
    "slideshow": {
     "slide_type": "subslide"
    }
   },
   "outputs": [],
   "source": [
    "#un arreglo 1d con nueve elementos\n",
    "a = np.arange(9)\n",
    "print(a)\n",
    "print(a.shape)\n",
    "\n",
    "#cambiar la forma del arreglo a uno con dos dimentiones (una matriz 3x3) con reshape\n",
    "A = np.copy(a.reshape((3, 3)))\n",
    "print(A)\n",
    "print(A.shape)"
   ]
  },
  {
   "cell_type": "markdown",
   "metadata": {
    "colab_type": "text",
    "id": "wL4gDX_lYeMz",
    "slideshow": {
     "slide_type": "subslide"
    }
   },
   "source": [
    "## Ravel\n",
    "\n",
    "El método ravel te permite transformar arreglos con más de una dimensión a arreglos \"planos\" con una sola dimensión."
   ]
  },
  {
   "cell_type": "code",
   "execution_count": null,
   "metadata": {
    "colab": {},
    "colab_type": "code",
    "id": "BruLDmd0tOmn",
    "slideshow": {
     "slide_type": "subslide"
    }
   },
   "outputs": [],
   "source": [
    "A = np.array([[1, 2, 3], [4, 5, 6]])\n",
    "print(A)\n",
    "print(A.shape)\n",
    "\n",
    "a = np.copy(A.ravel())\n",
    "print(a)\n",
    "print(a.shape)"
   ]
  },
  {
   "cell_type": "markdown",
   "metadata": {
    "colab_type": "text",
    "id": "q4enO3QMYf7F",
    "slideshow": {
     "slide_type": "subslide"
    }
   },
   "source": [
    "## Unión de arreglos\n",
    "\n",
    "Numpy provee las siguientes funciones para concatenar arreglos de diferentes maneras:\n",
    "\n",
    "* concatenate((a1, a2, ...), \\[axis\\]) \n",
    "\n",
    "  Concatenar los elementos de los arreglos usando el axis determinado.\n",
    "\n",
    "* vstack((a1, a2))\n",
    "\n",
    "  Concatenar verticalmente (por filas) los elementos de los arreglos.\n",
    "  \n",
    "* hstack((a1, a2))\n",
    "\n",
    "  Concatenar horizontalmente (por columnas) los elementos de los arreglos."
   ]
  },
  {
   "cell_type": "code",
   "execution_count": null,
   "metadata": {
    "colab": {},
    "colab_type": "code",
    "id": "QaR4V-I1veot",
    "slideshow": {
     "slide_type": "subslide"
    }
   },
   "outputs": [],
   "source": [
    "a = np.arange(5)\n",
    "print(a)\n",
    "b = np.arange(6, 10)\n",
    "print(b)\n",
    "\n",
    "ab = np.concatenate((a, b), axis = 0)\n",
    "print(ab)"
   ]
  },
  {
   "cell_type": "code",
   "execution_count": null,
   "metadata": {
    "colab": {},
    "colab_type": "code",
    "id": "N4AVfrgbvez7",
    "slideshow": {
     "slide_type": "subslide"
    }
   },
   "outputs": [],
   "source": [
    "A = np.arange(9).reshape(3, 3)\n",
    "B = np.arange(9, 18).reshape(3, 3)\n",
    "print(A)\n",
    "print(A.shape)\n",
    "print(B)\n",
    "print(B.shape)\n",
    "\n",
    "print()\n",
    "\n",
    "AB = np.vstack((A, B))\n",
    "print(AB)\n",
    "print(AB.shape)"
   ]
  },
  {
   "cell_type": "code",
   "execution_count": null,
   "metadata": {
    "colab": {},
    "colab_type": "code",
    "id": "7E_s3hh-ve8M",
    "slideshow": {
     "slide_type": "subslide"
    }
   },
   "outputs": [],
   "source": [
    "A = np.arange(9).reshape(3, 3)\n",
    "ones = np.ones(3).reshape(3, 1)\n",
    "print(A)\n",
    "print(A.shape)\n",
    "print(ones)\n",
    "print(ones.shape)\n",
    "\n",
    "print()\n",
    "\n",
    "A = np.hstack((ones, A))\n",
    "print(A)\n",
    "print(A.shape)"
   ]
  },
  {
   "cell_type": "markdown",
   "metadata": {
    "colab_type": "text",
    "id": "tT_cuMaGYq7Y",
    "slideshow": {
     "slide_type": "subslide"
    }
   },
   "source": [
    "## Splits\n",
    "\n",
    "* split()\n",
    "\n",
    "  Divide un arreglo en múltiples arreglos.\n",
    "\n",
    "* vsplit()\n",
    "\n",
    "  Divide un arreglo por filas.\n",
    "\n",
    "* hsplit()\n",
    "\n",
    "  Divide un arreglo por columnas."
   ]
  },
  {
   "cell_type": "code",
   "execution_count": null,
   "metadata": {
    "colab": {},
    "colab_type": "code",
    "id": "YWDKw63GyYRT",
    "slideshow": {
     "slide_type": "subslide"
    }
   },
   "outputs": [],
   "source": [
    "a = np.arange(10)\n",
    "\n",
    "#divide en 5 partes iguales\n",
    "print(np.split(a, 5))\n",
    "\n",
    "#divide usando indices\n",
    "print(np.split(a, [3, 6]))"
   ]
  },
  {
   "cell_type": "code",
   "execution_count": null,
   "metadata": {
    "colab": {},
    "colab_type": "code",
    "id": "qOLWNa3byYZY",
    "slideshow": {
     "slide_type": "subslide"
    }
   },
   "outputs": [],
   "source": [
    "A = np.arange(9).reshape(3, 3)\n",
    "print(\"A:\", A)\n",
    "\n",
    "print()\n",
    "\n",
    "#dividir por filas a dos arreglos usando un indice\n",
    "A1, A2 = np.vsplit(A, [1])\n",
    "print(A1)\n",
    "print()\n",
    "print(A2)"
   ]
  },
  {
   "cell_type": "code",
   "execution_count": null,
   "metadata": {
    "colab": {},
    "colab_type": "code",
    "id": "z66uEZlXyYkv",
    "slideshow": {
     "slide_type": "subslide"
    }
   },
   "outputs": [],
   "source": [
    "A = np.arange(9).reshape(3, 3)\n",
    "print(\"A:\", A)\n",
    "\n",
    "print()\n",
    "\n",
    "#dividir por columnas a dos arreglos usando un indice\n",
    "A1, A2 = np.hsplit(A, [1])\n",
    "print(A1)\n",
    "print()\n",
    "print(A2)"
   ]
  },
  {
   "cell_type": "markdown",
   "metadata": {
    "colab_type": "text",
    "id": "EaXS8yQOtMZB",
    "slideshow": {
     "slide_type": "slide"
    }
   },
   "source": [
    "# Salida a archivos\n",
    "\n",
    "Numpy provee algunas funciones para la persistencia en disco de los arreglos de numpy, en particular, las siguientes funciones están disponibles:\n",
    "\n",
    "* save(file, arr)\n",
    "\n",
    "  Guarda el arreglo de Numpy en disco usando el formato binario de Numpy _.npy_.\n",
    "\n",
    "* savetxt(file, arr)\n",
    "\n",
    "  Guarda el arreglo de Numpy en disco usando un formato de texto plano."
   ]
  },
  {
   "cell_type": "code",
   "execution_count": null,
   "metadata": {
    "colab": {},
    "colab_type": "code",
    "id": "ZpoQZwTQBfVn",
    "slideshow": {
     "slide_type": "subslide"
    }
   },
   "outputs": [],
   "source": [
    "a = np.arange(20).reshape(5, 4)\n",
    "\n",
    "#guardar el arreglo en formato binario\n",
    "np.save(\"bina\", a)\n",
    "\n",
    "#guardar en formato de texto\n",
    "np.savetxt(\"texta\", a)"
   ]
  },
  {
   "cell_type": "markdown",
   "metadata": {
    "colab_type": "text",
    "id": "51pwJOrFB9_3",
    "slideshow": {
     "slide_type": "subslide"
    }
   },
   "source": [
    "Usemos la línea de comando de linux para ver los archivos almacenados."
   ]
  },
  {
   "cell_type": "code",
   "execution_count": null,
   "metadata": {
    "colab": {},
    "colab_type": "code",
    "id": "5fHXnBztBfb8",
    "slideshow": {
     "slide_type": "subslide"
    }
   },
   "outputs": [],
   "source": [
    "!ls"
   ]
  },
  {
   "cell_type": "markdown",
   "metadata": {
    "colab_type": "text",
    "id": "t9oUOdY2CEXM",
    "slideshow": {
     "slide_type": "subslide"
    }
   },
   "source": [
    "Podemos ver directamente el archivo guardado en formato de texto."
   ]
  },
  {
   "cell_type": "code",
   "execution_count": null,
   "metadata": {
    "colab": {},
    "colab_type": "code",
    "id": "RsGbgAsnCEc5",
    "slideshow": {
     "slide_type": "subslide"
    }
   },
   "outputs": [],
   "source": [
    "!cat texta"
   ]
  },
  {
   "cell_type": "markdown",
   "metadata": {
    "colab_type": "text",
    "id": "CxPwMJQ0tUlR",
    "slideshow": {
     "slide_type": "slide"
    }
   },
   "source": [
    "# Funciones"
   ]
  },
  {
   "cell_type": "markdown",
   "metadata": {
    "colab_type": "text",
    "id": "TWuQ7SpRundt",
    "slideshow": {
     "slide_type": "subslide"
    }
   },
   "source": [
    "## Aritméticas\n",
    "\n",
    "Numpy permite aplicar operadores aritméticos a los arrelos numéricos. Puedes utilizar los siguientes operadores en arreglos múlti-dimensionales de Numpy:\n",
    "\n",
    "* add() y $+$\n",
    "  \n",
    "  Para sumar los elementos de dos arreglos.\n",
    "  \n",
    "* subtract() y $-$\n",
    "\n",
    "  Para restar los elementos de dos arreglos.\n",
    "  \n",
    "* divide() y $/$\n",
    "\n",
    "  Para dividir los elementos de dos arreglos.\n",
    "  "
   ]
  },
  {
   "cell_type": "markdown",
   "metadata": {
    "slideshow": {
     "slide_type": "subslide"
    }
   },
   "source": [
    "* multiply() y $*$\n",
    "\n",
    "  Para multiplicar los elementos de dos arreglos.\n",
    "  \n",
    "* power()\n",
    "\n",
    "  Para elevar a la ponencia los elementos de un arreglo con los del otro.\n",
    "  \n",
    "* mod()\n",
    "\n",
    "  Para calcular el módulo de un arreglo con otro.\n",
    "\n",
    "\n",
    "*Nota: Los operadores son aplicados elemento por elemento en los arreglos Numpy, éstos pueden tener múltiples dimensiones. En otra sección verás **broadcasting** para aplicar operaciones en arreglos con dimensiones diferentes.*"
   ]
  },
  {
   "cell_type": "markdown",
   "metadata": {
    "colab_type": "text",
    "id": "CXDbSdqQfEvF",
    "slideshow": {
     "slide_type": "subslide"
    }
   },
   "source": [
    "### add() y $+$"
   ]
  },
  {
   "cell_type": "code",
   "execution_count": null,
   "metadata": {
    "colab": {},
    "colab_type": "code",
    "id": "tyrtTwfhfEzp",
    "slideshow": {
     "slide_type": "subslide"
    }
   },
   "outputs": [],
   "source": [
    "#puedes sumar dos arreglos elemento por elemento usando la funcion add o +\n",
    "a = np.arange(5)\n",
    "print(\"a\", a)\n",
    "\n",
    "b = np.arange(6, 11)\n",
    "print(\"b\", b)\n",
    "\n",
    "print(\"add(a, b)\")\n",
    "print(np.add(a, b))\n",
    "\n",
    "#usando + directamente\n",
    "print(\"a + b\")\n",
    "print(a + b)"
   ]
  },
  {
   "cell_type": "code",
   "execution_count": null,
   "metadata": {
    "colab": {},
    "colab_type": "code",
    "id": "Stvfs9ragPxX",
    "slideshow": {
     "slide_type": "subslide"
    }
   },
   "outputs": [],
   "source": [
    "#las funciones tambien funcionan en arrelgos multidimensionales\n",
    "a = np.ones((3, 3))\n",
    "print(\"a\", a)\n",
    "\n",
    "b = np.full((3, 3), 6)\n",
    "print(\"b\", b)\n",
    "\n",
    "print(\"add(a, b)\")\n",
    "print(np.add(a, b))\n",
    "\n",
    "#usando + directamente\n",
    "print(\"a + b\")\n",
    "print(a + b)"
   ]
  },
  {
   "cell_type": "markdown",
   "metadata": {
    "colab_type": "text",
    "id": "IsnFru7sfK9r",
    "slideshow": {
     "slide_type": "subslide"
    }
   },
   "source": [
    "### subtract() y $-$"
   ]
  },
  {
   "cell_type": "code",
   "execution_count": null,
   "metadata": {
    "colab": {},
    "colab_type": "code",
    "id": "v2_GN1DDfLBn",
    "slideshow": {
     "slide_type": "subslide"
    }
   },
   "outputs": [],
   "source": [
    "#puedes restar dos arreglos elemento por elemento usando la funcion subtract o -\n",
    "a = np.arange(5)\n",
    "print(\"a\", a)\n",
    "\n",
    "b = np.ones(5)\n",
    "print(\"b\", b)\n",
    "\n",
    "print(\"subtract(a, b)\")\n",
    "print(np.subtract(a, b))\n",
    "\n",
    "#usando - directamente\n",
    "print(\"a - b\")\n",
    "print(a - b)"
   ]
  },
  {
   "cell_type": "markdown",
   "metadata": {
    "colab_type": "text",
    "id": "umS4W3RBfNAh",
    "slideshow": {
     "slide_type": "subslide"
    }
   },
   "source": [
    "### $/$"
   ]
  },
  {
   "cell_type": "code",
   "execution_count": null,
   "metadata": {
    "colab": {},
    "colab_type": "code",
    "id": "LPFS2SlufNFT",
    "slideshow": {
     "slide_type": "subslide"
    }
   },
   "outputs": [],
   "source": [
    "#puedes dividir dos arreglos elemento por elemento usando /\n",
    "a = np.arange(10)\n",
    "print(\"a\", a)\n",
    "\n",
    "b = np.full(10, 2)\n",
    "print(\"b\", b)\n",
    "\n",
    "\n",
    "#dividir a / b\n",
    "print(\"a / b\")\n",
    "print(a / b)"
   ]
  },
  {
   "cell_type": "markdown",
   "metadata": {
    "colab_type": "text",
    "id": "OMuHCWYufPap",
    "slideshow": {
     "slide_type": "subslide"
    }
   },
   "source": [
    "### $*$"
   ]
  },
  {
   "cell_type": "code",
   "execution_count": null,
   "metadata": {
    "colab": {},
    "colab_type": "code",
    "id": "KX0vaLnWfPfM",
    "slideshow": {
     "slide_type": "subslide"
    }
   },
   "outputs": [],
   "source": [
    "#puedes multuplicar dos arreglos elemento por elemento usando *\n",
    "a = np.arange(10)\n",
    "print(\"a\", a)\n",
    "\n",
    "b = np.full(10, 3)\n",
    "print(\"b\", b)\n",
    "\n",
    "\n",
    "#dividir a * b\n",
    "print(\"a * b\")\n",
    "print(a * b)"
   ]
  },
  {
   "cell_type": "markdown",
   "metadata": {
    "colab_type": "text",
    "id": "SACuaPz7fR0I",
    "slideshow": {
     "slide_type": "subslide"
    }
   },
   "source": [
    "### power()"
   ]
  },
  {
   "cell_type": "code",
   "execution_count": null,
   "metadata": {
    "colab": {},
    "colab_type": "code",
    "id": "XFtLZODKfR4k",
    "slideshow": {
     "slide_type": "subslide"
    }
   },
   "outputs": [],
   "source": [
    "#puedes elevar los elementos de un arreglo a la potencia de los elementos de otro usando power\n",
    "a = np.full(10, 2)\n",
    "print(\"a\", a)\n",
    "\n",
    "b = np.arange(10)\n",
    "print(\"b\", b)\n",
    "\n",
    "\n",
    "#dividir np.power(a, b)\n",
    "print(\"np.power(a, b)\")\n",
    "print(np.power(a, b))"
   ]
  },
  {
   "cell_type": "markdown",
   "metadata": {
    "colab_type": "text",
    "id": "vu9MrL4JfR_9",
    "slideshow": {
     "slide_type": "subslide"
    }
   },
   "source": [
    "### mod()"
   ]
  },
  {
   "cell_type": "markdown",
   "metadata": {
    "colab_type": "text",
    "id": "2txAinDsQoml",
    "slideshow": {
     "slide_type": "subslide"
    }
   },
   "source": [
    "## Comparación\n",
    "\n",
    "Puedes utilizar los operadores de comparación en arreglos de Numpy:\n",
    "\n",
    "* $==$\n",
    "* $<$\n",
    "* $<=$\n",
    "* $>$\n",
    "* $>=$"
   ]
  },
  {
   "cell_type": "code",
   "execution_count": null,
   "metadata": {
    "colab": {},
    "colab_type": "code",
    "id": "hsTjGGgeQou7",
    "slideshow": {
     "slide_type": "subslide"
    }
   },
   "outputs": [],
   "source": [
    "a = np.array([1, 2, 3, 4, 5])\n",
    "b = np.array([5, 4, 3, 2, 1])\n",
    "print(\"a:\", a)\n",
    "print(\"b:\", b)\n",
    "\n",
    "print()\n",
    "\n",
    "print(\"a == b\", a == b)\n",
    "print(\"a > b\", a > b)\n",
    "print(\"a >= b\", a >= b)\n",
    "print(\"a < b\", a < b)\n",
    "print(\"a <= b\", a <= b)"
   ]
  },
  {
   "cell_type": "code",
   "execution_count": null,
   "metadata": {
    "colab": {},
    "colab_type": "code",
    "id": "VQcGfNHZfSGJ",
    "slideshow": {
     "slide_type": "subslide"
    }
   },
   "outputs": [],
   "source": [
    "#puedes aplicar la operacion modulo a los elementos de un arreglo con los de otro\n",
    "a = np.arange(3, 10)\n",
    "print(\"a\", a)\n",
    "\n",
    "b = np.full_like(a, 3)\n",
    "print(\"b\", b)\n",
    "\n",
    "\n",
    "#dividir np.mod(a, b)\n",
    "print(\"np.mod(a, b)\")\n",
    "print(np.mod(a, b))"
   ]
  },
  {
   "cell_type": "markdown",
   "metadata": {
    "colab_type": "text",
    "id": "Qt6JPJOzvRs5",
    "slideshow": {
     "slide_type": "subslide"
    }
   },
   "source": [
    "## Trigonométricas\n",
    "\n",
    "Numpy provee funciones trigonométricas que puedes aplicar a los elementos de los arreglos.\n",
    "\n",
    "\n",
    "* sin()\n",
    "\n",
    "  Función seno aplicada elemento por elemento.\n",
    "\n",
    "* cos()\n",
    "\n",
    "  Función coseno aplicada elemento por elemento.\n",
    "\n",
    "* tan()\n",
    "\n",
    "  Función tangente aplicada elemento por elemento.\n",
    "\n",
    "Estas solo son algunas de las funciones disponibles, puede ver la lista completa de [funciones trigonométricas en la documentación de Numpy.](https://numpy.org/doc/1.17/reference/routines.math.html#trigonometric-functions)"
   ]
  },
  {
   "cell_type": "markdown",
   "metadata": {
    "colab_type": "text",
    "id": "85pdmi5krrFt",
    "slideshow": {
     "slide_type": "subslide"
    }
   },
   "source": [
    "### sin()"
   ]
  },
  {
   "cell_type": "code",
   "execution_count": null,
   "metadata": {
    "colab": {},
    "colab_type": "code",
    "id": "99iLRyPNrrJf",
    "slideshow": {
     "slide_type": "subslide"
    }
   },
   "outputs": [],
   "source": [
    "a = np.arange(0, 10) * np.pi/2\n",
    "print(\"a\", a)\n",
    "\n",
    "print(\"sin(a)\")\n",
    "print(np.sin(a))"
   ]
  },
  {
   "cell_type": "markdown",
   "metadata": {
    "colab_type": "text",
    "id": "kFNAv6yXrrRN",
    "slideshow": {
     "slide_type": "subslide"
    }
   },
   "source": [
    "### cos()"
   ]
  },
  {
   "cell_type": "code",
   "execution_count": null,
   "metadata": {
    "colab": {},
    "colab_type": "code",
    "id": "ENfKdwXarrUh",
    "slideshow": {
     "slide_type": "subslide"
    }
   },
   "outputs": [],
   "source": [
    "a = np.arange(0, 10) * np.pi\n",
    "print(\"a\", a)\n",
    "\n",
    "print(\"cos(a)\")\n",
    "print(np.cos(a))"
   ]
  },
  {
   "cell_type": "markdown",
   "metadata": {
    "colab_type": "text",
    "id": "YOGS6Oh-rram",
    "slideshow": {
     "slide_type": "subslide"
    }
   },
   "source": [
    "### tan()"
   ]
  },
  {
   "cell_type": "code",
   "execution_count": null,
   "metadata": {
    "colab": {},
    "colab_type": "code",
    "id": "A3mNtXwTrrdi",
    "slideshow": {
     "slide_type": "subslide"
    }
   },
   "outputs": [],
   "source": [
    "a = np.arange(0, 10)\n",
    "print(\"a\", a)\n",
    "\n",
    "print(\"tan(a)\")\n",
    "print(np.tan(a))"
   ]
  },
  {
   "cell_type": "markdown",
   "metadata": {
    "colab_type": "text",
    "id": "efJIa3wru8F7",
    "slideshow": {
     "slide_type": "subslide"
    }
   },
   "source": [
    "## Estadísticas\n",
    "\n",
    "* amin()\n",
    "\n",
    "  Encuentra el elemento mínimo en un arreglo.\n",
    "  \n",
    "* amax()\n",
    "\n",
    "  Encuentra el elemento máximo en un arreglo.\n",
    "  \n",
    "* mean()\n",
    "\n",
    "  Calcula la media del arreglo.\n",
    "  \n",
    "* median()\n",
    "\n",
    "  Encuentra la mediana del arreglo.\n"
   ]
  },
  {
   "cell_type": "markdown",
   "metadata": {
    "slideshow": {
     "slide_type": "subslide"
    }
   },
   "source": [
    "* std()\n",
    "\n",
    "  Calcula la desviación estándar del arreglo.\n",
    "\n",
    "* var()\n",
    "\n",
    "  Calcula la varianza del arreglo.\n",
    "  \n",
    "Consulta la documentación de las [funciones estadísticas de Numpy](https://numpy.org/doc/1.17/reference/routines.statistics.html) para ver todas las funciones disponibles."
   ]
  },
  {
   "cell_type": "markdown",
   "metadata": {
    "colab_type": "text",
    "id": "KYD4WYpqyaB3",
    "slideshow": {
     "slide_type": "subslide"
    }
   },
   "source": [
    "### amin()"
   ]
  },
  {
   "cell_type": "code",
   "execution_count": null,
   "metadata": {
    "colab": {},
    "colab_type": "code",
    "id": "aemW8RXFyaGB",
    "slideshow": {
     "slide_type": "subslide"
    }
   },
   "outputs": [],
   "source": [
    "a =  np.arange(10)\n",
    "print(a)\n",
    "\n",
    "print(\"np.amin(a)\", np.amin(a))"
   ]
  },
  {
   "cell_type": "markdown",
   "metadata": {
    "colab_type": "text",
    "id": "OwEOdlN0zZpl",
    "slideshow": {
     "slide_type": "subslide"
    }
   },
   "source": [
    "Puedes especificar el axis en el que quieres calcular la función si tienes arreglos con más de una dimensión. Por defecto, si no se especifica el axis, entonces el cálculo de las funciones estadísticas se hace para todos los elementos del arreglo, como si fuera un arreglo 1D."
   ]
  },
  {
   "cell_type": "code",
   "execution_count": null,
   "metadata": {
    "colab": {},
    "colab_type": "code",
    "id": "7RQrkIsZzofc",
    "slideshow": {
     "slide_type": "subslide"
    }
   },
   "outputs": [],
   "source": [
    "#funciones especificando axis para una matriz\n",
    "a =  np.arange(10).reshape(2, 5)\n",
    "print(a)\n",
    "print(a.shape)\n",
    "\n",
    "#axis = 0, calcula el minimo por columnas\n",
    "print(\"np.amin(a, axis = 0)\", np.amin(a, axis = 0))\n",
    "\n",
    "#axis = 1, calcula el minimo por filas\n",
    "print(\"np.amin(a, axis = 1)\", np.amin(a, axis = 1))\n",
    "\n",
    "#si no especificas axis entonces regresa el elemento minimo de todo el arreglo 2d\n",
    "print(\"np.amin(a)\", np.amin(a))"
   ]
  },
  {
   "cell_type": "markdown",
   "metadata": {
    "colab_type": "text",
    "id": "CO_s0O8UyaZL",
    "slideshow": {
     "slide_type": "subslide"
    }
   },
   "source": [
    "### amax()"
   ]
  },
  {
   "cell_type": "code",
   "execution_count": null,
   "metadata": {
    "colab": {},
    "colab_type": "code",
    "id": "mx7cyUTaybZC",
    "slideshow": {
     "slide_type": "subslide"
    }
   },
   "outputs": [],
   "source": [
    "a =  np.arange(10)\n",
    "\n",
    "print(np.amax(a))"
   ]
  },
  {
   "cell_type": "markdown",
   "metadata": {
    "colab_type": "text",
    "id": "Vrp1OjKFybi_",
    "slideshow": {
     "slide_type": "subslide"
    }
   },
   "source": [
    "### mean()\n",
    "\n",
    "La media aritmética de un arreglo.\n",
    "\n",
    "Sin especificar axis:\n",
    "$$\n",
    "\tnp.mean(x) = \\dfrac{np.sum(x)}{n}\n",
    "$$\n",
    "\n",
    "axis = 0, media por columnas:\n",
    "\n",
    "$$\n",
    "\tnp.mean(X, axis = 0) = \\dfrac{np.sum(X[:, j])}{n}\n",
    "$$\n",
    "\n",
    "axis = 1, media por filas:\n",
    "\n",
    "$$\n",
    "\tnp.mean(X, axis = 1) = \\dfrac{np.sum(X[i, :])}{n}\n",
    "$$"
   ]
  },
  {
   "cell_type": "code",
   "execution_count": null,
   "metadata": {
    "colab": {},
    "colab_type": "code",
    "id": "btyVLLANyboW",
    "slideshow": {
     "slide_type": "subslide"
    }
   },
   "outputs": [],
   "source": [
    "#sin especificar axis (la media de todo el arreglo)\n",
    "a =  np.random.normal(0, 1, 100)\n",
    "\n",
    "print(np.mean(a))"
   ]
  },
  {
   "cell_type": "code",
   "execution_count": null,
   "metadata": {
    "colab": {},
    "colab_type": "code",
    "id": "jZc15GXE_-jc",
    "slideshow": {
     "slide_type": "subslide"
    }
   },
   "outputs": [],
   "source": [
    "#2d, axis = 0\n",
    "A = np.array([[1, 2], [3, 4]])\n",
    "\n",
    "#media por columna\n",
    "print(np.mean(A, axis=0))"
   ]
  },
  {
   "cell_type": "code",
   "execution_count": null,
   "metadata": {
    "colab": {},
    "colab_type": "code",
    "id": "C1IsPUW7_-oT",
    "slideshow": {
     "slide_type": "subslide"
    }
   },
   "outputs": [],
   "source": [
    "#2d, axis = 1\n",
    "A = np.array([[1, 2], [3, 4]])\n",
    "\n",
    "#media por filas\n",
    "np.mean(A, axis=1)"
   ]
  },
  {
   "cell_type": "markdown",
   "metadata": {
    "colab_type": "text",
    "id": "fdvRVc4YyiDw",
    "slideshow": {
     "slide_type": "subslide"
    }
   },
   "source": [
    "### median()\n",
    "\n",
    "Sin especificar axis, la mediana de todo el arreglo:\n",
    "\n",
    "$$\n",
    "\t\\begin{matrix}\n",
    "\tnp.median(x) = x[(n+1)/2] \\quad \\text{ si $n$ impar}, \\qquad & \\dfrac{(x[(n+1)/2] + x[n/2])}{2} \\quad \\text{si $n$ par}\n",
    "\t\\end{matrix}\n",
    "\t$$\n",
    "\n",
    "axis = 0,  mediana por columnas:\n",
    "\n",
    "$$\n",
    "np.median(X[:, j])\n",
    "$$\n",
    "\n",
    "axis = 1,  mediana por filas:\n",
    "\n",
    "$$\n",
    "np.median(X[i, :])\n",
    "$$"
   ]
  },
  {
   "cell_type": "code",
   "execution_count": null,
   "metadata": {
    "colab": {},
    "colab_type": "code",
    "id": "Oy41OgHSyiNF",
    "slideshow": {
     "slide_type": "subslide"
    }
   },
   "outputs": [],
   "source": [
    "a =  np.random.normal(0, 1, 100)\n",
    "\n",
    "print(np.median(a))"
   ]
  },
  {
   "cell_type": "code",
   "execution_count": null,
   "metadata": {
    "colab": {},
    "colab_type": "code",
    "id": "9qcoTCK8DLin",
    "slideshow": {
     "slide_type": "subslide"
    }
   },
   "outputs": [],
   "source": [
    "#2d, axis = 0\n",
    "A = np.array([[1, 2], [3, 4], [5, 6]])\n",
    "\n",
    "#mediana por columna\n",
    "print(np.median(A, axis=0))"
   ]
  },
  {
   "cell_type": "code",
   "execution_count": null,
   "metadata": {
    "colab": {},
    "colab_type": "code",
    "id": "Qe19OaguDLnq",
    "slideshow": {
     "slide_type": "subslide"
    }
   },
   "outputs": [],
   "source": [
    "#2d, axis = 1\n",
    "A = np.array([[1, 2, 3], [4, 5, 6]])\n",
    "\n",
    "#mediana por filas\n",
    "np.median(A, axis=1)"
   ]
  },
  {
   "cell_type": "markdown",
   "metadata": {
    "colab_type": "text",
    "id": "vcuBBxr_yifK",
    "slideshow": {
     "slide_type": "subslide"
    }
   },
   "source": [
    "### std()\n",
    "\n",
    "Sin especificar axis, la desviación estándar de todo el arreglo:\n",
    "$$\n",
    "\tnp.std(A) = \\sqrt{\\frac{np.sum(np.pow(x - np.mean(x), 2))}{n}}\n",
    "$$\n",
    "\n",
    "axis = 0, desviación estándar por columnas:\n",
    "\n",
    "$$\n",
    "\tnp.std(X, axis = 0) = \\sqrt{\\frac{np.sum(np.pow(X[i, :] - np.mean(X[i, :]), 2))}{X.shape[0]}}\n",
    "$$\n",
    "\n",
    "axis = 1, desviación estándar por filas:\n",
    "\n",
    "$$\n",
    "\tnp.std(X, axis = 1) = \\sqrt{\\frac{np.sum(np.pow(X[:, j] - np.mean(X[:, j]), 2))}{X.shape[1]}}\n",
    "$$"
   ]
  },
  {
   "cell_type": "code",
   "execution_count": null,
   "metadata": {
    "colab": {},
    "colab_type": "code",
    "id": "0AEwuZJ6yimo",
    "slideshow": {
     "slide_type": "subslide"
    }
   },
   "outputs": [],
   "source": [
    "a =  np.random.normal(0, 1, 100)\n",
    "\n",
    "print(np.std(a))"
   ]
  },
  {
   "cell_type": "code",
   "execution_count": null,
   "metadata": {
    "colab": {},
    "colab_type": "code",
    "id": "cYInpm5zDJkf",
    "slideshow": {
     "slide_type": "subslide"
    }
   },
   "outputs": [],
   "source": [
    "#2d, axis = 0\n",
    "A = np.array([[1, 2], [3, 4]])\n",
    "\n",
    "#ds por columna\n",
    "print(np.std(A, axis=0))"
   ]
  },
  {
   "cell_type": "code",
   "execution_count": null,
   "metadata": {
    "colab": {},
    "colab_type": "code",
    "id": "ZN7waRurDJqe",
    "slideshow": {
     "slide_type": "subslide"
    }
   },
   "outputs": [],
   "source": [
    "#2d, axis = 1\n",
    "A = np.array([[1, 2], [3, 4]])\n",
    "\n",
    "#ds por filas\n",
    "np.std(A, axis=1)"
   ]
  },
  {
   "cell_type": "markdown",
   "metadata": {
    "colab_type": "text",
    "id": "XIBBBYY0yiuw",
    "slideshow": {
     "slide_type": "subslide"
    }
   },
   "source": [
    "### var()\n",
    "\n",
    "Sin especificar axis, la varianza de todo el arreglo:\n",
    "$$\n",
    "\tnp.var(x) = \\frac{np.sum(np.pow(x - np.mean(x), 2))}{n}\n",
    "$$\n",
    "\n",
    "axis = 0, varianza por columnas:\n",
    "\n",
    "$$\n",
    "\tnp.var(X, axis = 0) = \\frac{np.sum(np.pow(X[i, :] - np.mean(X[i, :]), 2))}{X.shape[0]}\n",
    "$$\n",
    "\n",
    "axis = 1, varianza por filas:\n",
    "\n",
    "$$\n",
    "\tnp.var(X, axis = 1) = \\frac{np.sum(np.pow(X[:, j] - np.mean(X[:, j]), 2))}{X.shape[1]}\n",
    "$$"
   ]
  },
  {
   "cell_type": "code",
   "execution_count": null,
   "metadata": {
    "colab": {},
    "colab_type": "code",
    "id": "PrfSWjNayi0Y",
    "slideshow": {
     "slide_type": "subslide"
    }
   },
   "outputs": [],
   "source": [
    "a =  np.random.normal(0, 1, 100)\n",
    "\n",
    "print(np.var(a))"
   ]
  },
  {
   "cell_type": "code",
   "execution_count": null,
   "metadata": {
    "colab": {},
    "colab_type": "code",
    "id": "Uzj8EnTwDKP7",
    "slideshow": {
     "slide_type": "subslide"
    }
   },
   "outputs": [],
   "source": [
    "#2d, axis = 0\n",
    "A = np.array([[1, 2], [3, 4]])\n",
    "\n",
    "#varianza por columna\n",
    "print(np.var(A, axis=0))"
   ]
  },
  {
   "cell_type": "code",
   "execution_count": null,
   "metadata": {
    "colab": {},
    "colab_type": "code",
    "id": "d_TAcb98DKVu",
    "slideshow": {
     "slide_type": "subslide"
    }
   },
   "outputs": [],
   "source": [
    "#2d, axis = 1\n",
    "A = np.array([[1, 2], [3, 4]])\n",
    "\n",
    "#varianza por filas\n",
    "np.var(A, axis=1)"
   ]
  },
  {
   "cell_type": "markdown",
   "metadata": {
    "colab_type": "text",
    "id": "au62ss_puqaI",
    "slideshow": {
     "slide_type": "subslide"
    }
   },
   "source": [
    "## Álgebra lineal\n",
    "\n",
    "* dot()\n",
    "\n",
    "  Genera el producto punto de dos arreglos, el tipo de operación (multiplicación de matrices o producto punto) depende de la entrada (2D o 1D).\n",
    "  \n",
    "* vdot()\n",
    "    \n",
    "  Genera el producto punto de dos vectores (1D). \n",
    "  \n",
    "  _vdot() permite computar vectores con números complejos._\n",
    "\n",
    "* matmul() o @\n",
    "\n",
    "  Para la multiplicación de matrices para dos arreglos (generalmente 2D)."
   ]
  },
  {
   "cell_type": "markdown",
   "metadata": {
    "slideshow": {
     "slide_type": "subslide"
    }
   },
   "source": [
    "* inner()\n",
    "\n",
    "  Genera el producto interno o producto escalar de dos arreglos.\n",
    "  \n",
    "* outer()\n",
    "\n",
    "  Genera el producto externo (tensorial) de dos arreglos.\n",
    "\n",
    "* trace()\n",
    "\n",
    "  Genera la traza (suma de los elementos en la diagnonal) del arreglo.\n",
    "\n",
    "Puedes ver la lista completa de [funciones de álgebra lineal en la documentación de Numpy](https://numpy.org/doc/1.17/reference/routines.linalg.html)."
   ]
  },
  {
   "cell_type": "markdown",
   "metadata": {
    "colab_type": "text",
    "id": "qOxrlJYj4GBs",
    "slideshow": {
     "slide_type": "subslide"
    }
   },
   "source": [
    "### dot()"
   ]
  },
  {
   "cell_type": "markdown",
   "metadata": {
    "colab_type": "text",
    "id": "a-UdUEbfOGoA",
    "slideshow": {
     "slide_type": "subslide"
    }
   },
   "source": [
    "Para dos vectores (1D), es el producto punto:\n",
    "$$u = [u_1, \\dots, u_n]$$\n",
    "$$v = [v_1, \\dots, v_n]$$\n",
    "$$\n",
    "\tnp.dot(u, v) = u_1 v_1 + u_2 v_2 + \\dots + u_n v_n\n",
    "$$"
   ]
  },
  {
   "cell_type": "code",
   "execution_count": null,
   "metadata": {
    "colab": {},
    "colab_type": "code",
    "id": "prV8oEfj4Gal",
    "slideshow": {
     "slide_type": "subslide"
    }
   },
   "outputs": [],
   "source": [
    "#cuando recibe dos vectores dot() produce el producto punto\n",
    "a = np.array([2, 3])\n",
    "b = np.array([3, 4])\n",
    "print(\"a:\\n\", a)\n",
    "print(\"b:\\n\", b)\n",
    "\n",
    "print(\"dot(a, b): \", np.dot(a ,b))"
   ]
  },
  {
   "cell_type": "markdown",
   "metadata": {
    "colab_type": "text",
    "id": "cNLPv4kTQoTg",
    "slideshow": {
     "slide_type": "subslide"
    }
   },
   "source": [
    "Para matrices (2D), el producto de matrices:\n",
    "\n",
    "$$\n",
    "\tC = np.dot(A, B) \\Leftrightarrow C[i,j] = np.sum(a[i,:]*b[:,j])\n",
    "$$\n",
    "\n",
    "_Las dimensiones de ambos arreglos deben cumplir los requisitos del producto de matrices, esto es,  el número de columnas en el primero debe ser igual al número de filas en el segundo._"
   ]
  },
  {
   "cell_type": "code",
   "execution_count": null,
   "metadata": {
    "colab": {},
    "colab_type": "code",
    "id": "zPF05F6uQnth",
    "slideshow": {
     "slide_type": "subslide"
    }
   },
   "outputs": [],
   "source": [
    "#cuando recibe dos arreglos 2d dot() produce la multiplicacion de matrices\n",
    "A = np.array([[2, 0], [0, 2]])\n",
    "B = np.array([[4, 1], [2, 1]])\n",
    "print(\"A:\\n\", A)\n",
    "print(\"B:\\n\", B)\n",
    "\n",
    "print(\"dot(A, B):\\n\", np.dot(A, B))"
   ]
  },
  {
   "cell_type": "markdown",
   "metadata": {
    "colab_type": "text",
    "id": "vRhi-_rQOvtM",
    "slideshow": {
     "slide_type": "subslide"
    }
   },
   "source": [
    "### matmul() o @\n",
    "Para matrices (2D), el producto de matrices:\n",
    "\n",
    "$$\n",
    "\tC = np.matmul(A, B) = A @ B \\Leftrightarrow C[i,j] = np.sum(A[i,:]*B[:,j])\n",
    "$$\n",
    "\n",
    "_Las dimensiones de ambos arreglos deben cumplir los requisitos del producto de matrices, esto es,  el número de columnas en el primero debe ser igual al número de filas en el segundo._"
   ]
  },
  {
   "cell_type": "code",
   "execution_count": null,
   "metadata": {
    "colab": {},
    "colab_type": "code",
    "id": "C9JmocBnrfG0",
    "slideshow": {
     "slide_type": "subslide"
    }
   },
   "outputs": [],
   "source": [
    "#matmul para el producto de matrices\n",
    "#Las dimensiones deben cumplir los requisitos del producto de matrices\n",
    "A = np.array([[2, 0], [0, 2]])\n",
    "B = np.array([[4, 1], [2, 1]])\n",
    "print(\"A:\\n\", A)\n",
    "print(\"B:\\n\", B)\n",
    "\n",
    "print(\"matmul(A, B):\\n\", np.matmul(A, B))\n",
    "print(\"igual a\")\n",
    "print(\"A @ B:\\n\", A @ B)"
   ]
  },
  {
   "cell_type": "markdown",
   "metadata": {
    "colab_type": "text",
    "id": "oWTnKQ-H4Gmk",
    "slideshow": {
     "slide_type": "subslide"
    }
   },
   "source": [
    "### vdot()\n",
    "\n",
    "Para la multipliación exclusiva de vectores (1D), producto punto:\n",
    "\n",
    "$$u = [u_1, \\dots, u_n]$$\n",
    "$$v = [v_1, \\dots, v_n]$$\n",
    "$$\n",
    "\tnp.vdot(u, v) = u_1 v_1 + u_2 v_2 + \\dots + u_n v_n\n",
    "$$"
   ]
  },
  {
   "cell_type": "code",
   "execution_count": null,
   "metadata": {
    "colab": {},
    "colab_type": "code",
    "id": "kWB0aAW_4Gu8",
    "slideshow": {
     "slide_type": "subslide"
    }
   },
   "outputs": [],
   "source": [
    "a = np.array([2, 3])\n",
    "b = np.array([3, 4])\n",
    "print(\"a:\\n\", a)\n",
    "print(\"b:\\n\", b)\n",
    "\n",
    "print(\"vdot(a, b): \", np.vdot(a ,b))"
   ]
  },
  {
   "cell_type": "markdown",
   "metadata": {
    "colab_type": "text",
    "id": "CAgJzAEK4HjM",
    "slideshow": {
     "slide_type": "subslide"
    }
   },
   "source": [
    "### inner()\n",
    "\n",
    "Producto punto de vectores (1D):\n",
    "\n",
    "$$u = [u_1, \\dots, u_n]$$\n",
    "$$v = [v_1, \\dots, v_n]$$\n",
    "$$\n",
    "\tnp.inner(u, v) = u_1 v_1 + u_2 v_2 + \\dots + u_n v_n\n",
    "$$"
   ]
  },
  {
   "cell_type": "code",
   "execution_count": null,
   "metadata": {
    "colab": {},
    "colab_type": "code",
    "id": "pxccRUxC4HrH",
    "slideshow": {
     "slide_type": "subslide"
    }
   },
   "outputs": [],
   "source": [
    "a = np.array([1,2,3])\n",
    "b = np.array([0,1,0])\n",
    "print(\"a:\\n\", a)\n",
    "print(\"b:\\n\", b)\n",
    "\n",
    "print(\"inner(a, b): \", np.inner(a ,b))"
   ]
  },
  {
   "cell_type": "markdown",
   "metadata": {
    "colab_type": "text",
    "id": "p2M7i3gM4Hz9",
    "slideshow": {
     "slide_type": "subslide"
    }
   },
   "source": [
    "### outer()\n",
    "\n",
    "El producto tensorial de dos vectores (1D), genera una matriz:\n",
    "$$u = [u_1, \\dots, u_n]$$\n",
    "$$v = [v_1, \\dots, v_m]$$\n",
    "$$\n",
    "\tnp.outer(u, v) = \\begin{bmatrix}\n",
    "\tu_{1} v_{1} & u_{1} v_{2} & \\dots & u_{1} v_{m}  \\\\\n",
    "\tu_{2} v_{1} & u_{2} v_{2} & \\dots & u_{2} v_{m}  \\\\\n",
    "  \\vdots & \\vdots  & \\dots & \\vdots \\\\\n",
    "\tu_{n} v_{1} & u_{n} v_{2} & \\dots & u_{n} v_{m}  \\\\\n",
    "\t\\end{bmatrix}\n",
    "\t$$"
   ]
  },
  {
   "cell_type": "code",
   "execution_count": null,
   "metadata": {
    "colab": {},
    "colab_type": "code",
    "id": "LTBtCnsR4H88",
    "slideshow": {
     "slide_type": "subslide"
    }
   },
   "outputs": [],
   "source": [
    "#el producto tensorial de dos vectores produce una matriz\n",
    "a = np.array([1,2,3])\n",
    "b = np.array([1,1,1])\n",
    "print(\"a:\\n\", a)\n",
    "print(\"b:\\n\", b)\n",
    "\n",
    "print(\"outer(a, b): \", np.outer(a ,b))"
   ]
  },
  {
   "cell_type": "markdown",
   "metadata": {
    "colab_type": "text",
    "id": "b68p17LM4QWf",
    "slideshow": {
     "slide_type": "subslide"
    }
   },
   "source": [
    "### trace()\n",
    "\n",
    "Calcula la traza de un arreglo (2D):\n",
    "\n",
    "$$\n",
    "\ttrace(A) = np.sum(A[i,i])\n",
    "$$"
   ]
  },
  {
   "cell_type": "code",
   "execution_count": null,
   "metadata": {
    "colab": {},
    "colab_type": "code",
    "id": "tZcvCl8P4Qb5",
    "slideshow": {
     "slide_type": "subslide"
    }
   },
   "outputs": [],
   "source": [
    "#para calcular la traza de un arreglo 2d (matriz)\n",
    "#La traza es la suma de los elementos en la diagonal\n",
    "A = np.array([[1, 2, 3], [4, 5, 6], [7, 8, 9]])\n",
    "print(\"A:\\n\", A)\n",
    "\n",
    "print(\"trace(A):\", np.trace(A))"
   ]
  },
  {
   "cell_type": "markdown",
   "metadata": {
    "colab_type": "text",
    "id": "AkOV6CmixR5I",
    "slideshow": {
     "slide_type": "slide"
    }
   },
   "source": [
    "## Métodos de arreglos\n",
    "\n",
    "Además de las funciones que se encuentran disponibles en los módulos de Numpy, los ndarrays tienen disponibles métodos para calcular diferentes estadísticas (funciones de agregación), entre éstas se encuentran:\n",
    "\n",
    "* sum()\n",
    "\n",
    "  Retorna la suma de todos los elementos del arreglo o la suma por axis si es especificado.\n",
    "  \n",
    "* min()\n",
    "  \n",
    "  Retorna el elemento mínimo del arreglo o de cada axis si especificado.\n",
    "  \n",
    "* max()\n",
    "\n",
    "  Retorna el elemento máximo del arreglo o de cada axis si especificado"
   ]
  },
  {
   "cell_type": "markdown",
   "metadata": {
    "slideshow": {
     "slide_type": "subslide"
    }
   },
   "source": [
    "* mean()\n",
    "\n",
    "  Retorna la media del arreglo, puede recibir el axis.\n",
    "\n",
    "* std()\n",
    "\n",
    "  Retorna la desviación estándar del arreglo, puede recibir el axis.\n",
    "\n",
    "* var()\n",
    "\n",
    "  Retorna la varianza del arreglo, puede recibir el axis.\n",
    "\n",
    "Puedes ver la lista completa de métodos de [ndarrays en la documentación](https://numpy.org/doc/1.17/reference/generated/numpy.ndarray.html#numpy.ndarray)."
   ]
  },
  {
   "cell_type": "code",
   "execution_count": null,
   "metadata": {
    "colab": {},
    "colab_type": "code",
    "id": "LXcWhwjl6GE3",
    "slideshow": {
     "slide_type": "subslide"
    }
   },
   "outputs": [],
   "source": [
    "#metodos para arreglos 1D\n",
    "a = np.arange(10)\n",
    "print(\"a:\", a)\n",
    "\n",
    "print(\"sum(a):\", a.sum())\n",
    "print(\"min(a):\", a.min())\n",
    "print(\"max(a):\", a.max())"
   ]
  },
  {
   "cell_type": "code",
   "execution_count": null,
   "metadata": {
    "colab": {},
    "colab_type": "code",
    "id": "swpS4PBi6cmA",
    "slideshow": {
     "slide_type": "subslide"
    }
   },
   "outputs": [],
   "source": [
    "#metodos para arreglos 2d especificando axis\n",
    "a = np.arange(10).reshape(2, 5)\n",
    "print(\"a:\", a)\n",
    "\n",
    "\n",
    "print(\"axis = 0\")\n",
    "print(\"a.sum(axis = 0):\", a.sum(axis = 0))\n",
    "print(\"a.min(axis = 0):\", a.min(axis = 0))\n",
    "print(\"a.max(axis = 0):\", a.max(axis = 0))\n",
    "\n",
    "print(\"axis = 1\")\n",
    "print(\"a.sum(axis = 1):\", a.sum(axis = 1))\n",
    "print(\"a.min(axis = 1):\", a.min(axis = 1))\n",
    "print(\"a.max(axis = 1):\", a.max(axis = 1))"
   ]
  },
  {
   "cell_type": "code",
   "execution_count": null,
   "metadata": {
    "colab": {},
    "colab_type": "code",
    "id": "7w5rYDS27ZBx",
    "slideshow": {
     "slide_type": "subslide"
    }
   },
   "outputs": [],
   "source": [
    "a = np.random.normal(0, 1, 100)\n",
    "#1d\n",
    "print(a.shape)\n",
    "\n",
    "print(\"a.mean():\", a.mean())\n",
    "print(\"a.std():\", a.std())\n",
    "print(\"a.var():\", a.var())\n",
    "\n",
    "print()\n",
    "\n",
    "B = np.vstack((np.random.normal(0, 1, 50), np.random.normal(10, 5, 50)))\n",
    "#2d\n",
    "print(B.shape)\n",
    "\n",
    "print(\"axis = 1\")\n",
    "print(\"B.mean(axis = 1):\", B.mean(axis = 1))\n",
    "print(\"B.std():\", B.std(axis = 1))\n",
    "print(\"B.var():\", B.var(axis = 1))"
   ]
  },
  {
   "cell_type": "markdown",
   "metadata": {
    "colab_type": "text",
    "id": "u9gvgGPCewB9",
    "slideshow": {
     "slide_type": "subslide"
    }
   },
   "source": [
    "## Otras funciones matemáticas\n",
    "\n",
    "Otras funciones importantes que están disponibles en Numpy:\n",
    "\n",
    "* exp():\n",
    "\n",
    "  Calcula la función $e^x$ para todos los elementos del arreglo.\n",
    "\n",
    "* log():\n",
    "  \n",
    "  Calcula el logaritmo natural de todos los elementos del arreglo.\n",
    " \n",
    "* sqrt():\n",
    "  \n",
    "  Calcula la raíz cuadrada de los elementos del arreglo.\n",
    "\n",
    "\n",
    "Puedes ver la lista completa de funciones matemáticas en la [documentación de Numpy](https://numpy.org/doc/1.17/reference/routines.math.html)."
   ]
  },
  {
   "cell_type": "code",
   "execution_count": null,
   "metadata": {
    "colab": {},
    "colab_type": "code",
    "id": "Ui9ZKShWewJm",
    "slideshow": {
     "slide_type": "subslide"
    }
   },
   "outputs": [],
   "source": [
    "a = np.arange(1, 10)\n",
    "print(\"a:\", a)\n",
    "\n",
    "print(\"exp(a):\", np.exp(a))\n",
    "print(\"log(a):\", np.log(a))\n",
    "print(\"sqrt(a):\", np.sqrt(a))"
   ]
  },
  {
   "cell_type": "markdown",
   "metadata": {
    "colab_type": "text",
    "id": "JkVvKj-WuzwL",
    "slideshow": {
     "slide_type": "slide"
    }
   },
   "source": [
    "## Ordenamiento\n",
    "\n",
    "La función ```sort()``` de Numpy puede ser utilizada para ordenar los elementos de un arreglo."
   ]
  },
  {
   "cell_type": "code",
   "execution_count": null,
   "metadata": {
    "colab": {},
    "colab_type": "code",
    "id": "yzSrG3cbvfIY",
    "slideshow": {
     "slide_type": "subslide"
    }
   },
   "outputs": [],
   "source": [
    "a = np.random.permutation(np.arange(10))\n",
    "print(\"a:\", a)\n",
    "\n",
    "#ordernar el arreglo con sort\n",
    "print(\"sort(a):\", np.sort(a))"
   ]
  },
  {
   "cell_type": "markdown",
   "metadata": {
    "colab_type": "text",
    "id": "awaMQBEA13ow",
    "slideshow": {
     "slide_type": "slide"
    }
   },
   "source": [
    "## Búsqueda\n",
    "\n",
    "Algunas funciones útiles para encontrar elementos en arreglos de Numpy:\n",
    "\n",
    "* argmax()\n",
    "\n",
    "  Regresa el o los índices del elemento con el valor máximo.\n",
    "  \n",
    "* argmin()\n",
    "  \n",
    "  Regresa el o los índices del elemento con el valor mínimo.\n",
    "\n",
    "* where(condition, x, y)\n",
    "\n",
    "  Regresa los elementos de $x$ o $y$ dependiendo de la condición.\n",
    "\n"
   ]
  },
  {
   "cell_type": "code",
   "execution_count": null,
   "metadata": {
    "colab": {},
    "colab_type": "code",
    "id": "UzuY_VXG13zz",
    "slideshow": {
     "slide_type": "subslide"
    }
   },
   "outputs": [],
   "source": [
    "a = np.arange(10)\n",
    "print(a)\n",
    "\n",
    "#argmax\n",
    "print(\"Indice del elemento maximo:\", np.argmax(a))"
   ]
  },
  {
   "cell_type": "code",
   "execution_count": null,
   "metadata": {
    "colab": {},
    "colab_type": "code",
    "id": "peIhMTlp3xkn",
    "slideshow": {
     "slide_type": "subslide"
    }
   },
   "outputs": [],
   "source": [
    "a = np.arange(10)\n",
    "print(a)\n",
    "\n",
    "#argmin\n",
    "print(\"Indice del elemento minimo:\", np.argmin(a))"
   ]
  },
  {
   "cell_type": "code",
   "execution_count": null,
   "metadata": {
    "colab": {},
    "colab_type": "code",
    "id": "zEb_BdcT6mok",
    "slideshow": {
     "slide_type": "subslide"
    }
   },
   "outputs": [],
   "source": [
    "#where para seleccionar los elementos de un arreglo basado en una condicion\n",
    "x = np.arange(10)\n",
    "print(\"x:\", x)\n",
    "\n",
    "#where\n",
    "print(\"x>3:\")\n",
    "print(np.where(x > 3))"
   ]
  },
  {
   "cell_type": "code",
   "execution_count": null,
   "metadata": {
    "colab": {},
    "colab_type": "code",
    "id": "YhqgYg9U33mQ",
    "slideshow": {
     "slide_type": "subslide"
    }
   },
   "outputs": [],
   "source": [
    "#where para seleccionar los elementos de un arreglo o el otro de acuerdo a una condicion\n",
    "x = np.arange(10)\n",
    "print(\"x:\", x)\n",
    "y = np.zeros_like(x)\n",
    "print(\"y:\", y)\n",
    "\n",
    "#where\n",
    "print(\"x<5:\")\n",
    "print(np.where(x < 5, x, y))"
   ]
  },
  {
   "cell_type": "markdown",
   "metadata": {
    "colab_type": "text",
    "id": "dJmfiY1Z967J",
    "slideshow": {
     "slide_type": "slide"
    }
   },
   "source": [
    "# Broadcasting\n",
    "\n",
    "Numpy permite realizar operaciones aritméticas en arreglos de diferentes tamaños mediante broadcasting. El arreglo de menor tamaño es \"transmitido\" (broadcasted) para que ambos tengan el mismo tamaño y la operación sea válida. \n",
    "Broadcasting permite que este tipo de operaciones entre arreglos sean vectorizadas, lo cual optimiza la ejecución y uso de memoria.\n",
    "\n",
    "El ejemplo más básico de broadcasting es las operaciones escalar con arreglo, por ejemplo:\n",
    "\n",
    "\n",
    "```\n",
    "a = np.array([1.0, 2.0, 3.0])\n",
    "b = 2.0\n",
    "a * b\n",
    "array([ 2.,  4.,  6.])\n",
    "```\n",
    "\n",
    "Es equivalente, pero más eficiente que utilizar:\n",
    "\n",
    "```\n",
    "a = np.array([1.0, 2.0, 3.0])\n",
    "b = np.array([2.0, 2.0, 2.0])\n",
    "a * b\n",
    "array([ 2.,  4.,  6.])\n",
    "```\n",
    "\n"
   ]
  },
  {
   "cell_type": "code",
   "execution_count": null,
   "metadata": {
    "colab": {},
    "colab_type": "code",
    "id": "4pGH2pnxLecg",
    "slideshow": {
     "slide_type": "subslide"
    }
   },
   "outputs": [],
   "source": [
    "#sumar un escalar a un arreglo usando broadcasting (evita ciclos de python y optimiza el uso de memoria)\n",
    "a = np.array([1.0, 2.0, 3.0])\n",
    "b = 4.0\n",
    "\n",
    "#equivalente a [1.0, 2.0, 3.0] + [4.0, 4.0, 4.0]\n",
    "print(a+b)"
   ]
  },
  {
   "cell_type": "markdown",
   "metadata": {
    "colab_type": "text",
    "id": "INwtsv1gjeo5",
    "slideshow": {
     "slide_type": "subslide"
    }
   },
   "source": [
    "Podemos pensar que el escalar $b$ está siendo estirado a un arreglo con las mismas dimensiones que $a$ durante la operación aritmética. Los elementos del \"nuevo\" $b$ son simples copias del escalar original. Esta analogía es solo conceptual, ya que NumPy usa el valor original sin realizar copias físicas de éste. Esto permite que las operaciones sean eficientes en el uso de memoria y computacionalmente."
   ]
  },
  {
   "cell_type": "markdown",
   "metadata": {
    "colab_type": "text",
    "id": "ZNZavKyXljMV",
    "slideshow": {
     "slide_type": "subslide"
    }
   },
   "source": [
    "Más ejemplos:"
   ]
  },
  {
   "cell_type": "code",
   "execution_count": null,
   "metadata": {
    "colab": {},
    "colab_type": "code",
    "id": "pzA5XzNh0zE1",
    "slideshow": {
     "slide_type": "subslide"
    }
   },
   "outputs": [],
   "source": [
    "#broadcasting un arreglo (vector fila) a una matriz\n",
    "A = np.arange(9).reshape(3, 3)\n",
    "b = np.array([1, 2, 3])\n",
    "print(\"A\", A)\n",
    "print(\"b\", b)\n",
    "\n",
    "print(b*A)"
   ]
  },
  {
   "cell_type": "code",
   "execution_count": null,
   "metadata": {
    "colab": {},
    "colab_type": "code",
    "id": "E-Mu41Dk2Ng1",
    "slideshow": {
     "slide_type": "subslide"
    }
   },
   "outputs": [],
   "source": [
    "#broadcasting un arreglo (vector columna) a una matriz\n",
    "A = np.arange(9).reshape(3, 3)\n",
    "b = np.array([1, 2, 3]).reshape(3, 1)\n",
    "print(\"A\", A)\n",
    "print(\"b\", b)\n",
    "\n",
    "print(b*A)"
   ]
  },
  {
   "cell_type": "markdown",
   "metadata": {
    "colab_type": "text",
    "id": "IhqlnNQnjeoa",
    "slideshow": {
     "slide_type": "slide"
    }
   },
   "source": [
    "# Más sobre vectorización\n",
    "\n",
    "La vectorización, es el proceso de convertir un algoritmo que opera en un solo valor a la vez, a un algoritmo que opera en un conjunto de valores a la vez. Los CPUs modernos proveen instrucciones para llevar a cabo operaciones vectorizadas que permiten aplicar una misma instrucción a múltiples datos ([SIMD: Single instruction, multiple data](https://es.wikipedia.org/wiki/SIMD)).\n",
    "\n",
    "\n",
    "En general utilizar vectorización permite:\n",
    "\n",
    "- Aprovechar las arquitecturas múlti-núcleo de los CPUs/GPUs.\n",
    "- Aprovechar la arquitectura optimizada para la vectorización del hardware (SIMD).\n",
    "- Obtener código más conciso.\n"
   ]
  },
  {
   "cell_type": "code",
   "execution_count": null,
   "metadata": {
    "colab": {},
    "colab_type": "code",
    "id": "jqJE1rXRjeoe",
    "slideshow": {
     "slide_type": "subslide"
    }
   },
   "outputs": [],
   "source": [
    "import time"
   ]
  },
  {
   "cell_type": "markdown",
   "metadata": {
    "colab_type": "text",
    "id": "dgO6tXhJG2fW",
    "slideshow": {
     "slide_type": "subslide"
    }
   },
   "source": [
    "## Primer ejemplo, sumando un escalar a un arreglo grande"
   ]
  },
  {
   "cell_type": "code",
   "execution_count": null,
   "metadata": {
    "colab": {},
    "colab_type": "code",
    "id": "j4kBm3gzG2mv",
    "slideshow": {
     "slide_type": "subslide"
    }
   },
   "outputs": [],
   "source": [
    "print(\"Sumando un escalar a todos los elementos de un arreglo\")\n",
    "\n",
    "a = np.random.rand(1000)\n",
    "b = 4.0\n",
    "\n",
    "tic = time.time()\n",
    "a = a + b\n",
    "toc = time.time()\n",
    "\n",
    "print(\"\\nResultado:\")\n",
    "print(a[:10], \",...\")\n",
    "print(\"Tiempo solucion vectorizada: \" + str(1000*(toc-tic)) + \"ms\")\n",
    "\n",
    "tic = time.time()\n",
    "for i in range(1000):\n",
    "  a[i] += b\n",
    "toc = time.time()\n",
    "\n",
    "print(\"\\nResultado:\")\n",
    "print(a[:10], \",...\")\n",
    "print(\"Tiempo en ciclo for: \" + str(1000*(toc-tic))+\"ms\")"
   ]
  },
  {
   "cell_type": "markdown",
   "metadata": {
    "colab_type": "text",
    "id": "IO2zm74vjeon",
    "slideshow": {
     "slide_type": "subslide"
    }
   },
   "source": [
    "### Un ejemplo, multiplicando dos vectores con una gran cantidad de datos."
   ]
  },
  {
   "cell_type": "code",
   "execution_count": null,
   "metadata": {
    "colab": {},
    "colab_type": "code",
    "id": "FCaPyl73jeoo",
    "slideshow": {
     "slide_type": "subslide"
    }
   },
   "outputs": [],
   "source": [
    "print(\"Producto punto de dos vectores\")\n",
    "\n",
    "a = np.random.rand(1000)\n",
    "b = np.random.rand(1000)\n",
    "\n",
    "print(\"a.shape:\")\n",
    "print(a.shape)\n",
    "print(\"b.shape\")\n",
    "print(b.shape)\n",
    "\n",
    "\n",
    "tic = time.time()\n",
    "c = np.dot(a,b)\n",
    "toc = time.time()\n",
    "\n",
    "print(\"\\nResultado:\")\n",
    "print(c)\n",
    "print(\"Tiempo solucion vectorizada: \" + str(1000*(toc-tic)) + \"ms\")\n",
    "\n",
    "tic = time.time()\n",
    "c = 0\n",
    "for i in range(1000):\n",
    "    c += a[i]*b[i]\n",
    "toc = time.time()\n",
    "\n",
    "print(\"\\nResultado:\")\n",
    "print(c)\n",
    "print(\"Tiempo en ciclo for: \" + str(1000*(toc-tic))+\"ms\")"
   ]
  },
  {
   "cell_type": "markdown",
   "metadata": {
    "colab_type": "text",
    "collapsed": true,
    "id": "A8fF60Lujeos",
    "slideshow": {
     "slide_type": "subslide"
    }
   },
   "source": [
    "## Comparemos código tradicional con ciclos `for` vs vectorización con `np.dot` para la multiplicación de matrices"
   ]
  },
  {
   "cell_type": "code",
   "execution_count": null,
   "metadata": {
    "slideshow": {
     "slide_type": "subslide"
    }
   },
   "outputs": [],
   "source": [
    "A = np.random.rand(100000, 10)\n",
    "B = np.random.rand(10, 1)\n",
    "\n",
    "print(\"Dimensiones de las matrices A, B\")\n",
    "print(\"A.shape:\")\n",
    "print(A.shape)\n",
    "print(\"B.shape\")\n",
    "print(B.shape)"
   ]
  },
  {
   "cell_type": "code",
   "execution_count": null,
   "metadata": {
    "colab": {},
    "colab_type": "code",
    "id": "iCaqP9Fjjeou",
    "slideshow": {
     "slide_type": "subslide"
    }
   },
   "outputs": [],
   "source": [
    "#Solucion no vectorizada\n",
    "tic = time.time()\n",
    "C = [[0 for j in range(B.shape[1])] for i in range(A.shape[0])]\n",
    "for i in range(A.shape[0]):#numero de filas en A\n",
    "    for j in range(B.shape[1]):#numero de columnas en B\n",
    "        for k in range(B.shape[0]):#numero de filas en B == numero de columnas en A\n",
    "            #fila i en A por columna j en B (vectores)\n",
    "            C[i][j] += A[i][k] * B[k][j]\n",
    "toc = time.time()\n",
    "\n",
    "print(\"\\nResultado:\")\n",
    "for el in C[:3]:\n",
    "    print(el)\n",
    "print(\"...\")\n",
    "for el in C[-3:]:\n",
    "    print(el)\n",
    "\n",
    "print(\"Tiempo en ciclo for: \" + str(1000*(toc-tic))+\"ms\")"
   ]
  },
  {
   "cell_type": "code",
   "execution_count": null,
   "metadata": {
    "slideshow": {
     "slide_type": "subslide"
    }
   },
   "outputs": [],
   "source": [
    "#vectorizado usando numpy\n",
    "tic = time.time()\n",
    "C = np.dot(A, B)\n",
    "toc = time.time()\n",
    "\n",
    "print(\"\\nResultado:\")\n",
    "print(C)\n",
    "print(\"Tiempo solucion vectorizada: \" + str(1000*(toc-tic)) + \"ms\")"
   ]
  },
  {
   "cell_type": "code",
   "execution_count": null,
   "metadata": {
    "colab": {},
    "colab_type": "code",
    "id": "IX_9xQ3Fvd8f",
    "slideshow": {
     "slide_type": "skip"
    }
   },
   "outputs": [],
   "source": []
  }
 ],
 "metadata": {
  "colab": {
   "collapsed_sections": [],
   "name": "Numpy.ipynb",
   "provenance": [],
   "toc_visible": true
  },
  "kernelspec": {
   "display_name": "Python 3",
   "language": "python",
   "name": "python3"
  },
  "language_info": {
   "codemirror_mode": {
    "name": "ipython",
    "version": 3
   },
   "file_extension": ".py",
   "mimetype": "text/x-python",
   "name": "python",
   "nbconvert_exporter": "python",
   "pygments_lexer": "ipython3",
   "version": "3.7.1"
  }
 },
 "nbformat": 4,
 "nbformat_minor": 1
}
