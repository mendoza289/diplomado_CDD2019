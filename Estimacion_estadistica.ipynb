{
  "nbformat": 4,
  "nbformat_minor": 0,
  "metadata": {
    "colab": {
      "name": "Estimacion_estadistica.ipynb",
      "provenance": [],
      "collapsed_sections": [],
      "authorship_tag": "ABX9TyMx5JCPWh87/7TMRC9Gvybe",
      "include_colab_link": true
    },
    "kernelspec": {
      "name": "python3",
      "display_name": "Python 3"
    }
  },
  "cells": [
    {
      "cell_type": "markdown",
      "metadata": {
        "id": "view-in-github",
        "colab_type": "text"
      },
      "source": [
        "<a href=\"https://colab.research.google.com/github/jhermosillo/diplomado_CDD2019/blob/master/Estimacion_estadistica.ipynb\" target=\"_parent\"><img src=\"https://colab.research.google.com/assets/colab-badge.svg\" alt=\"Open In Colab\"/></a>"
      ]
    },
    {
      "cell_type": "markdown",
      "metadata": {
        "id": "CrItqxFORXQQ",
        "colab_type": "text"
      },
      "source": [
        "**Estimación estadística.**\n"
      ]
    },
    {
      "cell_type": "code",
      "metadata": {
        "id": "8WL3w50VcYQQ",
        "colab_type": "code",
        "colab": {}
      },
      "source": [
        "import numpy as np\n",
        "import pandas as pd\n",
        "import matplotlib.pyplot as plt\n",
        "import seaborn as sns\n",
        "import statistics as st"
      ],
      "execution_count": 0,
      "outputs": []
    },
    {
      "cell_type": "code",
      "metadata": {
        "id": "FilkDjPnpO4j",
        "colab_type": "code",
        "outputId": "c49bba51-352c-4ac0-a3ec-92f2c43f204d",
        "colab": {
          "base_uri": "https://localhost:8080/",
          "height": 34
        }
      },
      "source": [
        "%precision %.6f"
      ],
      "execution_count": 2,
      "outputs": [
        {
          "output_type": "execute_result",
          "data": {
            "text/plain": [
              "'%.6f'"
            ]
          },
          "metadata": {
            "tags": []
          },
          "execution_count": 2
        }
      ]
    },
    {
      "cell_type": "markdown",
      "metadata": {
        "id": "amMiftdjepsL",
        "colab_type": "text"
      },
      "source": [
        "Estimación estadística.\n",
        "Consiste en inferir propiedades de una población a partir de muestras obtenidas de ella.\n",
        "\n",
        "Usando la distribución normal vamos a tratar de inferir la media de la población a partir de muestras aleatorias.\n",
        "\n",
        "Actividad: Crear un arreglo con 10,000 datos aleatorios tomados de una distribución normal con media 0 y desviación estándar 0.1, esta será nuestra población.\n",
        "\n",
        "\n",
        "1.   Obtener la media poblacional.\n",
        "2.   Obtener 50 muestras aleatorias tomadas de la población.\n",
        "3.   Calcular la media de cada muestra y guardarla en un arreglo.\n",
        "4.   Calcular la media del arreglo de medias y compararla con la media poblacional.\n",
        "5.   Aumentar la cantidad de muestras generadas y repetir los pasos 3 y 4.\n",
        "\n"
      ]
    },
    {
      "cell_type": "markdown",
      "metadata": {
        "id": "1tyRMWsD_eqW",
        "colab_type": "text"
      },
      "source": [
        "Definamos la media y la desviación estándar de nuestra distribución normal."
      ]
    },
    {
      "cell_type": "code",
      "metadata": {
        "id": "ul5cwjOBeuvi",
        "colab_type": "code",
        "colab": {}
      },
      "source": [
        "mu=0\n",
        "sigma=0.1"
      ],
      "execution_count": 0,
      "outputs": []
    },
    {
      "cell_type": "markdown",
      "metadata": {
        "id": "cH9PiNOcyZzh",
        "colab_type": "text"
      },
      "source": [
        "Ahora vamos a usar la función [normal()](https://docs.scipy.org/doc/numpy-1.15.0/reference/generated/numpy.random.normal.html) de numpy para crear un arreglo de 10,000 números correspondientes a una distribución normal con media 0 y desviación estándar 0.1."
      ]
    },
    {
      "cell_type": "code",
      "metadata": {
        "id": "0L7FRKNRmfbW",
        "colab_type": "code",
        "colab": {}
      },
      "source": [
        "dn=np.random.normal(mu, sigma, 10000)"
      ],
      "execution_count": 0,
      "outputs": []
    },
    {
      "cell_type": "code",
      "metadata": {
        "id": "5cKiPTZqy8Og",
        "colab_type": "code",
        "outputId": "d376a02b-6d2a-42f0-db91-59c2b4f97fa2",
        "colab": {
          "base_uri": "https://localhost:8080/",
          "height": 52
        }
      },
      "source": [
        "dn"
      ],
      "execution_count": 5,
      "outputs": [
        {
          "output_type": "execute_result",
          "data": {
            "text/plain": [
              "array([-0.04271985, -0.07674248,  0.04883676, ..., -0.08526513,\n",
              "        0.10146617,  0.11570149])"
            ]
          },
          "metadata": {
            "tags": []
          },
          "execution_count": 5
        }
      ]
    },
    {
      "cell_type": "code",
      "metadata": {
        "id": "J705y1gdzuIA",
        "colab_type": "code",
        "outputId": "c4bc45e1-9ecf-44e6-ea1e-6503e719eea8",
        "colab": {
          "base_uri": "https://localhost:8080/",
          "height": 34
        }
      },
      "source": [
        "len(dn)"
      ],
      "execution_count": 6,
      "outputs": [
        {
          "output_type": "execute_result",
          "data": {
            "text/plain": [
              "10000"
            ]
          },
          "metadata": {
            "tags": []
          },
          "execution_count": 6
        }
      ]
    },
    {
      "cell_type": "markdown",
      "metadata": {
        "id": "XWYZzx6uzNYg",
        "colab_type": "text"
      },
      "source": [
        "Ahora podemos calcular la media de nuestra población dn."
      ]
    },
    {
      "cell_type": "code",
      "metadata": {
        "id": "jY2gH7AOoZUI",
        "colab_type": "code",
        "outputId": "29e4a4d4-4f41-4320-a71e-eb929455498f",
        "colab": {
          "base_uri": "https://localhost:8080/",
          "height": 34
        }
      },
      "source": [
        "dn.mean()"
      ],
      "execution_count": 7,
      "outputs": [
        {
          "output_type": "execute_result",
          "data": {
            "text/plain": [
              "0.000734"
            ]
          },
          "metadata": {
            "tags": []
          },
          "execution_count": 7
        }
      ]
    },
    {
      "cell_type": "markdown",
      "metadata": {
        "id": "FimD2u2Jz_O2",
        "colab_type": "text"
      },
      "source": [
        "Ahora vamos a generar 50 muestras aleatorias de tamaño 30. A cada muestra le calcularemos la media y la guardaremos en una lista."
      ]
    },
    {
      "cell_type": "code",
      "metadata": {
        "id": "DCAdiiRcmteb",
        "colab_type": "code",
        "colab": {}
      },
      "source": [
        "dm_medias=[]\n",
        "for i in range(50):\n",
        "    t=np.random.choice(dn,30)      #Crea una muestra aleatoria de tamaño 30 usando a dn como población.\n",
        "    dm_medias.append(np.mean(t))   #agrega la media de t a la lista dm_medias"
      ],
      "execution_count": 0,
      "outputs": []
    },
    {
      "cell_type": "markdown",
      "metadata": {
        "id": "NOnPD2790PAK",
        "colab_type": "text"
      },
      "source": [
        "Ahora podemos calcular la media de nuestro conjunto de medias. Esto nos permitirá establecer si la media poblacional, denotada por $\\mu$, se puede estimar por medio de la media de las medias de las muestras, denotada por $\\mu_{\\bar{x}}$"
      ]
    },
    {
      "cell_type": "code",
      "metadata": {
        "id": "RxyjtaVenxPn",
        "colab_type": "code",
        "outputId": "d11d1b1d-3bc0-4b89-b82c-450e9be1a4fb",
        "colab": {
          "base_uri": "https://localhost:8080/",
          "height": 34
        }
      },
      "source": [
        "np.mean(dm_medias)"
      ],
      "execution_count": 9,
      "outputs": [
        {
          "output_type": "execute_result",
          "data": {
            "text/plain": [
              "0.005075"
            ]
          },
          "metadata": {
            "tags": []
          },
          "execution_count": 9
        }
      ]
    },
    {
      "cell_type": "markdown",
      "metadata": {
        "id": "7ywk_I6Y0usb",
        "colab_type": "text"
      },
      "source": [
        "Este valor se aproxima a $\\mu$, sin embargo podemos verificar que pasa si obtenemos más muestras."
      ]
    },
    {
      "cell_type": "code",
      "metadata": {
        "id": "qqVtDyFrn-_q",
        "colab_type": "code",
        "colab": {}
      },
      "source": [
        "dm_medias2=[]\n",
        "for i in range(500):\n",
        "    t=np.random.choice(dn,30)      #Crea una muestra aleatoria de tamaño 30 usando a dn como población.\n",
        "    dm_medias2.append(np.mean(t))   #agrega la media de t a la lista dm_medias"
      ],
      "execution_count": 0,
      "outputs": []
    },
    {
      "cell_type": "code",
      "metadata": {
        "id": "eCJKIpLbqYME",
        "colab_type": "code",
        "outputId": "1d6f8fac-8c3f-4a8a-ba40-9af21aa50822",
        "colab": {
          "base_uri": "https://localhost:8080/",
          "height": 34
        }
      },
      "source": [
        "np.mean(dm_medias2)"
      ],
      "execution_count": 11,
      "outputs": [
        {
          "output_type": "execute_result",
          "data": {
            "text/plain": [
              "0.000860"
            ]
          },
          "metadata": {
            "tags": []
          },
          "execution_count": 11
        }
      ]
    },
    {
      "cell_type": "markdown",
      "metadata": {
        "id": "GLeBrtTZ0-wz",
        "colab_type": "text"
      },
      "source": [
        "Probemos con más muestras."
      ]
    },
    {
      "cell_type": "code",
      "metadata": {
        "id": "8MZO24WyqbEq",
        "colab_type": "code",
        "colab": {}
      },
      "source": [
        "dm_medias3=[]\n",
        "for i in range(700):\n",
        "    t=np.random.choice(dn,30)      #Crea una muestra aleatoria de tamaño 30 usando a dn como población.\n",
        "    dm_medias3.append(np.mean(t))   #agrega la media de t a la lista dm_medias"
      ],
      "execution_count": 0,
      "outputs": []
    },
    {
      "cell_type": "code",
      "metadata": {
        "id": "Q2LzWmHZqhrt",
        "colab_type": "code",
        "outputId": "d8ff926d-80bd-46cf-e5b2-8b512be9196e",
        "colab": {
          "base_uri": "https://localhost:8080/",
          "height": 34
        }
      },
      "source": [
        "np.mean(dm_medias3)"
      ],
      "execution_count": 13,
      "outputs": [
        {
          "output_type": "execute_result",
          "data": {
            "text/plain": [
              "0.000278"
            ]
          },
          "metadata": {
            "tags": []
          },
          "execution_count": 13
        }
      ]
    },
    {
      "cell_type": "markdown",
      "metadata": {
        "id": "gmIIlOXr1D90",
        "colab_type": "text"
      },
      "source": [
        "Ahora sí podemos decir que hemos obtenido una buena aproximación de $\\mu$ usando a $\\mu_{\\bar{x}}$."
      ]
    },
    {
      "cell_type": "markdown",
      "metadata": {
        "id": "ObBUuLnBA6To",
        "colab_type": "text"
      },
      "source": [
        "Actividad: Generar 1,000 muestras aleatorias, de tamaño 50, tomadas de una distribución normal con media 0 y desviación estándar 1. \n",
        "\n",
        "\n",
        "1.   Crear un arreglo de 1,000 elementos inicializado a ceros.\n",
        "2.   Almacenar en el arreglo del paso anterior las medias de las 1,000 muestras aleatorias.\n",
        "3.   Crear un histograma para el arreglo con las medias de las muestras. Discutir si el histograma y el resultado de la actividad anterior permiten llegar a una conclusión sobre la estimación de los parámetros poblacionales a partir de la respectiva estádistica de la muestra.\n",
        "4.   Cambiar el tamaño de las muestras a 20 y repetir los pasos 2 y 3. Discutir el rol del tamaño de las muestras en la estimación.\n",
        "\n"
      ]
    },
    {
      "cell_type": "markdown",
      "metadata": {
        "id": "V6Dac6QbMW5z",
        "colab_type": "text"
      },
      "source": [
        "Veamos otro ejemplo usando $\\mu_{\\bar{x}}$. Una vez más definamos los parámetros de nuestra distribución normal."
      ]
    },
    {
      "cell_type": "code",
      "metadata": {
        "id": "eg3ZxdlrqkR5",
        "colab_type": "code",
        "colab": {}
      },
      "source": [
        "mu = 0\n",
        "sigma_2 = 1"
      ],
      "execution_count": 0,
      "outputs": []
    },
    {
      "cell_type": "markdown",
      "metadata": {
        "id": "52Mlfesl1p6W",
        "colab_type": "text"
      },
      "source": [
        "Ahora el número de muestras y el tamaño de las mismas. Además crearemos un arreglo inicializado a ceros usando la función [zeros()](https://docs.scipy.org/doc/numpy/reference/generated/numpy.zeros.html)."
      ]
    },
    {
      "cell_type": "code",
      "metadata": {
        "id": "yE14O9GOMcAY",
        "colab_type": "code",
        "colab": {}
      },
      "source": [
        "NUM_SAMPLES = 1000\n",
        "n = 50\n",
        "\n",
        "mu_hat = np.zeros(NUM_SAMPLES)"
      ],
      "execution_count": 0,
      "outputs": []
    },
    {
      "cell_type": "markdown",
      "metadata": {
        "id": "_aNHLnCJ2zgO",
        "colab_type": "text"
      },
      "source": [
        "Una vez más, vamos a calcular las medias de las muestras aleatorias tomadas de la distribución muestral. Dado que en este caso elegimos los parámetros de una distribución normal estándar, podemos usar la función [randn()](https://docs.scipy.org/doc/numpy-1.15.1/reference/generated/numpy.random.randn.html)."
      ]
    },
    {
      "cell_type": "code",
      "metadata": {
        "id": "x9vuN3E7MgMv",
        "colab_type": "code",
        "colab": {}
      },
      "source": [
        "for i in range(0,NUM_SAMPLES):\n",
        "    y = np.random.randn(n) \n",
        "    mu_hat[i] = np.mean(y)"
      ],
      "execution_count": 0,
      "outputs": []
    },
    {
      "cell_type": "markdown",
      "metadata": {
        "id": "8NLlRBsH3BLC",
        "colab_type": "text"
      },
      "source": [
        "En esta ocasión vamos a graficar el histograma de las medias de las muestras."
      ]
    },
    {
      "cell_type": "code",
      "metadata": {
        "id": "6K06jc3bMiQ9",
        "colab_type": "code",
        "outputId": "8afe0a8b-a3b6-4b56-ae72-a49d4b07e52f",
        "colab": {
          "base_uri": "https://localhost:8080/",
          "height": 265
        }
      },
      "source": [
        "plt.hist(mu_hat,50)\n",
        "plt.show()"
      ],
      "execution_count": 17,
      "outputs": [
        {
          "output_type": "display_data",
          "data": {
            "image/png": "[encoded data removed]",
            "text/plain": [
              "<Figure size 432x288 with 1 Axes>"
            ]
          },
          "metadata": {
            "tags": []
          }
        }
      ]
    },
    {
      "cell_type": "markdown",
      "metadata": {
        "id": "yG3o2hsF3Kt_",
        "colab_type": "text"
      },
      "source": [
        "Lo anterior es un indicio de que la distribución de medias de las muestras sigue a una distribución normal con $\\mu=0$ y $\\sigma^2=1$."
      ]
    },
    {
      "cell_type": "markdown",
      "metadata": {
        "id": "FqKhbOT-8tKE",
        "colab_type": "text"
      },
      "source": [
        "Veamos que sucede si tomamos muestras más pequeñas."
      ]
    },
    {
      "cell_type": "code",
      "metadata": {
        "id": "22gBTtRN8Jwf",
        "colab_type": "code",
        "colab": {}
      },
      "source": [
        "n=20"
      ],
      "execution_count": 0,
      "outputs": []
    },
    {
      "cell_type": "code",
      "metadata": {
        "id": "yoMMjziG8QmT",
        "colab_type": "code",
        "outputId": "5c8222ef-7855-40a6-ae3a-d61fd1e23066",
        "colab": {
          "base_uri": "https://localhost:8080/",
          "height": 265
        }
      },
      "source": [
        "mu_hat = np.zeros(NUM_SAMPLES)\n",
        "for i in range(0,NUM_SAMPLES):\n",
        "    y = np.random.randn(n) \n",
        "    mu_hat[i] = np.mean(y)\n",
        "plt.hist(mu_hat,50)\n",
        "plt.show()"
      ],
      "execution_count": 19,
      "outputs": [
        {
          "output_type": "display_data",
          "data": {
            "image/png": "[encoded data removed]",
            "text/plain": [
              "<Figure size 432x288 with 1 Axes>"
            ]
          },
          "metadata": {
            "tags": []
          }
        }
      ]
    },
    {
      "cell_type": "code",
      "metadata": {
        "id": "BIIoYRSN8mIz",
        "colab_type": "code",
        "outputId": "0ac27531-d62a-495e-ada3-1ae99d44b624",
        "colab": {
          "base_uri": "https://localhost:8080/",
          "height": 34
        }
      },
      "source": [
        "mu_hat.mean()"
      ],
      "execution_count": 20,
      "outputs": [
        {
          "output_type": "execute_result",
          "data": {
            "text/plain": [
              "-0.005450"
            ]
          },
          "metadata": {
            "tags": []
          },
          "execution_count": 20
        }
      ]
    },
    {
      "cell_type": "markdown",
      "metadata": {
        "id": "xMHHeE8V83S3",
        "colab_type": "text"
      },
      "source": [
        "El histograma y la media de las medias de muestras, indican que para $n=20$ la distribución no se asemeja tanto a una distribución normal"
      ]
    },
    {
      "cell_type": "markdown",
      "metadata": {
        "id": "vSeBzaQt9NCF",
        "colab_type": "text"
      },
      "source": [
        "\n",
        "\n",
        "---\n",
        "\n"
      ]
    },
    {
      "cell_type": "markdown",
      "metadata": {
        "id": "l3XhZz6eNJh_",
        "colab_type": "text"
      },
      "source": [
        "Ahora veamos algo equivalente usando la varianza de 10,000 muestras tomadas de una distribución normal con media $\\mu=0$ y $\\sigma^2=1$."
      ]
    },
    {
      "cell_type": "code",
      "metadata": {
        "id": "Wl2uj_bFMjV0",
        "colab_type": "code",
        "outputId": "b55fa2a7-0c28-4c18-8df5-c367b1884694",
        "colab": {
          "base_uri": "https://localhost:8080/",
          "height": 265
        }
      },
      "source": [
        "NUM_SAMPLES = 10000\n",
        "n = 50\n",
        "\n",
        "sigma_2_hat = np.zeros(NUM_SAMPLES)\n",
        "for i in range(0,NUM_SAMPLES):\n",
        "    y = np.random.randn(n) \n",
        "    mu_hat = np.mean(y)\n",
        "    sigma_2_hat[i] = np.mean((y - mu_hat)**2)\n",
        "\n",
        "plt.hist(sigma_2_hat,100)\n",
        "plt.show()\n"
      ],
      "execution_count": 21,
      "outputs": [
        {
          "output_type": "display_data",
          "data": {
            "image/png": "[encoded data removed]",
            "text/plain": [
              "<Figure size 432x288 with 1 Axes>"
            ]
          },
          "metadata": {
            "tags": []
          }
        }
      ]
    },
    {
      "cell_type": "markdown",
      "metadata": {
        "id": "NJcKlOwM5j4A",
        "colab_type": "text"
      },
      "source": [
        "Este histograma sugiere que la distribución de las varianzas correspondientes a muestras aleatorias simples no sigue a una distribución normal estándar."
      ]
    },
    {
      "cell_type": "markdown",
      "metadata": {
        "id": "6kxKJD4ePpV5",
        "colab_type": "text"
      },
      "source": [
        "Manipulando el sesgo. Vamos a ver qué sucede con el histograma de las medias de muestras a las cuales se les aplica un sesgo arbitrario.\n",
        "\n"
      ]
    },
    {
      "cell_type": "code",
      "metadata": {
        "id": "KNRFXd5CM0Gf",
        "colab_type": "code",
        "colab": {}
      },
      "source": [
        "NUM_SAMPLES = 10000\n",
        "n = 10\n",
        "c1 = 10\n",
        "c2 = 50"
      ],
      "execution_count": 0,
      "outputs": []
    },
    {
      "cell_type": "markdown",
      "metadata": {
        "id": "HEaPweATPzFE",
        "colab_type": "text"
      },
      "source": [
        "Tres arreglos inicializados a cero."
      ]
    },
    {
      "cell_type": "code",
      "metadata": {
        "id": "Ob3GcKRdPc73",
        "colab_type": "code",
        "colab": {}
      },
      "source": [
        "mu_hat_ub = np.zeros(NUM_SAMPLES) \n",
        "mu_hat_b1 = np.zeros(NUM_SAMPLES) \n",
        "mu_hat_b2 = np.zeros(NUM_SAMPLES) "
      ],
      "execution_count": 0,
      "outputs": []
    },
    {
      "cell_type": "markdown",
      "metadata": {
        "id": "MASJa8Fy63cR",
        "colab_type": "text"
      },
      "source": [
        "Ahora vamos a crear los arreglos de las medias de las muestras."
      ]
    },
    {
      "cell_type": "code",
      "metadata": {
        "id": "VWSGPuI9PgBl",
        "colab_type": "code",
        "colab": {}
      },
      "source": [
        "for i in range(0,NUM_SAMPLES):\n",
        "    y = np.random.randn(n) + 1#n i.i.d. samples where the mean is 1!\n",
        "    mu_hat_ub[i] = np.mean(y)           #el estimado insesgado\n",
        "    mu_hat_b1[i] = n/(n+c1)*np.mean(y)  #el primer estimado sesgado\n",
        "    mu_hat_b2[i] = n/(n+c2)*np.mean(y)  #el segundo estimado sesgado"
      ],
      "execution_count": 0,
      "outputs": []
    },
    {
      "cell_type": "markdown",
      "metadata": {
        "id": "cwGinwNp7AZ0",
        "colab_type": "text"
      },
      "source": [
        "Y a graficar sus histogramas."
      ]
    },
    {
      "cell_type": "code",
      "metadata": {
        "id": "LukmBQq0Pie-",
        "colab_type": "code",
        "outputId": "1306e2ed-ce43-43cb-ffbc-6834d72decb9",
        "colab": {
          "base_uri": "https://localhost:8080/",
          "height": 265
        }
      },
      "source": [
        "plt.hist(mu_hat_ub,50)\n",
        "plt.hist(mu_hat_b1,50)\n",
        "plt.hist(mu_hat_b2,50)\n",
        "plt.gca().legend(['Insesgado','c='+str(c1),'c='+str(c2)])\n",
        "plt.show()"
      ],
      "execution_count": 25,
      "outputs": [
        {
          "output_type": "display_data",
          "data": {
            "image/png": "[encoded data removed]",
            "text/plain": [
              "<Figure size 432x288 with 1 Axes>"
            ]
          },
          "metadata": {
            "tags": []
          }
        }
      ]
    },
    {
      "cell_type": "markdown",
      "metadata": {
        "id": "vBqHTxf67wWA",
        "colab_type": "text"
      },
      "source": [
        "Lo que hemos obtenido con estos cálculos e histogramas nos permite confirmar que las medias de las muestras siguen una distribución normal, mientras las varianzas no. \n",
        "\n",
        "Si la media de una estimación, como las medias de las muestras o las varianzas de las muestras, coincide con el parámetro poblacional (media poblacional o varianza poblacional), se dice que tenemos un estimador insesgado. Por lo tanto **la media de las muestras es un estimador insesgado, mientras que la varianza de las muestras es un estimado sesgado.**"
      ]
    },
    {
      "cell_type": "markdown",
      "metadata": {
        "id": "CGfOufNcD_qN",
        "colab_type": "text"
      },
      "source": [
        "**La distribución muestral de las medias de muestreo** es el conjunto de todos los posibles valores de la media de muestreo (medias de las muestras) $\\bar{x}$ con las probabilidades de ocurrencia de los posibles valores. \n",
        "\n",
        "El **error de muestreo** es el valor absoluto de la diferencia entre la media de la muestra y la media de la población. Esto es \n",
        "\n",
        "error de muestreo=$|\\bar{x}-\\mu|$.\n",
        "\n"
      ]
    },
    {
      "cell_type": "code",
      "metadata": {
        "id": "gid3mQ1IHz86",
        "colab_type": "code",
        "colab": {}
      },
      "source": [
        "mu=dn.mean()"
      ],
      "execution_count": 0,
      "outputs": []
    },
    {
      "cell_type": "code",
      "metadata": {
        "id": "c_-X2CrCH3vJ",
        "colab_type": "code",
        "colab": {}
      },
      "source": [
        "xb=np.mean(np.random.choice(dn,30))      #Crea una muestra aleatoria de tamaño 30 usando a dn como población.\n"
      ],
      "execution_count": 0,
      "outputs": []
    },
    {
      "cell_type": "code",
      "metadata": {
        "id": "4DUCEpT4ICUy",
        "colab_type": "code",
        "colab": {
          "base_uri": "https://localhost:8080/",
          "height": 34
        },
        "outputId": "b3ac6175-4fe8-4f6a-9ec6-bde5a5415c5f"
      },
      "source": [
        "np.abs(xb-mu)"
      ],
      "execution_count": 28,
      "outputs": [
        {
          "output_type": "execute_result",
          "data": {
            "text/plain": [
              "0.016895"
            ]
          },
          "metadata": {
            "tags": []
          },
          "execution_count": 28
        }
      ]
    },
    {
      "cell_type": "markdown",
      "metadata": {
        "id": "8oRctGWIIOP0",
        "colab_type": "text"
      },
      "source": [
        "El **error estándar de la media** es la desviación estándar de la media de muestreo."
      ]
    },
    {
      "cell_type": "code",
      "metadata": {
        "id": "rm78WXCLIGhE",
        "colab_type": "code",
        "colab": {}
      },
      "source": [
        "mm=[]\n",
        "for i in range(200):\n",
        "    t=np.random.choice(dn,50)\n",
        "    mm.append(np.mean(t))"
      ],
      "execution_count": 0,
      "outputs": []
    },
    {
      "cell_type": "code",
      "metadata": {
        "id": "rb3gBa6vJT5A",
        "colab_type": "code",
        "colab": {
          "base_uri": "https://localhost:8080/",
          "height": 34
        },
        "outputId": "e7536ac1-c418-4853-adb8-ef5f7248fa48"
      },
      "source": [
        "np.std(mm)"
      ],
      "execution_count": 32,
      "outputs": [
        {
          "output_type": "execute_result",
          "data": {
            "text/plain": [
              "0.012697"
            ]
          },
          "metadata": {
            "tags": []
          },
          "execution_count": 32
        }
      ]
    },
    {
      "cell_type": "markdown",
      "metadata": {
        "id": "xvTOCdudJx1N",
        "colab_type": "text"
      },
      "source": [
        "La relación entre la media de las medias de las muestras $\\mu_{\\bar{x}}$ y la media poblacional $\\mu$ es\n",
        "\n",
        "$\\mu_{\\bar{x}}=\\mu$.\n",
        "\n",
        "La relación entre la varianza delas medias de las muestras $\\sigma_{\\bar{x}}^2$ y la varianza poblacional $\\sigma^2$ es \n",
        "\n",
        "$\\sigma_{\\bar{x}}^2=\\left(\\frac{\\sigma^2}{n}\\right)\\left(\\frac{N-n}{N-1}\\right)$\n",
        "\n",
        "donde $N$ es el tamaño de la población y $n$ es el tamaño de la muestra. Así el error estándar es\n",
        "\n",
        "$\\sigma_{\\bar{x}}=\\left(\\frac{\\sigma}{\\sqrt{n}}\\right)\\sqrt{\\frac{N-n}{N-1}}$\n",
        "\n",
        "al factor $\\sqrt{\\frac{N-n}{N-1}}$ se le llama **factor de corrección por población finita**. Si $n<0.05 N$ el error estándar de la media se toma como \n",
        "\n",
        "$\\sigma_{\\bar{x}}=\\frac{\\sigma}{\\sqrt{n}}$\n",
        "\n",
        "\n",
        "Actividad 1:\n",
        "\n",
        "\n",
        "1.   Crear dos poblaciones de 1,000,000 de elementos. Una tomada de una distribución normal con media 100 y desviación estándar 50. Y la otra tomada de una [distribución uniforme](https://docs.scipy.org/doc/numpy-1.14.0/reference/generated/numpy.random.uniform.html).\n",
        "\n",
        "2.   Para cada población calcular las medias de 1000 muestras y almacenarlas.\n",
        "\n",
        "3.   Verificar que $\\mu_{\\bar{x}}=\\mu$ y que \n",
        "\n",
        "$\\sigma_{\\bar{x}}^2=\\left(\\frac{\\sigma^2}{n}\\right)\\left(\\frac{N-n}{N-1}\\right)$.\n",
        "\n",
        "4.   Calcular el valor de $n$ tal que $n<0.05 N$.\n",
        "\n",
        "El teorema del límite central establece que cuando se hace muestreo de una población grande que siga cualquier distribución, las medias de las muestras tienen una distribución normal siempre y cuando el tamaño de la muestra sea 30 o más. \n",
        "\n",
        "Actividad 2:\n",
        "\n",
        "\n",
        "\n",
        "1.   Calcular $z=\\frac{\\bar{x}-\\mu}{\\sigma_{\\bar{x}}}$ para 100 muestras de tamaño mayor o igual a 30 tomadas de la población uniforme del ejercicio anterior.\n",
        "2.   Realizar un análisis descriptivo de los valores de $z$ y determinar si siguen una distribución normal.\n",
        "\n",
        "\n",
        "\n",
        "\n",
        "---\n",
        "\n",
        "\n"
      ]
    },
    {
      "cell_type": "markdown",
      "metadata": {
        "id": "evEpQiGyQYlW",
        "colab_type": "text"
      },
      "source": [
        "Estimación de intervalos.\n",
        "\n",
        "Un **intervalo de confianza** es un intervalo estimado que consiste de un intervalo de números obtenido de un estimado puntual, correspondiente a un parámetro, con un porcentaje que especifica la confianza que se tiene de que el parámetro esté en el intervalo. El porcentaje de confianza se llama **nivel de confianza**.\n",
        "\n",
        "Si el tamaño de las muestras $n>=30$, entonces la variable \n",
        "\n",
        "$z=\\frac{\\bar{x}-\\mu}{\\sigma_{\\bar{x}}}$\n",
        "\n",
        "sigue una distribución normal. El 95% del área bajo la curva normal estándar está entre $z=-1.96$ y $z=1.96$, entonces\n",
        "\n",
        "$-1.96<\\frac{\\bar{x}-\\mu}{\\sigma_{\\bar{x}}}<1.96$;\n",
        "\n",
        "$\\bar{x}-1.96\\sigma_{\\bar{x}}<\\mu<\\bar{x}+1.96\\sigma_{\\bar{x}}$.\n",
        "\n",
        "Este intervalo es llamado intervalo de confianza del 95% para la media poblacional $\\mu$. La forma general es\n",
        "\n",
        "$\\bar{x}-z\\sigma_{\\bar{x}}<\\mu<\\bar{x}+z\\sigma_{\\bar{x}}$.\n",
        "\n",
        "Actividad 3: Calcular el intervalo de confianza para del 95% para las poblaciones normal y uniforme de la actividad 1.\n",
        "\n",
        "Definiciones de probabilidad.\n"
      ]
    },
    {
      "cell_type": "code",
      "metadata": {
        "id": "c4-W0OH4JbDZ",
        "colab_type": "code",
        "colab": {}
      },
      "source": [
        ""
      ],
      "execution_count": 0,
      "outputs": []
    }
  ]
}