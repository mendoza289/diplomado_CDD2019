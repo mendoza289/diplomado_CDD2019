{
  "nbformat": 4,
  "nbformat_minor": 0,
  "metadata": {
    "kernelspec": {
      "display_name": "Python 3",
      "language": "python",
      "name": "python3"
    },
    "language_info": {
      "codemirror_mode": {
        "name": "ipython",
        "version": 3
      },
      "file_extension": ".py",
      "mimetype": "text/x-python",
      "name": "python",
      "nbconvert_exporter": "python",
      "pygments_lexer": "ipython3",
      "version": "3.7.0"
    },
    "colab": {
      "name": "Decision_estadistica.ipynb",
      "provenance": [],
      "collapsed_sections": [],
      "include_colab_link": true
    }
  },
  "cells": [
    {
      "cell_type": "markdown",
      "metadata": {
        "id": "view-in-github",
        "colab_type": "text"
      },
      "source": [
        "<a href=\"https://colab.research.google.com/github/jhermosillo/diplomado_CDD2019/blob/master/An%C3%A1lisis%20Estad%C3%ADstico/Decision_estadistica.ipynb\" target=\"_parent\"><img src=\"https://colab.research.google.com/assets/colab-badge.svg\" alt=\"Open In Colab\"/></a>"
      ]
    },
    {
      "cell_type": "markdown",
      "metadata": {
        "id": "y7ahnH3RJXYD",
        "colab_type": "text"
      },
      "source": [
        "# Distribución t\n",
        "\n",
        "La distribución t  de Student es una distribución continua de probabilidad que surge cuando la media de una población normalmente distribuida en situaciones donde el tamaño de la muestra es pequeño (<30) y la deviación estándar poblacional es desconocida. Su función de densidad de probabilidad (PDF) está dada por\n",
        "\n",
        "$$ f(x)=\\frac{\\Gamma(\\frac{\\nu+1}{2})}{\\sqrt{\\nu\\pi}\\Gamma(\\frac{\\nu}{2})}\\left(1+\\frac{x^2}{\\nu}\\right)^{-\\frac{\\nu+1}{2}} $$\n",
        "\n",
        "donde $0<\\nu\\in\\mathbb{R}$ son los grados de libertad. Posee \n",
        "\n",
        "\n",
        "*   media 0 para $\\nu>0$ e indefinida en otro caso.\n",
        "*   mediana 0.\n",
        "*   varianza $\\frac{\\nu}{\\nu-2}$ para $\\nu>2$, $\\infty$ para $1<\\nu\\leq 2$, e indefinida en otro caso.\n",
        "\n"
      ]
    },
    {
      "cell_type": "code",
      "metadata": {
        "id": "YW14XJTGqQ3q",
        "colab_type": "code",
        "colab": {}
      },
      "source": [
        "import statsmodels.api as sm\n",
        "import numpy as np\n",
        "import matplotlib.pyplot as plt\n",
        "import pandas as pd\n",
        "from scipy.stats import t"
      ],
      "execution_count": 0,
      "outputs": []
    },
    {
      "cell_type": "code",
      "metadata": {
        "id": "Qwrx6Zd3Hp4n",
        "colab_type": "code",
        "colab": {}
      },
      "source": [
        "df = 3.0\n",
        "mean, var = t.stats(df, moments='mv') # Obtener la media y la varianza para una t con 2 grados de libertad"
      ],
      "execution_count": 0,
      "outputs": []
    },
    {
      "cell_type": "code",
      "metadata": {
        "id": "lPvawURbI_fq",
        "colab_type": "code",
        "colab": {
          "base_uri": "https://localhost:8080/",
          "height": 34
        },
        "outputId": "db2b0d3a-df50-4e28-c50b-dcc2cbf2d74a"
      },
      "source": [
        "print(df,mean,var) #valores teóricos"
      ],
      "execution_count": 47,
      "outputs": [
        {
          "output_type": "stream",
          "text": [
            "3.0 0.0 3.0\n"
          ],
          "name": "stdout"
        }
      ]
    },
    {
      "cell_type": "code",
      "metadata": {
        "id": "zKsGY7zRHVTs",
        "colab_type": "code",
        "colab": {
          "base_uri": "https://localhost:8080/",
          "height": 282
        },
        "outputId": "3501905c-5ed7-47e4-c065-ad044cb9c133"
      },
      "source": [
        "rv = t(df, loc=0, scale=1) #Se crea una distribución t con 20 grados de libertad \n",
        "x = np.linspace(-10, 10, 100) # 100 núúmeros equiespaciados entre -10 y 10\n",
        "y = rv.pdf(x)  # Los valores de la función de densidad de probabilidad de la distribución t en cada valor de x\n",
        "plt.plot(x,y)"
      ],
      "execution_count": 49,
      "outputs": [
        {
          "output_type": "execute_result",
          "data": {
            "text/plain": [
              "[<matplotlib.lines.Line2D at 0x7fe115017c18>]"
            ]
          },
          "metadata": {
            "tags": []
          },
          "execution_count": 49
        },
        {
          "output_type": "display_data",
          "data": {
            "image/png": "[encoded data removed]",
            "text/plain": [
              "<Figure size 432x288 with 1 Axes>"
            ]
          },
          "metadata": {
            "tags": []
          }
        }
      ]
    },
    {
      "cell_type": "code",
      "metadata": {
        "id": "zn1OHOBbMuhR",
        "colab_type": "code",
        "colab": {
          "base_uri": "https://localhost:8080/",
          "height": 349
        },
        "outputId": "108fdfbb-a5ac-4f01-f3e2-f34a71733e77"
      },
      "source": [
        "r = t.rvs(df, size=1000) # se obtienen 1000 números aleatorios con distribución t\n",
        "plt.hist(r) #veamos el histograma"
      ],
      "execution_count": 50,
      "outputs": [
        {
          "output_type": "execute_result",
          "data": {
            "text/plain": [
              "(array([  1.,   0.,   3.,  12.,  41., 409., 472.,  53.,   5.,   4.]),\n",
              " array([-12.51648163, -10.44222077,  -8.3679599 ,  -6.29369904,\n",
              "         -4.21943817,  -2.14517731,  -0.07091644,   2.00334442,\n",
              "          4.07760529,   6.15186615,   8.22612702]),\n",
              " <a list of 10 Patch objects>)"
            ]
          },
          "metadata": {
            "tags": []
          },
          "execution_count": 50
        },
        {
          "output_type": "display_data",
          "data": {
            "image/png": "[encoded data removed]",
            "text/plain": [
              "<Figure size 432x288 with 1 Axes>"
            ]
          },
          "metadata": {
            "tags": []
          }
        }
      ]
    },
    {
      "cell_type": "code",
      "metadata": {
        "id": "XdVYnzDeOtYh",
        "colab_type": "code",
        "colab": {
          "base_uri": "https://localhost:8080/",
          "height": 34
        },
        "outputId": "9b1fbc2f-4c2e-47de-bab9-642486b891c3"
      },
      "source": [
        "np.mean(r),np.var(r) #estimación basada en una muestra de tamaño 1000"
      ],
      "execution_count": 51,
      "outputs": [
        {
          "output_type": "execute_result",
          "data": {
            "text/plain": [
              "(-0.02171836673731474, 2.3252220729616933)"
            ]
          },
          "metadata": {
            "tags": []
          },
          "execution_count": 51
        }
      ]
    },
    {
      "cell_type": "code",
      "metadata": {
        "id": "bTT_amidIz1Z",
        "colab_type": "code",
        "colab": {
          "base_uri": "https://localhost:8080/",
          "height": 366
        },
        "outputId": "b4e85c5c-2952-40af-85d3-b2f3db6a7b41"
      },
      "source": [
        "r2 = t.rvs(df, size=10000) # se obtienen 10000 números aleatorios con distribución t\n",
        "plt.hist(r2) #veamos el histograma"
      ],
      "execution_count": 52,
      "outputs": [
        {
          "output_type": "execute_result",
          "data": {
            "text/plain": [
              "(array([1.000e+00, 3.000e+00, 4.000e+00, 1.900e+01, 1.680e+02, 8.416e+03,\n",
              "        1.340e+03, 4.100e+01, 4.000e+00, 4.000e+00]),\n",
              " array([-28.15427822, -23.24297768, -18.33167714, -13.4203766 ,\n",
              "         -8.50907605,  -3.59777551,   1.31352503,   6.22482557,\n",
              "         11.13612612,  16.04742666,  20.9587272 ]),\n",
              " <a list of 10 Patch objects>)"
            ]
          },
          "metadata": {
            "tags": []
          },
          "execution_count": 52
        },
        {
          "output_type": "display_data",
          "data": {
            "image/png": "[encoded data removed]",
            "text/plain": [
              "<Figure size 432x288 with 1 Axes>"
            ]
          },
          "metadata": {
            "tags": []
          }
        }
      ]
    },
    {
      "cell_type": "code",
      "metadata": {
        "id": "EhOz04zqMwK2",
        "colab_type": "code",
        "colab": {
          "base_uri": "https://localhost:8080/",
          "height": 34
        },
        "outputId": "81218637-d829-4c36-c898-bc5f5e0592a7"
      },
      "source": [
        "np.mean(r2),np.var(r2) #estimación con una muestra de tamaño 10,000"
      ],
      "execution_count": 53,
      "outputs": [
        {
          "output_type": "execute_result",
          "data": {
            "text/plain": [
              "(-0.009387591667404998, 3.129771115494011)"
            ]
          },
          "metadata": {
            "tags": []
          },
          "execution_count": 53
        }
      ]
    },
    {
      "cell_type": "code",
      "metadata": {
        "id": "Eaa5Ak_OORrF",
        "colab_type": "code",
        "colab": {
          "base_uri": "https://localhost:8080/",
          "height": 282
        },
        "outputId": "a91f5a38-9532-4816-e302-572fffcc8e10"
      },
      "source": [
        "#Comparación entre el histograma y la curva de la función densidad de probabilidad\n",
        "plt.hist(r2)\n",
        "plt.plot(x,25000*y) #Se reescala el valor de la probabilidad para poder comparar"
      ],
      "execution_count": 54,
      "outputs": [
        {
          "output_type": "execute_result",
          "data": {
            "text/plain": [
              "[<matplotlib.lines.Line2D at 0x7fe114fd2940>]"
            ]
          },
          "metadata": {
            "tags": []
          },
          "execution_count": 54
        },
        {
          "output_type": "display_data",
          "data": {
            "image/png": "[encoded data removed]",
            "text/plain": [
              "<Figure size 432x288 with 1 Axes>"
            ]
          },
          "metadata": {
            "tags": []
          }
        }
      ]
    },
    {
      "cell_type": "markdown",
      "metadata": {
        "id": "lwj3SmWVqQ3l",
        "colab_type": "text"
      },
      "source": [
        "La base de la prueba de hipótesis tiene dos elementos: \n",
        "\n",
        "\n",
        "1.   Hipótesis nula $H_0$; e\n",
        "2.   hipótesis aleternativa $H_1$.\n",
        "\n",
        "La **hipótesis nula**:\n",
        "\n",
        "1.  Propone que no existe diferencia significativa en un conjunto de observaciones dadas.\n",
        "\n",
        "2.  Es una afirmación general o posición por defecto que consiste en que nada significativo tiene lugar. \n",
        "\n",
        "La **hiótesis alternativa** es cualquier hipótesis que difiere de la hipótesis nula. \n",
        "\n",
        "Ejemplo:\n",
        "\n",
        "$H_0$: Dadas dos muestras, sus medias son iguales.\n",
        "\n",
        "$H_1$: Dadas dos muestras, sus medias son diferentes.\n",
        "\n",
        "Para rechazar una hipótesis nula se calcula una prueba estadística. \n",
        "\n",
        "La ecuación es:\n",
        "$$\\frac{Mejor\\ Estimación - Estimación\\ hipotetizada}{Estimación\\ de\\ Error\\ Estámdar}$$\n",
        "\n",
        "\n",
        "Un valor p para un modelo estadístico es la probabilidad de que cuando la hipótesis nula es verdad, los resultados estadísticos sean mayores o iguales que los resultados observados. \n",
        "\n"
      ]
    },
    {
      "cell_type": "markdown",
      "metadata": {
        "id": "1vi7TwPPSXHQ",
        "colab_type": "text"
      },
      "source": [
        "# La prueba t\n",
        "\n",
        "Una prueba t es un tipo de estadística inferencial usada para determinar si hay una diferencia significativa entre las media de dos conjuntos de datos, los cuales podrían estar relacionados en ciertas características.\n",
        "\n",
        "Una prueba t se usa como una herramienta de prueba hipótesis.\n",
        "\n",
        "Escencialmente una prueba t nos permite comparar los valores promedio de dos conjuntos de datos y determinar si provienen de la misma población. "
      ]
    },
    {
      "cell_type": "markdown",
      "metadata": {
        "id": "hHT6dfXiqQ4P",
        "colab_type": "text"
      },
      "source": [
        "## Diferencia entre propociones poblacionales\n",
        "\n",
        "### Pregunta de investigación\n",
        "\n",
        "¿Hay una diferencia significativa entre las proporciones poblacionales de padres de niños afrodecendientes y padres de hijos hispanos que indican que sus hijos han tomado clases de natación?\n",
        "\n",
        "**Poblaciones**: Todos los padres de niños afrodecendientes con edades entre 6 y 18 años y todos los padres de hijos hispanos con edades entre 6 y 18 años.\n",
        "\n",
        "**Parámetro de interés**: p1 - p2, donde p1 = afrodecendiente y p2 = hispano\n",
        "\n",
        "**Hipótesis nula:** p1 - p2 = 0  \n",
        "**Hipótesis alternativa:** p1 - p2 $\\neq$ = 0  \n",
        "\n",
        "**Datos**: 247 padres de niños afrodecendientes. 36.8% de padres indican que sus hijos han tomado clases de natación\n",
        ". \n",
        "<br>308 padres de niños hispanos. 38.9% de padres indican que sus hijos han tomado clases de natación."
      ]
    },
    {
      "cell_type": "markdown",
      "metadata": {
        "id": "XlGZiwtUqQ4R",
        "colab_type": "text"
      },
      "source": [
        "### Uso de `ttest_ind()` del paquete `statsmodels`\n",
        "\n",
        "La diferencia en la proporción de poblaciones requiere la prueba t. Además, esta población sigue una distribución binomial. Entonces se puede simplemente pasar las dos cantidades poblacionales con los valores apropiados de la distribución binomial a la función t-test.\n",
        "\n",
        "La función regresa tres valores: (a) la prueba estadística, (b) valor p de la prueba t, (c) los grados de libertad usados en la prueba t."
      ]
    },
    {
      "cell_type": "code",
      "metadata": {
        "id": "UdZLzKf-qQ4V",
        "colab_type": "code",
        "colab": {}
      },
      "source": [
        "n1 = 247\n",
        "p1 = .37\n",
        "\n",
        "n2 = 308\n",
        "p2 = .39\n",
        "\n",
        "population1 = np.random.binomial(1, p1, n1)\n",
        "population2 = np.random.binomial(1, p2, n2)"
      ],
      "execution_count": 0,
      "outputs": []
    },
    {
      "cell_type": "code",
      "metadata": {
        "id": "FJHnbgMpqQ4f",
        "colab_type": "code",
        "outputId": "0acc726a-99e8-4bff-f5eb-c6eb2281e375",
        "colab": {
          "base_uri": "https://localhost:8080/",
          "height": 34
        }
      },
      "source": [
        "sm.stats.ttest_ind(population1, population2)"
      ],
      "execution_count": 59,
      "outputs": [
        {
          "output_type": "execute_result",
          "data": {
            "text/plain": [
              "(-0.5921544499760306, 0.5539891911327439, 553.0)"
            ]
          },
          "metadata": {
            "tags": []
          },
          "execution_count": 59
        }
      ]
    },
    {
      "cell_type": "markdown",
      "metadata": {
        "id": "CQoTdF8UqQ4q",
        "colab_type": "text"
      },
      "source": [
        "### Conclusión de la prueba de hipótesis\n",
        "Dado que el valor p es alto (> 0.5), no podemos rechazar la hipótesis nula en este caso. Esto es, la diferencia entre las proporciones de la población no es estadísticamente significativa.\n",
        "\n",
        "### ¿Qué sucedería si pudieramos encuestar a muchos más individuos?\n",
        "\n",
        "No cambiamos las proporciones, solo el número de participantes en las dos poblaciones. La pequeña diferencia en la proporción podría volverse estadísticamente significativa en esta situación. No hay ninguna garantía de que siempre se ejecute el siguiente código se obtenga un valor p < 0.05 ya que las muestras son generadas aleatoriamente cada vez."
      ]
    },
    {
      "cell_type": "code",
      "metadata": {
        "id": "Z_rW9dUDqQ4s",
        "colab_type": "code",
        "colab": {}
      },
      "source": [
        "n1 = 5000\n",
        "p1 = .37\n",
        "\n",
        "n2 = 5000\n",
        "p2 = .39\n",
        "\n",
        "population1 = np.random.binomial(1, p1, n1)\n",
        "population2 = np.random.binomial(1, p2, n2)"
      ],
      "execution_count": 0,
      "outputs": []
    },
    {
      "cell_type": "code",
      "metadata": {
        "id": "KNN4-bAFqQ42",
        "colab_type": "code",
        "outputId": "29653084-4d02-4adb-dcd7-fe7270631bc0",
        "colab": {
          "base_uri": "https://localhost:8080/",
          "height": 34
        }
      },
      "source": [
        "sm.stats.ttest_ind(population1, population2)"
      ],
      "execution_count": 62,
      "outputs": [
        {
          "output_type": "execute_result",
          "data": {
            "text/plain": [
              "(-2.9969533829934507, 0.0027336195160822005, 9998.0)"
            ]
          },
          "metadata": {
            "tags": []
          },
          "execution_count": 62
        }
      ]
    },
    {
      "cell_type": "markdown",
      "metadata": {
        "id": "WAAEZ_trqQ4_",
        "colab_type": "text"
      },
      "source": [
        "## Media de una población \n",
        "\n",
        "### Pregunta\n",
        "\n",
        "Vamos a suponer que se realiza una competencia de carros caseros sin motor para adultos. Los datos son:\n",
        "\n",
        "(80.57, 98.96, 85.28, 83.83, 69.94, 89.59, 91.09, 66.25, 91.21, 82.7 , 73.54, 81.99, 54.01, 82.89, 75.88, 98.32, 107.2 , 85.53, 79.08, 84.3 , 89.32, 86.35, 78.98, 92.26, 87.01)\n",
        "\n",
        "¿La distancia media (en pulgadas) es más que 80 pulgadas?\n",
        "\n",
        "**Población**: Todos adultos  \n",
        "**Parámetro de interés**: $\\mu$, media poblacional de la distancia.\n",
        "\n",
        "**Hipótesis nula:** $\\mu$ = 80 \n",
        "<br>**Hipótesis alternativa**: $\\mu$ > 80\n",
        "\n",
        "**Datos**:\n",
        "<br>25 adultos participantes.\n",
        "<br>$\\mu = 83.84$\n",
        "<br>$\\sigma = 10.72$"
      ]
    },
    {
      "cell_type": "code",
      "metadata": {
        "id": "8cemnzGDqQ5D",
        "colab_type": "code",
        "colab": {}
      },
      "source": [
        "cwdata = np.array([80.57, 98.96, 85.28, 83.83, 69.94, 89.59, 91.09, 66.25, 91.21, 82.7 , 73.54, 81.99, 54.01, \n",
        "                 82.89, 75.88, 98.32, 107.2 , 85.53, 79.08, 84.3 , 89.32, 86.35, 78.98, 92.26, 87.01])"
      ],
      "execution_count": 0,
      "outputs": []
    },
    {
      "cell_type": "code",
      "metadata": {
        "id": "iwDGbpf6qQ5L",
        "colab_type": "code",
        "outputId": "a963023f-f6e4-4c4d-c9ca-b246117c0bd8",
        "colab": {}
      },
      "source": [
        "n = len(cwdata)\n",
        "mean = cwdata.mean()\n",
        "sd = cwdata.std()\n",
        "(n, mean, sd)"
      ],
      "execution_count": 0,
      "outputs": [
        {
          "output_type": "execute_result",
          "data": {
            "text/plain": [
              "(25, 83.84320000000001, 10.716018932420752)"
            ]
          },
          "metadata": {
            "tags": []
          },
          "execution_count": 9
        }
      ]
    },
    {
      "cell_type": "code",
      "metadata": {
        "id": "Wnj-nNAbqQ5S",
        "colab_type": "code",
        "outputId": "3d2ed080-e543-44bb-bc31-b838baeaaa3a",
        "colab": {}
      },
      "source": [
        "sm.stats.ztest(cwdata, value = 80, alternative = \"larger\")"
      ],
      "execution_count": 0,
      "outputs": [
        {
          "output_type": "execute_result",
          "data": {
            "text/plain": [
              "(1.756973189172546, 0.039461189601168366)"
            ]
          },
          "metadata": {
            "tags": []
          },
          "execution_count": 10
        }
      ]
    },
    {
      "cell_type": "markdown",
      "metadata": {
        "id": "tva4EV90qQ5a",
        "colab_type": "text"
      },
      "source": [
        "### Conclusión \n",
        "Dado que p es pequeña, se puede rechazar la hipótesis nula. Así hay una fuerte evidencia de que la distancia media es mayor a 80 pulgadas.\n",
        "\n",
        "Se muestra el histograma para ver si los datos siguen aproximadamente una distribución normal.\n"
      ]
    },
    {
      "cell_type": "code",
      "metadata": {
        "id": "AjsM30VwqQ5c",
        "colab_type": "code",
        "outputId": "fac222e9-1dc0-4d3f-ce96-8d96f46d0b5d",
        "colab": {}
      },
      "source": [
        "plt.hist(cwdata,bins=5,edgecolor='k')\n",
        "plt.show()"
      ],
      "execution_count": 0,
      "outputs": [
        {
          "output_type": "display_data",
          "data": {
            "image/png": "[encoded data removed]",
            "text/plain": [
              "<Figure size 432x288 with 1 Axes>"
            ]
          },
          "metadata": {
            "tags": [],
            "needs_background": "light"
          }
        }
      ]
    },
    {
      "cell_type": "markdown",
      "metadata": {
        "id": "Z4TacVrjqQ5k",
        "colab_type": "text"
      },
      "source": [
        "## Diferencia en las medias de poblaciones\n",
        "\n",
        "### Pregunta\n",
        "\n",
        "Considerando adultos en la [datos NHANES](https://www.cdc.gov/nchs/nhanes/index.htm), ¿los hombres tienen significativamente mayor media de BMI [Body Mass Index](https://www.cdc.gov/healthyweight/assessing/bmi/index.html) que las mujeres?\n",
        "\n",
        "\n",
        "\n",
        "**Datos:**\n",
        "\n",
        "2976 Females \n",
        "$\\mu_1 = 29.94$  \n",
        "$\\sigma_1 = 7.75$  \n",
        "\n",
        "2759 Male Adults  \n",
        "$\\mu_2 = 28.78$  \n",
        "$\\sigma_2 = 6.25$  \n",
        "\n",
        "$\\mu_1 - \\mu_2 = 1.16$"
      ]
    },
    {
      "cell_type": "code",
      "metadata": {
        "id": "dPIrTp4OqQ5n",
        "colab_type": "code",
        "outputId": "a8feff87-34c1-458c-cfa8-b621fcb5a8e6",
        "colab": {}
      },
      "source": [
        "url = \"https://raw.githubusercontent.com/kshedden/statswpy/master/NHANES/merged/nhanes_2015_2016.csv\"\n",
        "da = pd.read_csv(url)\n",
        "da.head()"
      ],
      "execution_count": 0,
      "outputs": [
        {
          "output_type": "execute_result",
          "data": {
            "text/html": [
              "<div>\n",
              "<style scoped>\n",
              "    .dataframe tbody tr th:only-of-type {\n",
              "        vertical-align: middle;\n",
              "    }\n",
              "\n",
              "    .dataframe tbody tr th {\n",
              "        vertical-align: top;\n",
              "    }\n",
              "\n",
              "    .dataframe thead th {\n",
              "        text-align: right;\n",
              "    }\n",
              "</style>\n",
              "<table border=\"1\" class=\"dataframe\">\n",
              "  <thead>\n",
              "    <tr style=\"text-align: right;\">\n",
              "      <th></th>\n",
              "      <th>SEQN</th>\n",
              "      <th>ALQ101</th>\n",
              "      <th>ALQ110</th>\n",
              "      <th>ALQ130</th>\n",
              "      <th>SMQ020</th>\n",
              "      <th>RIAGENDR</th>\n",
              "      <th>RIDAGEYR</th>\n",
              "      <th>RIDRETH1</th>\n",
              "      <th>DMDCITZN</th>\n",
              "      <th>DMDEDUC2</th>\n",
              "      <th>...</th>\n",
              "      <th>BPXSY2</th>\n",
              "      <th>BPXDI2</th>\n",
              "      <th>BMXWT</th>\n",
              "      <th>BMXHT</th>\n",
              "      <th>BMXBMI</th>\n",
              "      <th>BMXLEG</th>\n",
              "      <th>BMXARML</th>\n",
              "      <th>BMXARMC</th>\n",
              "      <th>BMXWAIST</th>\n",
              "      <th>HIQ210</th>\n",
              "    </tr>\n",
              "  </thead>\n",
              "  <tbody>\n",
              "    <tr>\n",
              "      <th>0</th>\n",
              "      <td>83732</td>\n",
              "      <td>1.0</td>\n",
              "      <td>NaN</td>\n",
              "      <td>1.0</td>\n",
              "      <td>1</td>\n",
              "      <td>1</td>\n",
              "      <td>62</td>\n",
              "      <td>3</td>\n",
              "      <td>1.0</td>\n",
              "      <td>5.0</td>\n",
              "      <td>...</td>\n",
              "      <td>124.0</td>\n",
              "      <td>64.0</td>\n",
              "      <td>94.8</td>\n",
              "      <td>184.5</td>\n",
              "      <td>27.8</td>\n",
              "      <td>43.3</td>\n",
              "      <td>43.6</td>\n",
              "      <td>35.9</td>\n",
              "      <td>101.1</td>\n",
              "      <td>2.0</td>\n",
              "    </tr>\n",
              "    <tr>\n",
              "      <th>1</th>\n",
              "      <td>83733</td>\n",
              "      <td>1.0</td>\n",
              "      <td>NaN</td>\n",
              "      <td>6.0</td>\n",
              "      <td>1</td>\n",
              "      <td>1</td>\n",
              "      <td>53</td>\n",
              "      <td>3</td>\n",
              "      <td>2.0</td>\n",
              "      <td>3.0</td>\n",
              "      <td>...</td>\n",
              "      <td>140.0</td>\n",
              "      <td>88.0</td>\n",
              "      <td>90.4</td>\n",
              "      <td>171.4</td>\n",
              "      <td>30.8</td>\n",
              "      <td>38.0</td>\n",
              "      <td>40.0</td>\n",
              "      <td>33.2</td>\n",
              "      <td>107.9</td>\n",
              "      <td>NaN</td>\n",
              "    </tr>\n",
              "    <tr>\n",
              "      <th>2</th>\n",
              "      <td>83734</td>\n",
              "      <td>1.0</td>\n",
              "      <td>NaN</td>\n",
              "      <td>NaN</td>\n",
              "      <td>1</td>\n",
              "      <td>1</td>\n",
              "      <td>78</td>\n",
              "      <td>3</td>\n",
              "      <td>1.0</td>\n",
              "      <td>3.0</td>\n",
              "      <td>...</td>\n",
              "      <td>132.0</td>\n",
              "      <td>44.0</td>\n",
              "      <td>83.4</td>\n",
              "      <td>170.1</td>\n",
              "      <td>28.8</td>\n",
              "      <td>35.6</td>\n",
              "      <td>37.0</td>\n",
              "      <td>31.0</td>\n",
              "      <td>116.5</td>\n",
              "      <td>2.0</td>\n",
              "    </tr>\n",
              "    <tr>\n",
              "      <th>3</th>\n",
              "      <td>83735</td>\n",
              "      <td>2.0</td>\n",
              "      <td>1.0</td>\n",
              "      <td>1.0</td>\n",
              "      <td>2</td>\n",
              "      <td>2</td>\n",
              "      <td>56</td>\n",
              "      <td>3</td>\n",
              "      <td>1.0</td>\n",
              "      <td>5.0</td>\n",
              "      <td>...</td>\n",
              "      <td>134.0</td>\n",
              "      <td>68.0</td>\n",
              "      <td>109.8</td>\n",
              "      <td>160.9</td>\n",
              "      <td>42.4</td>\n",
              "      <td>38.5</td>\n",
              "      <td>37.7</td>\n",
              "      <td>38.3</td>\n",
              "      <td>110.1</td>\n",
              "      <td>2.0</td>\n",
              "    </tr>\n",
              "    <tr>\n",
              "      <th>4</th>\n",
              "      <td>83736</td>\n",
              "      <td>2.0</td>\n",
              "      <td>1.0</td>\n",
              "      <td>1.0</td>\n",
              "      <td>2</td>\n",
              "      <td>2</td>\n",
              "      <td>42</td>\n",
              "      <td>4</td>\n",
              "      <td>1.0</td>\n",
              "      <td>4.0</td>\n",
              "      <td>...</td>\n",
              "      <td>114.0</td>\n",
              "      <td>54.0</td>\n",
              "      <td>55.2</td>\n",
              "      <td>164.9</td>\n",
              "      <td>20.3</td>\n",
              "      <td>37.4</td>\n",
              "      <td>36.0</td>\n",
              "      <td>27.2</td>\n",
              "      <td>80.4</td>\n",
              "      <td>2.0</td>\n",
              "    </tr>\n",
              "  </tbody>\n",
              "</table>\n",
              "<p>5 rows × 28 columns</p>\n",
              "</div>"
            ],
            "text/plain": [
              "    SEQN  ALQ101  ALQ110  ALQ130  SMQ020  RIAGENDR  RIDAGEYR  RIDRETH1  \\\n",
              "0  83732     1.0     NaN     1.0       1         1        62         3   \n",
              "1  83733     1.0     NaN     6.0       1         1        53         3   \n",
              "2  83734     1.0     NaN     NaN       1         1        78         3   \n",
              "3  83735     2.0     1.0     1.0       2         2        56         3   \n",
              "4  83736     2.0     1.0     1.0       2         2        42         4   \n",
              "\n",
              "   DMDCITZN  DMDEDUC2  ...  BPXSY2  BPXDI2  BMXWT  BMXHT  BMXBMI  BMXLEG  \\\n",
              "0       1.0       5.0  ...   124.0    64.0   94.8  184.5    27.8    43.3   \n",
              "1       2.0       3.0  ...   140.0    88.0   90.4  171.4    30.8    38.0   \n",
              "2       1.0       3.0  ...   132.0    44.0   83.4  170.1    28.8    35.6   \n",
              "3       1.0       5.0  ...   134.0    68.0  109.8  160.9    42.4    38.5   \n",
              "4       1.0       4.0  ...   114.0    54.0   55.2  164.9    20.3    37.4   \n",
              "\n",
              "   BMXARML  BMXARMC  BMXWAIST  HIQ210  \n",
              "0     43.6     35.9     101.1     2.0  \n",
              "1     40.0     33.2     107.9     NaN  \n",
              "2     37.0     31.0     116.5     2.0  \n",
              "3     37.7     38.3     110.1     2.0  \n",
              "4     36.0     27.2      80.4     2.0  \n",
              "\n",
              "[5 rows x 28 columns]"
            ]
          },
          "metadata": {
            "tags": []
          },
          "execution_count": 12
        }
      ]
    },
    {
      "cell_type": "code",
      "metadata": {
        "id": "RtYVFA3eqQ50",
        "colab_type": "code",
        "colab": {}
      },
      "source": [
        "females = da[da[\"RIAGENDR\"] == 2]\n",
        "male = da[da[\"RIAGENDR\"] == 1]"
      ],
      "execution_count": 0,
      "outputs": []
    },
    {
      "cell_type": "code",
      "metadata": {
        "id": "AJyCWMsKqQ58",
        "colab_type": "code",
        "outputId": "39e3f891-e5f5-472a-aec7-b295017d19cb",
        "colab": {}
      },
      "source": [
        "n1 = len(females)\n",
        "mu1 = females[\"BMXBMI\"].mean()\n",
        "sd1 = females[\"BMXBMI\"].std()\n",
        "\n",
        "(n1, mu1, sd1)"
      ],
      "execution_count": 0,
      "outputs": [
        {
          "output_type": "execute_result",
          "data": {
            "text/plain": [
              "(2976, 29.93994565217392, 7.753318809545674)"
            ]
          },
          "metadata": {
            "tags": []
          },
          "execution_count": 14
        }
      ]
    },
    {
      "cell_type": "code",
      "metadata": {
        "id": "I4EcdbnrqQ6G",
        "colab_type": "code",
        "outputId": "faeaefdd-d950-45a7-afef-ff9626d553c1",
        "colab": {}
      },
      "source": [
        "n2 = len(male)\n",
        "mu2 = male[\"BMXBMI\"].mean()\n",
        "sd2 = male[\"BMXBMI\"].std()\n",
        "\n",
        "(n2, mu2, sd2)"
      ],
      "execution_count": 0,
      "outputs": [
        {
          "output_type": "execute_result",
          "data": {
            "text/plain": [
              "(2759, 28.778072111846942, 6.2525676168014614)"
            ]
          },
          "metadata": {
            "tags": []
          },
          "execution_count": 15
        }
      ]
    },
    {
      "cell_type": "code",
      "metadata": {
        "id": "HygoLqHMqQ6M",
        "colab_type": "code",
        "outputId": "1fab6718-1eb1-43b5-debf-85fcb379a431",
        "colab": {}
      },
      "source": [
        "sm.stats.ztest(females[\"BMXBMI\"].dropna(), male[\"BMXBMI\"].dropna(),alternative='two-sided')"
      ],
      "execution_count": 0,
      "outputs": [
        {
          "output_type": "execute_result",
          "data": {
            "text/plain": [
              "(6.1755933531383205, 6.591544431126401e-10)"
            ]
          },
          "metadata": {
            "tags": []
          },
          "execution_count": 16
        }
      ]
    },
    {
      "cell_type": "code",
      "metadata": {
        "id": "FgH00KdiqQ6b",
        "colab_type": "code",
        "outputId": "b300167a-8e14-4906-974b-2c0ff2f8b1d8",
        "colab": {}
      },
      "source": [
        "plt.figure(figsize=(7,4))\n",
        "plt.title(\"Female BMI histogram\",fontsize=16)\n",
        "plt.hist(females[\"BMXBMI\"].dropna(),edgecolor='k',color='pink',bins=25)\n",
        "plt.show()\n",
        "\n",
        "plt.figure(figsize=(7,4))\n",
        "plt.title(\"Male BMI histogram\",fontsize=16)\n",
        "plt.hist(male[\"BMXBMI\"].dropna(),edgecolor='k',color='blue',bins=25)\n",
        "plt.show()"
      ],
      "execution_count": 0,
      "outputs": [
        {
          "output_type": "display_data",
          "data": {
            "image/png": "[encoded data removed]",
            "text/plain": [
              "<Figure size 504x288 with 1 Axes>"
            ]
          },
          "metadata": {
            "tags": [],
            "needs_background": "light"
          }
        },
        {
          "output_type": "display_data",
          "data": {
            "image/png": "[encoded data removed]",
            "text/plain": [
              "<Figure size 504x288 with 1 Axes>"
            ]
          },
          "metadata": {
            "tags": [],
            "needs_background": "light"
          }
        }
      ]
    }
  ]
}