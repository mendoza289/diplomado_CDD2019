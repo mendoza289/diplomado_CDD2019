{
  "nbformat": 4,
  "nbformat_minor": 0,
  "metadata": {
    "colab": {
      "name": "chi-cuadrada.ipynb",
      "provenance": [],
      "collapsed_sections": [
        "A1yNa4sqUZma"
      ],
      "authorship_tag": "ABX9TyP4CMFtd5ocDL293Z51weDK",
      "include_colab_link": true
    },
    "kernelspec": {
      "name": "python3",
      "display_name": "Python 3"
    }
  },
  "cells": [
    {
      "cell_type": "markdown",
      "metadata": {
        "id": "view-in-github",
        "colab_type": "text"
      },
      "source": [
        "<a href=\"https://colab.research.google.com/github/jhermosillo/diplomado_CDD2019/blob/master/An%C3%A1lisis%20Estad%C3%ADstico/chi_cuadrada.ipynb\" target=\"_parent\"><img src=\"https://colab.research.google.com/assets/colab-badge.svg\" alt=\"Open In Colab\"/></a>"
      ]
    },
    {
      "cell_type": "markdown",
      "metadata": {
        "id": "yjBSF4pVGplr",
        "colab_type": "text"
      },
      "source": [
        "### Prueba $\\chi^2$\n",
        "\n",
        "La prueba $\\chi^2$ para independencia muestra como dos conjuntos de datos son independientes uno del otro.\n",
        "\n"
      ]
    },
    {
      "cell_type": "code",
      "metadata": {
        "id": "iudIt09DGk_y",
        "colab_type": "code",
        "colab": {}
      },
      "source": [
        "from scipy.stats import chi2_contingency\n",
        "import pandas as pd\n",
        "import numpy as np"
      ],
      "execution_count": 0,
      "outputs": []
    },
    {
      "cell_type": "markdown",
      "metadata": {
        "id": "SDPiw32OHTMO",
        "colab_type": "text"
      },
      "source": [
        "Vamos  a crear datos muestreados. Digamos que son datos sobre el color favorito de playeras para hombres y mujeres. Queremos saber si el color y el genero son independientes. "
      ]
    },
    {
      "cell_type": "code",
      "metadata": {
        "id": "lDsLhbAmHKeK",
        "colab_type": "code",
        "colab": {
          "base_uri": "https://localhost:8080/",
          "height": 108
        },
        "outputId": "f882dea7-de75-4744-f8d1-715e7bb4703b"
      },
      "source": [
        "playeras = pd.DataFrame(\n",
        "    [\n",
        "        [48,22,33,47],\n",
        "        [35,36,42,27]\n",
        "    ],\n",
        "    index=[\"Hombre\",\"Mujer\"],\n",
        "    columns=[\"Negro\",\"Blanco\",\"Rojo\",\"Azul\"])\n",
        "playeras"
      ],
      "execution_count": 43,
      "outputs": [
        {
          "output_type": "execute_result",
          "data": {
            "text/html": [
              "<div>\n",
              "<style scoped>\n",
              "    .dataframe tbody tr th:only-of-type {\n",
              "        vertical-align: middle;\n",
              "    }\n",
              "\n",
              "    .dataframe tbody tr th {\n",
              "        vertical-align: top;\n",
              "    }\n",
              "\n",
              "    .dataframe thead th {\n",
              "        text-align: right;\n",
              "    }\n",
              "</style>\n",
              "<table border=\"1\" class=\"dataframe\">\n",
              "  <thead>\n",
              "    <tr style=\"text-align: right;\">\n",
              "      <th></th>\n",
              "      <th>Negro</th>\n",
              "      <th>Blanco</th>\n",
              "      <th>Rojo</th>\n",
              "      <th>Azul</th>\n",
              "    </tr>\n",
              "  </thead>\n",
              "  <tbody>\n",
              "    <tr>\n",
              "      <th>Hombre</th>\n",
              "      <td>48</td>\n",
              "      <td>22</td>\n",
              "      <td>33</td>\n",
              "      <td>47</td>\n",
              "    </tr>\n",
              "    <tr>\n",
              "      <th>Mujer</th>\n",
              "      <td>35</td>\n",
              "      <td>36</td>\n",
              "      <td>42</td>\n",
              "      <td>27</td>\n",
              "    </tr>\n",
              "  </tbody>\n",
              "</table>\n",
              "</div>"
            ],
            "text/plain": [
              "        Negro  Blanco  Rojo  Azul\n",
              "Hombre     48      22    33    47\n",
              "Mujer      35      36    42    27"
            ]
          },
          "metadata": {
            "tags": []
          },
          "execution_count": 43
        }
      ]
    },
    {
      "cell_type": "code",
      "metadata": {
        "id": "ryqL0cdzHsAI",
        "colab_type": "code",
        "colab": {
          "base_uri": "https://localhost:8080/",
          "height": 35
        },
        "outputId": "b140bc1a-e003-4259-8470-ba9b806cd49b"
      },
      "source": [
        "playeras.columns #imprimir columnas"
      ],
      "execution_count": 44,
      "outputs": [
        {
          "output_type": "execute_result",
          "data": {
            "text/plain": [
              "Index(['Negro', 'Blanco', 'Rojo', 'Azul'], dtype='object')"
            ]
          },
          "metadata": {
            "tags": []
          },
          "execution_count": 44
        }
      ]
    },
    {
      "cell_type": "code",
      "metadata": {
        "id": "rqRT5q6jH6dq",
        "colab_type": "code",
        "colab": {
          "base_uri": "https://localhost:8080/",
          "height": 35
        },
        "outputId": "33b0a8fb-75a2-4e02-8cf7-b06367dd0b3a"
      },
      "source": [
        "playeras.index #imprimir renglones"
      ],
      "execution_count": 45,
      "outputs": [
        {
          "output_type": "execute_result",
          "data": {
            "text/plain": [
              "Index(['Hombre', 'Mujer'], dtype='object')"
            ]
          },
          "metadata": {
            "tags": []
          },
          "execution_count": 45
        }
      ]
    },
    {
      "cell_type": "markdown",
      "metadata": {
        "id": "aEI-DzMSIKqG",
        "colab_type": "text"
      },
      "source": [
        "La función chi2_contingency() regresa cuatro valores: el valor $\\chi^2$, el valor $p$, grados de libertad y valores esperados."
      ]
    },
    {
      "cell_type": "code",
      "metadata": {
        "id": "C3GOb4buH9lU",
        "colab_type": "code",
        "colab": {
          "base_uri": "https://localhost:8080/",
          "height": 108
        },
        "outputId": "4be60ecb-73b8-42ca-9ec8-c2c8446ec4d6"
      },
      "source": [
        "chi2_contingency(playeras)"
      ],
      "execution_count": 46,
      "outputs": [
        {
          "output_type": "execute_result",
          "data": {
            "text/plain": [
              "(11.56978992417547,\n",
              " 0.00901202511379703,\n",
              " 3,\n",
              " array([[42.93103448, 30.        , 38.79310345, 38.27586207],\n",
              "        [40.06896552, 28.        , 36.20689655, 35.72413793]]))"
            ]
          },
          "metadata": {
            "tags": []
          },
          "execution_count": 46
        }
      ]
    },
    {
      "cell_type": "code",
      "metadata": {
        "id": "i0_bu14TIG9i",
        "colab_type": "code",
        "colab": {}
      },
      "source": [
        "ve=chi2_contingency(playeras)[3]"
      ],
      "execution_count": 0,
      "outputs": []
    },
    {
      "cell_type": "code",
      "metadata": {
        "id": "S9vUjbIfI_71",
        "colab_type": "code",
        "colab": {
          "base_uri": "https://localhost:8080/",
          "height": 54
        },
        "outputId": "c19a4caf-7455-4de8-e72a-d32d18c4e952"
      },
      "source": [
        "ve"
      ],
      "execution_count": 89,
      "outputs": [
        {
          "output_type": "execute_result",
          "data": {
            "text/plain": [
              "array([[42.93103448, 30.        , 38.79310345, 38.27586207],\n",
              "       [40.06896552, 28.        , 36.20689655, 35.72413793]])"
            ]
          },
          "metadata": {
            "tags": []
          },
          "execution_count": 89
        }
      ]
    },
    {
      "cell_type": "markdown",
      "metadata": {
        "id": "9cra9pcwJPlg",
        "colab_type": "text"
      },
      "source": [
        "Esta tabla es llamada: tabla de contingencia. Veamos la tabla de contingencia en un dataframe."
      ]
    },
    {
      "cell_type": "code",
      "metadata": {
        "id": "Hrv1362mImWi",
        "colab_type": "code",
        "colab": {}
      },
      "source": [
        "tc=pd.DataFrame(\n",
        "    data=ve[:,:], \n",
        "    index=[\"Hombre\",\"Mujer\"],\n",
        "    columns=[\"Negro\",\"Blanco\",\"Rojo\",\"Azul\"]\n",
        ").round(2)"
      ],
      "execution_count": 0,
      "outputs": []
    },
    {
      "cell_type": "markdown",
      "metadata": {
        "id": "ZjnNuP9sJ5ta",
        "colab_type": "text"
      },
      "source": [
        "Los valores esperados de los datos observados se calculan usando la siguiente ecuación.\n",
        "\n",
        "$$ ve_{ij}=\\frac{\\left( \\sum renglón_i\\right)\\left( \\sum columna_j \\right)}{total} $$\n",
        "\n",
        "Así, tendremos un valor esperado para cada entrada de nuestra tabla de contingencia.\n",
        "\n",
        "Veamos el cálculo explícito del valor esperado para color negro y hombre."
      ]
    },
    {
      "cell_type": "code",
      "metadata": {
        "id": "Fd5MzzcyIpES",
        "colab_type": "code",
        "colab": {
          "base_uri": "https://localhost:8080/",
          "height": 108
        },
        "outputId": "80fe2df3-8717-42e9-81fa-fe352fe17d3b"
      },
      "source": [
        "tc"
      ],
      "execution_count": 91,
      "outputs": [
        {
          "output_type": "execute_result",
          "data": {
            "text/html": [
              "<div>\n",
              "<style scoped>\n",
              "    .dataframe tbody tr th:only-of-type {\n",
              "        vertical-align: middle;\n",
              "    }\n",
              "\n",
              "    .dataframe tbody tr th {\n",
              "        vertical-align: top;\n",
              "    }\n",
              "\n",
              "    .dataframe thead th {\n",
              "        text-align: right;\n",
              "    }\n",
              "</style>\n",
              "<table border=\"1\" class=\"dataframe\">\n",
              "  <thead>\n",
              "    <tr style=\"text-align: right;\">\n",
              "      <th></th>\n",
              "      <th>Negro</th>\n",
              "      <th>Blanco</th>\n",
              "      <th>Rojo</th>\n",
              "      <th>Azul</th>\n",
              "    </tr>\n",
              "  </thead>\n",
              "  <tbody>\n",
              "    <tr>\n",
              "      <th>Hombre</th>\n",
              "      <td>42.93</td>\n",
              "      <td>30.0</td>\n",
              "      <td>38.79</td>\n",
              "      <td>38.28</td>\n",
              "    </tr>\n",
              "    <tr>\n",
              "      <th>Mujer</th>\n",
              "      <td>40.07</td>\n",
              "      <td>28.0</td>\n",
              "      <td>36.21</td>\n",
              "      <td>35.72</td>\n",
              "    </tr>\n",
              "  </tbody>\n",
              "</table>\n",
              "</div>"
            ],
            "text/plain": [
              "        Negro  Blanco   Rojo   Azul\n",
              "Hombre  42.93    30.0  38.79  38.28\n",
              "Mujer   40.07    28.0  36.21  35.72"
            ]
          },
          "metadata": {
            "tags": []
          },
          "execution_count": 91
        }
      ]
    },
    {
      "cell_type": "code",
      "metadata": {
        "id": "coLqY8RuLCfU",
        "colab_type": "code",
        "colab": {
          "base_uri": "https://localhost:8080/",
          "height": 199
        },
        "outputId": "ad7fbbed-9e96-4ef5-e77f-496039e0cfc7"
      },
      "source": [
        "print(tc.loc['Hombre'])\n",
        "sr1=sum(tc.loc['Hombre'])\n",
        "print(tc['Negro'])\n",
        "sc1=sum(tc['Negro'])\n",
        "print(sr1)\n",
        "print(sc1)"
      ],
      "execution_count": 35,
      "outputs": [
        {
          "output_type": "stream",
          "text": [
            "Negro     42.93\n",
            "Blanco    30.00\n",
            "Rojo      38.79\n",
            "Azul      38.28\n",
            "Name: Hombre, dtype: float64\n",
            "Hombre    42.93\n",
            "Mujer     40.07\n",
            "Name: Negro, dtype: float64\n",
            "150.0\n",
            "83.0\n"
          ],
          "name": "stdout"
        }
      ]
    },
    {
      "cell_type": "code",
      "metadata": {
        "id": "_NshYMoELuZ8",
        "colab_type": "code",
        "colab": {}
      },
      "source": [
        "sr2=sum(tc.loc['Mujer'])\n",
        "total=sr1+sr2"
      ],
      "execution_count": 0,
      "outputs": []
    },
    {
      "cell_type": "code",
      "metadata": {
        "id": "LUIoKE5RL-uK",
        "colab_type": "code",
        "colab": {
          "base_uri": "https://localhost:8080/",
          "height": 35
        },
        "outputId": "37100187-bf22-496c-f70d-b13872a06150"
      },
      "source": [
        "sr1*sc1/total"
      ],
      "execution_count": 37,
      "outputs": [
        {
          "output_type": "execute_result",
          "data": {
            "text/plain": [
              "42.93103448275862"
            ]
          },
          "metadata": {
            "tags": []
          },
          "execution_count": 37
        }
      ]
    },
    {
      "cell_type": "code",
      "metadata": {
        "id": "5RtMQQ2vMOPX",
        "colab_type": "code",
        "colab": {
          "base_uri": "https://localhost:8080/",
          "height": 35
        },
        "outputId": "5c51776f-d939-4e46-d68e-7e2ab620902e"
      },
      "source": [
        "tc['Negro']['Hombre']"
      ],
      "execution_count": 38,
      "outputs": [
        {
          "output_type": "execute_result",
          "data": {
            "text/plain": [
              "42.93"
            ]
          },
          "metadata": {
            "tags": []
          },
          "execution_count": 38
        }
      ]
    },
    {
      "cell_type": "markdown",
      "metadata": {
        "id": "2uW04kuUOvXD",
        "colab_type": "text"
      },
      "source": [
        "Cómo era de esperar el valor coincide con el que se obtiene mediante la función chi2_contingency(). El valor $\\chi^2$ es el primer valor que regresa dicha función. Para calcularlo manualmente se usa la fórmula\n",
        "\n",
        "$$ \\chi^2=\\sum_i\\frac{(O_i-E_i)^2}{E_i} $$\n",
        "\n",
        "donde $O$ es el valor observado y $E$ es el valor esperado.\n",
        "\n",
        "Actividad: Escribir una función que calcule el valor $\\chi^2$."
      ]
    },
    {
      "cell_type": "code",
      "metadata": {
        "id": "2TwuRlvsN24u",
        "colab_type": "code",
        "colab": {
          "base_uri": "https://localhost:8080/",
          "height": 35
        },
        "outputId": "e565b7a6-1511-41ed-e1d5-880fbaab64d4"
      },
      "source": [
        "chisquare=chi2_contingency(tshirts)[0]\n",
        "chisquare"
      ],
      "execution_count": 40,
      "outputs": [
        {
          "output_type": "execute_result",
          "data": {
            "text/plain": [
              "11.56978992417547"
            ]
          },
          "metadata": {
            "tags": []
          },
          "execution_count": 40
        }
      ]
    },
    {
      "cell_type": "markdown",
      "metadata": {
        "id": "A1yNa4sqUZma",
        "colab_type": "text"
      },
      "source": [
        "# Solución parcial #"
      ]
    },
    {
      "cell_type": "code",
      "metadata": {
        "id": "CFla3d-nVWcB",
        "colab_type": "code",
        "colab": {
          "base_uri": "https://localhost:8080/",
          "height": 54
        },
        "outputId": "7f1810ce-1c33-4573-e61b-9eeb2a6451be"
      },
      "source": [
        "print(playeras.columns,playeras.index)\n",
        "len(playeras.index)*len(playeras.columns)"
      ],
      "execution_count": 55,
      "outputs": [
        {
          "output_type": "stream",
          "text": [
            "Index(['Negro', 'Blanco', 'Rojo', 'Azul'], dtype='object') Index(['Hombre', 'Mujer'], dtype='object')\n"
          ],
          "name": "stdout"
        },
        {
          "output_type": "execute_result",
          "data": {
            "text/plain": [
              "8"
            ]
          },
          "metadata": {
            "tags": []
          },
          "execution_count": 55
        }
      ]
    },
    {
      "cell_type": "code",
      "metadata": {
        "id": "MJAI9uphWW9J",
        "colab_type": "code",
        "colab": {
          "base_uri": "https://localhost:8080/",
          "height": 108
        },
        "outputId": "570eb880-ac09-45b8-9122-02a13d4307c2"
      },
      "source": [
        "playeras"
      ],
      "execution_count": 68,
      "outputs": [
        {
          "output_type": "execute_result",
          "data": {
            "text/html": [
              "<div>\n",
              "<style scoped>\n",
              "    .dataframe tbody tr th:only-of-type {\n",
              "        vertical-align: middle;\n",
              "    }\n",
              "\n",
              "    .dataframe tbody tr th {\n",
              "        vertical-align: top;\n",
              "    }\n",
              "\n",
              "    .dataframe thead th {\n",
              "        text-align: right;\n",
              "    }\n",
              "</style>\n",
              "<table border=\"1\" class=\"dataframe\">\n",
              "  <thead>\n",
              "    <tr style=\"text-align: right;\">\n",
              "      <th></th>\n",
              "      <th>Negro</th>\n",
              "      <th>Blanco</th>\n",
              "      <th>Rojo</th>\n",
              "      <th>Azul</th>\n",
              "    </tr>\n",
              "  </thead>\n",
              "  <tbody>\n",
              "    <tr>\n",
              "      <th>Hombre</th>\n",
              "      <td>48</td>\n",
              "      <td>22</td>\n",
              "      <td>33</td>\n",
              "      <td>47</td>\n",
              "    </tr>\n",
              "    <tr>\n",
              "      <th>Mujer</th>\n",
              "      <td>35</td>\n",
              "      <td>36</td>\n",
              "      <td>42</td>\n",
              "      <td>27</td>\n",
              "    </tr>\n",
              "  </tbody>\n",
              "</table>\n",
              "</div>"
            ],
            "text/plain": [
              "        Negro  Blanco  Rojo  Azul\n",
              "Hombre     48      22    33    47\n",
              "Mujer      35      36    42    27"
            ]
          },
          "metadata": {
            "tags": []
          },
          "execution_count": 68
        }
      ]
    },
    {
      "cell_type": "code",
      "metadata": {
        "id": "FN_z0mT-UNIY",
        "colab_type": "code",
        "colab": {
          "base_uri": "https://localhost:8080/",
          "height": 90
        },
        "outputId": "b188fe31-6d9f-4e2f-b5ae-7f901c2b5261"
      },
      "source": [
        "print(playeras.sum(axis=1))\n",
        "sumatotal=sum(playeras.sum(axis=1))\n",
        "print(sumatotal)\n"
      ],
      "execution_count": 77,
      "outputs": [
        {
          "output_type": "stream",
          "text": [
            "Hombre    150\n",
            "Mujer     140\n",
            "dtype: int64\n",
            "290\n"
          ],
          "name": "stdout"
        }
      ]
    },
    {
      "cell_type": "code",
      "metadata": {
        "id": "Q9AhmgumVQRH",
        "colab_type": "code",
        "colab": {
          "base_uri": "https://localhost:8080/",
          "height": 90
        },
        "outputId": "e0f78187-15bd-424b-c755-1df28be3c41d"
      },
      "source": [
        "#suma para renglones\n",
        "print(playeras.sum(axis=1))\n",
        "sumaR=playeras.sum(axis=1)\n",
        "sumaR[0],sumaR[1]"
      ],
      "execution_count": 79,
      "outputs": [
        {
          "output_type": "stream",
          "text": [
            "Hombre    150\n",
            "Mujer     140\n",
            "dtype: int64\n"
          ],
          "name": "stdout"
        },
        {
          "output_type": "execute_result",
          "data": {
            "text/plain": [
              "(150, 140)"
            ]
          },
          "metadata": {
            "tags": []
          },
          "execution_count": 79
        }
      ]
    },
    {
      "cell_type": "code",
      "metadata": {
        "id": "VGNLUXlNZOVt",
        "colab_type": "code",
        "colab": {
          "base_uri": "https://localhost:8080/",
          "height": 181
        },
        "outputId": "5fbad054-0eb8-46aa-a69b-8e7847a36f7a"
      },
      "source": [
        "#suma para columnas\n",
        "print(playeras.sum(axis=0))\n",
        "sumaC=playeras.sum(axis=0)\n",
        "for i in range(len(sumaC)):\n",
        "  print(sumaC[i])"
      ],
      "execution_count": 83,
      "outputs": [
        {
          "output_type": "stream",
          "text": [
            "Negro     83\n",
            "Blanco    58\n",
            "Rojo      75\n",
            "Azul      74\n",
            "dtype: int64\n",
            "83\n",
            "58\n",
            "75\n",
            "74\n"
          ],
          "name": "stdout"
        }
      ]
    },
    {
      "cell_type": "code",
      "metadata": {
        "id": "SGWTTMBbZmpu",
        "colab_type": "code",
        "colab": {
          "base_uri": "https://localhost:8080/",
          "height": 163
        },
        "outputId": "425e339d-2315-444f-e2e4-06f32c88d3cc"
      },
      "source": [
        "#Valores esperados manualmente\n",
        "vem=[]\n",
        "for i in range(len(sumaC)):\n",
        "  for j in range(len(sumaR)):\n",
        "    vem.append((sumaC[i]*sumaR[j])/sumatotal)\n",
        "vem"
      ],
      "execution_count": 95,
      "outputs": [
        {
          "output_type": "execute_result",
          "data": {
            "text/plain": [
              "[42.93103448275862,\n",
              " 40.06896551724138,\n",
              " 30.0,\n",
              " 28.0,\n",
              " 38.793103448275865,\n",
              " 36.206896551724135,\n",
              " 38.275862068965516,\n",
              " 35.724137931034484]"
            ]
          },
          "metadata": {
            "tags": []
          },
          "execution_count": 95
        }
      ]
    },
    {
      "cell_type": "code",
      "metadata": {
        "id": "SJlSZkMxapck",
        "colab_type": "code",
        "colab": {
          "base_uri": "https://localhost:8080/",
          "height": 54
        },
        "outputId": "fa7f23c6-4ce4-4fac-dee6-442bf6e6089f"
      },
      "source": [
        "ve"
      ],
      "execution_count": 94,
      "outputs": [
        {
          "output_type": "execute_result",
          "data": {
            "text/plain": [
              "array([[42.93103448, 30.        , 38.79310345, 38.27586207],\n",
              "       [40.06896552, 28.        , 36.20689655, 35.72413793]])"
            ]
          },
          "metadata": {
            "tags": []
          },
          "execution_count": 94
        }
      ]
    }
  ]
}