{
 "cells": [
  {
   "cell_type": "markdown",
   "metadata": {},
   "source": [
    "[![Open In Colab](https://colab.research.google.com/assets/colab-badge.svg)](https://colab.research.google.com/github/jhermosillo/diplomado_CDD2019/blob/master/Estadistica%20de%20Datos/notebook/practice/Practica_Estadistica.ipynb)"
   ]
  },
  {
   "cell_type": "markdown",
   "metadata": {},
   "source": [
    "Estadística con Python\n",
    "---\n",
    "\n",
    "Como vimos en la unidad de Análisis Estadístico de Datos, podemos construir diferentes tipos de distribuciones, gracias a la simulación Monte Carlo.\n",
    "\n",
    "En el siguiente ejercicio realizaremos una mezcla de los siguientes aspectos:\n",
    "\n",
    "#### Creación de una muestra con \"Ruido\"\n",
    "\n",
    "En este punto, debemos realizar la simulación numérica para construir datos sin \"distribución\" aparente, para posteriormente aplicar pruebas estadísticas (detección de outliers) y posteriormente realizar un análisis del antes y después.\n",
    "\n",
    "Empezaremos con la construcción de una muestra con distribución normal\n",
    "\n",
    "crearMuestra(mu, sigma), esta función devuelve una nueva muestra generada con parámetros de tendencia central mu (o media) y sigma (o desviación estándar)."
   ]
  },
  {
   "cell_type": "code",
   "execution_count": null,
   "metadata": {},
   "outputs": [],
   "source": [
    "import numpy as np # importando numpy\n",
    "\n",
    "def crearMuestra(mu, sigma, size):\n",
    "    \"\"\"\n",
    "    Tip:\n",
    "    Primero debemos instanciar la semilla aleatoria\n",
    "    para posteriormente construir nuestros datos \n",
    "    que recibe como parámetros mu, sigma y size\n",
    "    \"\"\"\n",
    "    #<rellena>\n",
    "    return datos"
   ]
  },
  {
   "cell_type": "code",
   "execution_count": null,
   "metadata": {},
   "outputs": [],
   "source": [
    "#Construimos 4 conjunto de datos\n",
    "datos_1 = crearMuestra(5, 10, 20)\n",
    "datos_2 = crearMuestra(20, 30, 30)\n",
    "datos_3 = crearMuestra(3, 7, 45)\n",
    "datos_4 = crearMuestra(6, 12, 15)"
   ]
  },
  {
   "cell_type": "markdown",
   "metadata": {},
   "source": [
    "Ahora, grafiquemos los datos para visualizar que hasta este momento, efectivamente son muestras con distribución normal que se encuentras desplazadas en la tendencia central y tienen una dispersión diferente de igual manera.\n"
   ]
  },
  {
   "cell_type": "code",
   "execution_count": null,
   "metadata": {},
   "outputs": [],
   "source": [
    "%matplotlib inline \n",
    "import matplotlib.pyplot as plt # importando matplotlib\n",
    "\n",
    "datos_graf = #<rellena>\n",
    "\n",
    "# Creando el objeto figura\n",
    "fig = plt.figure(1, figsize=(9, 6))\n",
    "\n",
    "# Creando el subgrafico\n",
    "ax = fig.add_subplot(111)\n",
    "\n",
    "# creando el grafico de cajas\n",
    "bp = #<rellena>\n",
    "\n",
    "# visualizar mas facile los atípicos\n",
    "for flier in bp['fliers']:\n",
    "    flier.set(marker='o', color='red', alpha=0.5)"
   ]
  },
  {
   "cell_type": "markdown",
   "metadata": {},
   "source": [
    "Vamos a poder apreciar que algunos conjuntos de datos presentan datos atípicos\n",
    "(a esto en estadística comunmente se les llama Discordant Outliers), ya que generan\n",
    "distorsión de los datos. \n",
    "\n",
    "Esto posiblemente nos pueda generar que las pruebas de normalidad nos arrojen como\n",
    "resultado que no presentan una Distribución Gaussiana."
   ]
  },
  {
   "cell_type": "code",
   "execution_count": null,
   "metadata": {},
   "outputs": [],
   "source": [
    "#Generemos un histograma para un mejor entendimiento de lo anterior\n",
    "#Recuerda los valores de mu y sigma de cada conjunto de datos\n",
    "cuenta, cajas, ignorar = #<rellena>\n",
    "norma1 = plt.plot(cajas, 1/(10 * np.sqrt(2 * np.pi)) *\n",
    "         np.exp( - (cajas - 5)**2 / (2 * 10**2) ),\n",
    "         linewidth=2, color='r')\n",
    "\n",
    "cuenta, cajas, ignorar = #<rellena>\n",
    "normal2 = #<rellena>\n",
    "\n",
    "cuenta, cajas, ignorar = #<rellena>\n",
    "normal3 = #<rellena>\n",
    "\n",
    "cuenta, cajas, ignorar = #<rellena>\n",
    "normal4 = #<rellena>"
   ]
  },
  {
   "cell_type": "markdown",
   "metadata": {},
   "source": [
    "En esta sección se dará una breve introducción sobre este tema que puede causar muchos dolores de cabeza al estar aprendiendo acerca del manejo de datos. Aplicaremos la prueba de shapiro (W - Test) a los datos generados anteriormente."
   ]
  },
  {
   "cell_type": "code",
   "execution_count": null,
   "metadata": {},
   "outputs": [],
   "source": [
    "# Example of the Shapiro-Wilk Normality Test\n",
    "from scipy.stats import shapiro\n",
    "import seaborn as sns\n",
    "stat, p = #<rellena>\n",
    "print#<rellena>\n",
    "\n",
    "#presenta lo mismo para cada uno de los conjuntos de datos <rellena>\n",
    "\n",
    "\n",
    "#En este ejercicio trabajaremos con los valores críticos de la prueba de Shapiro, \n",
    "#favor de consultar los valores críticos para los demás casos\n",
    "\n",
    "#Recordaremos que nuestra H0 será -> No es Gaussiana  stat <= cv\n",
    "#Mientras que la H1 será -> Es Gaussiana              stat  > cv\n",
    "\n",
    "#Recordar que los valores críticos se encuentran en un link de la sección de\n",
    "#pruebas de hipótesis de la prueba de shapiro\n",
    "cv_datos1 = 0.905 #n = 20\n",
    "\n",
    "#cv_datos2 = #<rellena>\n",
    "#cv_datos3 = #<rellena>\n",
    "#cv_datos4 = #<rellena>\n",
    "\n",
    "if #<rellena>\n",
    "    print#<rellena>\n",
    "else:\n",
    "    print#<rellena>\n",
    "    \n",
    "sns.distplot(datos_1)\n",
    "#<rellena> Para visualizar los demas conjuntos de datos\n",
    "#<rellena>\n",
    "#<rellena>"
   ]
  },
  {
   "cell_type": "markdown",
   "metadata": {},
   "source": [
    "A pesar de que existed diversas pruebas de discordancia para la detección de valores\n",
    "atípicos, es una técnica que pocas veces se utiliza con este tipo de estadísticos.\n",
    "\n",
    "Mayor información en el siguiente artículo: [Verma et al, 2008](https://dialnet.unirioja.es/servlet/articulo?codigo=2912581)\n",
    "\n",
    "---\n",
    "\n",
    "En el siguiente bloque, aplicaremos una técnica basada en Dixon Q test."
   ]
  },
  {
   "cell_type": "code",
   "execution_count": null,
   "metadata": {},
   "outputs": [],
   "source": [
    "def q_test(dataset):\n",
    "    return #<rellena>"
   ]
  },
  {
   "cell_type": "code",
   "execution_count": null,
   "metadata": {},
   "outputs": [],
   "source": [
    "#Probaremos con la aplicación de la prueba 1 sola vez, se deja al usuario\n",
    "#que pueda modificar el código hasta que la H0 sea verdadera\n",
    "\n",
    "#H1 -> valor discordante   recordando que calcularemos un estadístico stat\n",
    "#y lo compararemos contra el valor crítico de la prueba de discordancia\n",
    "\n",
    "stat = #<rellena>\n",
    "qtestCV_datos1 = #<rellena>  #n = 20 para un alpha del 0.05 (o CL de 95%)\n",
    "\n",
    "print('stat=%.3f, p=%.3f' % (stat, qtestCV_datos1))\n",
    "\n",
    "if #<rellena>\n",
    "    print#<rellena>\n",
    "else:\n",
    "    print#<rellena>\n",
    "    \n",
    "#Probar para cada conjunto de datos  2, 3 Y 4"
   ]
  },
  {
   "cell_type": "markdown",
   "metadata": {},
   "source": [
    "Hubo valores discordantes?\n",
    "\n",
    "Las muestras si eran gaussianas?\n",
    "\n",
    "Qué pruebas se pueden aplicar para muestras multivariadas?\n",
    "\n",
    "Este ejercicio fue para ejemplificar como uno puede trabajar con cada muestra de forma univariada, \n",
    "algo importante en el tratamiento estadístico de los datos.\n",
    "\n",
    "Recordar que siempre es necesario aplicar pruebas de normalidad con datos experimentales,\n",
    "para posteriormente realizar limpieza de los mismos, estos se deben considerar los pasos \n",
    "esenciales previo a cualquier análisis estadístico de los datos."
   ]
  }
 ],
 "metadata": {
  "kernelspec": {
   "display_name": "Python 3",
   "language": "python",
   "name": "python3"
  },
  "language_info": {
   "codemirror_mode": {
    "name": "ipython",
    "version": 3
   },
   "file_extension": ".py",
   "mimetype": "text/x-python",
   "name": "python",
   "nbconvert_exporter": "python",
   "pygments_lexer": "ipython3",
   "version": "3.7.6"
  }
 },
 "nbformat": 4,
 "nbformat_minor": 4
}
