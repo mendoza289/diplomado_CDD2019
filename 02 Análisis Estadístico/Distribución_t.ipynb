{
  "nbformat": 4,
  "nbformat_minor": 0,
  "metadata": {
    "colab": {
      "name": "Distribución_t.ipynb",
      "provenance": [],
      "collapsed_sections": [],
      "authorship_tag": "ABX9TyMXVUtsOzX6eG5zgCmo5FXy",
      "include_colab_link": true
    },
    "kernelspec": {
      "name": "python3",
      "display_name": "Python 3"
    }
  },
  "cells": [
    {
      "cell_type": "markdown",
      "metadata": {
        "id": "view-in-github",
        "colab_type": "text"
      },
      "source": [
        "<a href=\"https://colab.research.google.com/github/jhermosillo/diplomado_CDD2019/blob/master/An%C3%A1lisis%20Estad%C3%ADstico/Distribuci%C3%B3n_t.ipynb\" target=\"_parent\"><img src=\"https://colab.research.google.com/assets/colab-badge.svg\" alt=\"Open In Colab\"/></a>"
      ]
    },
    {
      "cell_type": "markdown",
      "metadata": {
        "id": "Q4l23Q_j45OA",
        "colab_type": "text"
      },
      "source": [
        "### Distribución t."
      ]
    },
    {
      "cell_type": "code",
      "metadata": {
        "id": "NGvwuTuc5H_k",
        "colab_type": "code",
        "colab": {}
      },
      "source": [
        "import numpy as np\n",
        "from scipy.stats import t\n",
        "import matplotlib.pyplot as plt\n",
        "import statsmodels.api as sm\n",
        "import pandas as pd"
      ],
      "execution_count": 0,
      "outputs": []
    },
    {
      "cell_type": "markdown",
      "metadata": {
        "id": "oTxVHlCB-VZ2",
        "colab_type": "text"
      },
      "source": [
        "la **distribución t** (de Student) es una distribución de probabilidad que surge del problema de estimar la media de una población normalmente distribuida cuando el tamaño de la muestra es pequeño.\n",
        "\n",
        "Los **grados de libertad**, de un conjunto de observaciones están dados por el número de valores que pueden ser asignados de forma arbitraria"
      ]
    },
    {
      "cell_type": "code",
      "metadata": {
        "id": "4U93dELX-lFI",
        "colab_type": "code",
        "colab": {}
      },
      "source": [
        "rv = t(df=20, loc=0, scale=1) #Se crea una distribución t con 20 grados de libertad "
      ],
      "execution_count": 0,
      "outputs": []
    },
    {
      "cell_type": "code",
      "metadata": {
        "id": "-P_Ka1IJ_B4w",
        "colab_type": "code",
        "colab": {}
      },
      "source": [
        "x = np.linspace(-10, 10, 1000) # 100 núúmeros equiespaciados entre -10 y 10"
      ],
      "execution_count": 0,
      "outputs": []
    },
    {
      "cell_type": "code",
      "metadata": {
        "id": "HzPIP0AJ_Eit",
        "colab_type": "code",
        "colab": {}
      },
      "source": [
        "y = rv.pdf(x)  # Las 1000 imagenes de los valores en x bajo la función de densidad de probabilidad de t"
      ],
      "execution_count": 0,
      "outputs": []
    },
    {
      "cell_type": "code",
      "metadata": {
        "id": "f9f_pX-06Z3X",
        "colab_type": "code",
        "outputId": "6003c7c2-644e-4c3c-81e7-8b1674e98f1c",
        "colab": {
          "base_uri": "https://localhost:8080/",
          "height": 283
        }
      },
      "source": [
        "plt.plot(x,y)"
      ],
      "execution_count": 9,
      "outputs": [
        {
          "output_type": "execute_result",
          "data": {
            "text/plain": [
              "[<matplotlib.lines.Line2D at 0x7f6f1d35a240>]"
            ]
          },
          "metadata": {
            "tags": []
          },
          "execution_count": 9
        },
        {
          "output_type": "display_data",
          "data": {
            "image/png": "[encoded data removed]",
            "text/plain": [
              "<Figure size 432x288 with 1 Axes>"
            ]
          },
          "metadata": {
            "tags": []
          }
        }
      ]
    },
    {
      "cell_type": "markdown",
      "metadata": {
        "id": "PPhOhblJ_3y8",
        "colab_type": "text"
      },
      "source": [
        "Función de densidad de probabilidad de [t (pdf)](https://docs.scipy.org/doc/scipy-0.14.0/reference/generated/scipy.stats.t.html)"
      ]
    },
    {
      "cell_type": "code",
      "metadata": {
        "id": "U2KEbjyM85AQ",
        "colab_type": "code",
        "outputId": "f4b8f71a-2769-449b-cef5-70237338a184",
        "colab": {
          "base_uri": "https://localhost:8080/",
          "height": 35
        }
      },
      "source": [
        "rv.pdf(-7)"
      ],
      "execution_count": 10,
      "outputs": [
        {
          "output_type": "execute_result",
          "data": {
            "text/plain": [
              "8.879390210208326e-07"
            ]
          },
          "metadata": {
            "tags": []
          },
          "execution_count": 10
        }
      ]
    },
    {
      "cell_type": "code",
      "metadata": {
        "id": "lhX8BhjHGX6X",
        "colab_type": "code",
        "colab": {}
      },
      "source": [
        "rv1 = t(df=10, loc=0, scale=1) #Se crea una distribución t con 10 grados de libertad \n",
        "y1=rv1.pdf(x)"
      ],
      "execution_count": 0,
      "outputs": []
    },
    {
      "cell_type": "code",
      "metadata": {
        "id": "2LC1wrdCGh5L",
        "colab_type": "code",
        "outputId": "3ccfcc1c-51c4-46fe-dcd2-c8311be92325",
        "colab": {
          "base_uri": "https://localhost:8080/",
          "height": 283
        }
      },
      "source": [
        "plt.plot(x,y,color='green') #df=20\n",
        "plt.plot(x,y1,color='red') #df=10"
      ],
      "execution_count": 23,
      "outputs": [
        {
          "output_type": "execute_result",
          "data": {
            "text/plain": [
              "[<matplotlib.lines.Line2D at 0x7f6f1cf32d30>]"
            ]
          },
          "metadata": {
            "tags": []
          },
          "execution_count": 23
        },
        {
          "output_type": "display_data",
          "data": {
            "image/png": "[encoded data removed]",
            "text/plain": [
              "<Figure size 432x288 with 1 Axes>"
            ]
          },
          "metadata": {
            "tags": []
          }
        }
      ]
    },
    {
      "cell_type": "code",
      "metadata": {
        "id": "cfobUoUNGoNU",
        "colab_type": "code",
        "colab": {}
      },
      "source": [
        "rv2 = t(df=3, loc=0, scale=1) #Se crea una distribución t con 3 grados de libertad \n",
        "y2=rv2.pdf(x)"
      ],
      "execution_count": 0,
      "outputs": []
    },
    {
      "cell_type": "code",
      "metadata": {
        "id": "mwLU03NEHTdT",
        "colab_type": "code",
        "outputId": "949184a2-3d95-44ea-bca4-b8eef7b497f3",
        "colab": {
          "base_uri": "https://localhost:8080/",
          "height": 283
        }
      },
      "source": [
        "#plt.xlim(-5,5)\n",
        "plt.plot(x,y, color='green')#df=20\n",
        "plt.plot(x,y2, color='red')#df=3"
      ],
      "execution_count": 26,
      "outputs": [
        {
          "output_type": "execute_result",
          "data": {
            "text/plain": [
              "[<matplotlib.lines.Line2D at 0x7f6f1cca3320>]"
            ]
          },
          "metadata": {
            "tags": []
          },
          "execution_count": 26
        },
        {
          "output_type": "display_data",
          "data": {
            "image/png": "[encoded data removed]",
            "text/plain": [
              "<Figure size 432x288 with 1 Axes>"
            ]
          },
          "metadata": {
            "tags": []
          }
        }
      ]
    },
    {
      "cell_type": "code",
      "metadata": {
        "id": "CpYopat1HWgi",
        "colab_type": "code",
        "colab": {}
      },
      "source": [
        "rv3 = t(df=100, loc=0, scale=1) #Se crea una distribución t con 100 grados de libertad \n",
        "y3=rv3.pdf(x)"
      ],
      "execution_count": 0,
      "outputs": []
    },
    {
      "cell_type": "code",
      "metadata": {
        "id": "U4rRda2xBhxM",
        "colab_type": "code",
        "colab": {
          "base_uri": "https://localhost:8080/",
          "height": 283
        },
        "outputId": "4ccf221a-830b-40cf-8069-5465cf4f74f1"
      },
      "source": [
        "plt.plot(x,y, color='green')#df=20\n",
        "plt.plot(x,y3, color='red')#df=100"
      ],
      "execution_count": 25,
      "outputs": [
        {
          "output_type": "execute_result",
          "data": {
            "text/plain": [
              "[<matplotlib.lines.Line2D at 0x7f6f1cce8e80>]"
            ]
          },
          "metadata": {
            "tags": []
          },
          "execution_count": 25
        },
        {
          "output_type": "display_data",
          "data": {
            "image/png": "[encoded data removed]",
            "text/plain": [
              "<Figure size 432x288 with 1 Axes>"
            ]
          },
          "metadata": {
            "tags": []
          }
        }
      ]
    },
    {
      "cell_type": "markdown",
      "metadata": {
        "id": "62p3v5WvCTaz",
        "colab_type": "text"
      },
      "source": [
        "Actividad: Realizar un análisis descriptivo de la distribución t para 3,20 y 100 grados de libertad."
      ]
    },
    {
      "cell_type": "markdown",
      "metadata": {
        "id": "MG0BLuMD8N7D",
        "colab_type": "text"
      },
      "source": [
        "## Pruebas de hipótesis\n",
        "\n",
        "La base de la prueba de hipótesis tiene dos elementos: \n",
        "\n",
        "\n",
        "1.   Hipótesis nula $H_0$; e\n",
        "2.   hipótesis aleternativa $H_1$.\n",
        "\n",
        "La **hipótesis nula**:\n",
        "\n",
        "1.  Propone que no existe diferencia significativa en un conjunto de observaciones dadas.\n",
        "\n",
        "2.  Es una afirmación general o posición por defecto que consiste en que nada significativo tiene lugar. \n",
        "\n",
        "La **hiótesis alternativa** es cualquier hipótesis que difiere de la hipótesis nula. \n",
        "\n",
        "Ejemplo:\n",
        "\n",
        "$H_0$: Dadas dos muestras, sus medias son iguales.\n",
        "\n",
        "$H_1$: Dadas dos muestras, sus medias son diferentes.\n",
        "\n",
        "Para rechazar una hipótesis nula se calcula una prueba estadística. \n",
        "\n",
        "La ecuación es:\n",
        "$$\\frac{Mejor\\ Estimación - Estimación\\ hipotetizada}{Estimación\\ de\\ Error\\ Estámdar}$$\n",
        "\n",
        "\n",
        "Un valor p para un modelo estadístico es la probabilidad de que cuando la hipótesis nula es verdad, los resultados estadísticos sean mayores o iguales que los resultados observados. Cuando el valor p es suficientemente pequeño, se rechaza la hipótesis nula y se concluye que el efecto observado es real.\n",
        "\n"
      ]
    },
    {
      "cell_type": "markdown",
      "metadata": {
        "id": "ATLicdjn8PcP",
        "colab_type": "text"
      },
      "source": [
        "## Proporción de una población (One Population Proportion)\n",
        "\n",
        "### Pregunta de investigación (Research Question)\n",
        "\n",
        "En años previos, 52% de padres creian que artículos electrónicos y redes sociales eran la causa de la falta de sueño de sus hijos adolecentes. ¿Habrán más padres hoy que creen que la falta de sueño de sus hijos adolecentes es causada por dispositivos electrónicos y redes sociales?\n",
        "\n",
        "**Población**: Padres con un hijo adolecente (edad 13-18)  \n",
        "**Parámetro de interés**: p  \n",
        "\n",
        "**Hipótesis nula:** p = 0.52  \n",
        "**Hipotésis alternativa:** p > 0.52 (notar que esta es una prueba de un extremo)\n",
        "\n",
        "**Datos**: 1018 personas fueron encuestadas. 56% de estas creen que la falta de sueño de sus hijos adolecentes es a causa de dispositivos eletrónicos y redes sociales."
      ]
    },
    {
      "cell_type": "markdown",
      "metadata": {
        "id": "H65LhdfF8mI5",
        "colab_type": "text"
      },
      "source": [
        "### Uso de `proportions_ztest()` de `statsmodels`\n",
        "\n",
        "Notar el argumento `alternative=\"larger\"` que indica una prueba de un extremo. La función regresa dos valores: la estadística z y su correspondiete valor p"
      ]
    },
    {
      "cell_type": "code",
      "metadata": {
        "id": "Tpcoq_B68oYu",
        "colab_type": "code",
        "colab": {}
      },
      "source": [
        "n = 1018\n",
        "pnull = .52\n",
        "phat = .56"
      ],
      "execution_count": 0,
      "outputs": []
    },
    {
      "cell_type": "code",
      "metadata": {
        "id": "T-Pj7zsD8qRo",
        "colab_type": "code",
        "colab": {}
      },
      "source": [
        "sm.stats.proportions_ztest(phat * n, n, pnull, alternative='larger')"
      ],
      "execution_count": 0,
      "outputs": []
    },
    {
      "cell_type": "markdown",
      "metadata": {
        "id": "61cHQx0m8vjD",
        "colab_type": "text"
      },
      "source": [
        "### Conclusión de la prueba de hipótesis\n",
        "Dado que el valor calculado del valor p, para la prueba z, es pequeño se puede rechazar la hipótesis nula. La hipótesis nula consiste en que el porcentaje de padres que creen que la falta de sueño de sus hijos adolecentes es causada por dispositivos electrónicos y redes sociales es la misma que en años previos.\n",
        "Esto es 52%.\n",
        "\n",
        "Aunque no se acepta la hipótesis alternativa, esto informalmente significa que hay una buena posibilidad de que la proporción sea mayor al 52%.\n"
      ]
    }
  ]
}